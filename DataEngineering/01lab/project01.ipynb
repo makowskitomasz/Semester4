{
 "cells": [
  {
   "cell_type": "code",
   "execution_count": 170,
   "id": "14571afa-6046-493b-bd3c-b85193276bdb",
   "metadata": {},
   "outputs": [],
   "source": [
    "import csv\n",
    "import pandas as pd\n",
    "import json\n",
    "import re\n",
    "import openpyxl\n",
    "import tabulate"
   ]
  },
  {
   "cell_type": "code",
   "execution_count": 171,
   "id": "7f0b7116-48c6-4880-a7af-4631e01b9fbb",
   "metadata": {},
   "outputs": [],
   "source": [
    "df = pd.read_csv('lab1_ex01.csv')"
   ]
  },
  {
   "cell_type": "code",
   "execution_count": 172,
   "id": "89f94713-ca44-42fc-8ef4-442cb82b37cc",
   "metadata": {},
   "outputs": [],
   "source": [
    "def df_to_json(dataframe, filename):\n",
    "    list_of_dicts = []\n",
    "    for column in df.columns:\n",
    "        tmp_dict = {}\n",
    "        tmp_dict[\"name\"] = df[column].name\n",
    "        missing = dataframe[column].isnull().sum() / len(df)\n",
    "        tmp_dict[\"missing\"] = missing\n",
    "        type_of_data = dataframe[column].dtype\n",
    "        if type_of_data == \"float64\":\n",
    "            tmp_dict[\"type\"] = \"float\"\n",
    "        elif type_of_data == \"int64\":\n",
    "            tmp_dict[\"type\"] = \"int\"\n",
    "        else:\n",
    "            tmp_dict[\"type\"] = \"other\"\n",
    "        list_of_dicts.append(tmp_dict)\n",
    "                \n",
    "    with open(filename, 'w') as file:\n",
    "        json.dump(list_of_dicts, file)\n",
    "        \n",
    "    "
   ]
  },
  {
   "cell_type": "code",
   "execution_count": 173,
   "id": "de702a62-45e6-4e39-b3d7-5b1242108eaf",
   "metadata": {},
   "outputs": [],
   "source": [
    "df_to_json(df, \"ex01_fields.json\")"
   ]
  },
  {
   "cell_type": "code",
   "execution_count": 174,
   "id": "e3dfa99c-606e-403d-8ed1-819e26be0f78",
   "metadata": {},
   "outputs": [],
   "source": [
    "def statistics_for_all_columns(dataframe, filename):\n",
    "    df_statistics = df.describe(include='all')\n",
    "    df_statistics = df_statistics.dropna(axis=1, how='all')\n",
    "    df_dictionary = df_statistics.to_dict()\n",
    "    for element in df_dictionary:\n",
    "        new_dict = {}\n",
    "        for key, value in df_dictionary[element].items():\n",
    "            if not pd.isnull(value):\n",
    "                new_dict[key] = value\n",
    "        df_dictionary[element] = new_dict\n",
    "    \n",
    "    with open(filename, 'w') as file:\n",
    "        json.dump(df_dictionary, file)"
   ]
  },
  {
   "cell_type": "code",
   "execution_count": 175,
   "id": "313bbe43-279a-427f-9a23-0f3f2edbae98",
   "metadata": {},
   "outputs": [],
   "source": [
    "statistics_for_all_columns(df, \"ex02_stats.json\")"
   ]
  },
  {
   "cell_type": "code",
   "execution_count": 176,
   "id": "5af8e8f8-ce95-4cf5-8821-ddde73bc6853",
   "metadata": {},
   "outputs": [],
   "source": [
    "for column in df.columns:\n",
    "    pattern = r\"[^A-Za-z0-9_ ]\"\n",
    "    modified_string = re.sub(pattern, '', column).lower().replace(\" \", \"_\")\n",
    "    df.rename(columns = {column : modified_string}, inplace = True)\n",
    "\n",
    "df.to_csv(\"ex03_columns.csv\", index = False)"
   ]
  },
  {
   "cell_type": "code",
   "execution_count": 177,
   "id": "34dfb830-e590-4787-8eff-7f0c56eb50b9",
   "metadata": {},
   "outputs": [],
   "source": [
    "df.to_json(\"ex04_json.json\", orient=\"records\")\n",
    "df.to_excel(\"ex04_excel.xlsx\", index = False)\n",
    "df.to_pickle(\"ex04_pickle.pkl\")"
   ]
  },
  {
   "cell_type": "code",
   "execution_count": 178,
   "id": "24579d52-f32d-4657-88e7-51d3cf1019ea",
   "metadata": {},
   "outputs": [],
   "source": [
    "ex05_dataframe = pd.read_pickle(\"lab1_ex05.pkl\")\n",
    "\n",
    "specified_columns = ex05_dataframe.iloc[:,[1, 2]]\n",
    "rows_starting_with_v = specified_columns.index.str.startswith(\"v\")\n",
    "specified_columns = specified_columns[rows_starting_with_v]\n",
    "\n",
    "with open(\"ex05_table.md\", 'w') as file:\n",
    "    file.write(tabulate.tabulate(specified_columns.fillna(\"\"), headers='keys', tablefmt='pipe', showindex=True, missingval=\"\"))\n"
   ]
  },
  {
   "cell_type": "code",
   "execution_count": 179,
   "id": "2f47cca8-2381-4991-9569-fa6440e36d20",
   "metadata": {},
   "outputs": [],
   "source": [
    "ex06_dataframe = pd.read_json(\"lab1_ex06.json\")\n",
    "ex06_dataframe = pd.json_normalize(ex06_dataframe.to_dict(orient=\"records\"))\n",
    "\n",
    "ex06_dataframe.to_pickle(\"ex06_pickle.pkl\")"
   ]
  }
 ],
 "metadata": {
  "kernelspec": {
   "display_name": "Python 3 (ipykernel)",
   "language": "python",
   "name": "python3"
  },
  "language_info": {
   "codemirror_mode": {
    "name": "ipython",
    "version": 3
   },
   "file_extension": ".py",
   "mimetype": "text/x-python",
   "name": "python",
   "nbconvert_exporter": "python",
   "pygments_lexer": "ipython3",
   "version": "3.10.6"
  }
 },
 "nbformat": 4,
 "nbformat_minor": 5
}
