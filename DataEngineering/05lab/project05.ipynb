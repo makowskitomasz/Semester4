{
 "cells": [
  {
   "cell_type": "code",
   "execution_count": null,
   "metadata": {
    "tags": [],
    "is_executing": true,
    "ExecuteTime": {
     "start_time": "2023-06-09T06:57:02.289353140Z"
    }
   },
   "outputs": [],
   "source": [
    "import json\n",
    "import pandas as pd\n",
    "import pickle"
   ]
  },
  {
   "cell_type": "code",
   "execution_count": null,
   "metadata": {
    "collapsed": false,
    "jupyter": {
     "outputs_hidden": false
    },
    "is_executing": true,
    "ExecuteTime": {
     "start_time": "2023-06-09T06:57:02.920797844Z"
    }
   },
   "outputs": [],
   "source": [
    "with open('proj5_params.json', 'r') as filename:\n",
    "    parameters = json.load(filename)"
   ]
  },
  {
   "cell_type": "markdown",
   "metadata": {},
   "source": [
    "## Exercise 1"
   ]
  },
  {
   "cell_type": "code",
   "execution_count": 4,
   "metadata": {
    "collapsed": false,
    "jupyter": {
     "outputs_hidden": false
    },
    "ExecuteTime": {
     "end_time": "2023-06-09T06:57:02.931691555Z",
     "start_time": "2023-06-09T06:57:02.921313616Z"
    }
   },
   "outputs": [
    {
     "data": {
      "text/plain": "         date  consumption  wind  solar  wind_solar\n0  2006-01-01     1069.184   NaN    NaN         NaN\n1  2006-01-02     1380.521   NaN    NaN         NaN\n2  2006-01-03     1442.533   NaN    NaN         NaN\n3  2006-01-04     1457.217   NaN    NaN         NaN\n4  2006-01-05     1477.131   NaN    NaN         NaN",
      "text/html": "<div>\n<style scoped>\n    .dataframe tbody tr th:only-of-type {\n        vertical-align: middle;\n    }\n\n    .dataframe tbody tr th {\n        vertical-align: top;\n    }\n\n    .dataframe thead th {\n        text-align: right;\n    }\n</style>\n<table border=\"1\" class=\"dataframe\">\n  <thead>\n    <tr style=\"text-align: right;\">\n      <th></th>\n      <th>date</th>\n      <th>consumption</th>\n      <th>wind</th>\n      <th>solar</th>\n      <th>wind_solar</th>\n    </tr>\n  </thead>\n  <tbody>\n    <tr>\n      <th>0</th>\n      <td>2006-01-01</td>\n      <td>1069.184</td>\n      <td>NaN</td>\n      <td>NaN</td>\n      <td>NaN</td>\n    </tr>\n    <tr>\n      <th>1</th>\n      <td>2006-01-02</td>\n      <td>1380.521</td>\n      <td>NaN</td>\n      <td>NaN</td>\n      <td>NaN</td>\n    </tr>\n    <tr>\n      <th>2</th>\n      <td>2006-01-03</td>\n      <td>1442.533</td>\n      <td>NaN</td>\n      <td>NaN</td>\n      <td>NaN</td>\n    </tr>\n    <tr>\n      <th>3</th>\n      <td>2006-01-04</td>\n      <td>1457.217</td>\n      <td>NaN</td>\n      <td>NaN</td>\n      <td>NaN</td>\n    </tr>\n    <tr>\n      <th>4</th>\n      <td>2006-01-05</td>\n      <td>1477.131</td>\n      <td>NaN</td>\n      <td>NaN</td>\n      <td>NaN</td>\n    </tr>\n  </tbody>\n</table>\n</div>"
     },
     "execution_count": 4,
     "metadata": {},
     "output_type": "execute_result"
    }
   ],
   "source": [
    "ex01_df = pd.read_csv('proj5_timeseries.csv')\n",
    "ex01_df.columns = ex01_df.columns.str.lower()\n",
    "ex01_df.columns = ex01_df.columns.str.replace('[^a-zA-Z]', '_', regex=True)\n",
    "ex01_df.head()"
   ]
  },
  {
   "cell_type": "code",
   "execution_count": 5,
   "metadata": {
    "collapsed": false,
    "jupyter": {
     "outputs_hidden": false
    },
    "ExecuteTime": {
     "end_time": "2023-06-09T06:57:02.933289225Z",
     "start_time": "2023-06-09T06:57:02.930016502Z"
    }
   },
   "outputs": [
    {
     "data": {
      "text/plain": "            consumption  wind  solar  wind_solar\ndate                                            \n2006-01-01     1069.184   NaN    NaN         NaN\n2006-01-02     1380.521   NaN    NaN         NaN\n2006-01-03     1442.533   NaN    NaN         NaN\n2006-01-04     1457.217   NaN    NaN         NaN\n2006-01-05     1477.131   NaN    NaN         NaN",
      "text/html": "<div>\n<style scoped>\n    .dataframe tbody tr th:only-of-type {\n        vertical-align: middle;\n    }\n\n    .dataframe tbody tr th {\n        vertical-align: top;\n    }\n\n    .dataframe thead th {\n        text-align: right;\n    }\n</style>\n<table border=\"1\" class=\"dataframe\">\n  <thead>\n    <tr style=\"text-align: right;\">\n      <th></th>\n      <th>consumption</th>\n      <th>wind</th>\n      <th>solar</th>\n      <th>wind_solar</th>\n    </tr>\n    <tr>\n      <th>date</th>\n      <th></th>\n      <th></th>\n      <th></th>\n      <th></th>\n    </tr>\n  </thead>\n  <tbody>\n    <tr>\n      <th>2006-01-01</th>\n      <td>1069.184</td>\n      <td>NaN</td>\n      <td>NaN</td>\n      <td>NaN</td>\n    </tr>\n    <tr>\n      <th>2006-01-02</th>\n      <td>1380.521</td>\n      <td>NaN</td>\n      <td>NaN</td>\n      <td>NaN</td>\n    </tr>\n    <tr>\n      <th>2006-01-03</th>\n      <td>1442.533</td>\n      <td>NaN</td>\n      <td>NaN</td>\n      <td>NaN</td>\n    </tr>\n    <tr>\n      <th>2006-01-04</th>\n      <td>1457.217</td>\n      <td>NaN</td>\n      <td>NaN</td>\n      <td>NaN</td>\n    </tr>\n    <tr>\n      <th>2006-01-05</th>\n      <td>1477.131</td>\n      <td>NaN</td>\n      <td>NaN</td>\n      <td>NaN</td>\n    </tr>\n  </tbody>\n</table>\n</div>"
     },
     "execution_count": 5,
     "metadata": {},
     "output_type": "execute_result"
    }
   ],
   "source": [
    "first_column = ex01_df.columns[0]\n",
    "ex01_df[first_column] = pd.to_datetime(ex01_df[first_column])\n",
    "ex01_df = ex01_df.set_index(first_column)\n",
    "original_frequency = parameters['original_frequency']\n",
    "ex01_df.head()"
   ]
  },
  {
   "cell_type": "code",
   "execution_count": 6,
   "metadata": {
    "collapsed": false,
    "jupyter": {
     "outputs_hidden": false
    },
    "ExecuteTime": {
     "end_time": "2023-06-09T06:57:02.940090008Z",
     "start_time": "2023-06-09T06:57:02.935474044Z"
    }
   },
   "outputs": [
    {
     "data": {
      "text/plain": "DatetimeIndex(['2006-01-01', '2006-01-02', '2006-01-03', '2006-01-04',\n               '2006-01-05', '2006-01-06', '2006-01-07', '2006-01-08',\n               '2006-01-09', '2006-01-10',\n               ...\n               '2017-12-22', '2017-12-23', '2017-12-24', '2017-12-25',\n               '2017-12-26', '2017-12-27', '2017-12-28', '2017-12-29',\n               '2017-12-30', '2017-12-31'],\n              dtype='datetime64[ns]', name='date', length=4383, freq=None)"
     },
     "execution_count": 6,
     "metadata": {},
     "output_type": "execute_result"
    }
   ],
   "source": [
    "ex01_df.index"
   ]
  },
  {
   "cell_type": "code",
   "execution_count": 7,
   "metadata": {
    "collapsed": false,
    "jupyter": {
     "outputs_hidden": false
    },
    "ExecuteTime": {
     "end_time": "2023-06-09T06:57:03.020940023Z",
     "start_time": "2023-06-09T06:57:02.944070633Z"
    }
   },
   "outputs": [],
   "source": [
    "ex01_df = ex01_df.asfreq(original_frequency)"
   ]
  },
  {
   "cell_type": "code",
   "execution_count": 8,
   "metadata": {
    "collapsed": false,
    "jupyter": {
     "outputs_hidden": false
    },
    "ExecuteTime": {
     "end_time": "2023-06-09T06:57:03.153992015Z",
     "start_time": "2023-06-09T06:57:02.952929823Z"
    }
   },
   "outputs": [
    {
     "data": {
      "text/plain": "DatetimeIndex(['2006-01-01', '2006-01-02', '2006-01-03', '2006-01-04',\n               '2006-01-05', '2006-01-06', '2006-01-07', '2006-01-08',\n               '2006-01-09', '2006-01-10',\n               ...\n               '2017-12-22', '2017-12-23', '2017-12-24', '2017-12-25',\n               '2017-12-26', '2017-12-27', '2017-12-28', '2017-12-29',\n               '2017-12-30', '2017-12-31'],\n              dtype='datetime64[ns]', name='date', length=4383, freq='D')"
     },
     "execution_count": 8,
     "metadata": {},
     "output_type": "execute_result"
    }
   ],
   "source": [
    "ex01_df.index"
   ]
  },
  {
   "cell_type": "code",
   "execution_count": 9,
   "metadata": {
    "collapsed": false,
    "jupyter": {
     "outputs_hidden": false
    },
    "ExecuteTime": {
     "end_time": "2023-06-09T06:57:03.154901338Z",
     "start_time": "2023-06-09T06:57:02.998110159Z"
    }
   },
   "outputs": [],
   "source": [
    "ex01_df.to_pickle('proj5_ex01.pkl')"
   ]
  },
  {
   "cell_type": "markdown",
   "metadata": {},
   "source": [
    "# Exercise 2"
   ]
  },
  {
   "cell_type": "code",
   "execution_count": 10,
   "metadata": {
    "collapsed": false,
    "jupyter": {
     "outputs_hidden": false
    },
    "ExecuteTime": {
     "end_time": "2023-06-09T06:57:03.156244509Z",
     "start_time": "2023-06-09T06:57:02.998519355Z"
    }
   },
   "outputs": [
    {
     "name": "stdout",
     "output_type": "stream",
     "text": [
      "            consumption  wind  solar  wind_solar\n",
      "date                                            \n",
      "2006-01-01     1069.184   NaN    NaN         NaN\n",
      "2006-01-02     1380.521   NaN    NaN         NaN\n",
      "2006-01-03     1442.533   NaN    NaN         NaN\n",
      "2006-01-04     1457.217   NaN    NaN         NaN\n",
      "2006-01-05     1477.131   NaN    NaN         NaN\n",
      "w\n",
      "DatetimeIndex(['2006-01-01', '2006-01-08', '2006-01-15', '2006-01-22',\n",
      "               '2006-01-29', '2006-02-05', '2006-02-12', '2006-02-19',\n",
      "               '2006-02-26', '2006-03-05',\n",
      "               ...\n",
      "               '2017-10-29', '2017-11-05', '2017-11-12', '2017-11-19',\n",
      "               '2017-11-26', '2017-12-03', '2017-12-10', '2017-12-17',\n",
      "               '2017-12-24', '2017-12-31'],\n",
      "              dtype='datetime64[ns]', name='date', length=627, freq='W-SUN')\n"
     ]
    }
   ],
   "source": [
    "ex02_df = ex01_df.copy()\n",
    "print(ex02_df.head(5))\n",
    "target_frequency = parameters['target_frequency']\n",
    "print(target_frequency)\n",
    "ex02_df = ex02_df.asfreq(target_frequency)\n",
    "print(ex02_df.index)\n",
    "ex02_df.to_pickle('proj5_ex02.pkl')"
   ]
  },
  {
   "cell_type": "markdown",
   "metadata": {},
   "source": [
    "## Exercise 3"
   ]
  },
  {
   "cell_type": "code",
   "execution_count": 11,
   "metadata": {
    "collapsed": false,
    "jupyter": {
     "outputs_hidden": false
    },
    "ExecuteTime": {
     "end_time": "2023-06-09T06:57:03.156849467Z",
     "start_time": "2023-06-09T06:57:02.998816037Z"
    }
   },
   "outputs": [
    {
     "name": "stdout",
     "output_type": "stream",
     "text": [
      "{'original_frequency': 'd', 'target_frequency': 'w', 'downsample_periods': 3, 'downsample_units': 'd', 'upsample_periods': 2, 'upsample_units': 'h', 'interpolation': 'polynomial', 'interpolation_order': 3, 'sensors_periods': 10, 'sensors_units': 's'}\n"
     ]
    }
   ],
   "source": [
    "print(parameters)"
   ]
  },
  {
   "cell_type": "code",
   "execution_count": 12,
   "metadata": {
    "collapsed": false,
    "jupyter": {
     "outputs_hidden": false
    },
    "ExecuteTime": {
     "end_time": "2023-06-09T06:57:03.313353462Z",
     "start_time": "2023-06-09T06:57:03.042038963Z"
    }
   },
   "outputs": [
    {
     "name": "stdout",
     "output_type": "stream",
     "text": [
      "3 d\n"
     ]
    }
   ],
   "source": [
    "downsample_periods = parameters['downsample_periods']\n",
    "downsample_units = parameters['downsample_units']\n",
    "print(downsample_periods, downsample_units)"
   ]
  },
  {
   "cell_type": "code",
   "execution_count": 13,
   "metadata": {
    "collapsed": false,
    "jupyter": {
     "outputs_hidden": false
    },
    "ExecuteTime": {
     "end_time": "2023-06-09T06:57:03.314075193Z",
     "start_time": "2023-06-09T06:57:03.042576455Z"
    }
   },
   "outputs": [
    {
     "data": {
      "text/plain": "            consumption      wind   solar  wind_solar\ndate                                                 \n2006-01-01   3892.23800       NaN     NaN         NaN\n2006-01-04   4337.77500       NaN     NaN         NaN\n2006-01-07   4037.59500       NaN     NaN         NaN\n2006-01-10   4707.36700       NaN     NaN         NaN\n2006-01-13   4170.42200       NaN     NaN         NaN\n...                 ...       ...     ...         ...\n2017-12-17   4462.39225   484.667  37.310     521.977\n2017-12-20   4503.29557   578.692  26.177     604.869\n2017-12-23   3525.21153  2148.306  34.164    2182.470\n2017-12-26   3693.92172  1618.384  61.615    1679.999\n2017-12-29   3617.65138  2026.700  57.301    2084.001\n\n[1461 rows x 4 columns]",
      "text/html": "<div>\n<style scoped>\n    .dataframe tbody tr th:only-of-type {\n        vertical-align: middle;\n    }\n\n    .dataframe tbody tr th {\n        vertical-align: top;\n    }\n\n    .dataframe thead th {\n        text-align: right;\n    }\n</style>\n<table border=\"1\" class=\"dataframe\">\n  <thead>\n    <tr style=\"text-align: right;\">\n      <th></th>\n      <th>consumption</th>\n      <th>wind</th>\n      <th>solar</th>\n      <th>wind_solar</th>\n    </tr>\n    <tr>\n      <th>date</th>\n      <th></th>\n      <th></th>\n      <th></th>\n      <th></th>\n    </tr>\n  </thead>\n  <tbody>\n    <tr>\n      <th>2006-01-01</th>\n      <td>3892.23800</td>\n      <td>NaN</td>\n      <td>NaN</td>\n      <td>NaN</td>\n    </tr>\n    <tr>\n      <th>2006-01-04</th>\n      <td>4337.77500</td>\n      <td>NaN</td>\n      <td>NaN</td>\n      <td>NaN</td>\n    </tr>\n    <tr>\n      <th>2006-01-07</th>\n      <td>4037.59500</td>\n      <td>NaN</td>\n      <td>NaN</td>\n      <td>NaN</td>\n    </tr>\n    <tr>\n      <th>2006-01-10</th>\n      <td>4707.36700</td>\n      <td>NaN</td>\n      <td>NaN</td>\n      <td>NaN</td>\n    </tr>\n    <tr>\n      <th>2006-01-13</th>\n      <td>4170.42200</td>\n      <td>NaN</td>\n      <td>NaN</td>\n      <td>NaN</td>\n    </tr>\n    <tr>\n      <th>...</th>\n      <td>...</td>\n      <td>...</td>\n      <td>...</td>\n      <td>...</td>\n    </tr>\n    <tr>\n      <th>2017-12-17</th>\n      <td>4462.39225</td>\n      <td>484.667</td>\n      <td>37.310</td>\n      <td>521.977</td>\n    </tr>\n    <tr>\n      <th>2017-12-20</th>\n      <td>4503.29557</td>\n      <td>578.692</td>\n      <td>26.177</td>\n      <td>604.869</td>\n    </tr>\n    <tr>\n      <th>2017-12-23</th>\n      <td>3525.21153</td>\n      <td>2148.306</td>\n      <td>34.164</td>\n      <td>2182.470</td>\n    </tr>\n    <tr>\n      <th>2017-12-26</th>\n      <td>3693.92172</td>\n      <td>1618.384</td>\n      <td>61.615</td>\n      <td>1679.999</td>\n    </tr>\n    <tr>\n      <th>2017-12-29</th>\n      <td>3617.65138</td>\n      <td>2026.700</td>\n      <td>57.301</td>\n      <td>2084.001</td>\n    </tr>\n  </tbody>\n</table>\n<p>1461 rows × 4 columns</p>\n</div>"
     },
     "execution_count": 13,
     "metadata": {},
     "output_type": "execute_result"
    }
   ],
   "source": [
    "ex03_df = ex01_df.resample(f'{downsample_periods}{downsample_units}').sum(min_count=downsample_periods)\n",
    "ex03_df"
   ]
  },
  {
   "cell_type": "code",
   "execution_count": 14,
   "metadata": {
    "collapsed": false,
    "jupyter": {
     "outputs_hidden": false
    },
    "ExecuteTime": {
     "end_time": "2023-06-09T06:57:03.314443322Z",
     "start_time": "2023-06-09T06:57:03.042895137Z"
    }
   },
   "outputs": [],
   "source": [
    "ex03_df.to_pickle('proj5_ex03.pkl')"
   ]
  },
  {
   "cell_type": "markdown",
   "metadata": {},
   "source": [
    "## Exercise 4"
   ]
  },
  {
   "cell_type": "code",
   "execution_count": 15,
   "metadata": {
    "collapsed": false,
    "jupyter": {
     "outputs_hidden": false
    },
    "ExecuteTime": {
     "end_time": "2023-06-09T06:57:03.314982281Z",
     "start_time": "2023-06-09T06:57:03.043158505Z"
    }
   },
   "outputs": [
    {
     "name": "stdout",
     "output_type": "stream",
     "text": [
      "2 h polynomial 3\n"
     ]
    }
   ],
   "source": [
    "upsample_periods = parameters['upsample_periods']\n",
    "upsample_units = parameters['upsample_units']\n",
    "interpolation = parameters['interpolation']\n",
    "interpolation_order = parameters['interpolation_order']\n",
    "print(upsample_periods, upsample_units, interpolation, interpolation_order)"
   ]
  },
  {
   "cell_type": "code",
   "execution_count": 16,
   "metadata": {
    "collapsed": false,
    "jupyter": {
     "outputs_hidden": false
    },
    "ExecuteTime": {
     "end_time": "2023-06-09T06:57:03.577019874Z",
     "start_time": "2023-06-09T06:57:03.043629090Z"
    }
   },
   "outputs": [
    {
     "name": "stdout",
     "output_type": "stream",
     "text": [
      "0.08333333333333333\n"
     ]
    }
   ],
   "source": [
    "ex04_df = ex01_df.resample(f'{upsample_periods}{upsample_units}').interpolate(interpolation, order=interpolation_order)\n",
    "print(ex04_df.index.freq / ex01_df.index.freq)\n",
    "ex04_df = ex04_df * (ex04_df.index.freq / ex01_df.index.freq)"
   ]
  },
  {
   "cell_type": "code",
   "execution_count": 17,
   "metadata": {
    "collapsed": false,
    "jupyter": {
     "outputs_hidden": false
    },
    "ExecuteTime": {
     "end_time": "2023-06-09T06:57:03.600956501Z",
     "start_time": "2023-06-09T06:57:03.456455145Z"
    }
   },
   "outputs": [
    {
     "data": {
      "text/plain": "                     consumption       wind     solar  wind_solar\ndate                                                             \n2006-01-01 00:00:00    89.098667        NaN       NaN         NaN\n2006-01-01 02:00:00    92.515716        NaN       NaN         NaN\n2006-01-01 04:00:00    95.668110        NaN       NaN         NaN\n2006-01-01 06:00:00    98.566792        NaN       NaN         NaN\n2006-01-01 08:00:00   101.222704        NaN       NaN         NaN\n...                          ...        ...       ...         ...\n2017-12-30 16:00:00    95.117424  63.173803  0.423908   63.597711\n2017-12-30 18:00:00    94.371167  62.769170  0.626352   63.395522\n2017-12-30 20:00:00    93.643499  62.132939  0.897118   63.030057\n2017-12-30 22:00:00    92.938331  61.248189  1.241551   62.489741\n2017-12-31 00:00:00    92.259573  60.098000  1.665000   61.763000\n\n[52585 rows x 4 columns]",
      "text/html": "<div>\n<style scoped>\n    .dataframe tbody tr th:only-of-type {\n        vertical-align: middle;\n    }\n\n    .dataframe tbody tr th {\n        vertical-align: top;\n    }\n\n    .dataframe thead th {\n        text-align: right;\n    }\n</style>\n<table border=\"1\" class=\"dataframe\">\n  <thead>\n    <tr style=\"text-align: right;\">\n      <th></th>\n      <th>consumption</th>\n      <th>wind</th>\n      <th>solar</th>\n      <th>wind_solar</th>\n    </tr>\n    <tr>\n      <th>date</th>\n      <th></th>\n      <th></th>\n      <th></th>\n      <th></th>\n    </tr>\n  </thead>\n  <tbody>\n    <tr>\n      <th>2006-01-01 00:00:00</th>\n      <td>89.098667</td>\n      <td>NaN</td>\n      <td>NaN</td>\n      <td>NaN</td>\n    </tr>\n    <tr>\n      <th>2006-01-01 02:00:00</th>\n      <td>92.515716</td>\n      <td>NaN</td>\n      <td>NaN</td>\n      <td>NaN</td>\n    </tr>\n    <tr>\n      <th>2006-01-01 04:00:00</th>\n      <td>95.668110</td>\n      <td>NaN</td>\n      <td>NaN</td>\n      <td>NaN</td>\n    </tr>\n    <tr>\n      <th>2006-01-01 06:00:00</th>\n      <td>98.566792</td>\n      <td>NaN</td>\n      <td>NaN</td>\n      <td>NaN</td>\n    </tr>\n    <tr>\n      <th>2006-01-01 08:00:00</th>\n      <td>101.222704</td>\n      <td>NaN</td>\n      <td>NaN</td>\n      <td>NaN</td>\n    </tr>\n    <tr>\n      <th>...</th>\n      <td>...</td>\n      <td>...</td>\n      <td>...</td>\n      <td>...</td>\n    </tr>\n    <tr>\n      <th>2017-12-30 16:00:00</th>\n      <td>95.117424</td>\n      <td>63.173803</td>\n      <td>0.423908</td>\n      <td>63.597711</td>\n    </tr>\n    <tr>\n      <th>2017-12-30 18:00:00</th>\n      <td>94.371167</td>\n      <td>62.769170</td>\n      <td>0.626352</td>\n      <td>63.395522</td>\n    </tr>\n    <tr>\n      <th>2017-12-30 20:00:00</th>\n      <td>93.643499</td>\n      <td>62.132939</td>\n      <td>0.897118</td>\n      <td>63.030057</td>\n    </tr>\n    <tr>\n      <th>2017-12-30 22:00:00</th>\n      <td>92.938331</td>\n      <td>61.248189</td>\n      <td>1.241551</td>\n      <td>62.489741</td>\n    </tr>\n    <tr>\n      <th>2017-12-31 00:00:00</th>\n      <td>92.259573</td>\n      <td>60.098000</td>\n      <td>1.665000</td>\n      <td>61.763000</td>\n    </tr>\n  </tbody>\n</table>\n<p>52585 rows × 4 columns</p>\n</div>"
     },
     "execution_count": 17,
     "metadata": {},
     "output_type": "execute_result"
    }
   ],
   "source": [
    "ex04_df"
   ]
  },
  {
   "cell_type": "code",
   "execution_count": 18,
   "metadata": {
    "collapsed": false,
    "jupyter": {
     "outputs_hidden": false
    },
    "ExecuteTime": {
     "end_time": "2023-06-09T06:57:03.602456604Z",
     "start_time": "2023-06-09T06:57:03.461070132Z"
    }
   },
   "outputs": [],
   "source": [
    "ex04_df.to_pickle('proj5_ex04.pkl')"
   ]
  },
  {
   "cell_type": "markdown",
   "metadata": {},
   "source": [
    "## Exercise 5"
   ]
  },
  {
   "cell_type": "code",
   "execution_count": 21,
   "metadata": {
    "collapsed": false,
    "jupyter": {
     "outputs_hidden": false
    },
    "ExecuteTime": {
     "end_time": "2023-06-09T06:57:29.604344987Z",
     "start_time": "2023-06-09T06:57:29.590438404Z"
    }
   },
   "outputs": [
    {
     "name": "stdout",
     "output_type": "stream",
     "text": [
      "10 s\n"
     ]
    }
   ],
   "source": [
    "sensors_periods = parameters['sensors_periods']\n",
    "sensors_units = parameters['sensors_units']\n",
    "print(sensors_periods, sensors_units)"
   ]
  },
  {
   "cell_type": "code",
   "execution_count": 22,
   "outputs": [
    {
     "data": {
      "text/plain": "                     device_id     value\ntimestamp                               \n2022-11-25 00:00:25         25  6.693750\n2022-11-25 00:01:25         25  6.725000\n2022-11-25 00:02:25         25  6.756250\n2022-11-25 00:03:25         25  6.787500\n2022-11-25 00:04:25         25  6.818750\n...                        ...       ...\n2022-11-27 23:55:29         47  6.022222\n2022-11-27 23:56:29         47  6.016667\n2022-11-27 23:57:29         47  6.011111\n2022-11-27 23:58:29         47  6.005556\n2022-11-27 23:59:29         47  6.000000\n\n[97920 rows x 2 columns]",
      "text/html": "<div>\n<style scoped>\n    .dataframe tbody tr th:only-of-type {\n        vertical-align: middle;\n    }\n\n    .dataframe tbody tr th {\n        vertical-align: top;\n    }\n\n    .dataframe thead th {\n        text-align: right;\n    }\n</style>\n<table border=\"1\" class=\"dataframe\">\n  <thead>\n    <tr style=\"text-align: right;\">\n      <th></th>\n      <th>device_id</th>\n      <th>value</th>\n    </tr>\n    <tr>\n      <th>timestamp</th>\n      <th></th>\n      <th></th>\n    </tr>\n  </thead>\n  <tbody>\n    <tr>\n      <th>2022-11-25 00:00:25</th>\n      <td>25</td>\n      <td>6.693750</td>\n    </tr>\n    <tr>\n      <th>2022-11-25 00:01:25</th>\n      <td>25</td>\n      <td>6.725000</td>\n    </tr>\n    <tr>\n      <th>2022-11-25 00:02:25</th>\n      <td>25</td>\n      <td>6.756250</td>\n    </tr>\n    <tr>\n      <th>2022-11-25 00:03:25</th>\n      <td>25</td>\n      <td>6.787500</td>\n    </tr>\n    <tr>\n      <th>2022-11-25 00:04:25</th>\n      <td>25</td>\n      <td>6.818750</td>\n    </tr>\n    <tr>\n      <th>...</th>\n      <td>...</td>\n      <td>...</td>\n    </tr>\n    <tr>\n      <th>2022-11-27 23:55:29</th>\n      <td>47</td>\n      <td>6.022222</td>\n    </tr>\n    <tr>\n      <th>2022-11-27 23:56:29</th>\n      <td>47</td>\n      <td>6.016667</td>\n    </tr>\n    <tr>\n      <th>2022-11-27 23:57:29</th>\n      <td>47</td>\n      <td>6.011111</td>\n    </tr>\n    <tr>\n      <th>2022-11-27 23:58:29</th>\n      <td>47</td>\n      <td>6.005556</td>\n    </tr>\n    <tr>\n      <th>2022-11-27 23:59:29</th>\n      <td>47</td>\n      <td>6.000000</td>\n    </tr>\n  </tbody>\n</table>\n<p>97920 rows × 2 columns</p>\n</div>"
     },
     "execution_count": 22,
     "metadata": {},
     "output_type": "execute_result"
    }
   ],
   "source": [
    "ex05_df = pd.read_pickle('proj5_sensors.pkl')\n",
    "ex05_df"
   ],
   "metadata": {
    "collapsed": false,
    "ExecuteTime": {
     "end_time": "2023-06-09T06:57:36.706529329Z",
     "start_time": "2023-06-09T06:57:36.660776887Z"
    }
   }
  },
  {
   "cell_type": "code",
   "execution_count": 23,
   "outputs": [
    {
     "data": {
      "text/plain": "device_id            25  26   27   28  29        30  31  32  33  34  ...  38  \\\ntimestamp                                                            ...       \n2022-11-25 00:00:03 NaN NaN  NaN  NaN NaN       NaN NaN NaN NaN NaN  ... NaN   \n2022-11-25 00:00:04 NaN NaN  NaN  5.6 NaN       NaN NaN NaN NaN NaN  ... NaN   \n2022-11-25 00:00:08 NaN NaN  NaN  NaN NaN       NaN NaN NaN NaN NaN  ... NaN   \n2022-11-25 00:00:09 NaN NaN  NaN  NaN NaN       NaN NaN NaN NaN NaN  ... NaN   \n2022-11-25 00:00:12 NaN NaN  NaN  NaN NaN       NaN NaN NaN NaN NaN  ... NaN   \n...                  ..  ..  ...  ...  ..       ...  ..  ..  ..  ..  ...  ..   \n2022-11-27 23:59:47 NaN NaN  NaN  NaN NaN       NaN NaN NaN NaN NaN  ... NaN   \n2022-11-27 23:59:50 NaN NaN  NaN  NaN NaN       NaN NaN NaN NaN NaN  ... NaN   \n2022-11-27 23:59:51 NaN NaN  NaN  NaN NaN  6.094737 NaN NaN NaN NaN  ... NaN   \n2022-11-27 23:59:55 NaN NaN  5.3  NaN NaN       NaN NaN NaN NaN NaN  ... NaN   \n2022-11-27 23:59:59 NaN NaN  NaN  NaN NaN       NaN NaN NaN NaN NaN  ... NaN   \n\ndevice_id             39  40        41   42        43  44  45  46  47  \ntimestamp                                                              \n2022-11-25 00:00:03  6.5 NaN       NaN  NaN       NaN NaN NaN NaN NaN  \n2022-11-25 00:00:04  NaN NaN       NaN  NaN       NaN NaN NaN NaN NaN  \n2022-11-25 00:00:08  NaN NaN       NaN  NaN       NaN NaN NaN NaN NaN  \n2022-11-25 00:00:09  NaN NaN       NaN  NaN       NaN NaN NaN NaN NaN  \n2022-11-25 00:00:12  NaN NaN       NaN  7.7       NaN NaN NaN NaN NaN  \n...                  ...  ..       ...  ...       ...  ..  ..  ..  ..  \n2022-11-27 23:59:47  NaN NaN  5.133333  NaN       NaN NaN NaN NaN NaN  \n2022-11-27 23:59:50  NaN NaN       NaN  NaN  5.584211 NaN NaN NaN NaN  \n2022-11-27 23:59:51  NaN NaN       NaN  NaN       NaN NaN NaN NaN NaN  \n2022-11-27 23:59:55  NaN NaN       NaN  NaN       NaN NaN NaN NaN NaN  \n2022-11-27 23:59:59  NaN NaN       NaN  NaN       NaN NaN NaN NaN NaN  \n\n[97920 rows x 23 columns]",
      "text/html": "<div>\n<style scoped>\n    .dataframe tbody tr th:only-of-type {\n        vertical-align: middle;\n    }\n\n    .dataframe tbody tr th {\n        vertical-align: top;\n    }\n\n    .dataframe thead th {\n        text-align: right;\n    }\n</style>\n<table border=\"1\" class=\"dataframe\">\n  <thead>\n    <tr style=\"text-align: right;\">\n      <th>device_id</th>\n      <th>25</th>\n      <th>26</th>\n      <th>27</th>\n      <th>28</th>\n      <th>29</th>\n      <th>30</th>\n      <th>31</th>\n      <th>32</th>\n      <th>33</th>\n      <th>34</th>\n      <th>...</th>\n      <th>38</th>\n      <th>39</th>\n      <th>40</th>\n      <th>41</th>\n      <th>42</th>\n      <th>43</th>\n      <th>44</th>\n      <th>45</th>\n      <th>46</th>\n      <th>47</th>\n    </tr>\n    <tr>\n      <th>timestamp</th>\n      <th></th>\n      <th></th>\n      <th></th>\n      <th></th>\n      <th></th>\n      <th></th>\n      <th></th>\n      <th></th>\n      <th></th>\n      <th></th>\n      <th></th>\n      <th></th>\n      <th></th>\n      <th></th>\n      <th></th>\n      <th></th>\n      <th></th>\n      <th></th>\n      <th></th>\n      <th></th>\n      <th></th>\n    </tr>\n  </thead>\n  <tbody>\n    <tr>\n      <th>2022-11-25 00:00:03</th>\n      <td>NaN</td>\n      <td>NaN</td>\n      <td>NaN</td>\n      <td>NaN</td>\n      <td>NaN</td>\n      <td>NaN</td>\n      <td>NaN</td>\n      <td>NaN</td>\n      <td>NaN</td>\n      <td>NaN</td>\n      <td>...</td>\n      <td>NaN</td>\n      <td>6.5</td>\n      <td>NaN</td>\n      <td>NaN</td>\n      <td>NaN</td>\n      <td>NaN</td>\n      <td>NaN</td>\n      <td>NaN</td>\n      <td>NaN</td>\n      <td>NaN</td>\n    </tr>\n    <tr>\n      <th>2022-11-25 00:00:04</th>\n      <td>NaN</td>\n      <td>NaN</td>\n      <td>NaN</td>\n      <td>5.6</td>\n      <td>NaN</td>\n      <td>NaN</td>\n      <td>NaN</td>\n      <td>NaN</td>\n      <td>NaN</td>\n      <td>NaN</td>\n      <td>...</td>\n      <td>NaN</td>\n      <td>NaN</td>\n      <td>NaN</td>\n      <td>NaN</td>\n      <td>NaN</td>\n      <td>NaN</td>\n      <td>NaN</td>\n      <td>NaN</td>\n      <td>NaN</td>\n      <td>NaN</td>\n    </tr>\n    <tr>\n      <th>2022-11-25 00:00:08</th>\n      <td>NaN</td>\n      <td>NaN</td>\n      <td>NaN</td>\n      <td>NaN</td>\n      <td>NaN</td>\n      <td>NaN</td>\n      <td>NaN</td>\n      <td>NaN</td>\n      <td>NaN</td>\n      <td>NaN</td>\n      <td>...</td>\n      <td>NaN</td>\n      <td>NaN</td>\n      <td>NaN</td>\n      <td>NaN</td>\n      <td>NaN</td>\n      <td>NaN</td>\n      <td>NaN</td>\n      <td>NaN</td>\n      <td>NaN</td>\n      <td>NaN</td>\n    </tr>\n    <tr>\n      <th>2022-11-25 00:00:09</th>\n      <td>NaN</td>\n      <td>NaN</td>\n      <td>NaN</td>\n      <td>NaN</td>\n      <td>NaN</td>\n      <td>NaN</td>\n      <td>NaN</td>\n      <td>NaN</td>\n      <td>NaN</td>\n      <td>NaN</td>\n      <td>...</td>\n      <td>NaN</td>\n      <td>NaN</td>\n      <td>NaN</td>\n      <td>NaN</td>\n      <td>NaN</td>\n      <td>NaN</td>\n      <td>NaN</td>\n      <td>NaN</td>\n      <td>NaN</td>\n      <td>NaN</td>\n    </tr>\n    <tr>\n      <th>2022-11-25 00:00:12</th>\n      <td>NaN</td>\n      <td>NaN</td>\n      <td>NaN</td>\n      <td>NaN</td>\n      <td>NaN</td>\n      <td>NaN</td>\n      <td>NaN</td>\n      <td>NaN</td>\n      <td>NaN</td>\n      <td>NaN</td>\n      <td>...</td>\n      <td>NaN</td>\n      <td>NaN</td>\n      <td>NaN</td>\n      <td>NaN</td>\n      <td>7.7</td>\n      <td>NaN</td>\n      <td>NaN</td>\n      <td>NaN</td>\n      <td>NaN</td>\n      <td>NaN</td>\n    </tr>\n    <tr>\n      <th>...</th>\n      <td>...</td>\n      <td>...</td>\n      <td>...</td>\n      <td>...</td>\n      <td>...</td>\n      <td>...</td>\n      <td>...</td>\n      <td>...</td>\n      <td>...</td>\n      <td>...</td>\n      <td>...</td>\n      <td>...</td>\n      <td>...</td>\n      <td>...</td>\n      <td>...</td>\n      <td>...</td>\n      <td>...</td>\n      <td>...</td>\n      <td>...</td>\n      <td>...</td>\n      <td>...</td>\n    </tr>\n    <tr>\n      <th>2022-11-27 23:59:47</th>\n      <td>NaN</td>\n      <td>NaN</td>\n      <td>NaN</td>\n      <td>NaN</td>\n      <td>NaN</td>\n      <td>NaN</td>\n      <td>NaN</td>\n      <td>NaN</td>\n      <td>NaN</td>\n      <td>NaN</td>\n      <td>...</td>\n      <td>NaN</td>\n      <td>NaN</td>\n      <td>NaN</td>\n      <td>5.133333</td>\n      <td>NaN</td>\n      <td>NaN</td>\n      <td>NaN</td>\n      <td>NaN</td>\n      <td>NaN</td>\n      <td>NaN</td>\n    </tr>\n    <tr>\n      <th>2022-11-27 23:59:50</th>\n      <td>NaN</td>\n      <td>NaN</td>\n      <td>NaN</td>\n      <td>NaN</td>\n      <td>NaN</td>\n      <td>NaN</td>\n      <td>NaN</td>\n      <td>NaN</td>\n      <td>NaN</td>\n      <td>NaN</td>\n      <td>...</td>\n      <td>NaN</td>\n      <td>NaN</td>\n      <td>NaN</td>\n      <td>NaN</td>\n      <td>NaN</td>\n      <td>5.584211</td>\n      <td>NaN</td>\n      <td>NaN</td>\n      <td>NaN</td>\n      <td>NaN</td>\n    </tr>\n    <tr>\n      <th>2022-11-27 23:59:51</th>\n      <td>NaN</td>\n      <td>NaN</td>\n      <td>NaN</td>\n      <td>NaN</td>\n      <td>NaN</td>\n      <td>6.094737</td>\n      <td>NaN</td>\n      <td>NaN</td>\n      <td>NaN</td>\n      <td>NaN</td>\n      <td>...</td>\n      <td>NaN</td>\n      <td>NaN</td>\n      <td>NaN</td>\n      <td>NaN</td>\n      <td>NaN</td>\n      <td>NaN</td>\n      <td>NaN</td>\n      <td>NaN</td>\n      <td>NaN</td>\n      <td>NaN</td>\n    </tr>\n    <tr>\n      <th>2022-11-27 23:59:55</th>\n      <td>NaN</td>\n      <td>NaN</td>\n      <td>5.3</td>\n      <td>NaN</td>\n      <td>NaN</td>\n      <td>NaN</td>\n      <td>NaN</td>\n      <td>NaN</td>\n      <td>NaN</td>\n      <td>NaN</td>\n      <td>...</td>\n      <td>NaN</td>\n      <td>NaN</td>\n      <td>NaN</td>\n      <td>NaN</td>\n      <td>NaN</td>\n      <td>NaN</td>\n      <td>NaN</td>\n      <td>NaN</td>\n      <td>NaN</td>\n      <td>NaN</td>\n    </tr>\n    <tr>\n      <th>2022-11-27 23:59:59</th>\n      <td>NaN</td>\n      <td>NaN</td>\n      <td>NaN</td>\n      <td>NaN</td>\n      <td>NaN</td>\n      <td>NaN</td>\n      <td>NaN</td>\n      <td>NaN</td>\n      <td>NaN</td>\n      <td>NaN</td>\n      <td>...</td>\n      <td>NaN</td>\n      <td>NaN</td>\n      <td>NaN</td>\n      <td>NaN</td>\n      <td>NaN</td>\n      <td>NaN</td>\n      <td>NaN</td>\n      <td>NaN</td>\n      <td>NaN</td>\n      <td>NaN</td>\n    </tr>\n  </tbody>\n</table>\n<p>97920 rows × 23 columns</p>\n</div>"
     },
     "execution_count": 23,
     "metadata": {},
     "output_type": "execute_result"
    }
   ],
   "source": [
    "ex05_df = ex05_df.pivot(columns='device_id', values='value')\n",
    "ex05_df"
   ],
   "metadata": {
    "collapsed": false,
    "ExecuteTime": {
     "end_time": "2023-06-09T06:58:12.126956303Z",
     "start_time": "2023-06-09T06:58:11.957509354Z"
    }
   }
  },
  {
   "cell_type": "code",
   "execution_count": 24,
   "outputs": [
    {
     "data": {
      "text/plain": "device_id                  25        26        27        28        29  \\\n2022-11-25 00:00:00       NaN       NaN       NaN       NaN       NaN   \n2022-11-25 00:00:03       NaN       NaN       NaN       NaN       NaN   \n2022-11-25 00:00:04       NaN       NaN       NaN  5.600000       NaN   \n2022-11-25 00:00:08       NaN       NaN       NaN  5.599533       NaN   \n2022-11-25 00:00:09       NaN       NaN       NaN  5.599066       NaN   \n...                       ...       ...       ...       ...       ...   \n2022-11-27 23:59:50  4.305263  4.482353  5.296078  4.721053  6.380952   \n2022-11-27 23:59:51  4.305263  4.482353  5.298039  4.721053  6.380952   \n2022-11-27 23:59:55  4.305263  4.482353  5.300000  4.721053  6.380952   \n2022-11-27 23:59:59  4.305263  4.482353  5.300000  4.721053  6.380952   \n2022-11-28 00:00:00  4.305263  4.482353  5.300000  4.721053  6.380952   \n\ndevice_id                  30        31        32    33        34  ...   38  \\\n2022-11-25 00:00:00       NaN       NaN       NaN   NaN       NaN  ...  NaN   \n2022-11-25 00:00:03       NaN       NaN       NaN   NaN       NaN  ...  NaN   \n2022-11-25 00:00:04       NaN       NaN       NaN   NaN       NaN  ...  NaN   \n2022-11-25 00:00:08       NaN       NaN       NaN   NaN       NaN  ...  NaN   \n2022-11-25 00:00:09       NaN       NaN       NaN   NaN       NaN  ...  NaN   \n...                       ...       ...       ...   ...       ...  ...  ...   \n2022-11-27 23:59:50  6.094932  5.155455  5.190476  4.24  5.888235  ...  5.6   \n2022-11-27 23:59:51  6.094737  5.155455  5.190476  4.24  5.888235  ...  5.6   \n2022-11-27 23:59:55  6.094737  5.155455  5.190476  4.24  5.888235  ...  5.6   \n2022-11-27 23:59:59  6.094737  5.155455  5.190476  4.24  5.888235  ...  5.6   \n2022-11-28 00:00:00  6.094737  5.155455  5.190476  4.24  5.888235  ...  5.6   \n\ndevice_id                  39   40        41   42        43   44   45  \\\n2022-11-25 00:00:00       NaN  NaN       NaN  NaN       NaN  NaN  NaN   \n2022-11-25 00:00:03  6.500000  NaN       NaN  NaN       NaN  NaN  NaN   \n2022-11-25 00:00:04  6.500000  NaN       NaN  NaN       NaN  NaN  NaN   \n2022-11-25 00:00:08  6.500000  NaN       NaN  NaN       NaN  NaN  NaN   \n2022-11-25 00:00:09  6.500000  NaN       NaN  NaN       NaN  NaN  NaN   \n...                       ...  ...       ...  ...       ...  ...  ...   \n2022-11-27 23:59:50  4.515789  2.3  5.133333  5.3  5.584211  4.7  6.2   \n2022-11-27 23:59:51  4.515789  2.3  5.133333  5.3  5.584211  4.7  6.2   \n2022-11-27 23:59:55  4.515789  2.3  5.133333  5.3  5.584211  4.7  6.2   \n2022-11-27 23:59:59  4.515789  2.3  5.133333  5.3  5.584211  4.7  6.2   \n2022-11-28 00:00:00  4.515789  2.3  5.133333  5.3  5.584211  4.7  6.2   \n\ndevice_id                  46   47  \n2022-11-25 00:00:00       NaN  NaN  \n2022-11-25 00:00:03       NaN  NaN  \n2022-11-25 00:00:04       NaN  NaN  \n2022-11-25 00:00:08       NaN  NaN  \n2022-11-25 00:00:09       NaN  NaN  \n...                       ...  ...  \n2022-11-27 23:59:50  4.005882  6.0  \n2022-11-27 23:59:51  4.005882  6.0  \n2022-11-27 23:59:55  4.005882  6.0  \n2022-11-27 23:59:59  4.005882  6.0  \n2022-11-28 00:00:00  4.005882  6.0  \n\n[116641 rows x 23 columns]",
      "text/html": "<div>\n<style scoped>\n    .dataframe tbody tr th:only-of-type {\n        vertical-align: middle;\n    }\n\n    .dataframe tbody tr th {\n        vertical-align: top;\n    }\n\n    .dataframe thead th {\n        text-align: right;\n    }\n</style>\n<table border=\"1\" class=\"dataframe\">\n  <thead>\n    <tr style=\"text-align: right;\">\n      <th>device_id</th>\n      <th>25</th>\n      <th>26</th>\n      <th>27</th>\n      <th>28</th>\n      <th>29</th>\n      <th>30</th>\n      <th>31</th>\n      <th>32</th>\n      <th>33</th>\n      <th>34</th>\n      <th>...</th>\n      <th>38</th>\n      <th>39</th>\n      <th>40</th>\n      <th>41</th>\n      <th>42</th>\n      <th>43</th>\n      <th>44</th>\n      <th>45</th>\n      <th>46</th>\n      <th>47</th>\n    </tr>\n  </thead>\n  <tbody>\n    <tr>\n      <th>2022-11-25 00:00:00</th>\n      <td>NaN</td>\n      <td>NaN</td>\n      <td>NaN</td>\n      <td>NaN</td>\n      <td>NaN</td>\n      <td>NaN</td>\n      <td>NaN</td>\n      <td>NaN</td>\n      <td>NaN</td>\n      <td>NaN</td>\n      <td>...</td>\n      <td>NaN</td>\n      <td>NaN</td>\n      <td>NaN</td>\n      <td>NaN</td>\n      <td>NaN</td>\n      <td>NaN</td>\n      <td>NaN</td>\n      <td>NaN</td>\n      <td>NaN</td>\n      <td>NaN</td>\n    </tr>\n    <tr>\n      <th>2022-11-25 00:00:03</th>\n      <td>NaN</td>\n      <td>NaN</td>\n      <td>NaN</td>\n      <td>NaN</td>\n      <td>NaN</td>\n      <td>NaN</td>\n      <td>NaN</td>\n      <td>NaN</td>\n      <td>NaN</td>\n      <td>NaN</td>\n      <td>...</td>\n      <td>NaN</td>\n      <td>6.500000</td>\n      <td>NaN</td>\n      <td>NaN</td>\n      <td>NaN</td>\n      <td>NaN</td>\n      <td>NaN</td>\n      <td>NaN</td>\n      <td>NaN</td>\n      <td>NaN</td>\n    </tr>\n    <tr>\n      <th>2022-11-25 00:00:04</th>\n      <td>NaN</td>\n      <td>NaN</td>\n      <td>NaN</td>\n      <td>5.600000</td>\n      <td>NaN</td>\n      <td>NaN</td>\n      <td>NaN</td>\n      <td>NaN</td>\n      <td>NaN</td>\n      <td>NaN</td>\n      <td>...</td>\n      <td>NaN</td>\n      <td>6.500000</td>\n      <td>NaN</td>\n      <td>NaN</td>\n      <td>NaN</td>\n      <td>NaN</td>\n      <td>NaN</td>\n      <td>NaN</td>\n      <td>NaN</td>\n      <td>NaN</td>\n    </tr>\n    <tr>\n      <th>2022-11-25 00:00:08</th>\n      <td>NaN</td>\n      <td>NaN</td>\n      <td>NaN</td>\n      <td>5.599533</td>\n      <td>NaN</td>\n      <td>NaN</td>\n      <td>NaN</td>\n      <td>NaN</td>\n      <td>NaN</td>\n      <td>NaN</td>\n      <td>...</td>\n      <td>NaN</td>\n      <td>6.500000</td>\n      <td>NaN</td>\n      <td>NaN</td>\n      <td>NaN</td>\n      <td>NaN</td>\n      <td>NaN</td>\n      <td>NaN</td>\n      <td>NaN</td>\n      <td>NaN</td>\n    </tr>\n    <tr>\n      <th>2022-11-25 00:00:09</th>\n      <td>NaN</td>\n      <td>NaN</td>\n      <td>NaN</td>\n      <td>5.599066</td>\n      <td>NaN</td>\n      <td>NaN</td>\n      <td>NaN</td>\n      <td>NaN</td>\n      <td>NaN</td>\n      <td>NaN</td>\n      <td>...</td>\n      <td>NaN</td>\n      <td>6.500000</td>\n      <td>NaN</td>\n      <td>NaN</td>\n      <td>NaN</td>\n      <td>NaN</td>\n      <td>NaN</td>\n      <td>NaN</td>\n      <td>NaN</td>\n      <td>NaN</td>\n    </tr>\n    <tr>\n      <th>...</th>\n      <td>...</td>\n      <td>...</td>\n      <td>...</td>\n      <td>...</td>\n      <td>...</td>\n      <td>...</td>\n      <td>...</td>\n      <td>...</td>\n      <td>...</td>\n      <td>...</td>\n      <td>...</td>\n      <td>...</td>\n      <td>...</td>\n      <td>...</td>\n      <td>...</td>\n      <td>...</td>\n      <td>...</td>\n      <td>...</td>\n      <td>...</td>\n      <td>...</td>\n      <td>...</td>\n    </tr>\n    <tr>\n      <th>2022-11-27 23:59:50</th>\n      <td>4.305263</td>\n      <td>4.482353</td>\n      <td>5.296078</td>\n      <td>4.721053</td>\n      <td>6.380952</td>\n      <td>6.094932</td>\n      <td>5.155455</td>\n      <td>5.190476</td>\n      <td>4.24</td>\n      <td>5.888235</td>\n      <td>...</td>\n      <td>5.6</td>\n      <td>4.515789</td>\n      <td>2.3</td>\n      <td>5.133333</td>\n      <td>5.3</td>\n      <td>5.584211</td>\n      <td>4.7</td>\n      <td>6.2</td>\n      <td>4.005882</td>\n      <td>6.0</td>\n    </tr>\n    <tr>\n      <th>2022-11-27 23:59:51</th>\n      <td>4.305263</td>\n      <td>4.482353</td>\n      <td>5.298039</td>\n      <td>4.721053</td>\n      <td>6.380952</td>\n      <td>6.094737</td>\n      <td>5.155455</td>\n      <td>5.190476</td>\n      <td>4.24</td>\n      <td>5.888235</td>\n      <td>...</td>\n      <td>5.6</td>\n      <td>4.515789</td>\n      <td>2.3</td>\n      <td>5.133333</td>\n      <td>5.3</td>\n      <td>5.584211</td>\n      <td>4.7</td>\n      <td>6.2</td>\n      <td>4.005882</td>\n      <td>6.0</td>\n    </tr>\n    <tr>\n      <th>2022-11-27 23:59:55</th>\n      <td>4.305263</td>\n      <td>4.482353</td>\n      <td>5.300000</td>\n      <td>4.721053</td>\n      <td>6.380952</td>\n      <td>6.094737</td>\n      <td>5.155455</td>\n      <td>5.190476</td>\n      <td>4.24</td>\n      <td>5.888235</td>\n      <td>...</td>\n      <td>5.6</td>\n      <td>4.515789</td>\n      <td>2.3</td>\n      <td>5.133333</td>\n      <td>5.3</td>\n      <td>5.584211</td>\n      <td>4.7</td>\n      <td>6.2</td>\n      <td>4.005882</td>\n      <td>6.0</td>\n    </tr>\n    <tr>\n      <th>2022-11-27 23:59:59</th>\n      <td>4.305263</td>\n      <td>4.482353</td>\n      <td>5.300000</td>\n      <td>4.721053</td>\n      <td>6.380952</td>\n      <td>6.094737</td>\n      <td>5.155455</td>\n      <td>5.190476</td>\n      <td>4.24</td>\n      <td>5.888235</td>\n      <td>...</td>\n      <td>5.6</td>\n      <td>4.515789</td>\n      <td>2.3</td>\n      <td>5.133333</td>\n      <td>5.3</td>\n      <td>5.584211</td>\n      <td>4.7</td>\n      <td>6.2</td>\n      <td>4.005882</td>\n      <td>6.0</td>\n    </tr>\n    <tr>\n      <th>2022-11-28 00:00:00</th>\n      <td>4.305263</td>\n      <td>4.482353</td>\n      <td>5.300000</td>\n      <td>4.721053</td>\n      <td>6.380952</td>\n      <td>6.094737</td>\n      <td>5.155455</td>\n      <td>5.190476</td>\n      <td>4.24</td>\n      <td>5.888235</td>\n      <td>...</td>\n      <td>5.6</td>\n      <td>4.515789</td>\n      <td>2.3</td>\n      <td>5.133333</td>\n      <td>5.3</td>\n      <td>5.584211</td>\n      <td>4.7</td>\n      <td>6.2</td>\n      <td>4.005882</td>\n      <td>6.0</td>\n    </tr>\n  </tbody>\n</table>\n<p>116641 rows × 23 columns</p>\n</div>"
     },
     "execution_count": 24,
     "metadata": {},
     "output_type": "execute_result"
    }
   ],
   "source": [
    "new_index = pd.date_range(ex05_df.index.round(f'{sensors_periods}{sensors_units}').min(), ex05_df.index.round(f'{sensors_periods}{sensors_units}').max(), freq=f'{sensors_periods}{sensors_units}')\n",
    "ex05_df = ex05_df.reindex(new_index.union(ex05_df.index)).interpolate()\n",
    "ex05_df"
   ],
   "metadata": {
    "collapsed": false,
    "ExecuteTime": {
     "end_time": "2023-06-09T07:01:21.543430346Z",
     "start_time": "2023-06-09T07:01:21.058419933Z"
    }
   }
  },
  {
   "cell_type": "code",
   "execution_count": 25,
   "outputs": [
    {
     "data": {
      "text/plain": "device_id                  25        26        27        28        29  \\\n2022-11-25 00:01:00  6.711111  5.109630  5.192130  5.588325  6.758754   \n2022-11-25 00:01:10  6.716898  5.124444  5.203704  5.585990  6.764646   \n2022-11-25 00:01:20  6.721528  5.136296  5.212963  5.584122  6.769360   \n2022-11-25 00:01:30  6.729630  5.157037  5.229167  5.580853  6.777609   \n2022-11-25 00:01:40  6.733102  5.165926  5.236111  5.579452  6.781145   \n...                       ...       ...       ...       ...       ...   \n2022-11-27 23:59:20  4.304678  4.484096  5.268627  4.721053  6.380952   \n2022-11-27 23:59:30  4.305263  4.482571  5.282353  4.721053  6.380952   \n2022-11-27 23:59:40  4.305263  4.482353  5.288235  4.721053  6.380952   \n2022-11-27 23:59:50  4.305263  4.482353  5.296078  4.721053  6.380952   \n2022-11-28 00:00:00  4.305263  4.482353  5.300000  4.721053  6.380952   \n\ndevice_id                  30        31        32        33        34  ...  \\\n2022-11-25 00:01:00  5.562434  5.437475  7.551852  6.749673  5.333951  ...   \n2022-11-25 00:01:10  5.571252  5.437222  7.555967  6.751852  5.318519  ...   \n2022-11-25 00:01:20  5.578307  5.437020  7.559259  6.753595  5.306173  ...   \n2022-11-25 00:01:30  5.590653  5.436667  7.565021  6.756645  5.290741  ...   \n2022-11-25 00:01:40  5.595944  5.436515  7.567490  6.757952  5.285185  ...   \n...                       ...       ...       ...       ...       ...  ...   \n2022-11-27 23:59:20  6.097661  5.159226  5.188889  4.248889  5.887800  ...   \n2022-11-27 23:59:30  6.096296  5.155455  5.190123  4.243704  5.888235  ...   \n2022-11-27 23:59:40  6.095712  5.155455  5.190476  4.241481  5.888235  ...   \n2022-11-27 23:59:50  6.094932  5.155455  5.190476  4.240000  5.888235  ...   \n2022-11-28 00:00:00  6.094737  5.155455  5.190476  4.240000  5.888235  ...   \n\ndevice_id                  38        39        40        41        42  \\\n2022-11-25 00:01:00  7.077160  6.500000  3.245833  7.106173  7.718301   \n2022-11-25 00:01:10  7.080247  6.500000  3.248148  7.112346  7.722658   \n2022-11-25 00:01:20  7.082716  6.500000  3.250000  7.117284  7.726144   \n2022-11-25 00:01:30  7.087037  6.500000  3.253241  7.125926  7.732244   \n2022-11-25 00:01:40  7.088889  6.500000  3.254630  7.129630  7.734858   \n...                       ...       ...       ...       ...       ...   \n2022-11-27 23:59:20  5.600000  4.515789  2.300000  5.149383  5.300000   \n2022-11-27 23:59:30  5.600000  4.515789  2.300000  5.140741  5.300000   \n2022-11-27 23:59:40  5.600000  4.515789  2.300000  5.137037  5.300000   \n2022-11-27 23:59:50  5.600000  4.515789  2.300000  5.133333  5.300000   \n2022-11-28 00:00:00  5.600000  4.515789  2.300000  5.133333  5.300000   \n\ndevice_id                  43        44        45        46        47  \n2022-11-25 00:01:00  5.215595  7.022896  7.110136  6.780507  7.733333  \n2022-11-25 00:01:10  5.235088  7.026263  7.114035  6.775634  7.735859  \n2022-11-25 00:01:20  5.250682  7.028956  7.117154  6.771735  7.737879  \n2022-11-25 00:01:30  5.277973  7.033670  7.122612  6.764912  7.741414  \n2022-11-25 00:01:40  5.289669  7.035690  7.124951  6.761988  7.742929  \n...                       ...       ...       ...       ...       ...  \n2022-11-27 23:59:20  5.576023  4.697856  6.203472  4.005882  6.001235  \n2022-11-27 23:59:30  5.580117  4.699220  6.200000  4.005882  6.000000  \n2022-11-27 23:59:40  5.581871  4.699805  6.200000  4.005882  6.000000  \n2022-11-27 23:59:50  5.584211  4.700000  6.200000  4.005882  6.000000  \n2022-11-28 00:00:00  5.584211  4.700000  6.200000  4.005882  6.000000  \n\n[25915 rows x 23 columns]",
      "text/html": "<div>\n<style scoped>\n    .dataframe tbody tr th:only-of-type {\n        vertical-align: middle;\n    }\n\n    .dataframe tbody tr th {\n        vertical-align: top;\n    }\n\n    .dataframe thead th {\n        text-align: right;\n    }\n</style>\n<table border=\"1\" class=\"dataframe\">\n  <thead>\n    <tr style=\"text-align: right;\">\n      <th>device_id</th>\n      <th>25</th>\n      <th>26</th>\n      <th>27</th>\n      <th>28</th>\n      <th>29</th>\n      <th>30</th>\n      <th>31</th>\n      <th>32</th>\n      <th>33</th>\n      <th>34</th>\n      <th>...</th>\n      <th>38</th>\n      <th>39</th>\n      <th>40</th>\n      <th>41</th>\n      <th>42</th>\n      <th>43</th>\n      <th>44</th>\n      <th>45</th>\n      <th>46</th>\n      <th>47</th>\n    </tr>\n  </thead>\n  <tbody>\n    <tr>\n      <th>2022-11-25 00:01:00</th>\n      <td>6.711111</td>\n      <td>5.109630</td>\n      <td>5.192130</td>\n      <td>5.588325</td>\n      <td>6.758754</td>\n      <td>5.562434</td>\n      <td>5.437475</td>\n      <td>7.551852</td>\n      <td>6.749673</td>\n      <td>5.333951</td>\n      <td>...</td>\n      <td>7.077160</td>\n      <td>6.500000</td>\n      <td>3.245833</td>\n      <td>7.106173</td>\n      <td>7.718301</td>\n      <td>5.215595</td>\n      <td>7.022896</td>\n      <td>7.110136</td>\n      <td>6.780507</td>\n      <td>7.733333</td>\n    </tr>\n    <tr>\n      <th>2022-11-25 00:01:10</th>\n      <td>6.716898</td>\n      <td>5.124444</td>\n      <td>5.203704</td>\n      <td>5.585990</td>\n      <td>6.764646</td>\n      <td>5.571252</td>\n      <td>5.437222</td>\n      <td>7.555967</td>\n      <td>6.751852</td>\n      <td>5.318519</td>\n      <td>...</td>\n      <td>7.080247</td>\n      <td>6.500000</td>\n      <td>3.248148</td>\n      <td>7.112346</td>\n      <td>7.722658</td>\n      <td>5.235088</td>\n      <td>7.026263</td>\n      <td>7.114035</td>\n      <td>6.775634</td>\n      <td>7.735859</td>\n    </tr>\n    <tr>\n      <th>2022-11-25 00:01:20</th>\n      <td>6.721528</td>\n      <td>5.136296</td>\n      <td>5.212963</td>\n      <td>5.584122</td>\n      <td>6.769360</td>\n      <td>5.578307</td>\n      <td>5.437020</td>\n      <td>7.559259</td>\n      <td>6.753595</td>\n      <td>5.306173</td>\n      <td>...</td>\n      <td>7.082716</td>\n      <td>6.500000</td>\n      <td>3.250000</td>\n      <td>7.117284</td>\n      <td>7.726144</td>\n      <td>5.250682</td>\n      <td>7.028956</td>\n      <td>7.117154</td>\n      <td>6.771735</td>\n      <td>7.737879</td>\n    </tr>\n    <tr>\n      <th>2022-11-25 00:01:30</th>\n      <td>6.729630</td>\n      <td>5.157037</td>\n      <td>5.229167</td>\n      <td>5.580853</td>\n      <td>6.777609</td>\n      <td>5.590653</td>\n      <td>5.436667</td>\n      <td>7.565021</td>\n      <td>6.756645</td>\n      <td>5.290741</td>\n      <td>...</td>\n      <td>7.087037</td>\n      <td>6.500000</td>\n      <td>3.253241</td>\n      <td>7.125926</td>\n      <td>7.732244</td>\n      <td>5.277973</td>\n      <td>7.033670</td>\n      <td>7.122612</td>\n      <td>6.764912</td>\n      <td>7.741414</td>\n    </tr>\n    <tr>\n      <th>2022-11-25 00:01:40</th>\n      <td>6.733102</td>\n      <td>5.165926</td>\n      <td>5.236111</td>\n      <td>5.579452</td>\n      <td>6.781145</td>\n      <td>5.595944</td>\n      <td>5.436515</td>\n      <td>7.567490</td>\n      <td>6.757952</td>\n      <td>5.285185</td>\n      <td>...</td>\n      <td>7.088889</td>\n      <td>6.500000</td>\n      <td>3.254630</td>\n      <td>7.129630</td>\n      <td>7.734858</td>\n      <td>5.289669</td>\n      <td>7.035690</td>\n      <td>7.124951</td>\n      <td>6.761988</td>\n      <td>7.742929</td>\n    </tr>\n    <tr>\n      <th>...</th>\n      <td>...</td>\n      <td>...</td>\n      <td>...</td>\n      <td>...</td>\n      <td>...</td>\n      <td>...</td>\n      <td>...</td>\n      <td>...</td>\n      <td>...</td>\n      <td>...</td>\n      <td>...</td>\n      <td>...</td>\n      <td>...</td>\n      <td>...</td>\n      <td>...</td>\n      <td>...</td>\n      <td>...</td>\n      <td>...</td>\n      <td>...</td>\n      <td>...</td>\n      <td>...</td>\n    </tr>\n    <tr>\n      <th>2022-11-27 23:59:20</th>\n      <td>4.304678</td>\n      <td>4.484096</td>\n      <td>5.268627</td>\n      <td>4.721053</td>\n      <td>6.380952</td>\n      <td>6.097661</td>\n      <td>5.159226</td>\n      <td>5.188889</td>\n      <td>4.248889</td>\n      <td>5.887800</td>\n      <td>...</td>\n      <td>5.600000</td>\n      <td>4.515789</td>\n      <td>2.300000</td>\n      <td>5.149383</td>\n      <td>5.300000</td>\n      <td>5.576023</td>\n      <td>4.697856</td>\n      <td>6.203472</td>\n      <td>4.005882</td>\n      <td>6.001235</td>\n    </tr>\n    <tr>\n      <th>2022-11-27 23:59:30</th>\n      <td>4.305263</td>\n      <td>4.482571</td>\n      <td>5.282353</td>\n      <td>4.721053</td>\n      <td>6.380952</td>\n      <td>6.096296</td>\n      <td>5.155455</td>\n      <td>5.190123</td>\n      <td>4.243704</td>\n      <td>5.888235</td>\n      <td>...</td>\n      <td>5.600000</td>\n      <td>4.515789</td>\n      <td>2.300000</td>\n      <td>5.140741</td>\n      <td>5.300000</td>\n      <td>5.580117</td>\n      <td>4.699220</td>\n      <td>6.200000</td>\n      <td>4.005882</td>\n      <td>6.000000</td>\n    </tr>\n    <tr>\n      <th>2022-11-27 23:59:40</th>\n      <td>4.305263</td>\n      <td>4.482353</td>\n      <td>5.288235</td>\n      <td>4.721053</td>\n      <td>6.380952</td>\n      <td>6.095712</td>\n      <td>5.155455</td>\n      <td>5.190476</td>\n      <td>4.241481</td>\n      <td>5.888235</td>\n      <td>...</td>\n      <td>5.600000</td>\n      <td>4.515789</td>\n      <td>2.300000</td>\n      <td>5.137037</td>\n      <td>5.300000</td>\n      <td>5.581871</td>\n      <td>4.699805</td>\n      <td>6.200000</td>\n      <td>4.005882</td>\n      <td>6.000000</td>\n    </tr>\n    <tr>\n      <th>2022-11-27 23:59:50</th>\n      <td>4.305263</td>\n      <td>4.482353</td>\n      <td>5.296078</td>\n      <td>4.721053</td>\n      <td>6.380952</td>\n      <td>6.094932</td>\n      <td>5.155455</td>\n      <td>5.190476</td>\n      <td>4.240000</td>\n      <td>5.888235</td>\n      <td>...</td>\n      <td>5.600000</td>\n      <td>4.515789</td>\n      <td>2.300000</td>\n      <td>5.133333</td>\n      <td>5.300000</td>\n      <td>5.584211</td>\n      <td>4.700000</td>\n      <td>6.200000</td>\n      <td>4.005882</td>\n      <td>6.000000</td>\n    </tr>\n    <tr>\n      <th>2022-11-28 00:00:00</th>\n      <td>4.305263</td>\n      <td>4.482353</td>\n      <td>5.300000</td>\n      <td>4.721053</td>\n      <td>6.380952</td>\n      <td>6.094737</td>\n      <td>5.155455</td>\n      <td>5.190476</td>\n      <td>4.240000</td>\n      <td>5.888235</td>\n      <td>...</td>\n      <td>5.600000</td>\n      <td>4.515789</td>\n      <td>2.300000</td>\n      <td>5.133333</td>\n      <td>5.300000</td>\n      <td>5.584211</td>\n      <td>4.700000</td>\n      <td>6.200000</td>\n      <td>4.005882</td>\n      <td>6.000000</td>\n    </tr>\n  </tbody>\n</table>\n<p>25915 rows × 23 columns</p>\n</div>"
     },
     "execution_count": 25,
     "metadata": {},
     "output_type": "execute_result"
    }
   ],
   "source": [
    "ex05_df = ex05_df.reindex(new_index)\n",
    "ex05_df = ex05_df.dropna()\n",
    "ex05_df"
   ],
   "metadata": {
    "collapsed": false,
    "ExecuteTime": {
     "end_time": "2023-06-09T07:02:30.713138892Z",
     "start_time": "2023-06-09T07:02:30.661892070Z"
    }
   }
  },
  {
   "cell_type": "code",
   "execution_count": 50,
   "metadata": {
    "collapsed": false,
    "jupyter": {
     "outputs_hidden": false
    },
    "ExecuteTime": {
     "end_time": "2023-06-08T20:44:45.867849834Z",
     "start_time": "2023-06-08T20:44:45.822836051Z"
    }
   },
   "outputs": [],
   "source": [
    "ex05_df.to_pickle('proj5_ex05.pkl')"
   ]
  }
 ],
 "metadata": {
  "kernelspec": {
   "display_name": "Python 3 (ipykernel)",
   "language": "python",
   "name": "python3"
  },
  "language_info": {
   "codemirror_mode": {
    "name": "ipython",
    "version": 3
   },
   "file_extension": ".py",
   "mimetype": "text/x-python",
   "name": "python",
   "nbconvert_exporter": "python",
   "pygments_lexer": "ipython3",
   "version": "3.10.6"
  }
 },
 "nbformat": 4,
 "nbformat_minor": 4
}
