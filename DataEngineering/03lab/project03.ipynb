{
 "cells": [
  {
   "cell_type": "code",
   "execution_count": 2,
   "metadata": {
    "ExecuteTime": {
     "start_time": "2023-04-22T23:31:38.570256Z",
     "end_time": "2023-04-22T23:31:38.924215Z"
    },
    "collapsed": false,
    "jupyter": {
     "outputs_hidden": false
    }
   },
   "outputs": [],
   "source": [
    "import pandas as pd\n",
    "import csv\n",
    "import json\n",
    "import numpy as np"
   ]
  },
  {
   "cell_type": "code",
   "execution_count": 3,
   "metadata": {
    "ExecuteTime": {
     "start_time": "2023-04-22T23:31:38.927119Z",
     "end_time": "2023-04-22T23:31:38.952339Z"
    },
    "collapsed": false,
    "jupyter": {
     "outputs_hidden": false
    }
   },
   "outputs": [],
   "source": [
    "dataframes = []\n",
    "for file in ('proj3_data1.json', 'proj3_data2.json', 'proj3_data3.json'):\n",
    "    with open(file) as filename:\n",
    "        data = pd.read_json(filename)\n",
    "        dataframes.append(data)"
   ]
  },
  {
   "cell_type": "code",
   "execution_count": 4,
   "metadata": {
    "ExecuteTime": {
     "start_time": "2023-04-22T23:31:38.947247Z",
     "end_time": "2023-04-22T23:31:38.995474Z"
    },
    "collapsed": false,
    "jupyter": {
     "outputs_hidden": false
    }
   },
   "outputs": [],
   "source": [
    "ex1_df = pd.concat(dataframes, ignore_index=True)"
   ]
  },
  {
   "cell_type": "code",
   "execution_count": 5,
   "metadata": {
    "ExecuteTime": {
     "start_time": "2023-04-22T23:31:38.988566Z",
     "end_time": "2023-04-22T23:31:38.996051Z"
    },
    "collapsed": false,
    "jupyter": {
     "outputs_hidden": false
    }
   },
   "outputs": [],
   "source": [
    "ex1_df.to_json('ex01_all_data.json', orient='records')"
   ]
  },
  {
   "cell_type": "code",
   "execution_count": 6,
   "metadata": {
    "ExecuteTime": {
     "start_time": "2023-04-22T23:31:38.988674Z",
     "end_time": "2023-04-22T23:31:38.996575Z"
    },
    "collapsed": false,
    "jupyter": {
     "outputs_hidden": false
    }
   },
   "outputs": [
    {
     "name": "stdout",
     "output_type": "stream",
     "text": [
      "{'fuel_consumption': 4, 'doors': 2}\n"
     ]
    }
   ],
   "source": [
    "null_dict = {}\n",
    "for index, row in ex1_df.iterrows():\n",
    "    for column in ex1_df.columns:\n",
    "        if pd.isna(row[column]):\n",
    "            if column in null_dict.keys():\n",
    "                null_dict[column] += 1\n",
    "            else:\n",
    "                null_dict[column] = 1\n",
    "print(null_dict)"
   ]
  },
  {
   "cell_type": "code",
   "execution_count": 7,
   "metadata": {
    "ExecuteTime": {
     "start_time": "2023-04-22T23:31:38.988787Z",
     "end_time": "2023-04-22T23:31:38.996806Z"
    },
    "collapsed": false,
    "jupyter": {
     "outputs_hidden": false
    }
   },
   "outputs": [],
   "source": [
    "with open('ex02_no_nulls.csv', 'w', newline='\\n') as csvfile:\n",
    "    writer = csv.writer(csvfile, delimiter=',')\n",
    "    for key, value in null_dict.items():\n",
    "        writer.writerow([key, value])"
   ]
  },
  {
   "cell_type": "code",
   "execution_count": 8,
   "metadata": {
    "ExecuteTime": {
     "start_time": "2023-04-22T23:31:38.988871Z",
     "end_time": "2023-04-22T23:31:39.065713Z"
    },
    "collapsed": false,
    "jupyter": {
     "outputs_hidden": false
    }
   },
   "outputs": [
    {
     "name": "stdout",
     "output_type": "stream",
     "text": [
      "['make', 'model', 'engine']\n"
     ]
    },
    {
     "data": {
      "text/plain": "          make     model  body_type  doors  top_speed  acceleration  \\\n0         Audi        A3  hatchback    5.0        220           7.2   \n1          BMW  3 Series      sedan    4.0        240           6.2   \n2   Volkswagen      Golf  hatchback    5.0        210           8.0   \n3      Renault      Clio  hatchback    5.0        190          11.0   \n4         Fiat       500  hatchback    3.0        160          12.9   \n5      Peugeot       208  hatchback    NaN        190           9.9   \n6        Volvo      XC60        SUV    5.0        220           8.0   \n7         Seat      Leon  hatchback    5.0        240           8.0   \n8         Opel     Corsa  hatchback    5.0        180           9.9   \n9         Ford   Mustang      coupe    2.0        249           5.8   \n10  Volkswagen    Passat      sedan    4.0        230           7.5   \n11     Porsche       911      coupe    NaN        330           3.5   \n12        Audi        Q5        SUV    5.0        237           6.3   \n13       Volvo       S60      sedan    4.0        250           6.2   \n14     Renault    Megane  hatchback    5.0        215           7.9   \n15     Peugeot      3008        SUV    5.0        210           9.2   \n16        Fiat     Panda  hatchback    5.0        165          14.5   \n17        Fiat     Punto  hatchback    3.0        170          12.5   \n\n    fuel_consumption                  engine  \\\n0                6.0                1.5 TFSI   \n1                NaN    2.0L TwinPower Turbo   \n2                5.0                 1.5 TSI   \n3                6.5                 1.5 dCi   \n4                NaN             0.9 TwinAir   \n5                5.0            1.2 PureTech   \n6                6.0                      B4   \n7                NaN                 1.5 TSI   \n8                5.5               1.2 Turbo   \n9               10.2           2.3L EcoBoost   \n10               6.0                 2.0 TDI   \n11              11.8      3.0L Twin Turbo V6   \n12               NaN         45 TFSI quattro   \n13               6.6  T8 Polestar Engineered   \n14               5.4                 1.5 dCi   \n15               5.6                 1.6 THP   \n16               5.0                  1.2 8v   \n17               5.2                  1.2 8v   \n\n                          description  \n0                    Audi A3 1.5 TFSI  \n1   BMW 3 Series 2.0L TwinPower Turbo  \n2             Volkswagen Golf 1.5 TSI  \n3                Renault Clio 1.5 dCi  \n4                Fiat 500 0.9 TwinAir  \n5            Peugeot 208 1.2 PureTech  \n6                       Volvo XC60 B4  \n7                   Seat Leon 1.5 TSI  \n8                Opel Corsa 1.2 Turbo  \n9          Ford Mustang 2.3L EcoBoost  \n10          Volkswagen Passat 2.0 TDI  \n11     Porsche 911 3.0L Twin Turbo V6  \n12            Audi Q5 45 TFSI quattro  \n13   Volvo S60 T8 Polestar Engineered  \n14             Renault Megane 1.5 dCi  \n15               Peugeot 3008 1.6 THP  \n16                  Fiat Panda 1.2 8v  \n17                  Fiat Punto 1.2 8v  ",
      "text/html": "<div>\n<style scoped>\n    .dataframe tbody tr th:only-of-type {\n        vertical-align: middle;\n    }\n\n    .dataframe tbody tr th {\n        vertical-align: top;\n    }\n\n    .dataframe thead th {\n        text-align: right;\n    }\n</style>\n<table border=\"1\" class=\"dataframe\">\n  <thead>\n    <tr style=\"text-align: right;\">\n      <th></th>\n      <th>make</th>\n      <th>model</th>\n      <th>body_type</th>\n      <th>doors</th>\n      <th>top_speed</th>\n      <th>acceleration</th>\n      <th>fuel_consumption</th>\n      <th>engine</th>\n      <th>description</th>\n    </tr>\n  </thead>\n  <tbody>\n    <tr>\n      <th>0</th>\n      <td>Audi</td>\n      <td>A3</td>\n      <td>hatchback</td>\n      <td>5.0</td>\n      <td>220</td>\n      <td>7.2</td>\n      <td>6.0</td>\n      <td>1.5 TFSI</td>\n      <td>Audi A3 1.5 TFSI</td>\n    </tr>\n    <tr>\n      <th>1</th>\n      <td>BMW</td>\n      <td>3 Series</td>\n      <td>sedan</td>\n      <td>4.0</td>\n      <td>240</td>\n      <td>6.2</td>\n      <td>NaN</td>\n      <td>2.0L TwinPower Turbo</td>\n      <td>BMW 3 Series 2.0L TwinPower Turbo</td>\n    </tr>\n    <tr>\n      <th>2</th>\n      <td>Volkswagen</td>\n      <td>Golf</td>\n      <td>hatchback</td>\n      <td>5.0</td>\n      <td>210</td>\n      <td>8.0</td>\n      <td>5.0</td>\n      <td>1.5 TSI</td>\n      <td>Volkswagen Golf 1.5 TSI</td>\n    </tr>\n    <tr>\n      <th>3</th>\n      <td>Renault</td>\n      <td>Clio</td>\n      <td>hatchback</td>\n      <td>5.0</td>\n      <td>190</td>\n      <td>11.0</td>\n      <td>6.5</td>\n      <td>1.5 dCi</td>\n      <td>Renault Clio 1.5 dCi</td>\n    </tr>\n    <tr>\n      <th>4</th>\n      <td>Fiat</td>\n      <td>500</td>\n      <td>hatchback</td>\n      <td>3.0</td>\n      <td>160</td>\n      <td>12.9</td>\n      <td>NaN</td>\n      <td>0.9 TwinAir</td>\n      <td>Fiat 500 0.9 TwinAir</td>\n    </tr>\n    <tr>\n      <th>5</th>\n      <td>Peugeot</td>\n      <td>208</td>\n      <td>hatchback</td>\n      <td>NaN</td>\n      <td>190</td>\n      <td>9.9</td>\n      <td>5.0</td>\n      <td>1.2 PureTech</td>\n      <td>Peugeot 208 1.2 PureTech</td>\n    </tr>\n    <tr>\n      <th>6</th>\n      <td>Volvo</td>\n      <td>XC60</td>\n      <td>SUV</td>\n      <td>5.0</td>\n      <td>220</td>\n      <td>8.0</td>\n      <td>6.0</td>\n      <td>B4</td>\n      <td>Volvo XC60 B4</td>\n    </tr>\n    <tr>\n      <th>7</th>\n      <td>Seat</td>\n      <td>Leon</td>\n      <td>hatchback</td>\n      <td>5.0</td>\n      <td>240</td>\n      <td>8.0</td>\n      <td>NaN</td>\n      <td>1.5 TSI</td>\n      <td>Seat Leon 1.5 TSI</td>\n    </tr>\n    <tr>\n      <th>8</th>\n      <td>Opel</td>\n      <td>Corsa</td>\n      <td>hatchback</td>\n      <td>5.0</td>\n      <td>180</td>\n      <td>9.9</td>\n      <td>5.5</td>\n      <td>1.2 Turbo</td>\n      <td>Opel Corsa 1.2 Turbo</td>\n    </tr>\n    <tr>\n      <th>9</th>\n      <td>Ford</td>\n      <td>Mustang</td>\n      <td>coupe</td>\n      <td>2.0</td>\n      <td>249</td>\n      <td>5.8</td>\n      <td>10.2</td>\n      <td>2.3L EcoBoost</td>\n      <td>Ford Mustang 2.3L EcoBoost</td>\n    </tr>\n    <tr>\n      <th>10</th>\n      <td>Volkswagen</td>\n      <td>Passat</td>\n      <td>sedan</td>\n      <td>4.0</td>\n      <td>230</td>\n      <td>7.5</td>\n      <td>6.0</td>\n      <td>2.0 TDI</td>\n      <td>Volkswagen Passat 2.0 TDI</td>\n    </tr>\n    <tr>\n      <th>11</th>\n      <td>Porsche</td>\n      <td>911</td>\n      <td>coupe</td>\n      <td>NaN</td>\n      <td>330</td>\n      <td>3.5</td>\n      <td>11.8</td>\n      <td>3.0L Twin Turbo V6</td>\n      <td>Porsche 911 3.0L Twin Turbo V6</td>\n    </tr>\n    <tr>\n      <th>12</th>\n      <td>Audi</td>\n      <td>Q5</td>\n      <td>SUV</td>\n      <td>5.0</td>\n      <td>237</td>\n      <td>6.3</td>\n      <td>NaN</td>\n      <td>45 TFSI quattro</td>\n      <td>Audi Q5 45 TFSI quattro</td>\n    </tr>\n    <tr>\n      <th>13</th>\n      <td>Volvo</td>\n      <td>S60</td>\n      <td>sedan</td>\n      <td>4.0</td>\n      <td>250</td>\n      <td>6.2</td>\n      <td>6.6</td>\n      <td>T8 Polestar Engineered</td>\n      <td>Volvo S60 T8 Polestar Engineered</td>\n    </tr>\n    <tr>\n      <th>14</th>\n      <td>Renault</td>\n      <td>Megane</td>\n      <td>hatchback</td>\n      <td>5.0</td>\n      <td>215</td>\n      <td>7.9</td>\n      <td>5.4</td>\n      <td>1.5 dCi</td>\n      <td>Renault Megane 1.5 dCi</td>\n    </tr>\n    <tr>\n      <th>15</th>\n      <td>Peugeot</td>\n      <td>3008</td>\n      <td>SUV</td>\n      <td>5.0</td>\n      <td>210</td>\n      <td>9.2</td>\n      <td>5.6</td>\n      <td>1.6 THP</td>\n      <td>Peugeot 3008 1.6 THP</td>\n    </tr>\n    <tr>\n      <th>16</th>\n      <td>Fiat</td>\n      <td>Panda</td>\n      <td>hatchback</td>\n      <td>5.0</td>\n      <td>165</td>\n      <td>14.5</td>\n      <td>5.0</td>\n      <td>1.2 8v</td>\n      <td>Fiat Panda 1.2 8v</td>\n    </tr>\n    <tr>\n      <th>17</th>\n      <td>Fiat</td>\n      <td>Punto</td>\n      <td>hatchback</td>\n      <td>3.0</td>\n      <td>170</td>\n      <td>12.5</td>\n      <td>5.2</td>\n      <td>1.2 8v</td>\n      <td>Fiat Punto 1.2 8v</td>\n    </tr>\n  </tbody>\n</table>\n</div>"
     },
     "execution_count": 8,
     "metadata": {},
     "output_type": "execute_result"
    }
   ],
   "source": [
    "ex1_df['description'] = None\n",
    "with open('proj3_params.json') as file:\n",
    "    params = json.load(file)\n",
    "concat_columns = params['concat_columns']\n",
    "print(concat_columns)\n",
    "for index, row in ex1_df.iterrows():\n",
    "    tmp_string = str()\n",
    "    for element in concat_columns:\n",
    "        tmp_string += row[element]\n",
    "        tmp_string += \" \"\n",
    "    tmp_string = tmp_string[:-1]\n",
    "    ex1_df.loc[index, 'description'] = tmp_string\n",
    "ex1_df"
   ]
  },
  {
   "cell_type": "code",
   "execution_count": 9,
   "metadata": {
    "ExecuteTime": {
     "start_time": "2023-04-22T23:31:39.032300Z",
     "end_time": "2023-04-22T23:31:39.066286Z"
    },
    "collapsed": false,
    "jupyter": {
     "outputs_hidden": false
    }
   },
   "outputs": [],
   "source": [
    "ex1_df.to_json('ex03_descriptions.json', orient='records')"
   ]
  },
  {
   "cell_type": "code",
   "execution_count": 10,
   "metadata": {
    "ExecuteTime": {
     "start_time": "2023-04-22T23:31:39.032400Z",
     "end_time": "2023-04-22T23:31:39.066531Z"
    },
    "collapsed": false,
    "jupyter": {
     "outputs_hidden": false
    }
   },
   "outputs": [],
   "source": [
    "with open('proj3_more_data.json') as filename:\n",
    "    ex4_df = pd.read_json(filename)\n",
    "\n",
    "join_column = params['join_column']"
   ]
  },
  {
   "cell_type": "code",
   "execution_count": 11,
   "metadata": {
    "ExecuteTime": {
     "start_time": "2023-04-22T23:31:39.032481Z",
     "end_time": "2023-04-22T23:31:39.066880Z"
    },
    "collapsed": false,
    "jupyter": {
     "outputs_hidden": false
    }
   },
   "outputs": [
    {
     "data": {
      "text/plain": "          make     model  body_type  doors  top_speed  acceleration  \\\n0         Audi        A3  hatchback    5.0        220           7.2   \n1          BMW  3 Series      sedan    4.0        240           6.2   \n2   Volkswagen      Golf  hatchback    5.0        210           8.0   \n3      Renault      Clio  hatchback    5.0        190          11.0   \n4         Fiat       500  hatchback    3.0        160          12.9   \n5      Peugeot       208  hatchback    NaN        190           9.9   \n6        Volvo      XC60        SUV    5.0        220           8.0   \n7         Seat      Leon  hatchback    5.0        240           8.0   \n8         Opel     Corsa  hatchback    5.0        180           9.9   \n9         Ford   Mustang      coupe    2.0        249           5.8   \n10  Volkswagen    Passat      sedan    4.0        230           7.5   \n11     Porsche       911      coupe    NaN        330           3.5   \n12        Audi        Q5        SUV    5.0        237           6.3   \n13       Volvo       S60      sedan    4.0        250           6.2   \n14     Renault    Megane  hatchback    5.0        215           7.9   \n15     Peugeot      3008        SUV    5.0        210           9.2   \n16        Fiat     Panda  hatchback    5.0        165          14.5   \n17        Fiat     Punto  hatchback    3.0        170          12.5   \n\n    fuel_consumption                  engine  \\\n0                6.0                1.5 TFSI   \n1                NaN    2.0L TwinPower Turbo   \n2                5.0                 1.5 TSI   \n3                6.5                 1.5 dCi   \n4                NaN             0.9 TwinAir   \n5                5.0            1.2 PureTech   \n6                6.0                      B4   \n7                NaN                 1.5 TSI   \n8                5.5               1.2 Turbo   \n9               10.2           2.3L EcoBoost   \n10               6.0                 2.0 TDI   \n11              11.8      3.0L Twin Turbo V6   \n12               NaN         45 TFSI quattro   \n13               6.6  T8 Polestar Engineered   \n14               5.4                 1.5 dCi   \n15               5.6                 1.6 THP   \n16               5.0                  1.2 8v   \n17               5.2                  1.2 8v   \n\n                          description  displacement  horsepower fuel_type  \\\n0                    Audi A3 1.5 TFSI        1498.0       150.0  gasoline   \n1   BMW 3 Series 2.0L TwinPower Turbo        1998.0       184.0  gasoline   \n2             Volkswagen Golf 1.5 TSI        1498.0       150.0  gasoline   \n3                Renault Clio 1.5 dCi        1461.0       115.0    diesel   \n4                Fiat 500 0.9 TwinAir         875.0        85.0  gasoline   \n5            Peugeot 208 1.2 PureTech        1199.0       130.0  gasoline   \n6                       Volvo XC60 B4           NaN         NaN       NaN   \n7                   Seat Leon 1.5 TSI        1498.0       150.0  gasoline   \n8                Opel Corsa 1.2 Turbo        1197.0       110.0  gasoline   \n9          Ford Mustang 2.3L EcoBoost        2261.0       350.0  gasoline   \n10          Volkswagen Passat 2.0 TDI        1968.0       150.0    diesel   \n11     Porsche 911 3.0L Twin Turbo V6        3000.0       450.0  gasoline   \n12            Audi Q5 45 TFSI quattro        1984.0       245.0  gasoline   \n13   Volvo S60 T8 Polestar Engineered        1969.0       415.0    hybrid   \n14             Renault Megane 1.5 dCi        1461.0       115.0    diesel   \n15               Peugeot 3008 1.6 THP        1598.0       165.0  gasoline   \n16                  Fiat Panda 1.2 8v           NaN         NaN       NaN   \n17                  Fiat Punto 1.2 8v           NaN         NaN       NaN   \n\n    cylinders emissions_class  \n0         4.0         Euro 6d  \n1         4.0         Euro 6d  \n2         4.0         Euro 6d  \n3         4.0    Euro 6d-TEMP  \n4         2.0    Euro 6d-TEMP  \n5         3.0         Euro 6d  \n6         NaN             NaN  \n7         4.0         Euro 6d  \n8         4.0    Euro 6d-TEMP  \n9         4.0    Euro 6d-TEMP  \n10        4.0    Euro 6d-TEMP  \n11        6.0          Euro 6  \n12        4.0          Euro 6  \n13        4.0          Euro 6  \n14        4.0    Euro 6d-TEMP  \n15        4.0          Euro 5  \n16        NaN             NaN  \n17        NaN             NaN  ",
      "text/html": "<div>\n<style scoped>\n    .dataframe tbody tr th:only-of-type {\n        vertical-align: middle;\n    }\n\n    .dataframe tbody tr th {\n        vertical-align: top;\n    }\n\n    .dataframe thead th {\n        text-align: right;\n    }\n</style>\n<table border=\"1\" class=\"dataframe\">\n  <thead>\n    <tr style=\"text-align: right;\">\n      <th></th>\n      <th>make</th>\n      <th>model</th>\n      <th>body_type</th>\n      <th>doors</th>\n      <th>top_speed</th>\n      <th>acceleration</th>\n      <th>fuel_consumption</th>\n      <th>engine</th>\n      <th>description</th>\n      <th>displacement</th>\n      <th>horsepower</th>\n      <th>fuel_type</th>\n      <th>cylinders</th>\n      <th>emissions_class</th>\n    </tr>\n  </thead>\n  <tbody>\n    <tr>\n      <th>0</th>\n      <td>Audi</td>\n      <td>A3</td>\n      <td>hatchback</td>\n      <td>5.0</td>\n      <td>220</td>\n      <td>7.2</td>\n      <td>6.0</td>\n      <td>1.5 TFSI</td>\n      <td>Audi A3 1.5 TFSI</td>\n      <td>1498.0</td>\n      <td>150.0</td>\n      <td>gasoline</td>\n      <td>4.0</td>\n      <td>Euro 6d</td>\n    </tr>\n    <tr>\n      <th>1</th>\n      <td>BMW</td>\n      <td>3 Series</td>\n      <td>sedan</td>\n      <td>4.0</td>\n      <td>240</td>\n      <td>6.2</td>\n      <td>NaN</td>\n      <td>2.0L TwinPower Turbo</td>\n      <td>BMW 3 Series 2.0L TwinPower Turbo</td>\n      <td>1998.0</td>\n      <td>184.0</td>\n      <td>gasoline</td>\n      <td>4.0</td>\n      <td>Euro 6d</td>\n    </tr>\n    <tr>\n      <th>2</th>\n      <td>Volkswagen</td>\n      <td>Golf</td>\n      <td>hatchback</td>\n      <td>5.0</td>\n      <td>210</td>\n      <td>8.0</td>\n      <td>5.0</td>\n      <td>1.5 TSI</td>\n      <td>Volkswagen Golf 1.5 TSI</td>\n      <td>1498.0</td>\n      <td>150.0</td>\n      <td>gasoline</td>\n      <td>4.0</td>\n      <td>Euro 6d</td>\n    </tr>\n    <tr>\n      <th>3</th>\n      <td>Renault</td>\n      <td>Clio</td>\n      <td>hatchback</td>\n      <td>5.0</td>\n      <td>190</td>\n      <td>11.0</td>\n      <td>6.5</td>\n      <td>1.5 dCi</td>\n      <td>Renault Clio 1.5 dCi</td>\n      <td>1461.0</td>\n      <td>115.0</td>\n      <td>diesel</td>\n      <td>4.0</td>\n      <td>Euro 6d-TEMP</td>\n    </tr>\n    <tr>\n      <th>4</th>\n      <td>Fiat</td>\n      <td>500</td>\n      <td>hatchback</td>\n      <td>3.0</td>\n      <td>160</td>\n      <td>12.9</td>\n      <td>NaN</td>\n      <td>0.9 TwinAir</td>\n      <td>Fiat 500 0.9 TwinAir</td>\n      <td>875.0</td>\n      <td>85.0</td>\n      <td>gasoline</td>\n      <td>2.0</td>\n      <td>Euro 6d-TEMP</td>\n    </tr>\n    <tr>\n      <th>5</th>\n      <td>Peugeot</td>\n      <td>208</td>\n      <td>hatchback</td>\n      <td>NaN</td>\n      <td>190</td>\n      <td>9.9</td>\n      <td>5.0</td>\n      <td>1.2 PureTech</td>\n      <td>Peugeot 208 1.2 PureTech</td>\n      <td>1199.0</td>\n      <td>130.0</td>\n      <td>gasoline</td>\n      <td>3.0</td>\n      <td>Euro 6d</td>\n    </tr>\n    <tr>\n      <th>6</th>\n      <td>Volvo</td>\n      <td>XC60</td>\n      <td>SUV</td>\n      <td>5.0</td>\n      <td>220</td>\n      <td>8.0</td>\n      <td>6.0</td>\n      <td>B4</td>\n      <td>Volvo XC60 B4</td>\n      <td>NaN</td>\n      <td>NaN</td>\n      <td>NaN</td>\n      <td>NaN</td>\n      <td>NaN</td>\n    </tr>\n    <tr>\n      <th>7</th>\n      <td>Seat</td>\n      <td>Leon</td>\n      <td>hatchback</td>\n      <td>5.0</td>\n      <td>240</td>\n      <td>8.0</td>\n      <td>NaN</td>\n      <td>1.5 TSI</td>\n      <td>Seat Leon 1.5 TSI</td>\n      <td>1498.0</td>\n      <td>150.0</td>\n      <td>gasoline</td>\n      <td>4.0</td>\n      <td>Euro 6d</td>\n    </tr>\n    <tr>\n      <th>8</th>\n      <td>Opel</td>\n      <td>Corsa</td>\n      <td>hatchback</td>\n      <td>5.0</td>\n      <td>180</td>\n      <td>9.9</td>\n      <td>5.5</td>\n      <td>1.2 Turbo</td>\n      <td>Opel Corsa 1.2 Turbo</td>\n      <td>1197.0</td>\n      <td>110.0</td>\n      <td>gasoline</td>\n      <td>4.0</td>\n      <td>Euro 6d-TEMP</td>\n    </tr>\n    <tr>\n      <th>9</th>\n      <td>Ford</td>\n      <td>Mustang</td>\n      <td>coupe</td>\n      <td>2.0</td>\n      <td>249</td>\n      <td>5.8</td>\n      <td>10.2</td>\n      <td>2.3L EcoBoost</td>\n      <td>Ford Mustang 2.3L EcoBoost</td>\n      <td>2261.0</td>\n      <td>350.0</td>\n      <td>gasoline</td>\n      <td>4.0</td>\n      <td>Euro 6d-TEMP</td>\n    </tr>\n    <tr>\n      <th>10</th>\n      <td>Volkswagen</td>\n      <td>Passat</td>\n      <td>sedan</td>\n      <td>4.0</td>\n      <td>230</td>\n      <td>7.5</td>\n      <td>6.0</td>\n      <td>2.0 TDI</td>\n      <td>Volkswagen Passat 2.0 TDI</td>\n      <td>1968.0</td>\n      <td>150.0</td>\n      <td>diesel</td>\n      <td>4.0</td>\n      <td>Euro 6d-TEMP</td>\n    </tr>\n    <tr>\n      <th>11</th>\n      <td>Porsche</td>\n      <td>911</td>\n      <td>coupe</td>\n      <td>NaN</td>\n      <td>330</td>\n      <td>3.5</td>\n      <td>11.8</td>\n      <td>3.0L Twin Turbo V6</td>\n      <td>Porsche 911 3.0L Twin Turbo V6</td>\n      <td>3000.0</td>\n      <td>450.0</td>\n      <td>gasoline</td>\n      <td>6.0</td>\n      <td>Euro 6</td>\n    </tr>\n    <tr>\n      <th>12</th>\n      <td>Audi</td>\n      <td>Q5</td>\n      <td>SUV</td>\n      <td>5.0</td>\n      <td>237</td>\n      <td>6.3</td>\n      <td>NaN</td>\n      <td>45 TFSI quattro</td>\n      <td>Audi Q5 45 TFSI quattro</td>\n      <td>1984.0</td>\n      <td>245.0</td>\n      <td>gasoline</td>\n      <td>4.0</td>\n      <td>Euro 6</td>\n    </tr>\n    <tr>\n      <th>13</th>\n      <td>Volvo</td>\n      <td>S60</td>\n      <td>sedan</td>\n      <td>4.0</td>\n      <td>250</td>\n      <td>6.2</td>\n      <td>6.6</td>\n      <td>T8 Polestar Engineered</td>\n      <td>Volvo S60 T8 Polestar Engineered</td>\n      <td>1969.0</td>\n      <td>415.0</td>\n      <td>hybrid</td>\n      <td>4.0</td>\n      <td>Euro 6</td>\n    </tr>\n    <tr>\n      <th>14</th>\n      <td>Renault</td>\n      <td>Megane</td>\n      <td>hatchback</td>\n      <td>5.0</td>\n      <td>215</td>\n      <td>7.9</td>\n      <td>5.4</td>\n      <td>1.5 dCi</td>\n      <td>Renault Megane 1.5 dCi</td>\n      <td>1461.0</td>\n      <td>115.0</td>\n      <td>diesel</td>\n      <td>4.0</td>\n      <td>Euro 6d-TEMP</td>\n    </tr>\n    <tr>\n      <th>15</th>\n      <td>Peugeot</td>\n      <td>3008</td>\n      <td>SUV</td>\n      <td>5.0</td>\n      <td>210</td>\n      <td>9.2</td>\n      <td>5.6</td>\n      <td>1.6 THP</td>\n      <td>Peugeot 3008 1.6 THP</td>\n      <td>1598.0</td>\n      <td>165.0</td>\n      <td>gasoline</td>\n      <td>4.0</td>\n      <td>Euro 5</td>\n    </tr>\n    <tr>\n      <th>16</th>\n      <td>Fiat</td>\n      <td>Panda</td>\n      <td>hatchback</td>\n      <td>5.0</td>\n      <td>165</td>\n      <td>14.5</td>\n      <td>5.0</td>\n      <td>1.2 8v</td>\n      <td>Fiat Panda 1.2 8v</td>\n      <td>NaN</td>\n      <td>NaN</td>\n      <td>NaN</td>\n      <td>NaN</td>\n      <td>NaN</td>\n    </tr>\n    <tr>\n      <th>17</th>\n      <td>Fiat</td>\n      <td>Punto</td>\n      <td>hatchback</td>\n      <td>3.0</td>\n      <td>170</td>\n      <td>12.5</td>\n      <td>5.2</td>\n      <td>1.2 8v</td>\n      <td>Fiat Punto 1.2 8v</td>\n      <td>NaN</td>\n      <td>NaN</td>\n      <td>NaN</td>\n      <td>NaN</td>\n      <td>NaN</td>\n    </tr>\n  </tbody>\n</table>\n</div>"
     },
     "execution_count": 11,
     "metadata": {},
     "output_type": "execute_result"
    }
   ],
   "source": [
    "joined_df = pd.merge(ex1_df, ex4_df, on=join_column, how='left')\n",
    "joined_df"
   ]
  },
  {
   "cell_type": "code",
   "execution_count": 12,
   "metadata": {
    "ExecuteTime": {
     "start_time": "2023-04-22T23:31:39.032761Z",
     "end_time": "2023-04-22T23:31:39.067013Z"
    },
    "collapsed": false,
    "jupyter": {
     "outputs_hidden": false
    }
   },
   "outputs": [],
   "source": [
    "joined_df.to_json('ex04_joined.json', orient='records')"
   ]
  },
  {
   "cell_type": "code",
   "execution_count": 41,
   "metadata": {
    "ExecuteTime": {
     "start_time": "2023-04-22T23:47:25.400319Z",
     "end_time": "2023-04-22T23:47:25.447126Z"
    },
    "collapsed": false,
    "jupyter": {
     "outputs_hidden": false
    }
   },
   "outputs": [
    {
     "name": "stdout",
     "output_type": "stream",
     "text": [
      "audi_a3_1.5_tfsi\n",
      "bmw_3_series_2.0l_twinpower_turbo\n",
      "volkswagen_golf_1.5_tsi\n",
      "renault_clio_1.5_dci\n",
      "fiat_500_0.9_twinair\n",
      "peugeot_208_1.2_puretech\n",
      "volvo_xc60_b4\n",
      "seat_leon_1.5_tsi\n",
      "opel_corsa_1.2_turbo\n",
      "ford_mustang_2.3l_ecoboost\n",
      "volkswagen_passat_2.0_tdi\n",
      "porsche_911_3.0l_twin_turbo_v6\n",
      "audi_q5_45_tfsi_quattro\n",
      "volvo_s60_t8_polestar_engineered\n",
      "renault_megane_1.5_dci\n",
      "peugeot_3008_1.6_thp\n",
      "fiat_panda_1.2_8v\n",
      "fiat_punto_1.2_8v\n"
     ]
    }
   ],
   "source": [
    "int_columns = params['int_columns']\n",
    "for index, row in joined_df.iterrows():\n",
    "    tmp_string = row['description']\n",
    "    tmp_string = tmp_string.lower()\n",
    "    tmp_string = tmp_string.replace(' ', '_')\n",
    "    print(tmp_string)\n",
    "    row[joined_df.columns != 'description'].to_json(f'ex05_{tmp_string}.json')\n",
    "    row.replace(np.nan, None, inplace=True)\n",
    "    row[int_columns] = row[int_columns].astype('Int64')\n",
    "    row[joined_df.columns != 'description'].to_json(f'ex05_int_{tmp_string}.json')"
   ]
  },
  {
   "cell_type": "code",
   "execution_count": 23,
   "metadata": {
    "ExecuteTime": {
     "start_time": "2023-04-22T23:34:52.875580Z",
     "end_time": "2023-04-22T23:34:52.884011Z"
    },
    "collapsed": false,
    "jupyter": {
     "outputs_hidden": false
    }
   },
   "outputs": [],
   "source": [
    "aggregation = params['aggregations']\n",
    "tmp_dict = dict()\n",
    "for element in aggregation:\n",
    "    agg_func_str = element[1]\n",
    "    agg_func = getattr(pd.Series, agg_func_str)\n",
    "    result = agg_func(joined_df[element[0]])\n",
    "    tmp_string = f'{element[1]}_{element[0]}'\n",
    "    tmp_dict[tmp_string] = result\n",
    "    json_str = json.dumps(tmp_dict)\n",
    "    with open('ex06_aggregations.json', 'w') as file:\n",
    "        file.write(json_str)"
   ]
  },
  {
   "cell_type": "code",
   "execution_count": 25,
   "metadata": {
    "ExecuteTime": {
     "start_time": "2023-04-22T23:34:54.235946Z",
     "end_time": "2023-04-22T23:34:54.276855Z"
    },
    "collapsed": false,
    "jupyter": {
     "outputs_hidden": false
    }
   },
   "outputs": [],
   "source": [
    "grouped_df = joined_df.groupby(params['grouping_column'])\n",
    "grouped_df = grouped_df.filter(lambda x: len(x) > 1).groupby(params['grouping_column']).agg('mean', numeric_only=True)\n",
    "\n",
    "grouped_df.to_csv('ex07_groups.csv', index=True, header=True)"
   ]
  },
  {
   "cell_type": "code",
   "execution_count": 27,
   "metadata": {
    "ExecuteTime": {
     "start_time": "2023-04-22T23:34:55.696297Z",
     "end_time": "2023-04-22T23:34:55.704688Z"
    },
    "collapsed": false,
    "jupyter": {
     "outputs_hidden": false
    }
   },
   "outputs": [],
   "source": [
    "pivot_index = params['pivot_index']\n",
    "pivot_columns = params['pivot_columns']\n",
    "pivot_values = params['pivot_values']"
   ]
  },
  {
   "cell_type": "code",
   "execution_count": 29,
   "metadata": {
    "ExecuteTime": {
     "start_time": "2023-04-22T23:34:58.274359Z",
     "end_time": "2023-04-22T23:34:58.285705Z"
    },
    "collapsed": false,
    "jupyter": {
     "outputs_hidden": false
    }
   },
   "outputs": [],
   "source": [
    "pivot_df = joined_df.pivot_table(index=pivot_index, columns=pivot_columns, values=pivot_values, aggfunc='max')\n",
    "pivot_df.to_pickle('ex08_pivot.pkl')"
   ]
  },
  {
   "cell_type": "code",
   "execution_count": 18,
   "metadata": {
    "ExecuteTime": {
     "end_time": "2023-04-22T15:39:35.395200Z",
     "start_time": "2023-04-22T15:39:35.356708Z"
    },
    "collapsed": false,
    "jupyter": {
     "outputs_hidden": false
    }
   },
   "outputs": [],
   "source": [
    "id_vars = params['id_vars']\n",
    "value_vars = list(joined_df.columns)\n",
    "value_vars = [element for element in value_vars if element not in id_vars]\n",
    "df_long = joined_df.melt(id_vars=id_vars, value_vars=value_vars,var_name='variable', value_name='value')\n",
    "df_long.to_csv('ex08_melt.csv', index=False, header=True)"
   ]
  },
  {
   "cell_type": "code",
   "execution_count": 30,
   "metadata": {
    "ExecuteTime": {
     "start_time": "2023-04-22T23:35:28.842307Z",
     "end_time": "2023-04-22T23:35:28.884814Z"
    },
    "collapsed": false,
    "jupyter": {
     "outputs_hidden": false
    }
   },
   "outputs": [
    {
     "data": {
      "text/plain": "   Country  Audi_2019  Audi_2020  BMW_2019  BMW_2020  Volkswagen_2019  \\\n0   Poland         12         14        21        25               32   \n1  Germany         24         26        31        35               44   \n2   France         20         22        29        33               36   \n3    Spain         16         18        25        29               40   \n4    Italy         18         20        27        31               48   \n\n   Volkswagen_2020  Renault_2019  Renault_2020  \n0               36            22            20  \n1               48            17            15  \n2               40            28            26  \n3               44            19            17  \n4               52            31            29  ",
      "text/html": "<div>\n<style scoped>\n    .dataframe tbody tr th:only-of-type {\n        vertical-align: middle;\n    }\n\n    .dataframe tbody tr th {\n        vertical-align: top;\n    }\n\n    .dataframe thead th {\n        text-align: right;\n    }\n</style>\n<table border=\"1\" class=\"dataframe\">\n  <thead>\n    <tr style=\"text-align: right;\">\n      <th></th>\n      <th>Country</th>\n      <th>Audi_2019</th>\n      <th>Audi_2020</th>\n      <th>BMW_2019</th>\n      <th>BMW_2020</th>\n      <th>Volkswagen_2019</th>\n      <th>Volkswagen_2020</th>\n      <th>Renault_2019</th>\n      <th>Renault_2020</th>\n    </tr>\n  </thead>\n  <tbody>\n    <tr>\n      <th>0</th>\n      <td>Poland</td>\n      <td>12</td>\n      <td>14</td>\n      <td>21</td>\n      <td>25</td>\n      <td>32</td>\n      <td>36</td>\n      <td>22</td>\n      <td>20</td>\n    </tr>\n    <tr>\n      <th>1</th>\n      <td>Germany</td>\n      <td>24</td>\n      <td>26</td>\n      <td>31</td>\n      <td>35</td>\n      <td>44</td>\n      <td>48</td>\n      <td>17</td>\n      <td>15</td>\n    </tr>\n    <tr>\n      <th>2</th>\n      <td>France</td>\n      <td>20</td>\n      <td>22</td>\n      <td>29</td>\n      <td>33</td>\n      <td>36</td>\n      <td>40</td>\n      <td>28</td>\n      <td>26</td>\n    </tr>\n    <tr>\n      <th>3</th>\n      <td>Spain</td>\n      <td>16</td>\n      <td>18</td>\n      <td>25</td>\n      <td>29</td>\n      <td>40</td>\n      <td>44</td>\n      <td>19</td>\n      <td>17</td>\n    </tr>\n    <tr>\n      <th>4</th>\n      <td>Italy</td>\n      <td>18</td>\n      <td>20</td>\n      <td>27</td>\n      <td>31</td>\n      <td>48</td>\n      <td>52</td>\n      <td>31</td>\n      <td>29</td>\n    </tr>\n  </tbody>\n</table>\n</div>"
     },
     "execution_count": 30,
     "metadata": {},
     "output_type": "execute_result"
    }
   ],
   "source": [
    "statistics_df = pd.read_csv('proj3_statistics.csv')\n",
    "statistics_df"
   ]
  },
  {
   "cell_type": "code",
   "execution_count": 36,
   "metadata": {
    "ExecuteTime": {
     "start_time": "2023-04-22T23:38:17.072648Z",
     "end_time": "2023-04-22T23:38:17.121636Z"
    },
    "collapsed": false,
    "jupyter": {
     "outputs_hidden": false
    }
   },
   "outputs": [
    {
     "data": {
      "text/plain": "                  Audi  BMW  Volkswagen  Renault\nCountry suffixes                                \nPoland  2019        12   21          32       22\nGermany 2019        24   31          44       17\nFrance  2019        20   29          36       28\nSpain   2019        16   25          40       19\nItaly   2019        18   27          48       31\nPoland  2020        14   25          36       20\nGermany 2020        26   35          48       15\nFrance  2020        22   33          40       26\nSpain   2020        18   29          44       17\nItaly   2020        20   31          52       29",
      "text/html": "<div>\n<style scoped>\n    .dataframe tbody tr th:only-of-type {\n        vertical-align: middle;\n    }\n\n    .dataframe tbody tr th {\n        vertical-align: top;\n    }\n\n    .dataframe thead th {\n        text-align: right;\n    }\n</style>\n<table border=\"1\" class=\"dataframe\">\n  <thead>\n    <tr style=\"text-align: right;\">\n      <th></th>\n      <th></th>\n      <th>Audi</th>\n      <th>BMW</th>\n      <th>Volkswagen</th>\n      <th>Renault</th>\n    </tr>\n    <tr>\n      <th>Country</th>\n      <th>suffixes</th>\n      <th></th>\n      <th></th>\n      <th></th>\n      <th></th>\n    </tr>\n  </thead>\n  <tbody>\n    <tr>\n      <th>Poland</th>\n      <th>2019</th>\n      <td>12</td>\n      <td>21</td>\n      <td>32</td>\n      <td>22</td>\n    </tr>\n    <tr>\n      <th>Germany</th>\n      <th>2019</th>\n      <td>24</td>\n      <td>31</td>\n      <td>44</td>\n      <td>17</td>\n    </tr>\n    <tr>\n      <th>France</th>\n      <th>2019</th>\n      <td>20</td>\n      <td>29</td>\n      <td>36</td>\n      <td>28</td>\n    </tr>\n    <tr>\n      <th>Spain</th>\n      <th>2019</th>\n      <td>16</td>\n      <td>25</td>\n      <td>40</td>\n      <td>19</td>\n    </tr>\n    <tr>\n      <th>Italy</th>\n      <th>2019</th>\n      <td>18</td>\n      <td>27</td>\n      <td>48</td>\n      <td>31</td>\n    </tr>\n    <tr>\n      <th>Poland</th>\n      <th>2020</th>\n      <td>14</td>\n      <td>25</td>\n      <td>36</td>\n      <td>20</td>\n    </tr>\n    <tr>\n      <th>Germany</th>\n      <th>2020</th>\n      <td>26</td>\n      <td>35</td>\n      <td>48</td>\n      <td>15</td>\n    </tr>\n    <tr>\n      <th>France</th>\n      <th>2020</th>\n      <td>22</td>\n      <td>33</td>\n      <td>40</td>\n      <td>26</td>\n    </tr>\n    <tr>\n      <th>Spain</th>\n      <th>2020</th>\n      <td>18</td>\n      <td>29</td>\n      <td>44</td>\n      <td>17</td>\n    </tr>\n    <tr>\n      <th>Italy</th>\n      <th>2020</th>\n      <td>20</td>\n      <td>31</td>\n      <td>52</td>\n      <td>29</td>\n    </tr>\n  </tbody>\n</table>\n</div>"
     },
     "execution_count": 36,
     "metadata": {},
     "output_type": "execute_result"
    }
   ],
   "source": [
    "columns = statistics_df.columns[1:].to_series().apply(lambda x : x.split('_')[0]).unique()\n",
    "wide_long = pd.wide_to_long(statistics_df, columns, i=statistics_df.columns[0], j='suffixes', sep='_')\n",
    "wide_long"
   ]
  },
  {
   "cell_type": "code",
   "execution_count": 37,
   "outputs": [],
   "source": [
    "wide_long.to_pickle('ex08_stats.pkl')"
   ],
   "metadata": {
    "collapsed": false,
    "ExecuteTime": {
     "start_time": "2023-04-22T23:38:29.143515Z",
     "end_time": "2023-04-22T23:38:29.154438Z"
    }
   }
  }
 ],
 "metadata": {
  "kernelspec": {
   "display_name": "Python 3 (ipykernel)",
   "language": "python",
   "name": "python3"
  },
  "language_info": {
   "codemirror_mode": {
    "name": "ipython",
    "version": 3
   },
   "file_extension": ".py",
   "mimetype": "text/x-python",
   "name": "python",
   "nbconvert_exporter": "python",
   "pygments_lexer": "ipython3",
   "version": "3.9.13"
  }
 },
 "nbformat": 4,
 "nbformat_minor": 4
}
