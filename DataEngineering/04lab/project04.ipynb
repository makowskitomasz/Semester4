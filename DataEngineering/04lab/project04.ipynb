{
 "cells": [
  {
   "cell_type": "code",
   "execution_count": 11,
   "metadata": {
    "collapsed": true,
    "ExecuteTime": {
     "end_time": "2023-05-22T13:17:12.856961825Z",
     "start_time": "2023-05-22T13:17:12.849215117Z"
    }
   },
   "outputs": [],
   "source": [
    "import json\n",
    "import pandas as pd\n",
    "import geopandas as gpd\n",
    "import matplotlib.pyplot as plt\n",
    "import contextily as ctx\n",
    "import pyrosm"
   ]
  },
  {
   "cell_type": "code",
   "execution_count": 12,
   "outputs": [],
   "source": [
    "parameters = json.load(open('proj4_params.json', 'r'))"
   ],
   "metadata": {
    "collapsed": false,
    "ExecuteTime": {
     "end_time": "2023-05-22T13:17:14.919099416Z",
     "start_time": "2023-05-22T13:17:14.908869761Z"
    }
   }
  },
  {
   "cell_type": "code",
   "execution_count": 13,
   "outputs": [
    {
     "ename": "ImportError",
     "evalue": "The 'read_file' function requires the 'pyogrio' or 'fiona' package, but neither is installed or imports correctly.\nImporting fiona resulted in: /home/makowskitomasz/anaconda3/envs/de/lib/python3.10/site-packages/fiona/../../.././libspatialite.so.7: undefined symbol: libiconv\nImporting pyogrio resulted in: No module named 'pyogrio'",
     "output_type": "error",
     "traceback": [
      "\u001B[0;31m---------------------------------------------------------------------------\u001B[0m",
      "\u001B[0;31mImportError\u001B[0m                               Traceback (most recent call last)",
      "Cell \u001B[0;32mIn[13], line 1\u001B[0m\n\u001B[0;32m----> 1\u001B[0m points \u001B[38;5;241m=\u001B[39m \u001B[43mgpd\u001B[49m\u001B[38;5;241;43m.\u001B[39;49m\u001B[43mread_file\u001B[49m\u001B[43m(\u001B[49m\u001B[38;5;124;43m'\u001B[39;49m\u001B[38;5;124;43mproj4_points.geojson\u001B[39;49m\u001B[38;5;124;43m'\u001B[39;49m\u001B[43m)\u001B[49m\n\u001B[1;32m      2\u001B[0m identification_column \u001B[38;5;241m=\u001B[39m parameters[\u001B[38;5;124m'\u001B[39m\u001B[38;5;124mid_column\u001B[39m\u001B[38;5;124m'\u001B[39m]\n\u001B[1;32m      3\u001B[0m points \u001B[38;5;241m=\u001B[39m points\u001B[38;5;241m.\u001B[39mto_crs(epsg\u001B[38;5;241m=\u001B[39m\u001B[38;5;241m2180\u001B[39m)\n",
      "File \u001B[0;32m~/anaconda3/envs/de/lib/python3.10/site-packages/geopandas/io/file.py:232\u001B[0m, in \u001B[0;36m_read_file\u001B[0;34m(filename, bbox, mask, rows, engine, **kwargs)\u001B[0m\n\u001B[1;32m    162\u001B[0m \u001B[38;5;28;01mdef\u001B[39;00m \u001B[38;5;21m_read_file\u001B[39m(filename, bbox\u001B[38;5;241m=\u001B[39m\u001B[38;5;28;01mNone\u001B[39;00m, mask\u001B[38;5;241m=\u001B[39m\u001B[38;5;28;01mNone\u001B[39;00m, rows\u001B[38;5;241m=\u001B[39m\u001B[38;5;28;01mNone\u001B[39;00m, engine\u001B[38;5;241m=\u001B[39m\u001B[38;5;28;01mNone\u001B[39;00m, \u001B[38;5;241m*\u001B[39m\u001B[38;5;241m*\u001B[39mkwargs):\n\u001B[1;32m    163\u001B[0m \u001B[38;5;250m    \u001B[39m\u001B[38;5;124;03m\"\"\"\u001B[39;00m\n\u001B[1;32m    164\u001B[0m \u001B[38;5;124;03m    Returns a GeoDataFrame from a file or URL.\u001B[39;00m\n\u001B[1;32m    165\u001B[0m \n\u001B[0;32m   (...)\u001B[0m\n\u001B[1;32m    230\u001B[0m \u001B[38;5;124;03m    by using the encoding keyword parameter, e.g. ``encoding='utf-8'``.\u001B[39;00m\n\u001B[1;32m    231\u001B[0m \u001B[38;5;124;03m    \"\"\"\u001B[39;00m\n\u001B[0;32m--> 232\u001B[0m     engine \u001B[38;5;241m=\u001B[39m \u001B[43m_check_engine\u001B[49m\u001B[43m(\u001B[49m\u001B[43mengine\u001B[49m\u001B[43m,\u001B[49m\u001B[43m \u001B[49m\u001B[38;5;124;43m\"\u001B[39;49m\u001B[38;5;124;43m'\u001B[39;49m\u001B[38;5;124;43mread_file\u001B[39;49m\u001B[38;5;124;43m'\u001B[39;49m\u001B[38;5;124;43m function\u001B[39;49m\u001B[38;5;124;43m\"\u001B[39;49m\u001B[43m)\u001B[49m\n\u001B[1;32m    234\u001B[0m     filename \u001B[38;5;241m=\u001B[39m _expand_user(filename)\n\u001B[1;32m    236\u001B[0m     \u001B[38;5;28;01mif\u001B[39;00m engine \u001B[38;5;241m==\u001B[39m \u001B[38;5;124m\"\u001B[39m\u001B[38;5;124mpyogrio\u001B[39m\u001B[38;5;124m\"\u001B[39m:\n",
      "File \u001B[0;32m~/anaconda3/envs/de/lib/python3.10/site-packages/geopandas/io/file.py:110\u001B[0m, in \u001B[0;36m_check_engine\u001B[0;34m(engine, func)\u001B[0m\n\u001B[1;32m    108\u001B[0m     _check_pyogrio(func)\n\u001B[1;32m    109\u001B[0m \u001B[38;5;28;01melif\u001B[39;00m engine \u001B[38;5;129;01mis\u001B[39;00m \u001B[38;5;28;01mNone\u001B[39;00m:\n\u001B[0;32m--> 110\u001B[0m     \u001B[38;5;28;01mraise\u001B[39;00m \u001B[38;5;167;01mImportError\u001B[39;00m(\n\u001B[1;32m    111\u001B[0m         \u001B[38;5;124mf\u001B[39m\u001B[38;5;124m\"\u001B[39m\u001B[38;5;124mThe \u001B[39m\u001B[38;5;132;01m{\u001B[39;00mfunc\u001B[38;5;132;01m}\u001B[39;00m\u001B[38;5;124m requires the \u001B[39m\u001B[38;5;124m'\u001B[39m\u001B[38;5;124mpyogrio\u001B[39m\u001B[38;5;124m'\u001B[39m\u001B[38;5;124m or \u001B[39m\u001B[38;5;124m'\u001B[39m\u001B[38;5;124mfiona\u001B[39m\u001B[38;5;124m'\u001B[39m\u001B[38;5;124m package, \u001B[39m\u001B[38;5;124m\"\u001B[39m\n\u001B[1;32m    112\u001B[0m         \u001B[38;5;124m\"\u001B[39m\u001B[38;5;124mbut neither is installed or imports correctly.\u001B[39m\u001B[38;5;124m\"\u001B[39m\n\u001B[1;32m    113\u001B[0m         \u001B[38;5;124mf\u001B[39m\u001B[38;5;124m\"\u001B[39m\u001B[38;5;130;01m\\n\u001B[39;00m\u001B[38;5;124mImporting fiona resulted in: \u001B[39m\u001B[38;5;132;01m{\u001B[39;00mfiona_import_error\u001B[38;5;132;01m}\u001B[39;00m\u001B[38;5;124m\"\u001B[39m\n\u001B[1;32m    114\u001B[0m         \u001B[38;5;124mf\u001B[39m\u001B[38;5;124m\"\u001B[39m\u001B[38;5;130;01m\\n\u001B[39;00m\u001B[38;5;124mImporting pyogrio resulted in: \u001B[39m\u001B[38;5;132;01m{\u001B[39;00mpyogrio_import_error\u001B[38;5;132;01m}\u001B[39;00m\u001B[38;5;124m\"\u001B[39m\n\u001B[1;32m    115\u001B[0m     )\n\u001B[1;32m    117\u001B[0m \u001B[38;5;28;01mreturn\u001B[39;00m engine\n",
      "\u001B[0;31mImportError\u001B[0m: The 'read_file' function requires the 'pyogrio' or 'fiona' package, but neither is installed or imports correctly.\nImporting fiona resulted in: /home/makowskitomasz/anaconda3/envs/de/lib/python3.10/site-packages/fiona/../../.././libspatialite.so.7: undefined symbol: libiconv\nImporting pyogrio resulted in: No module named 'pyogrio'"
     ]
    }
   ],
   "source": [
    "points = gpd.read_file('proj4_points.geojson')\n",
    "identification_column = parameters['id_column']\n",
    "points = points.to_crs(epsg=2180)\n",
    "points['buffer'] = points.geometry.buffer(100)\n",
    "points['count'] = points.apply(lambda row: points.within(row['buffer']).sum(), axis=1)\n",
    "\n",
    "df_ex01 = points[[identification_column, 'count']]\n",
    "df_ex01.to_csv('proj4_ex01_counts.csv', index=False)"
   ],
   "metadata": {
    "collapsed": false,
    "ExecuteTime": {
     "end_time": "2023-05-22T13:17:16.269662904Z",
     "start_time": "2023-05-22T13:17:16.227510144Z"
    }
   }
  },
  {
   "cell_type": "code",
   "execution_count": 14,
   "outputs": [
    {
     "ename": "NameError",
     "evalue": "name 'points' is not defined",
     "output_type": "error",
     "traceback": [
      "\u001B[0;31m---------------------------------------------------------------------------\u001B[0m",
      "\u001B[0;31mNameError\u001B[0m                                 Traceback (most recent call last)",
      "Cell \u001B[0;32mIn[14], line 1\u001B[0m\n\u001B[0;32m----> 1\u001B[0m points \u001B[38;5;241m=\u001B[39m \u001B[43mpoints\u001B[49m\u001B[38;5;241m.\u001B[39mto_crs(epsg\u001B[38;5;241m=\u001B[39m\u001B[38;5;241m4326\u001B[39m)\n\u001B[1;32m      2\u001B[0m points[\u001B[38;5;124m'\u001B[39m\u001B[38;5;124mlat\u001B[39m\u001B[38;5;124m'\u001B[39m] \u001B[38;5;241m=\u001B[39m points\u001B[38;5;241m.\u001B[39mgeometry\u001B[38;5;241m.\u001B[39my\n\u001B[1;32m      3\u001B[0m points[\u001B[38;5;124m'\u001B[39m\u001B[38;5;124mlon\u001B[39m\u001B[38;5;124m'\u001B[39m] \u001B[38;5;241m=\u001B[39m points\u001B[38;5;241m.\u001B[39mgeometry\u001B[38;5;241m.\u001B[39mx\n",
      "\u001B[0;31mNameError\u001B[0m: name 'points' is not defined"
     ]
    }
   ],
   "source": [
    "points = points.to_crs(epsg=4326)\n",
    "points['lat'] = points.geometry.y\n",
    "points['lon'] = points.geometry.x\n",
    "df_ex_01_1 = points[[identification_column, 'lat', 'lon']]\n",
    "df_ex_01_1.to_csv('proj4_ex01_coords.csv', index=False)"
   ],
   "metadata": {
    "collapsed": false,
    "ExecuteTime": {
     "end_time": "2023-05-22T13:18:28.237027676Z",
     "start_time": "2023-05-22T13:18:28.174956278Z"
    }
   }
  },
  {
   "cell_type": "code",
   "execution_count": null,
   "outputs": [],
   "source": [
    "fp = pyrosm.get_data(parameters['city'])\n",
    "osm = pyrosm.OSM(fp)\n",
    "gdf_driving = osm.get_network(network_type='driving')\n",
    "roads_osm =gdf_driving[gdf_driving['highway'] == 'primary']\n",
    "roads_osm['osm_id'] = roads_osm.index\n",
    "ex_02 = roads_osm[['osm_id', 'name', 'geometry']]\n",
    "ex_02.reset_index(drop=True, inplace=True)\n",
    "ex_02.to_file('proj4_ex02_primary_roads.geojson', driver = 'GeoJSON')"
   ],
   "metadata": {
    "collapsed": false
   }
  },
  {
   "cell_type": "code",
   "execution_count": null,
   "outputs": [],
   "source": [
    "points = points.to_crs(epsg = 2180)\n",
    "ex_02['buffer'] = ex_02.geometry.buffer(50)\n",
    "ex_02['point_count'] = ex_02.apply(lambda row: points.within(row['buffer']).sum(), axis = 1)\n",
    "ex_02 = ex_02.groupby('name')['point_count'].sum().reset_index()\n",
    "ex_02 = ex_02.sort_values(by = 'name')\n",
    "\n",
    "ex_02[['name', 'point_count']].to_csv('proj4_ex03_streets_points.csv', index = False)"
   ],
   "metadata": {
    "collapsed": false
   }
  },
  {
   "cell_type": "code",
   "execution_count": 5,
   "outputs": [
    {
     "name": "stdout",
     "output_type": "stream",
     "text": [
      "      name                                           geometry\n",
      "0  Vietnam  MULTIPOLYGON (((104.06396 10.39082, 104.08301 ...\n",
      "1   Sweden  MULTIPOLYGON (((19.07646 57.83594, 18.99375 57...\n",
      "2   Poland  POLYGON ((23.60527 51.51792, 23.65889 51.44897...\n",
      "3    Italy  MULTIPOLYGON (((7.02109 45.92578, 7.05576 45.9...\n",
      "4    Chile  MULTIPOLYGON (((-109.27998 -27.14043, -109.434...\n"
     ]
    }
   ],
   "source": [
    "countries_gdf = gpd.read_file('proj4_countries.geojson')\n",
    "\n",
    "countries_gdf.plot(facecolor='none')\n",
    "countries_gdf.to_pickle('proj4_ex04_gdf.pkl')\n",
    "\n",
    "for index, row in countries_gdf.iterrows():\n",
    "    name = row['name'].lower()\n",
    "    fig, ax = plt.subplots()\n",
    "    geometry = gpd.GeoSeries(row.geometry)\n",
    "    geometry.plot(facecolor='none', ax=ax)\n",
    "    crs = countries_gdf.crs.to_string()\n",
    "    ctx.add_basemap(ax, crs=crs)\n",
    "    fig.savefig(f'proj4_ex04_{name}.png')"
   ],
   "metadata": {
    "collapsed": false,
    "ExecuteTime": {
     "end_time": "2023-05-22T12:50:47.576219534Z",
     "start_time": "2023-05-22T12:50:47.523805058Z"
    }
   }
  }
 ],
 "metadata": {
  "kernelspec": {
   "display_name": "Python 3",
   "language": "python",
   "name": "python3"
  },
  "language_info": {
   "codemirror_mode": {
    "name": "ipython",
    "version": 2
   },
   "file_extension": ".py",
   "mimetype": "text/x-python",
   "name": "python",
   "nbconvert_exporter": "python",
   "pygments_lexer": "ipython2",
   "version": "2.7.6"
  }
 },
 "nbformat": 4,
 "nbformat_minor": 0
}
