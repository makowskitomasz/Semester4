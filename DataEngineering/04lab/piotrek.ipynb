{
 "cells": [
  {
   "cell_type": "code",
   "execution_count": null,
   "metadata": {},
   "outputs": [],
   "source": [
    "# 2 Exercises\n",
    "# The file proj4_params.json contains a JSON dictionary with parameters which will be used\n",
    "# throughout the exercises. Load it."
   ]
  },
  {
   "cell_type": "code",
   "execution_count": 1,
   "metadata": {
    "ExecuteTime": {
     "end_time": "2023-05-18T12:20:54.959501633Z",
     "start_time": "2023-05-18T12:20:54.958975390Z"
    }
   },
   "outputs": [],
   "source": [
    "import json\n",
    "\n",
    "params = json.load(open('proj4_params.json', 'r'))"
   ]
  },
  {
   "cell_type": "code",
   "execution_count": 3,
   "metadata": {},
   "outputs": [],
   "source": [
    "# 2.1 Exercise 1: Loading data and basic operations\n",
    "# 4 points (2 for each file)\n",
    "# Load a set of points from a GeoJSON file called proj4_points.geojson. The points will always\n",
    "# be located somewhere in Poland.\n",
    "# Each point has a unique identifier in a columns specified by the id_column parameter loaded from\n",
    "# the JSON file above (in the example dataset, it is lamp_id).\n",
    "# For each point, count the number of points (including the point itself) that are within 100 metres\n",
    "# of that point.\n",
    "# Save the results to a file called proj4_ex01_counts.csv, with two columns:\n",
    "# • the identifier column, with its original name,\n",
    "# • a column called count with the number of “neighbouring” points.\n",
    "# An example file could look like this:\n",
    "# lamp_id,count\n",
    "# 5907,16\n",
    "# 5908,16\n",
    "# 5909,17\n",
    "# 5910,20\n",
    "# 5911,9\n",
    "# (...)\n",
    "# 1\n",
    "# Now save the latitude and longitude of all points to a CSV file called proj4_ex01_coords.csv,\n",
    "# with the following columns:\n",
    "# • the identifier column, with its original name,\n",
    "# • lat for latitude,\n",
    "# • lon for longitude.\n",
    "# An example file could look like this:\n",
    "# lamp_id,lat,lon\n",
    "# 5907,50.07404343940157,19.899135469459004\n",
    "# 5908,50.0750528346396,19.891393063589923\n",
    "# 5909,50.07305532610415,19.898210107348856\n",
    "# (...)"
   ]
  },
  {
   "cell_type": "code",
   "execution_count": 2,
   "metadata": {
    "ExecuteTime": {
     "end_time": "2023-05-18T12:20:59.815666786Z",
     "start_time": "2023-05-18T12:20:57.538320653Z"
    }
   },
   "outputs": [
    {
     "name": "stdout",
     "output_type": "stream",
     "text": [
      "      lamp_id  count\n",
      "0        5907     16\n",
      "1        5908     16\n",
      "2        5909     17\n",
      "3        5910     20\n",
      "4        5911      9\n",
      "...       ...    ...\n",
      "3737     9644     16\n",
      "3738     9645     16\n",
      "3739     9646     15\n",
      "3740     9647     12\n",
      "3741     9648     19\n",
      "\n",
      "[3742 rows x 2 columns]\n",
      "      lamp_id        lat        lon\n",
      "0        5907  50.074043  19.899135\n",
      "1        5908  50.075053  19.891393\n",
      "2        5909  50.073055  19.898210\n",
      "3        5910  50.073520  19.888718\n",
      "4        5911  50.073280  19.891677\n",
      "...       ...        ...        ...\n",
      "3737     9644  50.073446  19.934272\n",
      "3738     9645  50.070489  19.935150\n",
      "3739     9646  50.070320  19.935348\n",
      "3740     9647  50.070155  19.935541\n",
      "3741     9648  50.067359  19.934254\n",
      "\n",
      "[3742 rows x 3 columns]\n"
     ]
    }
   ],
   "source": [
    "from shapely.geometry import Point\n",
    "import geopandas as gpd\n",
    "import pandas as pd\n",
    "\n",
    "points = gpd.read_file('proj4_points.geojson')\n",
    "id = params['id_column']\n",
    "result = pd.DataFrame(columns=[id, 'count'])\n",
    "result[id] = points[id]\n",
    "\n",
    "points = points.to_crs(epsg = 2180)\n",
    "points['buffer'] = points.geometry.buffer(100)\n",
    "\n",
    "points['count'] = points.apply(lambda row: points.within(row['buffer']).sum(), axis = 1)\n",
    "\n",
    "print(points[[id, 'count']])\n",
    "points[[id, 'count']].to_csv('proj4_ex01_counts.csv', index = False)\n",
    "\n",
    "points = points.to_crs(epsg = 4326)\n",
    "\n",
    "points['lat'] = points.geometry.y\n",
    "points['lon'] = points.geometry.x\n",
    "\n",
    "print(points[[id, 'lat', 'lon']])\n",
    "points[[id, 'lat', 'lon']].to_csv('proj4_ex01_coords.csv', index = False)\n",
    "\n"
   ]
  },
  {
   "cell_type": "code",
   "execution_count": 4,
   "metadata": {},
   "outputs": [],
   "source": [
    "# 2.2 Exercise 2: Loading data from OpenStreetMap\n",
    "# 3 points\n",
    "# The city parameter contains the name of the city where the points are located (e.g. Cracow). That\n",
    "# city will be one of those available in Pyrosm, as well as one identifiable by OSMnx.\n",
    "# Load OpenStreetMap data for that city into a GeoDataFrame. Only include drivable roads, and\n",
    "# from those, only include primary ones, e.g. those with the highway key set to primary.\n",
    "# Structure your GeoDataFrame so that it contains the following columns:\n",
    "# • osm_id – the OpenStreetMap identifier of the street,\n",
    "# • name – the name of the street,\n",
    "# • geometry – the geometry.\n",
    "# Save it to proj4_ex02_primary_roads.geojson."
   ]
  },
  {
   "cell_type": "code",
   "execution_count": null,
   "metadata": {},
   "outputs": [],
   "source": [
    "import pyrosm\n",
    "\n",
    "fp = pyrosm.get_data(params['city'])\n",
    "osm = pyrosm.OSM(fp)\n",
    "\n",
    "roads = osm.get_network(network_type = 'driving')\n",
    "primary_roads = roads[roads['highway'] == 'primary']\n",
    "primary_roads['osm_id'] = primary_roads.index\n",
    "primary_roads = primary_roads[['osm_id', 'name', 'geometry']]\n",
    "primary_roads = primary_roads.reset_index(drop = True)\n",
    "\n",
    "print(primary_roads)\n",
    "\n",
    "primary_roads.to_file('proj4_ex02_primary_roads.geojson', driver = 'GeoJSON')"
   ]
  },
  {
   "cell_type": "code",
   "execution_count": 5,
   "metadata": {},
   "outputs": [],
   "source": [
    "# 2.3 Exercise 3: Spatial joins\n",
    "# 3 points\n",
    "# For each of the roads obtained in Exercise 3, count the number of points, loaded in Exercise 1, that\n",
    "# are within 50 metres of the line modelling the axis of the road.\n",
    "# Save the results to a CSV file called proj4_ex03_streets_points.csv, with the following columns:\n",
    "# • name, with the name of the street,\n",
    "# • point_count, with the number of points within 50 metres of that street.\n",
    "# Include streets with no points. If there are multiple OSM ways with the same street name, aggregate\n",
    "# them. An example file could look as follows:\n",
    "# name,point_count\n",
    "# Aleja 29 Listopada,0\n",
    "# Aleja Adama Mickiewicza,560\n",
    "# Aleja Jana Pawła II,0\n",
    "# Aleja Juliusza Słowackiego,394\n",
    "# (...)"
   ]
  },
  {
   "cell_type": "code",
   "execution_count": null,
   "metadata": {},
   "outputs": [],
   "source": [
    "points = points.to_crs(epsg = 2180)\n",
    "primary_roads['buffer'] = primary_roads.geometry.buffer(50)\n",
    "primary_roads['point_count'] = primary_roads.apply(lambda row: points.within(row['buffer']).sum(), axis = 1)\n",
    "primary_roads = primary_roads.groupby('name')['point_count'].sum().reset_index()\n",
    "primary_roads = primary_roads.sort_values(by = 'name')\n",
    "\n",
    "print(primary_roads[['name', 'point_count']])\n",
    "primary_roads[['name', 'point_count']].to_csv('proj4_ex03_streets_points.csv', index = False)"
   ]
  },
  {
   "cell_type": "code",
   "execution_count": 8,
   "metadata": {},
   "outputs": [],
   "source": [
    "# 2.4 Exercise 4: Drawing maps\n",
    "# 5 points (2 for GDF, 3 for images)\n",
    "# The file proj4_countries.geojson contains polygons with boundaries of several countries from\n",
    "# all over the World. Load the GeoJSON file into a GeoDataFrame.\n",
    "# Each feature in the file has a property called name, which contains the name of the country.\n",
    "# Modify the GeoDataFrame so that:\n",
    "# • the boundaries are hollow, not filled,\n",
    "# • the horizontal/vertical aspect ratios (proportions) of the shapes are correct.\n",
    "# Please note that while we want the shapes to not be “squashed” either horizontally or vertically,\n",
    "# it is acceptable for them to be have distortions which result from using Mercator projections. In\n",
    "# other words, the shapes should look “good” on the map.\n",
    "# Save the modified GeoDataFrame to proj4_ex04_gdf.pkl.\n",
    "# Now render the boundary of each country to a separate PNG file, adding a background map to\n",
    "# provide context.\n",
    "# The name of the file should follow the scheme: proj4_ex04_COUNTRY.png, where COUNTRY is the\n",
    "# country name in lowercase, e.g. proj4_ex03_poland.png, proj4_ex03_italy.png, etc.\n",
    "# An example rendering could look like this:\n"
   ]
  },
  {
   "cell_type": "code",
   "execution_count": null,
   "metadata": {},
   "outputs": [],
   "source": [
    "import matplotlib.pyplot as plt\n",
    "import contextily as ctx\n",
    "\n",
    "\n",
    "countries = gpd.read_file('proj4_countries.geojson')\n",
    "print(countries)\n",
    "\n",
    "countries.plot(facecolor = 'none', edgecolor = 'black')\n",
    "ctx.add_basemap(plt.gca(), crs = countries.crs.to_string())\n",
    "\n",
    "countries.to_pickle('proj4_ex04_gdf.pkl')\n",
    "\n",
    "for i, row in countries.iterrows():\n",
    "    name = row['name'].lower()\n",
    "    fig, ax = plt.subplots()\n",
    "    geometry = gpd.GeoSeries(row.geometry)\n",
    "    geometry.plot(ax = ax, facecolor = 'none', edgecolor = 'black')\n",
    "    ctx.add_basemap(ax, crs = countries.crs.to_string())\n",
    "\n",
    "    fig.savefig(f'proj4_ex04_{name}.png')"
   ]
  }
 ],
 "metadata": {
  "kernelspec": {
   "display_name": "ML",
   "language": "python",
   "name": "python3"
  },
  "language_info": {
   "codemirror_mode": {
    "name": "ipython",
    "version": 3
   },
   "file_extension": ".py",
   "mimetype": "text/x-python",
   "name": "python",
   "nbconvert_exporter": "python",
   "pygments_lexer": "ipython3",
   "version": "3.8.16"
  },
  "orig_nbformat": 4
 },
 "nbformat": 4,
 "nbformat_minor": 2
}
