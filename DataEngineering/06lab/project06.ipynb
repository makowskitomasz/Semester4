{
 "cells": [
  {
   "cell_type": "code",
   "execution_count": 3,
   "metadata": {
    "collapsed": true,
    "ExecuteTime": {
     "end_time": "2023-06-15T14:19:30.436386286Z",
     "start_time": "2023-06-15T14:19:30.431117196Z"
    }
   },
   "outputs": [],
   "source": [
    "import pandas as pd\n",
    "import sqlite3"
   ]
  },
  {
   "cell_type": "code",
   "execution_count": 4,
   "outputs": [
    {
     "data": {
      "text/plain": "          0\n0  50000000",
      "text/html": "<div>\n<style scoped>\n    .dataframe tbody tr th:only-of-type {\n        vertical-align: middle;\n    }\n\n    .dataframe tbody tr th {\n        vertical-align: top;\n    }\n\n    .dataframe thead th {\n        text-align: right;\n    }\n</style>\n<table border=\"1\" class=\"dataframe\">\n  <thead>\n    <tr style=\"text-align: right;\">\n      <th></th>\n      <th>0</th>\n    </tr>\n  </thead>\n  <tbody>\n    <tr>\n      <th>0</th>\n      <td>50000000</td>\n    </tr>\n  </tbody>\n</table>\n</div>"
     },
     "execution_count": 4,
     "metadata": {},
     "output_type": "execute_result"
    }
   ],
   "source": [
    "con = sqlite3.connect('proj6_readings.sqlite')\n",
    "cur = con.cursor()\n",
    "\n",
    "result = cur.execute(\"select count(*) from readings;\").fetchall()\n",
    "\n",
    "df = pd.DataFrame(result)\n",
    "\n",
    "df"
   ],
   "metadata": {
    "collapsed": false,
    "ExecuteTime": {
     "end_time": "2023-06-15T14:19:32.544435777Z",
     "start_time": "2023-06-15T14:19:31.093444257Z"
    }
   }
  },
  {
   "cell_type": "code",
   "execution_count": 5,
   "outputs": [
    {
     "data": {
      "text/plain": "   count(*)\n0  50000000",
      "text/html": "<div>\n<style scoped>\n    .dataframe tbody tr th:only-of-type {\n        vertical-align: middle;\n    }\n\n    .dataframe tbody tr th {\n        vertical-align: top;\n    }\n\n    .dataframe thead th {\n        text-align: right;\n    }\n</style>\n<table border=\"1\" class=\"dataframe\">\n  <thead>\n    <tr style=\"text-align: right;\">\n      <th></th>\n      <th>count(*)</th>\n    </tr>\n  </thead>\n  <tbody>\n    <tr>\n      <th>0</th>\n      <td>50000000</td>\n    </tr>\n  </tbody>\n</table>\n</div>"
     },
     "execution_count": 5,
     "metadata": {},
     "output_type": "execute_result"
    }
   ],
   "source": [
    "df = pd.read_sql('select count(*) from readings;', con)\n",
    "df"
   ],
   "metadata": {
    "collapsed": false,
    "ExecuteTime": {
     "end_time": "2023-06-15T14:19:34.077422971Z",
     "start_time": "2023-06-15T14:19:33.366654425Z"
    }
   }
  },
  {
   "cell_type": "markdown",
   "source": [
    "## Exercise 1: Basic counting"
   ],
   "metadata": {
    "collapsed": false
   }
  },
  {
   "cell_type": "code",
   "execution_count": 9,
   "outputs": [],
   "source": [
    "result1 = cur.execute('select count(distinct detector_id) from readings').fetchall()\n",
    "ex01_df = pd.DataFrame(result1)\n",
    "ex01_df"
   ],
   "metadata": {
    "collapsed": false,
    "ExecuteTime": {
     "end_time": "2023-06-15T14:22:53.878247878Z",
     "start_time": "2023-06-15T14:22:52.318208306Z"
    }
   }
  },
  {
   "cell_type": "code",
   "execution_count": 10,
   "outputs": [],
   "source": [
    "ex01_df.to_pickle('proj6_ex01_detector_no.pkl')"
   ],
   "metadata": {
    "collapsed": false,
    "ExecuteTime": {
     "end_time": "2023-06-15T14:23:02.912522460Z",
     "start_time": "2023-06-15T14:23:02.909651696Z"
    }
   }
  },
  {
   "cell_type": "markdown",
   "source": [
    "## Exercise 2: Some stats for the detectors"
   ],
   "metadata": {
    "collapsed": false
   }
  },
  {
   "cell_type": "code",
   "execution_count": 18,
   "outputs": [
    {
     "data": {
      "text/plain": "     detector_id  count(count)       min(starttime)        max(starttime\n141          142        352730  2015-06-22 23:58:31  2016-07-12 23:57:01\n142          143        352729  2015-06-22 23:58:31  2016-07-12 23:57:01\n143          144        352730  2015-06-22 23:58:31  2016-07-12 23:57:01\n144          145        352730  2015-06-22 23:58:31  2016-07-12 23:57:01\n145          146        147666  2015-06-22 23:58:31  2015-12-01 04:21:01",
      "text/html": "<div>\n<style scoped>\n    .dataframe tbody tr th:only-of-type {\n        vertical-align: middle;\n    }\n\n    .dataframe tbody tr th {\n        vertical-align: top;\n    }\n\n    .dataframe thead th {\n        text-align: right;\n    }\n</style>\n<table border=\"1\" class=\"dataframe\">\n  <thead>\n    <tr style=\"text-align: right;\">\n      <th></th>\n      <th>detector_id</th>\n      <th>count(count)</th>\n      <th>min(starttime)</th>\n      <th>max(starttime</th>\n    </tr>\n  </thead>\n  <tbody>\n    <tr>\n      <th>141</th>\n      <td>142</td>\n      <td>352730</td>\n      <td>2015-06-22 23:58:31</td>\n      <td>2016-07-12 23:57:01</td>\n    </tr>\n    <tr>\n      <th>142</th>\n      <td>143</td>\n      <td>352729</td>\n      <td>2015-06-22 23:58:31</td>\n      <td>2016-07-12 23:57:01</td>\n    </tr>\n    <tr>\n      <th>143</th>\n      <td>144</td>\n      <td>352730</td>\n      <td>2015-06-22 23:58:31</td>\n      <td>2016-07-12 23:57:01</td>\n    </tr>\n    <tr>\n      <th>144</th>\n      <td>145</td>\n      <td>352730</td>\n      <td>2015-06-22 23:58:31</td>\n      <td>2016-07-12 23:57:01</td>\n    </tr>\n    <tr>\n      <th>145</th>\n      <td>146</td>\n      <td>147666</td>\n      <td>2015-06-22 23:58:31</td>\n      <td>2015-12-01 04:21:01</td>\n    </tr>\n  </tbody>\n</table>\n</div>"
     },
     "execution_count": 18,
     "metadata": {},
     "output_type": "execute_result"
    }
   ],
   "source": [
    "result2 = cur.execute('select detector_id, count(count), min(starttime), max(starttime) from readings group by(detector_id)'\n",
    "                      ).fetchall()\n",
    "ex02_df = pd.DataFrame(result2, columns=['detector_id', 'count(count)', 'min(starttime)', 'max(starttime']).reset_index(drop=True)\n",
    "ex02_df"
   ],
   "metadata": {
    "collapsed": false,
    "ExecuteTime": {
     "end_time": "2023-06-15T14:32:17.736719018Z",
     "start_time": "2023-06-15T14:32:04.416294274Z"
    }
   }
  },
  {
   "cell_type": "code",
   "execution_count": 20,
   "outputs": [],
   "source": [
    "ex02_df.to_pickle('proj6_ex02_detector_stat.pkl')"
   ],
   "metadata": {
    "collapsed": false,
    "ExecuteTime": {
     "end_time": "2023-06-15T14:32:34.465219272Z",
     "start_time": "2023-06-15T14:32:34.445987904Z"
    }
   }
  },
  {
   "cell_type": "markdown",
   "source": [
    "## Exercise 3: Moving Window"
   ],
   "metadata": {
    "collapsed": false
   }
  },
  {
   "cell_type": "code",
   "execution_count": 21,
   "outputs": [],
   "source": [
    "query3 = '''\n",
    "SELECT detector_id, count, LAG(count) OVER (PARTITION BY detector_id ORDER BY starttime) AS prev_count\n",
    "FROM readings\n",
    "WHERE detector_id = 146\n",
    "LIMIT 500;\n",
    "'''"
   ],
   "metadata": {
    "collapsed": false,
    "ExecuteTime": {
     "end_time": "2023-06-15T14:34:58.455626143Z",
     "start_time": "2023-06-15T14:34:58.415263434Z"
    }
   }
  },
  {
   "cell_type": "code",
   "execution_count": 22,
   "outputs": [
    {
     "data": {
      "text/plain": "     detector_id  count  prev_count\n0            146      1         NaN\n1            146      0         1.0\n2            146      0         0.0\n3            146      0         0.0\n4            146      0         0.0\n..           ...    ...         ...\n495          146      0         0.0\n496          146      2         0.0\n497          146      2         2.0\n498          146      2         2.0\n499          146      2         2.0\n\n[500 rows x 3 columns]",
      "text/html": "<div>\n<style scoped>\n    .dataframe tbody tr th:only-of-type {\n        vertical-align: middle;\n    }\n\n    .dataframe tbody tr th {\n        vertical-align: top;\n    }\n\n    .dataframe thead th {\n        text-align: right;\n    }\n</style>\n<table border=\"1\" class=\"dataframe\">\n  <thead>\n    <tr style=\"text-align: right;\">\n      <th></th>\n      <th>detector_id</th>\n      <th>count</th>\n      <th>prev_count</th>\n    </tr>\n  </thead>\n  <tbody>\n    <tr>\n      <th>0</th>\n      <td>146</td>\n      <td>1</td>\n      <td>NaN</td>\n    </tr>\n    <tr>\n      <th>1</th>\n      <td>146</td>\n      <td>0</td>\n      <td>1.0</td>\n    </tr>\n    <tr>\n      <th>2</th>\n      <td>146</td>\n      <td>0</td>\n      <td>0.0</td>\n    </tr>\n    <tr>\n      <th>3</th>\n      <td>146</td>\n      <td>0</td>\n      <td>0.0</td>\n    </tr>\n    <tr>\n      <th>4</th>\n      <td>146</td>\n      <td>0</td>\n      <td>0.0</td>\n    </tr>\n    <tr>\n      <th>...</th>\n      <td>...</td>\n      <td>...</td>\n      <td>...</td>\n    </tr>\n    <tr>\n      <th>495</th>\n      <td>146</td>\n      <td>0</td>\n      <td>0.0</td>\n    </tr>\n    <tr>\n      <th>496</th>\n      <td>146</td>\n      <td>2</td>\n      <td>0.0</td>\n    </tr>\n    <tr>\n      <th>497</th>\n      <td>146</td>\n      <td>2</td>\n      <td>2.0</td>\n    </tr>\n    <tr>\n      <th>498</th>\n      <td>146</td>\n      <td>2</td>\n      <td>2.0</td>\n    </tr>\n    <tr>\n      <th>499</th>\n      <td>146</td>\n      <td>2</td>\n      <td>2.0</td>\n    </tr>\n  </tbody>\n</table>\n<p>500 rows × 3 columns</p>\n</div>"
     },
     "execution_count": 22,
     "metadata": {},
     "output_type": "execute_result"
    }
   ],
   "source": [
    "result3 = cur.execute(query3).fetchall()\n",
    "ex03_df = pd.DataFrame(result3, columns=['detector_id', 'count', 'prev_count'])\n",
    "ex03_df"
   ],
   "metadata": {
    "collapsed": false,
    "ExecuteTime": {
     "end_time": "2023-06-15T14:35:49.321738605Z",
     "start_time": "2023-06-15T14:35:49.259536159Z"
    }
   }
  },
  {
   "cell_type": "code",
   "execution_count": 23,
   "outputs": [],
   "source": [
    "ex03_df.to_pickle('proj6_ex03_detector_146_lag.pkl')"
   ],
   "metadata": {
    "collapsed": false,
    "ExecuteTime": {
     "end_time": "2023-06-15T14:36:21.229586894Z",
     "start_time": "2023-06-15T14:36:21.188245738Z"
    }
   }
  },
  {
   "cell_type": "markdown",
   "source": [
    "## Exercise 4: Window"
   ],
   "metadata": {
    "collapsed": false
   }
  },
  {
   "cell_type": "code",
   "execution_count": 39,
   "outputs": [],
   "source": [
    "query4 = '''\n",
    "select detector_id, count, sum(count) over (partition by detector_id order by starttime rows between current row and 10 following) as window_sum\n",
    "from readings\n",
    "where detector_id = 146\n",
    "limit 500;\n",
    "'''"
   ],
   "metadata": {
    "collapsed": false,
    "ExecuteTime": {
     "end_time": "2023-06-15T14:48:12.249412968Z",
     "start_time": "2023-06-15T14:48:12.202830651Z"
    }
   }
  },
  {
   "cell_type": "code",
   "execution_count": 40,
   "outputs": [
    {
     "data": {
      "text/plain": "     detector_id  count  window_sum\n0            146      1           2\n1            146      0           2\n2            146      0           2\n3            146      0           2\n4            146      0           2\n..           ...    ...         ...\n495          146      0          20\n496          146      2          22\n497          146      2          21\n498          146      2          21\n499          146      2          21\n\n[500 rows x 3 columns]",
      "text/html": "<div>\n<style scoped>\n    .dataframe tbody tr th:only-of-type {\n        vertical-align: middle;\n    }\n\n    .dataframe tbody tr th {\n        vertical-align: top;\n    }\n\n    .dataframe thead th {\n        text-align: right;\n    }\n</style>\n<table border=\"1\" class=\"dataframe\">\n  <thead>\n    <tr style=\"text-align: right;\">\n      <th></th>\n      <th>detector_id</th>\n      <th>count</th>\n      <th>window_sum</th>\n    </tr>\n  </thead>\n  <tbody>\n    <tr>\n      <th>0</th>\n      <td>146</td>\n      <td>1</td>\n      <td>2</td>\n    </tr>\n    <tr>\n      <th>1</th>\n      <td>146</td>\n      <td>0</td>\n      <td>2</td>\n    </tr>\n    <tr>\n      <th>2</th>\n      <td>146</td>\n      <td>0</td>\n      <td>2</td>\n    </tr>\n    <tr>\n      <th>3</th>\n      <td>146</td>\n      <td>0</td>\n      <td>2</td>\n    </tr>\n    <tr>\n      <th>4</th>\n      <td>146</td>\n      <td>0</td>\n      <td>2</td>\n    </tr>\n    <tr>\n      <th>...</th>\n      <td>...</td>\n      <td>...</td>\n      <td>...</td>\n    </tr>\n    <tr>\n      <th>495</th>\n      <td>146</td>\n      <td>0</td>\n      <td>20</td>\n    </tr>\n    <tr>\n      <th>496</th>\n      <td>146</td>\n      <td>2</td>\n      <td>22</td>\n    </tr>\n    <tr>\n      <th>497</th>\n      <td>146</td>\n      <td>2</td>\n      <td>21</td>\n    </tr>\n    <tr>\n      <th>498</th>\n      <td>146</td>\n      <td>2</td>\n      <td>21</td>\n    </tr>\n    <tr>\n      <th>499</th>\n      <td>146</td>\n      <td>2</td>\n      <td>21</td>\n    </tr>\n  </tbody>\n</table>\n<p>500 rows × 3 columns</p>\n</div>"
     },
     "execution_count": 40,
     "metadata": {},
     "output_type": "execute_result"
    }
   ],
   "source": [
    "result4 = cur.execute(query4).fetchall()\n",
    "ex04_df = pd.DataFrame(result4, columns=['detector_id', 'count', 'window_sum'])\n",
    "ex04_df"
   ],
   "metadata": {
    "collapsed": false,
    "ExecuteTime": {
     "end_time": "2023-06-15T14:48:12.733509425Z",
     "start_time": "2023-06-15T14:48:12.638858585Z"
    }
   }
  },
  {
   "cell_type": "code",
   "execution_count": 41,
   "outputs": [],
   "source": [
    "ex04_df.to_pickle('proj6_ex04_detector_146_sum.pkl')"
   ],
   "metadata": {
    "collapsed": false,
    "ExecuteTime": {
     "end_time": "2023-06-15T14:48:17.443350174Z",
     "start_time": "2023-06-15T14:48:17.412017051Z"
    }
   }
  }
 ],
 "metadata": {
  "kernelspec": {
   "display_name": "Python 3",
   "language": "python",
   "name": "python3"
  },
  "language_info": {
   "codemirror_mode": {
    "name": "ipython",
    "version": 2
   },
   "file_extension": ".py",
   "mimetype": "text/x-python",
   "name": "python",
   "nbconvert_exporter": "python",
   "pygments_lexer": "ipython2",
   "version": "2.7.6"
  }
 },
 "nbformat": 4,
 "nbformat_minor": 0
}
