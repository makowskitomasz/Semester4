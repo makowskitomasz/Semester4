{
 "cells": [
  {
   "cell_type": "code",
   "execution_count": 17,
   "metadata": {
    "collapsed": true
   },
   "outputs": [],
   "source": [
    "import pandas as pd\n",
    "import numpy as np\n",
    "import re"
   ]
  },
  {
   "cell_type": "code",
   "execution_count": 2,
   "outputs": [
    {
     "name": "stdout",
     "output_type": "stream",
     "text": [
      "          full_name   field   language code  task_1  task_2  task_3  \\\n",
      "0  Rowan Harrington  drones     python  wej     3.1     2.0     4.4   \n",
      "1        Nash Wyatt  racing       java  sfe     4.2     2.0     2.0   \n",
      "2    Jadiel Ramirez   media  cplusplus  vaw     4.0     4.9     3.0   \n",
      "3    Makaila Atkins  racing      swift  ugt     4.1     5.0     4.8   \n",
      "\n",
      "   tasks_avg    task_grade jury_score  final_grade  \n",
      "0   3.166667   dostateczny    3,5 pts  dostateczny  \n",
      "1   2.733333  bardzo dobry        5 p       mierny  \n",
      "2   3.966667         dobry        3.5       mierny  \n",
      "3   4.633333         dobry          2  dostateczny  \n"
     ]
    }
   ],
   "source": [
    "separators = ['|', ';', ',']\n",
    "decimal_separators = [',', '.']\n",
    "df = None\n",
    "for sep, dec in zip(separators, decimal_separators):\n",
    "    try:\n",
    "        df = pd.read_csv('proj2_data.csv', sep=sep, decimal=dec, thousands=None)\n",
    "        break\n",
    "    except:\n",
    "        pass\n",
    "\n",
    "print(df.head(4))"
   ],
   "metadata": {
    "collapsed": false
   }
  },
  {
   "cell_type": "code",
   "execution_count": 3,
   "outputs": [],
   "source": [
    "df.to_pickle('proj2_ex01.pkl')"
   ],
   "metadata": {
    "collapsed": false
   }
  },
  {
   "cell_type": "code",
   "execution_count": 4,
   "outputs": [
    {
     "name": "stdout",
     "output_type": "stream",
     "text": [
      "['niedostateczny', 'mierny', 'dostateczny', 'dobry', 'bardzo dobry']\n"
     ]
    }
   ],
   "source": [
    "with open('proj2_scale.txt', 'r') as file:\n",
    "    text = file.read()\n",
    "\n",
    "words = text.split('\\n')\n",
    "print(words)"
   ],
   "metadata": {
    "collapsed": false
   }
  },
  {
   "cell_type": "code",
   "execution_count": 5,
   "outputs": [
    {
     "name": "stdout",
     "output_type": "stream",
     "text": [
      "           full_name     field   language code  task_1  task_2  task_3  \\\n",
      "0   Rowan Harrington    drones     python  wej     3.1     2.0     4.4   \n",
      "1         Nash Wyatt    racing       java  sfe     4.2     2.0     2.0   \n",
      "2     Jadiel Ramirez     media  cplusplus  vaw     4.0     4.9     3.0   \n",
      "3     Makaila Atkins    racing      swift  ugt     4.1     5.0     4.8   \n",
      "4     Melanie Fuller    racing     python  owb     2.7     2.0     2.0   \n",
      "5      Layla Woodard    drones     python  wuf     2.8     2.0     2.0   \n",
      "6         Edwin Hale     media      swift  ceq     4.9     3.0     3.4   \n",
      "7       Travis Rocha  robotics  cplusplus  eir     5.0     4.9     5.0   \n",
      "8       Ricky Howell     media       java  vos     2.1     2.0     2.0   \n",
      "9    Addyson Brennan    drones       java  cov     4.4     3.7     4.0   \n",
      "10      Megan Barker    drones      swift  oqq     3.9     4.0     4.4   \n",
      "11    Abel Hendricks    racing     python  dfa     4.1     5.0     5.0   \n",
      "\n",
      "    tasks_avg task_grade jury_score final_grade  \n",
      "0    3.166667          3    3,5 pts           3  \n",
      "1    2.733333          5        5 p           2  \n",
      "2    3.966667          4        3.5           2  \n",
      "3    4.633333          4          2           3  \n",
      "4    2.233333          5      pts 2           2  \n",
      "5    2.266667          5       3,5p           3  \n",
      "6    3.766667          3   -1 (dnf)           1  \n",
      "7    4.966667          3          0           1  \n",
      "8    2.033333          4    waiting           1  \n",
      "9    4.033333          5          -           1  \n",
      "10   4.100000          3          2           3  \n",
      "11   4.700000          5          4           2  \n"
     ]
    },
    {
     "name": "stderr",
     "output_type": "stream",
     "text": [
      "/tmp/ipykernel_5628/1986937182.py:11: SettingWithCopyWarning: \n",
      "A value is trying to be set on a copy of a slice from a DataFrame\n",
      "\n",
      "See the caveats in the documentation: https://pandas.pydata.org/pandas-docs/stable/user_guide/indexing.html#returning-a-view-versus-a-copy\n",
      "  df_copy[column][index] = word + 1\n"
     ]
    }
   ],
   "source": [
    "df_copy = df.copy()\n",
    "for column in df_copy.columns:\n",
    "    column_to_change = True\n",
    "    for word in df_copy[column]:\n",
    "        if word not in words:\n",
    "            column_to_change = False\n",
    "            break\n",
    "    if column_to_change:\n",
    "        for index, word in enumerate(df_copy[column]):\n",
    "            word = words.index(word)\n",
    "            df_copy[column][index] = word + 1\n",
    "\n",
    "print(df_copy)"
   ],
   "metadata": {
    "collapsed": false
   }
  },
  {
   "cell_type": "code",
   "execution_count": 6,
   "outputs": [],
   "source": [
    "df_copy.to_pickle('proj2_ex02.pkl')"
   ],
   "metadata": {
    "collapsed": false
   }
  },
  {
   "cell_type": "code",
   "execution_count": 23,
   "outputs": [
    {
     "name": "stderr",
     "output_type": "stream",
     "text": [
      "/tmp/ipykernel_5628/3153928561.py:12: FutureWarning: The `inplace` parameter in pandas.Categorical.add_categories is deprecated and will be removed in a future version. Removing unused categories will always return a new Categorical object.\n",
      "  df_copy2[column].cat.add_categories(word, inplace=True)\n",
      "/tmp/ipykernel_5628/3153928561.py:12: FutureWarning: The `inplace` parameter in pandas.Categorical.add_categories is deprecated and will be removed in a future version. Removing unused categories will always return a new Categorical object.\n",
      "  df_copy2[column].cat.add_categories(word, inplace=True)\n",
      "/tmp/ipykernel_5628/3153928561.py:12: FutureWarning: The `inplace` parameter in pandas.Categorical.add_categories is deprecated and will be removed in a future version. Removing unused categories will always return a new Categorical object.\n",
      "  df_copy2[column].cat.add_categories(word, inplace=True)\n",
      "/tmp/ipykernel_5628/3153928561.py:12: FutureWarning: The `inplace` parameter in pandas.Categorical.add_categories is deprecated and will be removed in a future version. Removing unused categories will always return a new Categorical object.\n",
      "  df_copy2[column].cat.add_categories(word, inplace=True)\n"
     ]
    }
   ],
   "source": [
    "df_copy2 = df.copy()\n",
    "for column in df_copy2.columns:\n",
    "    column_to_change = True\n",
    "    for word in df_copy2[column]:\n",
    "        if word not in words:\n",
    "            column_to_change = False\n",
    "            break\n",
    "    if column_to_change:\n",
    "        df_copy2[column] = df_copy2[column].astype('category')\n",
    "        for word in words:\n",
    "            if word not in df_copy2[column].cat.categories:\n",
    "                df_copy2[column].cat.add_categories(word, inplace=True)"
   ],
   "metadata": {
    "collapsed": false
   }
  },
  {
   "cell_type": "code",
   "execution_count": 8,
   "outputs": [],
   "source": [
    "df_copy2.to_pickle('proj2_ex03.pkl')"
   ],
   "metadata": {
    "collapsed": false
   }
  },
  {
   "cell_type": "code",
   "execution_count": 9,
   "outputs": [
    {
     "name": "stdout",
     "output_type": "stream",
     "text": [
      "0     RowanHarrington\n",
      "1           NashWyatt\n",
      "2       JadielRamirez\n",
      "3       MakailaAtkins\n",
      "4       MelanieFuller\n",
      "5        LaylaWoodard\n",
      "6           EdwinHale\n",
      "7         TravisRocha\n",
      "8         RickyHowell\n",
      "9      AddysonBrennan\n",
      "10        MeganBarker\n",
      "11      AbelHendricks\n",
      "Name: full_name, dtype: object\n",
      "[]\n",
      "0       drones\n",
      "1       racing\n",
      "2        media\n",
      "3       racing\n",
      "4       racing\n",
      "5       drones\n",
      "6        media\n",
      "7     robotics\n",
      "8        media\n",
      "9       drones\n",
      "10      drones\n",
      "11      racing\n",
      "Name: field, dtype: object\n",
      "[]\n",
      "0        python\n",
      "1          java\n",
      "2     cplusplus\n",
      "3         swift\n",
      "4        python\n",
      "5        python\n",
      "6         swift\n",
      "7     cplusplus\n",
      "8          java\n",
      "9          java\n",
      "10        swift\n",
      "11       python\n",
      "Name: language, dtype: object\n",
      "[]\n",
      "0     wej\n",
      "1     sfe\n",
      "2     vaw\n",
      "3     ugt\n",
      "4     owb\n",
      "5     wuf\n",
      "6     ceq\n",
      "7     eir\n",
      "8     vos\n",
      "9     cov\n",
      "10    oqq\n",
      "11    dfa\n",
      "Name: code, dtype: object\n",
      "[]\n",
      "0     dostateczny\n",
      "1     bardzodobry\n",
      "2           dobry\n",
      "3           dobry\n",
      "4     bardzodobry\n",
      "5     bardzodobry\n",
      "6     dostateczny\n",
      "7     dostateczny\n",
      "8           dobry\n",
      "9     bardzodobry\n",
      "10    dostateczny\n",
      "11    bardzodobry\n",
      "Name: task_grade, dtype: object\n",
      "[]\n",
      "0      3.5pts\n",
      "1          5p\n",
      "2         3.5\n",
      "3           2\n",
      "4        pts2\n",
      "5        3.5p\n",
      "6     -1(dnf)\n",
      "7           0\n",
      "8     waiting\n",
      "9           -\n",
      "10          2\n",
      "11          4\n",
      "Name: jury_score, dtype: object\n",
      "['3.5', '5', '3.5', '2', '2', '3.5', '-1', '0', '2', '4']\n",
      "0        dostateczny\n",
      "1             mierny\n",
      "2             mierny\n",
      "3        dostateczny\n",
      "4             mierny\n",
      "5        dostateczny\n",
      "6     niedostateczny\n",
      "7     niedostateczny\n",
      "8     niedostateczny\n",
      "9     niedostateczny\n",
      "10       dostateczny\n",
      "11            mierny\n",
      "Name: final_grade, dtype: object\n",
      "[]\n",
      "3.5\n",
      "5\n",
      "3.5\n",
      "2\n",
      "2\n",
      "3.5\n",
      "-1\n",
      "0\n",
      "nan\n",
      "nan\n",
      "2\n",
      "4\n",
      "   jury_score\n",
      "0         3.5\n",
      "1           5\n",
      "2         3.5\n",
      "3           2\n",
      "4           2\n",
      "5         3.5\n",
      "6          -1\n",
      "7           0\n",
      "8         NaN\n",
      "9         NaN\n",
      "10          2\n",
      "11          4\n"
     ]
    }
   ],
   "source": [
    "number_pattern = r'-?\\d+\\.?\\d*'\n",
    "col_list = []\n",
    "new_df = df.copy()\n",
    "for column in new_df.columns:\n",
    "    if not new_df[column].dtype.kind in np.typecodes['AllFloat'] + np.typecodes['AllInteger']:\n",
    "        new_df[column] = new_df[column].str.replace(',', '.')\n",
    "        new_df[column] = new_df[column].str.replace(' ','')\n",
    "        print(new_df[column])\n",
    "        numbers = new_df[column].str.findall(number_pattern)\n",
    "        numbers = numbers.tolist()\n",
    "        numbers = [item for element in numbers for item in element]\n",
    "        print(numbers)\n",
    "        if len(numbers) > 0:\n",
    "            col_list.append(column)\n",
    "new_df = new_df[col_list]\n",
    "for column in new_df.columns:\n",
    "    for index, element in enumerate(new_df[column]):\n",
    "        numeric_value = re.findall(number_pattern, element)[0] if len(re.findall(number_pattern, element)) >0 else np.NaN\n",
    "        print(numeric_value)\n",
    "        new_df.loc[index, column] = numeric_value\n",
    "print(new_df)"
   ],
   "metadata": {
    "collapsed": false
   }
  },
  {
   "cell_type": "code",
   "execution_count": 10,
   "outputs": [],
   "source": [
    "new_df.to_pickle('proj2_ex04.pkl')"
   ],
   "metadata": {
    "collapsed": false
   }
  },
  {
   "cell_type": "code",
   "execution_count": 16,
   "outputs": [],
   "source": [
    "small_letters_pattern = r'[a-z ]+$'\n",
    "i = 1\n",
    "for column in df.columns:\n",
    "    if df[column].dtype == 'object':\n",
    "        unique_values = df[column].unique()\n",
    "        all_match = all(re.match(small_letters_pattern, element) for element in unique_values)\n",
    "        not_in_words = True\n",
    "        for element in unique_values:\n",
    "            if element in words:\n",
    "                not_in_words = False\n",
    "                break\n",
    "        if all_match and not_in_words and len(unique_values) <= 10:\n",
    "            tmp_df = pd.get_dummies(df[column], prefix='', prefix_sep='')\n",
    "            tmp_df.to_pickle(f'proj2_ex05_{i}.pkl')\n",
    "            i += 1\n"
   ],
   "metadata": {
    "collapsed": false
   }
  }
 ],
 "metadata": {
  "kernelspec": {
   "display_name": "Python 3",
   "language": "python",
   "name": "python3"
  },
  "language_info": {
   "codemirror_mode": {
    "name": "ipython",
    "version": 2
   },
   "file_extension": ".py",
   "mimetype": "text/x-python",
   "name": "python",
   "nbconvert_exporter": "python",
   "pygments_lexer": "ipython2",
   "version": "2.7.6"
  }
 },
 "nbformat": 4,
 "nbformat_minor": 0
}
