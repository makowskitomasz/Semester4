{
 "cells": [
  {
   "cell_type": "code",
   "execution_count": 23,
   "metadata": {
    "collapsed": true,
    "jupyter": {
     "outputs_hidden": true
    },
    "ExecuteTime": {
     "start_time": "2023-04-04T23:20:35.185426Z",
     "end_time": "2023-04-04T23:20:35.229617Z"
    }
   },
   "outputs": [],
   "source": [
    "import pandas as pd\n",
    "import numpy as np\n",
    "import re"
   ]
  },
  {
   "cell_type": "code",
   "execution_count": 25,
   "metadata": {
    "collapsed": false,
    "jupyter": {
     "outputs_hidden": false
    },
    "ExecuteTime": {
     "start_time": "2023-04-04T23:20:47.205601Z",
     "end_time": "2023-04-04T23:20:47.219087Z"
    }
   },
   "outputs": [
    {
     "data": {
      "text/plain": "           full_name     field   language code  task_1  task_2  task_3  \\\n0   Rowan Harrington    drones     python  wej     3.1     2.0     4.4   \n1         Nash Wyatt    racing       java  sfe     4.2     2.0     2.0   \n2     Jadiel Ramirez     media  cplusplus  vaw     4.0     4.9     3.0   \n3     Makaila Atkins    racing      swift  ugt     4.1     5.0     4.8   \n4     Melanie Fuller    racing     python  owb     2.7     2.0     2.0   \n5      Layla Woodard    drones     python  wuf     2.8     2.0     2.0   \n6         Edwin Hale     media      swift  ceq     4.9     3.0     3.4   \n7       Travis Rocha  robotics  cplusplus  eir     5.0     4.9     5.0   \n8       Ricky Howell     media       java  vos     2.1     2.0     2.0   \n9    Addyson Brennan    drones       java  cov     4.4     3.7     4.0   \n10      Megan Barker    drones      swift  oqq     3.9     4.0     4.4   \n11    Abel Hendricks    racing     python  dfa     4.1     5.0     5.0   \n\n    tasks_avg    task_grade jury_score     final_grade  \n0    3.166667   dostateczny    3,5 pts     dostateczny  \n1    2.733333  bardzo dobry        5 p          mierny  \n2    3.966667         dobry        3.5          mierny  \n3    4.633333         dobry          2     dostateczny  \n4    2.233333  bardzo dobry      pts 2          mierny  \n5    2.266667  bardzo dobry       3,5p     dostateczny  \n6    3.766667   dostateczny   -1 (dnf)  niedostateczny  \n7    4.966667   dostateczny          0  niedostateczny  \n8    2.033333         dobry    waiting  niedostateczny  \n9    4.033333  bardzo dobry          -  niedostateczny  \n10   4.100000   dostateczny          2     dostateczny  \n11   4.700000  bardzo dobry          4          mierny  ",
      "text/html": "<div>\n<style scoped>\n    .dataframe tbody tr th:only-of-type {\n        vertical-align: middle;\n    }\n\n    .dataframe tbody tr th {\n        vertical-align: top;\n    }\n\n    .dataframe thead th {\n        text-align: right;\n    }\n</style>\n<table border=\"1\" class=\"dataframe\">\n  <thead>\n    <tr style=\"text-align: right;\">\n      <th></th>\n      <th>full_name</th>\n      <th>field</th>\n      <th>language</th>\n      <th>code</th>\n      <th>task_1</th>\n      <th>task_2</th>\n      <th>task_3</th>\n      <th>tasks_avg</th>\n      <th>task_grade</th>\n      <th>jury_score</th>\n      <th>final_grade</th>\n    </tr>\n  </thead>\n  <tbody>\n    <tr>\n      <th>0</th>\n      <td>Rowan Harrington</td>\n      <td>drones</td>\n      <td>python</td>\n      <td>wej</td>\n      <td>3.1</td>\n      <td>2.0</td>\n      <td>4.4</td>\n      <td>3.166667</td>\n      <td>dostateczny</td>\n      <td>3,5 pts</td>\n      <td>dostateczny</td>\n    </tr>\n    <tr>\n      <th>1</th>\n      <td>Nash Wyatt</td>\n      <td>racing</td>\n      <td>java</td>\n      <td>sfe</td>\n      <td>4.2</td>\n      <td>2.0</td>\n      <td>2.0</td>\n      <td>2.733333</td>\n      <td>bardzo dobry</td>\n      <td>5 p</td>\n      <td>mierny</td>\n    </tr>\n    <tr>\n      <th>2</th>\n      <td>Jadiel Ramirez</td>\n      <td>media</td>\n      <td>cplusplus</td>\n      <td>vaw</td>\n      <td>4.0</td>\n      <td>4.9</td>\n      <td>3.0</td>\n      <td>3.966667</td>\n      <td>dobry</td>\n      <td>3.5</td>\n      <td>mierny</td>\n    </tr>\n    <tr>\n      <th>3</th>\n      <td>Makaila Atkins</td>\n      <td>racing</td>\n      <td>swift</td>\n      <td>ugt</td>\n      <td>4.1</td>\n      <td>5.0</td>\n      <td>4.8</td>\n      <td>4.633333</td>\n      <td>dobry</td>\n      <td>2</td>\n      <td>dostateczny</td>\n    </tr>\n    <tr>\n      <th>4</th>\n      <td>Melanie Fuller</td>\n      <td>racing</td>\n      <td>python</td>\n      <td>owb</td>\n      <td>2.7</td>\n      <td>2.0</td>\n      <td>2.0</td>\n      <td>2.233333</td>\n      <td>bardzo dobry</td>\n      <td>pts 2</td>\n      <td>mierny</td>\n    </tr>\n    <tr>\n      <th>5</th>\n      <td>Layla Woodard</td>\n      <td>drones</td>\n      <td>python</td>\n      <td>wuf</td>\n      <td>2.8</td>\n      <td>2.0</td>\n      <td>2.0</td>\n      <td>2.266667</td>\n      <td>bardzo dobry</td>\n      <td>3,5p</td>\n      <td>dostateczny</td>\n    </tr>\n    <tr>\n      <th>6</th>\n      <td>Edwin Hale</td>\n      <td>media</td>\n      <td>swift</td>\n      <td>ceq</td>\n      <td>4.9</td>\n      <td>3.0</td>\n      <td>3.4</td>\n      <td>3.766667</td>\n      <td>dostateczny</td>\n      <td>-1 (dnf)</td>\n      <td>niedostateczny</td>\n    </tr>\n    <tr>\n      <th>7</th>\n      <td>Travis Rocha</td>\n      <td>robotics</td>\n      <td>cplusplus</td>\n      <td>eir</td>\n      <td>5.0</td>\n      <td>4.9</td>\n      <td>5.0</td>\n      <td>4.966667</td>\n      <td>dostateczny</td>\n      <td>0</td>\n      <td>niedostateczny</td>\n    </tr>\n    <tr>\n      <th>8</th>\n      <td>Ricky Howell</td>\n      <td>media</td>\n      <td>java</td>\n      <td>vos</td>\n      <td>2.1</td>\n      <td>2.0</td>\n      <td>2.0</td>\n      <td>2.033333</td>\n      <td>dobry</td>\n      <td>waiting</td>\n      <td>niedostateczny</td>\n    </tr>\n    <tr>\n      <th>9</th>\n      <td>Addyson Brennan</td>\n      <td>drones</td>\n      <td>java</td>\n      <td>cov</td>\n      <td>4.4</td>\n      <td>3.7</td>\n      <td>4.0</td>\n      <td>4.033333</td>\n      <td>bardzo dobry</td>\n      <td>-</td>\n      <td>niedostateczny</td>\n    </tr>\n    <tr>\n      <th>10</th>\n      <td>Megan Barker</td>\n      <td>drones</td>\n      <td>swift</td>\n      <td>oqq</td>\n      <td>3.9</td>\n      <td>4.0</td>\n      <td>4.4</td>\n      <td>4.100000</td>\n      <td>dostateczny</td>\n      <td>2</td>\n      <td>dostateczny</td>\n    </tr>\n    <tr>\n      <th>11</th>\n      <td>Abel Hendricks</td>\n      <td>racing</td>\n      <td>python</td>\n      <td>dfa</td>\n      <td>4.1</td>\n      <td>5.0</td>\n      <td>5.0</td>\n      <td>4.700000</td>\n      <td>bardzo dobry</td>\n      <td>4</td>\n      <td>mierny</td>\n    </tr>\n  </tbody>\n</table>\n</div>"
     },
     "execution_count": 25,
     "metadata": {},
     "output_type": "execute_result"
    }
   ],
   "source": [
    "filename = 'proj2_data.csv'\n",
    "df = pd.read_csv(filename, sep='|', decimal=',')\n",
    "\n",
    "if len(df.columns) < 2:\n",
    "    df = pd.read_csv(filename, sep=';', decimal=',')\n",
    "\n",
    "    if \"float64\" not in df.dtypes.values:\n",
    "        df = pd.read_csv(filename, sep='|', decimal='.')\n",
    "\n",
    "elif \"float64\" not in df.dtypes.values:\n",
    "    df = pd.read_csv(filename, sep='|', decimal='.')\n",
    "\n",
    "df.head(12)"
   ]
  },
  {
   "cell_type": "code",
   "execution_count": 26,
   "metadata": {
    "collapsed": false,
    "jupyter": {
     "outputs_hidden": false
    },
    "ExecuteTime": {
     "start_time": "2023-04-04T23:20:54.728584Z",
     "end_time": "2023-04-04T23:20:54.738441Z"
    }
   },
   "outputs": [],
   "source": [
    "df.to_pickle('proj2_ex01.pkl')"
   ]
  },
  {
   "cell_type": "code",
   "execution_count": 27,
   "metadata": {
    "collapsed": false,
    "jupyter": {
     "outputs_hidden": false
    },
    "ExecuteTime": {
     "start_time": "2023-04-04T23:21:00.277024Z",
     "end_time": "2023-04-04T23:21:00.295641Z"
    }
   },
   "outputs": [
    {
     "name": "stdout",
     "output_type": "stream",
     "text": [
      "['niedostateczny', 'mierny', 'dostateczny', 'dobry', 'bardzo dobry']\n"
     ]
    }
   ],
   "source": [
    "with open('proj2_scale.txt', 'r') as file:\n",
    "    text = file.read()\n",
    "\n",
    "words = text.split('\\n')\n",
    "print(words)"
   ]
  },
  {
   "cell_type": "code",
   "execution_count": 37,
   "metadata": {
    "collapsed": false,
    "jupyter": {
     "outputs_hidden": false
    },
    "ExecuteTime": {
     "start_time": "2023-04-04T23:36:16.110326Z",
     "end_time": "2023-04-04T23:36:16.155407Z"
    }
   },
   "outputs": [
    {
     "name": "stdout",
     "output_type": "stream",
     "text": [
      "['task_grade', 'final_grade']\n"
     ]
    },
    {
     "name": "stderr",
     "output_type": "stream",
     "text": [
      "/tmp/ipykernel_31881/2876967071.py:13: SettingWithCopyWarning: \n",
      "A value is trying to be set on a copy of a slice from a DataFrame\n",
      "\n",
      "See the caveats in the documentation: https://pandas.pydata.org/pandas-docs/stable/user_guide/indexing.html#returning-a-view-versus-a-copy\n",
      "  df_copy[column][index] = word + 1\n"
     ]
    },
    {
     "data": {
      "text/plain": "           full_name     field   language code  task_1  task_2  task_3  \\\n0   Rowan Harrington    drones     python  wej     3.1     2.0     4.4   \n1         Nash Wyatt    racing       java  sfe     4.2     2.0     2.0   \n2     Jadiel Ramirez     media  cplusplus  vaw     4.0     4.9     3.0   \n3     Makaila Atkins    racing      swift  ugt     4.1     5.0     4.8   \n4     Melanie Fuller    racing     python  owb     2.7     2.0     2.0   \n5      Layla Woodard    drones     python  wuf     2.8     2.0     2.0   \n6         Edwin Hale     media      swift  ceq     4.9     3.0     3.4   \n7       Travis Rocha  robotics  cplusplus  eir     5.0     4.9     5.0   \n8       Ricky Howell     media       java  vos     2.1     2.0     2.0   \n9    Addyson Brennan    drones       java  cov     4.4     3.7     4.0   \n10      Megan Barker    drones      swift  oqq     3.9     4.0     4.4   \n11    Abel Hendricks    racing     python  dfa     4.1     5.0     5.0   \n\n    tasks_avg task_grade jury_score final_grade  \n0    3.166667          3    3,5 pts           3  \n1    2.733333          5        5 p           2  \n2    3.966667          4        3.5           2  \n3    4.633333          4          2           3  \n4    2.233333          5      pts 2           2  \n5    2.266667          5       3,5p           3  \n6    3.766667          3   -1 (dnf)           1  \n7    4.966667          3          0           1  \n8    2.033333          4    waiting           1  \n9    4.033333          5          -           1  \n10   4.100000          3          2           3  \n11   4.700000          5          4           2  ",
      "text/html": "<div>\n<style scoped>\n    .dataframe tbody tr th:only-of-type {\n        vertical-align: middle;\n    }\n\n    .dataframe tbody tr th {\n        vertical-align: top;\n    }\n\n    .dataframe thead th {\n        text-align: right;\n    }\n</style>\n<table border=\"1\" class=\"dataframe\">\n  <thead>\n    <tr style=\"text-align: right;\">\n      <th></th>\n      <th>full_name</th>\n      <th>field</th>\n      <th>language</th>\n      <th>code</th>\n      <th>task_1</th>\n      <th>task_2</th>\n      <th>task_3</th>\n      <th>tasks_avg</th>\n      <th>task_grade</th>\n      <th>jury_score</th>\n      <th>final_grade</th>\n    </tr>\n  </thead>\n  <tbody>\n    <tr>\n      <th>0</th>\n      <td>Rowan Harrington</td>\n      <td>drones</td>\n      <td>python</td>\n      <td>wej</td>\n      <td>3.1</td>\n      <td>2.0</td>\n      <td>4.4</td>\n      <td>3.166667</td>\n      <td>3</td>\n      <td>3,5 pts</td>\n      <td>3</td>\n    </tr>\n    <tr>\n      <th>1</th>\n      <td>Nash Wyatt</td>\n      <td>racing</td>\n      <td>java</td>\n      <td>sfe</td>\n      <td>4.2</td>\n      <td>2.0</td>\n      <td>2.0</td>\n      <td>2.733333</td>\n      <td>5</td>\n      <td>5 p</td>\n      <td>2</td>\n    </tr>\n    <tr>\n      <th>2</th>\n      <td>Jadiel Ramirez</td>\n      <td>media</td>\n      <td>cplusplus</td>\n      <td>vaw</td>\n      <td>4.0</td>\n      <td>4.9</td>\n      <td>3.0</td>\n      <td>3.966667</td>\n      <td>4</td>\n      <td>3.5</td>\n      <td>2</td>\n    </tr>\n    <tr>\n      <th>3</th>\n      <td>Makaila Atkins</td>\n      <td>racing</td>\n      <td>swift</td>\n      <td>ugt</td>\n      <td>4.1</td>\n      <td>5.0</td>\n      <td>4.8</td>\n      <td>4.633333</td>\n      <td>4</td>\n      <td>2</td>\n      <td>3</td>\n    </tr>\n    <tr>\n      <th>4</th>\n      <td>Melanie Fuller</td>\n      <td>racing</td>\n      <td>python</td>\n      <td>owb</td>\n      <td>2.7</td>\n      <td>2.0</td>\n      <td>2.0</td>\n      <td>2.233333</td>\n      <td>5</td>\n      <td>pts 2</td>\n      <td>2</td>\n    </tr>\n    <tr>\n      <th>5</th>\n      <td>Layla Woodard</td>\n      <td>drones</td>\n      <td>python</td>\n      <td>wuf</td>\n      <td>2.8</td>\n      <td>2.0</td>\n      <td>2.0</td>\n      <td>2.266667</td>\n      <td>5</td>\n      <td>3,5p</td>\n      <td>3</td>\n    </tr>\n    <tr>\n      <th>6</th>\n      <td>Edwin Hale</td>\n      <td>media</td>\n      <td>swift</td>\n      <td>ceq</td>\n      <td>4.9</td>\n      <td>3.0</td>\n      <td>3.4</td>\n      <td>3.766667</td>\n      <td>3</td>\n      <td>-1 (dnf)</td>\n      <td>1</td>\n    </tr>\n    <tr>\n      <th>7</th>\n      <td>Travis Rocha</td>\n      <td>robotics</td>\n      <td>cplusplus</td>\n      <td>eir</td>\n      <td>5.0</td>\n      <td>4.9</td>\n      <td>5.0</td>\n      <td>4.966667</td>\n      <td>3</td>\n      <td>0</td>\n      <td>1</td>\n    </tr>\n    <tr>\n      <th>8</th>\n      <td>Ricky Howell</td>\n      <td>media</td>\n      <td>java</td>\n      <td>vos</td>\n      <td>2.1</td>\n      <td>2.0</td>\n      <td>2.0</td>\n      <td>2.033333</td>\n      <td>4</td>\n      <td>waiting</td>\n      <td>1</td>\n    </tr>\n    <tr>\n      <th>9</th>\n      <td>Addyson Brennan</td>\n      <td>drones</td>\n      <td>java</td>\n      <td>cov</td>\n      <td>4.4</td>\n      <td>3.7</td>\n      <td>4.0</td>\n      <td>4.033333</td>\n      <td>5</td>\n      <td>-</td>\n      <td>1</td>\n    </tr>\n    <tr>\n      <th>10</th>\n      <td>Megan Barker</td>\n      <td>drones</td>\n      <td>swift</td>\n      <td>oqq</td>\n      <td>3.9</td>\n      <td>4.0</td>\n      <td>4.4</td>\n      <td>4.100000</td>\n      <td>3</td>\n      <td>2</td>\n      <td>3</td>\n    </tr>\n    <tr>\n      <th>11</th>\n      <td>Abel Hendricks</td>\n      <td>racing</td>\n      <td>python</td>\n      <td>dfa</td>\n      <td>4.1</td>\n      <td>5.0</td>\n      <td>5.0</td>\n      <td>4.700000</td>\n      <td>5</td>\n      <td>4</td>\n      <td>2</td>\n    </tr>\n  </tbody>\n</table>\n</div>"
     },
     "execution_count": 37,
     "metadata": {},
     "output_type": "execute_result"
    }
   ],
   "source": [
    "df_copy = df.copy()\n",
    "columns = []\n",
    "for column in df_copy.columns:\n",
    "    column_to_change = True\n",
    "    for word in df_copy[column]:\n",
    "        if word not in words:\n",
    "            column_to_change = False\n",
    "            break\n",
    "    if column_to_change:\n",
    "        columns.append(column)\n",
    "        for index, word in enumerate(df_copy[column]):\n",
    "            word = words.index(word)\n",
    "            df_copy[column][index] = word + 1\n",
    "print(columns)\n",
    "df_copy"
   ]
  },
  {
   "cell_type": "code",
   "execution_count": 29,
   "metadata": {
    "collapsed": false,
    "jupyter": {
     "outputs_hidden": false
    },
    "ExecuteTime": {
     "start_time": "2023-04-04T23:21:26.239182Z",
     "end_time": "2023-04-04T23:21:26.282553Z"
    }
   },
   "outputs": [],
   "source": [
    "df_copy.to_pickle('proj2_ex02.pkl')"
   ]
  },
  {
   "cell_type": "code",
   "execution_count": 42,
   "metadata": {
    "collapsed": false,
    "jupyter": {
     "outputs_hidden": false
    },
    "ExecuteTime": {
     "start_time": "2023-04-04T23:39:28.769923Z",
     "end_time": "2023-04-04T23:39:28.814724Z"
    }
   },
   "outputs": [
    {
     "name": "stdout",
     "output_type": "stream",
     "text": [
      "['task_grade', 'final_grade']\n",
      "['niedostateczny', 'mierny', 'dostateczny', 'dobry', 'bardzo dobry']\n"
     ]
    },
    {
     "data": {
      "text/plain": "full_name        object\nfield            object\nlanguage         object\ncode             object\ntask_1          float64\ntask_2          float64\ntask_3          float64\ntasks_avg       float64\ntask_grade     category\njury_score       object\nfinal_grade    category\ndtype: object"
     },
     "execution_count": 42,
     "metadata": {},
     "output_type": "execute_result"
    }
   ],
   "source": [
    "df_copy2 = df.copy()\n",
    "print(columns)\n",
    "print(words)\n",
    "for column in columns:\n",
    "    df_copy2[column] = df_copy2[column] = df_copy2[column].astype('category')\n",
    "    df_copy2[column] = df_copy2[column].cat.set_categories(words)\n",
    "df_copy2.dtypes"
   ]
  },
  {
   "cell_type": "code",
   "execution_count": 41,
   "metadata": {
    "collapsed": false,
    "jupyter": {
     "outputs_hidden": false
    },
    "ExecuteTime": {
     "start_time": "2023-04-04T23:39:12.668832Z",
     "end_time": "2023-04-04T23:39:12.679983Z"
    }
   },
   "outputs": [],
   "source": [
    "df_copy2.to_pickle('proj2_ex03.pkl')"
   ]
  },
  {
   "cell_type": "code",
   "execution_count": 35,
   "metadata": {
    "collapsed": false,
    "jupyter": {
     "outputs_hidden": false
    },
    "ExecuteTime": {
     "start_time": "2023-04-04T23:22:30.966432Z",
     "end_time": "2023-04-04T23:22:30.982614Z"
    }
   },
   "outputs": [
    {
     "data": {
      "text/plain": "    jury_score\n0          3.5\n1          5.0\n2          3.5\n3          2.0\n4          2.0\n5          3.5\n6         -1.0\n7          0.0\n8          NaN\n9          NaN\n10         2.0\n11         4.0",
      "text/html": "<div>\n<style scoped>\n    .dataframe tbody tr th:only-of-type {\n        vertical-align: middle;\n    }\n\n    .dataframe tbody tr th {\n        vertical-align: top;\n    }\n\n    .dataframe thead th {\n        text-align: right;\n    }\n</style>\n<table border=\"1\" class=\"dataframe\">\n  <thead>\n    <tr style=\"text-align: right;\">\n      <th></th>\n      <th>jury_score</th>\n    </tr>\n  </thead>\n  <tbody>\n    <tr>\n      <th>0</th>\n      <td>3.5</td>\n    </tr>\n    <tr>\n      <th>1</th>\n      <td>5.0</td>\n    </tr>\n    <tr>\n      <th>2</th>\n      <td>3.5</td>\n    </tr>\n    <tr>\n      <th>3</th>\n      <td>2.0</td>\n    </tr>\n    <tr>\n      <th>4</th>\n      <td>2.0</td>\n    </tr>\n    <tr>\n      <th>5</th>\n      <td>3.5</td>\n    </tr>\n    <tr>\n      <th>6</th>\n      <td>-1.0</td>\n    </tr>\n    <tr>\n      <th>7</th>\n      <td>0.0</td>\n    </tr>\n    <tr>\n      <th>8</th>\n      <td>NaN</td>\n    </tr>\n    <tr>\n      <th>9</th>\n      <td>NaN</td>\n    </tr>\n    <tr>\n      <th>10</th>\n      <td>2.0</td>\n    </tr>\n    <tr>\n      <th>11</th>\n      <td>4.0</td>\n    </tr>\n  </tbody>\n</table>\n</div>"
     },
     "execution_count": 35,
     "metadata": {},
     "output_type": "execute_result"
    }
   ],
   "source": [
    "new_df = df.copy()\n",
    "new_df = new_df.select_dtypes(exclude=['float64'])\n",
    "new_df.replace(to_replace=r'[^0-9\\.\\-\\,]', value='', regex=True, inplace=True)\n",
    "new_df.replace(to_replace=r'[\\,]', value='.', regex=True, inplace=True)\n",
    "new_df.replace(to_replace=r'^\\.$', value='', regex=True, inplace=True)\n",
    "new_df.replace(to_replace=r'^\\-$', value='', regex=True, inplace=True)\n",
    "\n",
    "new_df = new_df.apply(pd.to_numeric, errors='coerce')\n",
    "new_df = new_df.dropna(axis=1, how='all')\n",
    "new_df"
   ]
  },
  {
   "cell_type": "code",
   "execution_count": 19,
   "metadata": {
    "collapsed": false,
    "jupyter": {
     "outputs_hidden": false
    },
    "ExecuteTime": {
     "start_time": "2023-04-04T23:16:34.675712Z",
     "end_time": "2023-04-04T23:16:34.722442Z"
    }
   },
   "outputs": [],
   "source": [
    "new_df.to_pickle('proj2_ex04.pkl')"
   ]
  },
  {
   "cell_type": "code",
   "execution_count": 36,
   "metadata": {
    "collapsed": false,
    "jupyter": {
     "outputs_hidden": false
    },
    "ExecuteTime": {
     "start_time": "2023-04-04T23:23:36.509768Z",
     "end_time": "2023-04-04T23:23:36.553476Z"
    }
   },
   "outputs": [
    {
     "name": "stdout",
     "output_type": "stream",
     "text": [
      "    cplusplus  java  python  swift\n",
      "0           0     0       1      0\n",
      "1           0     1       0      0\n",
      "2           1     0       0      0\n",
      "3           0     0       0      1\n",
      "4           0     0       1      0\n",
      "5           0     0       1      0\n",
      "6           0     0       0      1\n",
      "7           1     0       0      0\n",
      "8           0     1       0      0\n",
      "9           0     1       0      0\n",
      "10          0     0       0      1\n",
      "11          0     0       1      0\n"
     ]
    }
   ],
   "source": [
    "\n",
    "df_copy4 = df.copy()\n",
    "df_copy4 = df_copy4.select_dtypes(include=['object'])\n",
    "df_copy4 = df_copy4.loc[:, df_copy4.apply(pd.Series.nunique) <= 10]\n",
    "df_copy4 = df_copy4.loc[:, df_copy4.apply(lambda x: x.str.contains('^[a-z]*$').all())]\n",
    "df_copy4 = df_copy4.loc[:, ~df_copy4.isin(words).all()]\n",
    "\n",
    "i = 1\n",
    "for col in df_copy4.columns:\n",
    "    df_copy4[col] = df_copy4[col].astype('category')\n",
    "    result = pd.get_dummies(df_copy4[col])\n",
    "    result.to_pickle(f'proj2_ex05_{i}.pkl')\n",
    "    i += 1\n",
    "\n",
    "print(result)\n"
   ]
  },
  {
   "cell_type": "code",
   "execution_count": null,
   "outputs": [],
   "source": [],
   "metadata": {
    "collapsed": false
   }
  }
 ],
 "metadata": {
  "kernelspec": {
   "display_name": "Python 3 (ipykernel)",
   "language": "python",
   "name": "python3"
  },
  "language_info": {
   "codemirror_mode": {
    "name": "ipython",
    "version": 3
   },
   "file_extension": ".py",
   "mimetype": "text/x-python",
   "name": "python",
   "nbconvert_exporter": "python",
   "pygments_lexer": "ipython3",
   "version": "3.10.6"
  }
 },
 "nbformat": 4,
 "nbformat_minor": 4
}
