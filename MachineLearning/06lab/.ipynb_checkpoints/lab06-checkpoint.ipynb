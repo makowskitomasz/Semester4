{
 "cells": [
  {
   "cell_type": "code",
   "execution_count": 234,
   "metadata": {
    "collapsed": true,
    "ExecuteTime": {
     "start_time": "2023-04-07T00:33:46.720739Z",
     "end_time": "2023-04-07T00:33:46.787471Z"
    }
   },
   "outputs": [],
   "source": [
    "import pandas as pd\n",
    "from sklearn import datasets\n",
    "from sklearn.metrics import accuracy_score\n",
    "from sklearn.model_selection import train_test_split\n",
    "from sklearn.linear_model import LogisticRegression\n",
    "from sklearn.tree import DecisionTreeClassifier\n",
    "from sklearn.neighbors import  KNeighborsClassifier\n",
    "from sklearn.ensemble import VotingClassifier, BaggingClassifier, RandomForestClassifier\n",
    "from sklearn.ensemble import AdaBoostClassifier, GradientBoostingClassifier\n",
    "import pickle"
   ]
  },
  {
   "cell_type": "code",
   "execution_count": 235,
   "outputs": [],
   "source": [
    "data_breast_cancer = datasets.load_breast_cancer(as_frame=True).frame"
   ],
   "metadata": {
    "collapsed": false,
    "ExecuteTime": {
     "start_time": "2023-04-07T00:33:46.768940Z",
     "end_time": "2023-04-07T00:33:46.836763Z"
    }
   }
  },
  {
   "cell_type": "code",
   "execution_count": 236,
   "outputs": [],
   "source": [
    "X = data_breast_cancer.drop('target', axis=1)\n",
    "y = data_breast_cancer['target']\n",
    "X = X[['mean texture', 'mean symmetry']]"
   ],
   "metadata": {
    "collapsed": false,
    "ExecuteTime": {
     "start_time": "2023-04-07T00:33:46.769058Z",
     "end_time": "2023-04-07T00:33:46.836942Z"
    }
   }
  },
  {
   "cell_type": "code",
   "execution_count": 237,
   "outputs": [],
   "source": [
    "X_train, X_test, y_train, y_test = train_test_split(X, y, train_size=0.8, random_state=42)"
   ],
   "metadata": {
    "collapsed": false,
    "ExecuteTime": {
     "start_time": "2023-04-07T00:33:46.769129Z",
     "end_time": "2023-04-07T00:33:46.837012Z"
    }
   }
  },
  {
   "cell_type": "code",
   "execution_count": 238,
   "outputs": [
    {
     "name": "stdout",
     "output_type": "stream",
     "text": [
      "1.0 0.6228070175438597\n"
     ]
    }
   ],
   "source": [
    "# tree classifier\n",
    "tree_clf = DecisionTreeClassifier()\n",
    "tree_clf.fit(X_train, y_train)\n",
    "tree_train_predict = tree_clf.predict(X_train)\n",
    "tree_test_predict = tree_clf.predict(X_test)\n",
    "\n",
    "tree_train_accuracy = accuracy_score(y_train, tree_train_predict)\n",
    "tree_test_accuracy = accuracy_score(y_test, tree_test_predict)\n",
    "\n",
    "print(tree_train_accuracy, tree_test_accuracy)\n"
   ],
   "metadata": {
    "collapsed": false,
    "ExecuteTime": {
     "start_time": "2023-04-07T00:33:46.772961Z",
     "end_time": "2023-04-07T00:33:46.837164Z"
    }
   }
  },
  {
   "cell_type": "code",
   "execution_count": 239,
   "outputs": [
    {
     "name": "stdout",
     "output_type": "stream",
     "text": [
      "0.7230769230769231 0.7017543859649122\n"
     ]
    }
   ],
   "source": [
    "# logistic regression\n",
    "log_clf = LogisticRegression()\n",
    "log_clf.fit(X_train, y_train)\n",
    "log_train_predict = log_clf.predict(X_train)\n",
    "log_test_predict = log_clf.predict(X_test)\n",
    "\n",
    "log_train_accuracy = accuracy_score(y_train, log_train_predict)\n",
    "log_test_accuracy = accuracy_score(y_test, log_test_predict)\n",
    "\n",
    "print(log_train_accuracy, log_test_accuracy)"
   ],
   "metadata": {
    "collapsed": false,
    "ExecuteTime": {
     "start_time": "2023-04-07T00:33:46.788246Z",
     "end_time": "2023-04-07T00:33:46.837661Z"
    }
   }
  },
  {
   "cell_type": "code",
   "execution_count": 240,
   "outputs": [
    {
     "name": "stdout",
     "output_type": "stream",
     "text": [
      "0.7714285714285715 0.6403508771929824\n"
     ]
    }
   ],
   "source": [
    "# k nearest neighbors\n",
    "knn_clf = KNeighborsClassifier()\n",
    "knn_clf.fit(X_train, y_train)\n",
    "knn_train_predict = knn_clf.predict(X_train)\n",
    "knn_test_predict = knn_clf.predict(X_test)\n",
    "\n",
    "knn_train_accuracy = accuracy_score(y_train, knn_train_predict)\n",
    "knn_test_accuracy = accuracy_score(y_test, knn_test_predict)\n",
    "\n",
    "print(knn_train_accuracy, knn_test_accuracy)"
   ],
   "metadata": {
    "collapsed": false,
    "ExecuteTime": {
     "start_time": "2023-04-07T00:33:46.809021Z",
     "end_time": "2023-04-07T00:33:46.837959Z"
    }
   }
  },
  {
   "cell_type": "code",
   "execution_count": 241,
   "outputs": [
    {
     "name": "stdout",
     "output_type": "stream",
     "text": [
      "0.8351648351648352 0.7017543859649122\n"
     ]
    }
   ],
   "source": [
    "# hard voting\n",
    "hard_clf = VotingClassifier(estimators=[('lr', log_clf), ('tr', tree_clf), ('knn', knn_clf)], voting='hard')\n",
    "hard_clf.fit(X_train, y_train)\n",
    "hard_train_predict = hard_clf.predict(X_train)\n",
    "hard_test_predict = hard_clf.predict(X_test)\n",
    "\n",
    "hard_train_accuracy = accuracy_score(y_train, hard_train_predict)\n",
    "hard_test_accuracy = accuracy_score(y_test, hard_test_predict)\n",
    "\n",
    "print(hard_train_accuracy, hard_test_accuracy)"
   ],
   "metadata": {
    "collapsed": false,
    "ExecuteTime": {
     "start_time": "2023-04-07T00:33:46.840091Z",
     "end_time": "2023-04-07T00:33:46.904682Z"
    }
   }
  },
  {
   "cell_type": "code",
   "execution_count": 242,
   "outputs": [
    {
     "name": "stdout",
     "output_type": "stream",
     "text": [
      "0.9648351648351648 0.6666666666666666\n"
     ]
    }
   ],
   "source": [
    "# soft voting\n",
    "soft_clf = VotingClassifier(estimators=[('lr', log_clf), ('tr', tree_clf), ('knn', knn_clf)], voting='soft')\n",
    "soft_clf.fit(X_train, y_train)\n",
    "soft_train_predict = soft_clf.predict(X_train)\n",
    "soft_test_predict = soft_clf.predict(X_test)\n",
    "\n",
    "soft_train_accuracy = accuracy_score(y_train, soft_train_predict)\n",
    "soft_test_accuracy = accuracy_score(y_test, soft_test_predict)\n",
    "\n",
    "print(soft_train_accuracy, soft_test_accuracy)"
   ],
   "metadata": {
    "collapsed": false,
    "ExecuteTime": {
     "start_time": "2023-04-07T00:33:46.880906Z",
     "end_time": "2023-04-07T00:33:46.951923Z"
    }
   }
  },
  {
   "cell_type": "code",
   "execution_count": 243,
   "outputs": [
    {
     "name": "stdout",
     "output_type": "stream",
     "text": [
      "0.7230769230769231 0.7017543859649122\n",
      "1.0 0.6228070175438597\n",
      "0.7714285714285715 0.6403508771929824\n",
      "0.8351648351648352 0.7017543859649122\n",
      "0.9648351648351648 0.6666666666666666\n"
     ]
    }
   ],
   "source": [
    "print(log_train_accuracy, log_test_accuracy)\n",
    "print(tree_train_accuracy, tree_test_accuracy)\n",
    "print(knn_train_accuracy, knn_test_accuracy)\n",
    "print(hard_train_accuracy, hard_test_accuracy)\n",
    "print(soft_train_accuracy, soft_test_accuracy)"
   ],
   "metadata": {
    "collapsed": false,
    "ExecuteTime": {
     "start_time": "2023-04-07T00:33:46.925102Z",
     "end_time": "2023-04-07T00:33:46.960765Z"
    }
   }
  },
  {
   "cell_type": "code",
   "execution_count": 244,
   "outputs": [
    {
     "name": "stdout",
     "output_type": "stream",
     "text": [
      "[(1.0, 0.6228070175438597), (0.7230769230769231, 0.7017543859649122), (0.7714285714285715, 0.6403508771929824), (0.8351648351648352, 0.7017543859649122), (0.9648351648351648, 0.6666666666666666)]\n"
     ]
    }
   ],
   "source": [
    "accuracy_list = [(tree_train_accuracy, tree_test_accuracy),\n",
    "                 (log_train_accuracy, log_test_accuracy),\n",
    "                 (knn_train_accuracy, knn_test_accuracy),\n",
    "                 (hard_train_accuracy, hard_test_accuracy),\n",
    "                 (soft_train_accuracy, soft_test_accuracy)]\n",
    "print(accuracy_list)"
   ],
   "metadata": {
    "collapsed": false,
    "ExecuteTime": {
     "start_time": "2023-04-07T00:33:46.925160Z",
     "end_time": "2023-04-07T00:33:46.960946Z"
    }
   }
  },
  {
   "cell_type": "code",
   "execution_count": 245,
   "outputs": [],
   "source": [
    "with open('acc_vote.pkl', 'wb') as file:\n",
    "    pickle.dump(accuracy_list, file)"
   ],
   "metadata": {
    "collapsed": false,
    "ExecuteTime": {
     "start_time": "2023-04-07T00:33:46.925204Z",
     "end_time": "2023-04-07T00:33:46.961005Z"
    }
   }
  },
  {
   "cell_type": "code",
   "execution_count": 246,
   "outputs": [],
   "source": [
    "classificator_list = [tree_clf, log_clf, knn_clf, hard_clf, soft_clf]"
   ],
   "metadata": {
    "collapsed": false,
    "ExecuteTime": {
     "start_time": "2023-04-07T00:33:46.925242Z",
     "end_time": "2023-04-07T00:33:46.961063Z"
    }
   }
  },
  {
   "cell_type": "code",
   "execution_count": 247,
   "outputs": [],
   "source": [
    "with open('vote.pkl', 'wb') as file:\n",
    "    pickle.dump(classificator_list, file)"
   ],
   "metadata": {
    "collapsed": false,
    "ExecuteTime": {
     "start_time": "2023-04-07T00:33:46.925276Z",
     "end_time": "2023-04-07T00:33:46.961118Z"
    }
   }
  },
  {
   "cell_type": "code",
   "execution_count": 274,
   "outputs": [
    {
     "name": "stdout",
     "output_type": "stream",
     "text": [
      "1.0 0.956140350877193\n"
     ]
    }
   ],
   "source": [
    "# bagging classifier\n",
    "bag_clf = BaggingClassifier(n_estimators=30, bootstrap=True)\n",
    "bag_clf.fit(X_train, y_train)\n",
    "bag_train_predict = bag_clf.predict(X_train)\n",
    "bag_test_predict = bag_clf.predict(X_test)\n",
    "\n",
    "bag_train_accuracy = accuracy_score(y_train, bag_train_predict)\n",
    "bag_test_accuracy = accuracy_score(y_test, bag_test_predict)\n",
    "\n",
    "print(bag_train_accuracy, bag_test_accuracy)"
   ],
   "metadata": {
    "collapsed": false,
    "ExecuteTime": {
     "start_time": "2023-04-07T00:36:01.844648Z",
     "end_time": "2023-04-07T00:36:01.970133Z"
    }
   }
  },
  {
   "cell_type": "code",
   "execution_count": 282,
   "outputs": [
    {
     "name": "stdout",
     "output_type": "stream",
     "text": [
      "0.9912087912087912 0.9649122807017544\n"
     ]
    }
   ],
   "source": [
    "# bagging 50% instances\n",
    "bag05_clf = BaggingClassifier(n_estimators=30, max_samples=0.5, bootstrap=True)\n",
    "bag05_clf.fit(X_train, y_train)\n",
    "bag05_train_predict = bag05_clf.predict(X_train)\n",
    "bag05_test_predict = bag05_clf.predict(X_test)\n",
    "\n",
    "bag05_train_accuracy = accuracy_score(y_train, bag05_train_predict)\n",
    "bag05_test_accuracy = accuracy_score(y_test, bag05_test_predict)\n",
    "\n",
    "print(bag05_train_accuracy, bag05_test_accuracy)"
   ],
   "metadata": {
    "collapsed": false,
    "ExecuteTime": {
     "start_time": "2023-04-07T00:37:38.951546Z",
     "end_time": "2023-04-07T00:37:39.038875Z"
    }
   }
  },
  {
   "cell_type": "code",
   "execution_count": 281,
   "outputs": [
    {
     "name": "stdout",
     "output_type": "stream",
     "text": [
      "1.0 0.9385964912280702\n"
     ]
    }
   ],
   "source": [
    "# pasting classifier\n",
    "pasting_clf = BaggingClassifier(n_estimators=30, bootstrap=False)\n",
    "pasting_clf.fit(X_train, y_train)\n",
    "pasting_train_predict = pasting_clf.predict(X_train)\n",
    "pasting_test_predict = pasting_clf.predict(X_test)\n",
    "\n",
    "pasting_train_accuracy = accuracy_score(y_train, pasting_train_predict)\n",
    "pasting_test_accuracy = accuracy_score(y_test, pasting_test_predict)\n",
    "\n",
    "print(pasting_train_accuracy, pasting_test_accuracy)"
   ],
   "metadata": {
    "collapsed": false,
    "ExecuteTime": {
     "start_time": "2023-04-07T00:36:30.501072Z",
     "end_time": "2023-04-07T00:36:30.698948Z"
    }
   }
  },
  {
   "cell_type": "code",
   "execution_count": 283,
   "outputs": [
    {
     "name": "stdout",
     "output_type": "stream",
     "text": [
      "0.9978021978021978 0.956140350877193\n"
     ]
    }
   ],
   "source": [
    "# pasting 50% instances\n",
    "pasting05_clf = BaggingClassifier(n_estimators=30, max_samples=0.5, bootstrap=False)\n",
    "pasting05_clf.fit(X_train, y_train)\n",
    "pasting05_train_predict = pasting05_clf.predict(X_train)\n",
    "pasting05_test_predict = pasting05_clf.predict(X_test)\n",
    "\n",
    "pasting05_train_accuracy = accuracy_score(y_train, pasting05_train_predict)\n",
    "pasting05_test_accuracy = accuracy_score(y_test, pasting05_test_predict)\n",
    "\n",
    "print(pasting05_train_accuracy, pasting05_test_accuracy)"
   ],
   "metadata": {
    "collapsed": false,
    "ExecuteTime": {
     "start_time": "2023-04-07T00:37:46.270624Z",
     "end_time": "2023-04-07T00:37:46.411080Z"
    }
   }
  },
  {
   "cell_type": "code",
   "execution_count": 252,
   "outputs": [
    {
     "name": "stdout",
     "output_type": "stream",
     "text": [
      "0.9978021978021978 0.6754385964912281\n"
     ]
    }
   ],
   "source": [
    "# random forrest classifier\n",
    "rnd_clf = RandomForestClassifier(n_estimators=30)\n",
    "rnd_clf.fit(X_train, y_train)\n",
    "rnd_train_predict = rnd_clf.predict(X_train)\n",
    "rnd_test_predict = rnd_clf.predict(X_test)\n",
    "\n",
    "rnd_train_accuracy = accuracy_score(y_train, rnd_train_predict)\n",
    "rnd_test_accuracy = accuracy_score(y_test, rnd_test_predict)\n",
    "\n",
    "print(rnd_train_accuracy, rnd_test_accuracy)"
   ],
   "metadata": {
    "collapsed": false,
    "ExecuteTime": {
     "start_time": "2023-04-07T00:33:47.149033Z",
     "end_time": "2023-04-07T00:33:47.177576Z"
    }
   }
  },
  {
   "cell_type": "code",
   "execution_count": 253,
   "outputs": [
    {
     "name": "stdout",
     "output_type": "stream",
     "text": [
      "0.8 0.7368421052631579\n"
     ]
    }
   ],
   "source": [
    "# adaBoost classifier\n",
    "ada_clf = AdaBoostClassifier(n_estimators=30)\n",
    "ada_clf.fit(X_train, y_train)\n",
    "ada_train_predict = ada_clf.predict(X_train)\n",
    "ada_test_predict = ada_clf.predict(X_test)\n",
    "\n",
    "ada_train_accuracy = accuracy_score(y_train, ada_train_predict)\n",
    "ada_test_accuracy = accuracy_score(y_test, ada_test_predict)\n",
    "\n",
    "print(ada_train_accuracy, ada_test_accuracy)"
   ],
   "metadata": {
    "collapsed": false,
    "ExecuteTime": {
     "start_time": "2023-04-07T00:33:47.182282Z",
     "end_time": "2023-04-07T00:33:47.269539Z"
    }
   }
  },
  {
   "cell_type": "code",
   "execution_count": 254,
   "outputs": [
    {
     "name": "stdout",
     "output_type": "stream",
     "text": [
      "0.8373626373626374 0.7105263157894737\n"
     ]
    }
   ],
   "source": [
    "# gradient classifier\n",
    "gradient_clf = GradientBoostingClassifier(n_estimators=30)\n",
    "gradient_clf.fit(X_train, y_train)\n",
    "gradient_train_predict = gradient_clf.predict(X_train)\n",
    "gradient_test_predict = gradient_clf.predict(X_test)\n",
    "\n",
    "gradient_train_accuracy = accuracy_score(y_train, gradient_train_predict)\n",
    "gradient_test_accuracy = accuracy_score(y_test, gradient_test_predict)\n",
    "\n",
    "print(gradient_train_accuracy, gradient_test_accuracy)"
   ],
   "metadata": {
    "collapsed": false,
    "ExecuteTime": {
     "start_time": "2023-04-07T00:33:47.268964Z",
     "end_time": "2023-04-07T00:33:47.269806Z"
    }
   }
  },
  {
   "cell_type": "code",
   "execution_count": 255,
   "outputs": [],
   "source": [
    "bagging_accuracy_list = [\n",
    "    (bag_train_accuracy, bag_test_accuracy),\n",
    "    (bag05_train_accuracy, bag05_test_accuracy),\n",
    "    (pasting_train_accuracy, pasting_test_accuracy),\n",
    "    (pasting05_train_accuracy, pasting05_test_accuracy),\n",
    "    (rnd_train_accuracy, rnd_test_accuracy),\n",
    "    (ada_train_accuracy, ada_test_accuracy),\n",
    "    (gradient_train_accuracy, gradient_test_accuracy)]"
   ],
   "metadata": {
    "collapsed": false,
    "ExecuteTime": {
     "start_time": "2023-04-07T00:33:47.269013Z",
     "end_time": "2023-04-07T00:33:47.269890Z"
    }
   }
  },
  {
   "cell_type": "code",
   "execution_count": 256,
   "outputs": [
    {
     "name": "stdout",
     "output_type": "stream",
     "text": [
      "[(0.9956043956043956, 0.6929824561403509), (0.9846153846153847, 0.6403508771929824), (1.0, 0.6140350877192983), (1.0, 0.6228070175438597), (0.9978021978021978, 0.6754385964912281), (0.8, 0.7368421052631579), (0.8373626373626374, 0.7105263157894737)]\n"
     ]
    }
   ],
   "source": [
    "print(bagging_accuracy_list)"
   ],
   "metadata": {
    "collapsed": false,
    "ExecuteTime": {
     "start_time": "2023-04-07T00:33:47.269047Z",
     "end_time": "2023-04-07T00:33:47.270835Z"
    }
   }
  },
  {
   "cell_type": "code",
   "execution_count": 257,
   "outputs": [],
   "source": [
    "with open('acc_bag.pkl', 'wb') as file:\n",
    "    pickle.dump(bagging_accuracy_list, file)"
   ],
   "metadata": {
    "collapsed": false,
    "ExecuteTime": {
     "start_time": "2023-04-07T00:33:47.269090Z",
     "end_time": "2023-04-07T00:33:47.271206Z"
    }
   }
  },
  {
   "cell_type": "code",
   "execution_count": 284,
   "outputs": [],
   "source": [
    "bagging_classificator_list = [bag_clf, bag05_clf, pasting_clf, pasting05_clf, rnd_clf,\n",
    "                               ada_clf, gradient_clf]"
   ],
   "metadata": {
    "collapsed": false,
    "ExecuteTime": {
     "start_time": "2023-04-07T00:38:36.353078Z",
     "end_time": "2023-04-07T00:38:36.402512Z"
    }
   }
  },
  {
   "cell_type": "code",
   "execution_count": 285,
   "outputs": [
    {
     "name": "stdout",
     "output_type": "stream",
     "text": [
      "[BaggingClassifier(n_estimators=30), BaggingClassifier(max_samples=0.5, n_estimators=30), BaggingClassifier(bootstrap=False, n_estimators=30), BaggingClassifier(bootstrap=False, max_samples=0.5, n_estimators=30), RandomForestClassifier(n_estimators=30), AdaBoostClassifier(n_estimators=30), GradientBoostingClassifier(n_estimators=30)]\n"
     ]
    }
   ],
   "source": [
    "print(bagging_classificator_list)"
   ],
   "metadata": {
    "collapsed": false,
    "ExecuteTime": {
     "start_time": "2023-04-07T00:38:39.208599Z",
     "end_time": "2023-04-07T00:38:39.225758Z"
    }
   }
  },
  {
   "cell_type": "code",
   "execution_count": 260,
   "outputs": [],
   "source": [
    "with open('bag.pkl', 'wb') as file:\n",
    "    pickle.dump(bagging_classificator_list, file)"
   ],
   "metadata": {
    "collapsed": false,
    "ExecuteTime": {
     "start_time": "2023-04-07T00:33:47.317122Z",
     "end_time": "2023-04-07T00:33:47.384833Z"
    }
   }
  },
  {
   "cell_type": "code",
   "execution_count": 261,
   "outputs": [],
   "source": [
    "data_breast_cancer = datasets.load_breast_cancer(as_frame=True).frame\n",
    "X = data_breast_cancer.drop('target', axis=1)\n",
    "y = data_breast_cancer['target']\n",
    "X_train, X_test, y_train, y_test = train_test_split(X, y, test_size=0.2, random_state=42)"
   ],
   "metadata": {
    "collapsed": false,
    "ExecuteTime": {
     "start_time": "2023-04-07T00:33:47.374375Z",
     "end_time": "2023-04-07T00:33:47.425138Z"
    }
   }
  },
  {
   "cell_type": "code",
   "execution_count": 262,
   "outputs": [
    {
     "name": "stdout",
     "output_type": "stream",
     "text": [
      "1.0 0.956140350877193\n"
     ]
    }
   ],
   "source": [
    "pasting2_clf = BaggingClassifier(n_estimators=30, max_samples=0.5, max_features=2, bootstrap=False)\n",
    "pasting2_clf.fit(X_train, y_train)\n",
    "pasting2_train_predict = pasting2_clf.predict(X_train)\n",
    "pasting2_test_predict = pasting2_clf.predict(X_test)\n",
    "\n",
    "pasting2_train_accuracy = accuracy_score(y_train, pasting2_train_predict)\n",
    "pasting2_test_accuracy = accuracy_score(y_test, pasting2_test_predict)\n",
    "\n",
    "print(pasting2_train_accuracy, pasting2_test_accuracy)"
   ],
   "metadata": {
    "collapsed": false,
    "ExecuteTime": {
     "start_time": "2023-04-07T00:33:47.384099Z",
     "end_time": "2023-04-07T00:33:47.469296Z"
    }
   }
  },
  {
   "cell_type": "code",
   "execution_count": 263,
   "outputs": [],
   "source": [
    "pasting2_accuracy_list = [pasting2_train_accuracy, pasting2_test_accuracy]"
   ],
   "metadata": {
    "collapsed": false,
    "ExecuteTime": {
     "start_time": "2023-04-07T00:33:47.469075Z",
     "end_time": "2023-04-07T00:33:47.469461Z"
    }
   }
  },
  {
   "cell_type": "code",
   "execution_count": 264,
   "outputs": [],
   "source": [
    "with open('acc_fea.pkl', 'wb') as file:\n",
    "    pickle.dump(pasting2_accuracy_list, file)"
   ],
   "metadata": {
    "collapsed": false,
    "ExecuteTime": {
     "start_time": "2023-04-07T00:33:47.469182Z",
     "end_time": "2023-04-07T00:33:47.469538Z"
    }
   }
  },
  {
   "cell_type": "code",
   "execution_count": 265,
   "outputs": [],
   "source": [
    "pasting2_clf_list = [pasting2_clf]"
   ],
   "metadata": {
    "collapsed": false,
    "ExecuteTime": {
     "start_time": "2023-04-07T00:33:47.469251Z",
     "end_time": "2023-04-07T00:33:47.469646Z"
    }
   }
  },
  {
   "cell_type": "code",
   "execution_count": 266,
   "outputs": [],
   "source": [
    "with open('fea.pkl', 'wb') as file:\n",
    "    pickle.dump(pasting2_clf_list, file)"
   ],
   "metadata": {
    "collapsed": false,
    "ExecuteTime": {
     "start_time": "2023-04-07T00:33:47.469366Z",
     "end_time": "2023-04-07T00:33:47.469729Z"
    }
   }
  },
  {
   "cell_type": "code",
   "execution_count": 268,
   "outputs": [],
   "source": [
    "my_clf = BaggingClassifier()\n",
    "my_clf.fit(X_train, y_train)\n",
    "train_accuracy = []\n",
    "test_accuracy = []\n",
    "feature_names = []\n",
    "for estimator in my_clf.estimators_:\n",
    "    clf = BaggingClassifier(estimator, max_features=2)\n",
    "    clf.fit(X_train, y_train)\n",
    "    clf_train_predict = clf.predict(X_train)\n",
    "    clf_test_predict = clf.predict(X_test)\n",
    "\n",
    "    clf_train_accuracy = accuracy_score(y_train, clf_train_predict)\n",
    "    clf_test_accuracy = accuracy_score(y_test, clf_test_predict)\n",
    "    train_accuracy.append(clf_train_accuracy)\n",
    "    test_accuracy.append(clf_test_accuracy)\n",
    "    tmp_feature_names = []\n",
    "    for name in clf.estimators_features_:\n",
    "        tmp_tmp_feature_names = []\n",
    "        for element in name:\n",
    "            tmp_tmp_feature_names.append(X.columns[element])\n",
    "        tmp_feature_names.append(tmp_tmp_feature_names)\n",
    "    feature_names.append(tmp_feature_names)"
   ],
   "metadata": {
    "collapsed": false,
    "ExecuteTime": {
     "start_time": "2023-04-07T00:33:47.469566Z",
     "end_time": "2023-04-07T00:33:47.698951Z"
    }
   }
  },
  {
   "cell_type": "code",
   "execution_count": 269,
   "outputs": [],
   "source": [
    "df = pd.DataFrame({'train_accuracy': train_accuracy,\n",
    "                   'test_accuracy': test_accuracy,\n",
    "                   'features': feature_names})"
   ],
   "metadata": {
    "collapsed": false,
    "ExecuteTime": {
     "start_time": "2023-04-07T00:33:47.700932Z",
     "end_time": "2023-04-07T00:33:47.704959Z"
    }
   }
  },
  {
   "cell_type": "code",
   "execution_count": 270,
   "outputs": [
    {
     "data": {
      "text/plain": "   train_accuracy  test_accuracy  \\\n2        1.000000       0.973684   \n8        1.000000       0.964912   \n9        1.000000       0.964912   \n3        0.997802       0.956140   \n7        1.000000       0.947368   \n4        1.000000       0.938596   \n6        0.995604       0.938596   \n0        1.000000       0.929825   \n5        0.995604       0.921053   \n1        0.995604       0.850877   \n\n                                            features  \n2  [[worst texture, worst smoothness], [mean symm...  \n8  [[worst compactness, worst concavity], [worst ...  \n9  [[compactness error, mean area], [mean concavi...  \n3  [[worst symmetry, mean radius], [worst texture...  \n7  [[smoothness error, mean perimeter], [compactn...  \n4  [[mean concavity, concave points error], [symm...  \n6  [[mean texture, mean symmetry], [mean compactn...  \n0  [[worst smoothness, texture error], [mean conc...  \n5  [[concavity error, mean area], [compactness er...  \n1  [[smoothness error, worst fractal dimension], ...  ",
      "text/html": "<div>\n<style scoped>\n    .dataframe tbody tr th:only-of-type {\n        vertical-align: middle;\n    }\n\n    .dataframe tbody tr th {\n        vertical-align: top;\n    }\n\n    .dataframe thead th {\n        text-align: right;\n    }\n</style>\n<table border=\"1\" class=\"dataframe\">\n  <thead>\n    <tr style=\"text-align: right;\">\n      <th></th>\n      <th>train_accuracy</th>\n      <th>test_accuracy</th>\n      <th>features</th>\n    </tr>\n  </thead>\n  <tbody>\n    <tr>\n      <th>2</th>\n      <td>1.000000</td>\n      <td>0.973684</td>\n      <td>[[worst texture, worst smoothness], [mean symm...</td>\n    </tr>\n    <tr>\n      <th>8</th>\n      <td>1.000000</td>\n      <td>0.964912</td>\n      <td>[[worst compactness, worst concavity], [worst ...</td>\n    </tr>\n    <tr>\n      <th>9</th>\n      <td>1.000000</td>\n      <td>0.964912</td>\n      <td>[[compactness error, mean area], [mean concavi...</td>\n    </tr>\n    <tr>\n      <th>3</th>\n      <td>0.997802</td>\n      <td>0.956140</td>\n      <td>[[worst symmetry, mean radius], [worst texture...</td>\n    </tr>\n    <tr>\n      <th>7</th>\n      <td>1.000000</td>\n      <td>0.947368</td>\n      <td>[[smoothness error, mean perimeter], [compactn...</td>\n    </tr>\n    <tr>\n      <th>4</th>\n      <td>1.000000</td>\n      <td>0.938596</td>\n      <td>[[mean concavity, concave points error], [symm...</td>\n    </tr>\n    <tr>\n      <th>6</th>\n      <td>0.995604</td>\n      <td>0.938596</td>\n      <td>[[mean texture, mean symmetry], [mean compactn...</td>\n    </tr>\n    <tr>\n      <th>0</th>\n      <td>1.000000</td>\n      <td>0.929825</td>\n      <td>[[worst smoothness, texture error], [mean conc...</td>\n    </tr>\n    <tr>\n      <th>5</th>\n      <td>0.995604</td>\n      <td>0.921053</td>\n      <td>[[concavity error, mean area], [compactness er...</td>\n    </tr>\n    <tr>\n      <th>1</th>\n      <td>0.995604</td>\n      <td>0.850877</td>\n      <td>[[smoothness error, worst fractal dimension], ...</td>\n    </tr>\n  </tbody>\n</table>\n</div>"
     },
     "execution_count": 270,
     "metadata": {},
     "output_type": "execute_result"
    }
   ],
   "source": [
    "df = df.sort_values(by=['test_accuracy', 'train_accuracy'], ascending=False)\n",
    "df"
   ],
   "metadata": {
    "collapsed": false,
    "ExecuteTime": {
     "start_time": "2023-04-07T00:33:47.704516Z",
     "end_time": "2023-04-07T00:33:47.736336Z"
    }
   }
  },
  {
   "cell_type": "code",
   "execution_count": 271,
   "outputs": [],
   "source": [
    "df.to_pickle('acc_fea_rank.pkl')"
   ],
   "metadata": {
    "collapsed": false,
    "ExecuteTime": {
     "start_time": "2023-04-07T00:33:47.736450Z",
     "end_time": "2023-04-07T00:33:47.747837Z"
    }
   }
  }
 ],
 "metadata": {
  "kernelspec": {
   "display_name": "Python 3",
   "language": "python",
   "name": "python3"
  },
  "language_info": {
   "codemirror_mode": {
    "name": "ipython",
    "version": 2
   },
   "file_extension": ".py",
   "mimetype": "text/x-python",
   "name": "python",
   "nbconvert_exporter": "python",
   "pygments_lexer": "ipython2",
   "version": "2.7.6"
  }
 },
 "nbformat": 4,
 "nbformat_minor": 0
}
