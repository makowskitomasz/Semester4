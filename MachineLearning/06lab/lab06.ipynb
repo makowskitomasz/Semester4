{
 "cells": [
  {
   "cell_type": "code",
   "execution_count": 1,
   "metadata": {
    "ExecuteTime": {
     "end_time": "2023-04-08T12:28:57.121556Z",
     "start_time": "2023-04-08T12:28:57.115239Z"
    }
   },
   "outputs": [],
   "source": [
    "import pandas as pd\n",
    "from sklearn import datasets\n",
    "from sklearn.metrics import accuracy_score\n",
    "from sklearn.model_selection import train_test_split\n",
    "from sklearn.linear_model import LogisticRegression\n",
    "from sklearn.tree import DecisionTreeClassifier\n",
    "from sklearn.neighbors import  KNeighborsClassifier\n",
    "from sklearn.ensemble import VotingClassifier, BaggingClassifier, RandomForestClassifier\n",
    "from sklearn.ensemble import AdaBoostClassifier, GradientBoostingClassifier\n",
    "import pickle"
   ]
  },
  {
   "cell_type": "code",
   "execution_count": 2,
   "metadata": {
    "ExecuteTime": {
     "end_time": "2023-04-08T12:28:58.186852Z",
     "start_time": "2023-04-08T12:28:58.140021Z"
    },
    "collapsed": false,
    "jupyter": {
     "outputs_hidden": false
    }
   },
   "outputs": [],
   "source": [
    "data_breast_cancer = datasets.load_breast_cancer(as_frame=True).frame"
   ]
  },
  {
   "cell_type": "code",
   "execution_count": 3,
   "metadata": {
    "ExecuteTime": {
     "end_time": "2023-04-08T12:28:58.914415Z",
     "start_time": "2023-04-08T12:28:58.894452Z"
    },
    "collapsed": false,
    "jupyter": {
     "outputs_hidden": false
    }
   },
   "outputs": [],
   "source": [
    "X = data_breast_cancer.drop('target', axis=1)\n",
    "y = data_breast_cancer['target']\n",
    "X = X[['mean texture', 'mean symmetry']]"
   ]
  },
  {
   "cell_type": "code",
   "execution_count": 4,
   "metadata": {
    "ExecuteTime": {
     "end_time": "2023-04-08T12:28:59.548316Z",
     "start_time": "2023-04-08T12:28:59.492903Z"
    },
    "collapsed": false,
    "jupyter": {
     "outputs_hidden": false
    }
   },
   "outputs": [],
   "source": [
    "X_train, X_test, y_train, y_test = train_test_split(X, y, train_size=0.8, random_state=42)"
   ]
  },
  {
   "cell_type": "code",
   "execution_count": 5,
   "metadata": {
    "ExecuteTime": {
     "end_time": "2023-04-08T12:29:00.070227Z",
     "start_time": "2023-04-08T12:29:00.024501Z"
    },
    "collapsed": false,
    "jupyter": {
     "outputs_hidden": false
    }
   },
   "outputs": [
    {
     "name": "stdout",
     "output_type": "stream",
     "text": [
      "1.0 0.6140350877192983\n"
     ]
    }
   ],
   "source": [
    "# tree classifier\n",
    "tree_clf = DecisionTreeClassifier()\n",
    "tree_clf.fit(X_train, y_train)\n",
    "tree_train_predict = tree_clf.predict(X_train)\n",
    "tree_test_predict = tree_clf.predict(X_test)\n",
    "\n",
    "tree_train_accuracy = accuracy_score(y_train, tree_train_predict)\n",
    "tree_test_accuracy = accuracy_score(y_test, tree_test_predict)\n",
    "\n",
    "print(tree_train_accuracy, tree_test_accuracy)\n"
   ]
  },
  {
   "cell_type": "code",
   "execution_count": 6,
   "metadata": {
    "ExecuteTime": {
     "end_time": "2023-04-08T12:29:02.783045Z",
     "start_time": "2023-04-08T12:29:02.726194Z"
    },
    "collapsed": false,
    "jupyter": {
     "outputs_hidden": false
    }
   },
   "outputs": [
    {
     "name": "stdout",
     "output_type": "stream",
     "text": [
      "0.7230769230769231 0.7017543859649122\n"
     ]
    }
   ],
   "source": [
    "# logistic regression\n",
    "log_clf = LogisticRegression()\n",
    "log_clf.fit(X_train, y_train)\n",
    "log_train_predict = log_clf.predict(X_train)\n",
    "log_test_predict = log_clf.predict(X_test)\n",
    "\n",
    "log_train_accuracy = accuracy_score(y_train, log_train_predict)\n",
    "log_test_accuracy = accuracy_score(y_test, log_test_predict)\n",
    "\n",
    "print(log_train_accuracy, log_test_accuracy)"
   ]
  },
  {
   "cell_type": "code",
   "execution_count": 7,
   "metadata": {
    "ExecuteTime": {
     "end_time": "2023-04-08T12:29:05.042564Z",
     "start_time": "2023-04-08T12:29:05.016140Z"
    },
    "collapsed": false,
    "jupyter": {
     "outputs_hidden": false
    }
   },
   "outputs": [
    {
     "name": "stdout",
     "output_type": "stream",
     "text": [
      "0.7714285714285715 0.6403508771929824\n"
     ]
    }
   ],
   "source": [
    "# k nearest neighbors\n",
    "knn_clf = KNeighborsClassifier()\n",
    "knn_clf.fit(X_train, y_train)\n",
    "knn_train_predict = knn_clf.predict(X_train)\n",
    "knn_test_predict = knn_clf.predict(X_test)\n",
    "\n",
    "knn_train_accuracy = accuracy_score(y_train, knn_train_predict)\n",
    "knn_test_accuracy = accuracy_score(y_test, knn_test_predict)\n",
    "\n",
    "print(knn_train_accuracy, knn_test_accuracy)"
   ]
  },
  {
   "cell_type": "code",
   "execution_count": 8,
   "metadata": {
    "ExecuteTime": {
     "end_time": "2023-04-08T12:29:09.601490Z",
     "start_time": "2023-04-08T12:29:09.544263Z"
    },
    "collapsed": false,
    "jupyter": {
     "outputs_hidden": false
    }
   },
   "outputs": [
    {
     "name": "stdout",
     "output_type": "stream",
     "text": [
      "0.8351648351648352 0.6929824561403509\n"
     ]
    }
   ],
   "source": [
    "# hard voting\n",
    "hard_clf = VotingClassifier(estimators=[('lr', log_clf), ('tr', tree_clf), ('knn', knn_clf)], voting='hard')\n",
    "hard_clf.fit(X_train, y_train)\n",
    "hard_train_predict = hard_clf.predict(X_train)\n",
    "hard_test_predict = hard_clf.predict(X_test)\n",
    "\n",
    "hard_train_accuracy = accuracy_score(y_train, hard_train_predict)\n",
    "hard_test_accuracy = accuracy_score(y_test, hard_test_predict)\n",
    "\n",
    "print(hard_train_accuracy, hard_test_accuracy)"
   ]
  },
  {
   "cell_type": "code",
   "execution_count": 9,
   "metadata": {
    "ExecuteTime": {
     "end_time": "2023-04-08T12:29:11.372284Z",
     "start_time": "2023-04-08T12:29:11.351419Z"
    },
    "collapsed": false,
    "jupyter": {
     "outputs_hidden": false
    }
   },
   "outputs": [
    {
     "name": "stdout",
     "output_type": "stream",
     "text": [
      "0.9648351648351648 0.6754385964912281\n"
     ]
    }
   ],
   "source": [
    "# soft voting\n",
    "soft_clf = VotingClassifier(estimators=[('lr', log_clf), ('tr', tree_clf), ('knn', knn_clf)], voting='soft')\n",
    "soft_clf.fit(X_train, y_train)\n",
    "soft_train_predict = soft_clf.predict(X_train)\n",
    "soft_test_predict = soft_clf.predict(X_test)\n",
    "\n",
    "soft_train_accuracy = accuracy_score(y_train, soft_train_predict)\n",
    "soft_test_accuracy = accuracy_score(y_test, soft_test_predict)\n",
    "\n",
    "print(soft_train_accuracy, soft_test_accuracy)"
   ]
  },
  {
   "cell_type": "code",
   "execution_count": 10,
   "metadata": {
    "ExecuteTime": {
     "end_time": "2023-04-08T12:29:13.445647Z",
     "start_time": "2023-04-08T12:29:13.424948Z"
    },
    "collapsed": false,
    "jupyter": {
     "outputs_hidden": false
    }
   },
   "outputs": [
    {
     "name": "stdout",
     "output_type": "stream",
     "text": [
      "0.7230769230769231 0.7017543859649122\n",
      "1.0 0.6140350877192983\n",
      "0.7714285714285715 0.6403508771929824\n",
      "0.8351648351648352 0.6929824561403509\n",
      "0.9648351648351648 0.6754385964912281\n"
     ]
    }
   ],
   "source": [
    "print(log_train_accuracy, log_test_accuracy)\n",
    "print(tree_train_accuracy, tree_test_accuracy)\n",
    "print(knn_train_accuracy, knn_test_accuracy)\n",
    "print(hard_train_accuracy, hard_test_accuracy)\n",
    "print(soft_train_accuracy, soft_test_accuracy)"
   ]
  },
  {
   "cell_type": "code",
   "execution_count": 11,
   "metadata": {
    "ExecuteTime": {
     "end_time": "2023-04-08T12:29:16.673276Z",
     "start_time": "2023-04-08T12:29:16.650413Z"
    },
    "collapsed": false,
    "jupyter": {
     "outputs_hidden": false
    }
   },
   "outputs": [
    {
     "name": "stdout",
     "output_type": "stream",
     "text": [
      "[(1.0, 0.6140350877192983), (0.7230769230769231, 0.7017543859649122), (0.7714285714285715, 0.6403508771929824), (0.8351648351648352, 0.6929824561403509), (0.9648351648351648, 0.6754385964912281)]\n"
     ]
    }
   ],
   "source": [
    "accuracy_list = [(tree_train_accuracy, tree_test_accuracy),\n",
    "                 (log_train_accuracy, log_test_accuracy),\n",
    "                 (knn_train_accuracy, knn_test_accuracy),\n",
    "                 (hard_train_accuracy, hard_test_accuracy),\n",
    "                 (soft_train_accuracy, soft_test_accuracy)]\n",
    "print(accuracy_list)"
   ]
  },
  {
   "cell_type": "code",
   "execution_count": 12,
   "metadata": {
    "ExecuteTime": {
     "end_time": "2023-04-08T12:29:20.362836Z",
     "start_time": "2023-04-08T12:29:20.356470Z"
    },
    "collapsed": false,
    "jupyter": {
     "outputs_hidden": false
    }
   },
   "outputs": [],
   "source": [
    "with open('acc_vote.pkl', 'wb') as file:\n",
    "    pickle.dump(accuracy_list, file)"
   ]
  },
  {
   "cell_type": "code",
   "execution_count": 13,
   "metadata": {
    "ExecuteTime": {
     "end_time": "2023-04-08T12:29:22.158051Z",
     "start_time": "2023-04-08T12:29:22.142172Z"
    },
    "collapsed": false,
    "jupyter": {
     "outputs_hidden": false
    }
   },
   "outputs": [
    {
     "name": "stdout",
     "output_type": "stream",
     "text": [
      "[DecisionTreeClassifier(), LogisticRegression(), KNeighborsClassifier(), VotingClassifier(estimators=[('lr', LogisticRegression()),\n",
      "                             ('tr', DecisionTreeClassifier()),\n",
      "                             ('knn', KNeighborsClassifier())]), VotingClassifier(estimators=[('lr', LogisticRegression()),\n",
      "                             ('tr', DecisionTreeClassifier()),\n",
      "                             ('knn', KNeighborsClassifier())],\n",
      "                 voting='soft')]\n"
     ]
    }
   ],
   "source": [
    "classificator_list = [tree_clf, log_clf, knn_clf, hard_clf, soft_clf]\n",
    "print(classificator_list)"
   ]
  },
  {
   "cell_type": "code",
   "execution_count": 14,
   "metadata": {
    "ExecuteTime": {
     "end_time": "2023-04-08T12:29:23.824477Z",
     "start_time": "2023-04-08T12:29:23.815376Z"
    },
    "collapsed": false,
    "jupyter": {
     "outputs_hidden": false
    }
   },
   "outputs": [],
   "source": [
    "with open('vote.pkl', 'wb') as file:\n",
    "    pickle.dump(classificator_list, file)"
   ]
  },
  {
   "cell_type": "code",
   "execution_count": 15,
   "metadata": {
    "ExecuteTime": {
     "end_time": "2023-04-08T12:29:28.317658Z",
     "start_time": "2023-04-08T12:29:28.219994Z"
    },
    "collapsed": false,
    "jupyter": {
     "outputs_hidden": false
    }
   },
   "outputs": [
    {
     "name": "stdout",
     "output_type": "stream",
     "text": [
      "0.9934065934065934 0.6754385964912281\n"
     ]
    }
   ],
   "source": [
    "# bagging classifier\n",
    "bag_clf = BaggingClassifier(n_estimators=30, bootstrap=True)\n",
    "bag_clf.fit(X_train, y_train)\n",
    "bag_train_predict = bag_clf.predict(X_train)\n",
    "bag_test_predict = bag_clf.predict(X_test)\n",
    "\n",
    "bag_train_accuracy = accuracy_score(y_train, bag_train_predict)\n",
    "bag_test_accuracy = accuracy_score(y_test, bag_test_predict)\n",
    "\n",
    "print(bag_train_accuracy, bag_test_accuracy)"
   ]
  },
  {
   "cell_type": "code",
   "execution_count": 16,
   "metadata": {
    "ExecuteTime": {
     "end_time": "2023-04-08T12:29:29.407139Z",
     "start_time": "2023-04-08T12:29:29.314027Z"
    },
    "collapsed": false,
    "jupyter": {
     "outputs_hidden": false
    }
   },
   "outputs": [
    {
     "name": "stdout",
     "output_type": "stream",
     "text": [
      "0.9098901098901099 0.7192982456140351\n"
     ]
    }
   ],
   "source": [
    "# bagging 50% instances\n",
    "bag05_clf = BaggingClassifier(n_estimators=30, max_samples=0.5, bootstrap=True)\n",
    "bag05_clf.fit(X_train, y_train)\n",
    "bag05_train_predict = bag05_clf.predict(X_train)\n",
    "bag05_test_predict = bag05_clf.predict(X_test)\n",
    "\n",
    "bag05_train_accuracy = accuracy_score(y_train, bag05_train_predict)\n",
    "bag05_test_accuracy = accuracy_score(y_test, bag05_test_predict)\n",
    "\n",
    "print(bag05_train_accuracy, bag05_test_accuracy)"
   ]
  },
  {
   "cell_type": "code",
   "execution_count": 17,
   "metadata": {
    "ExecuteTime": {
     "end_time": "2023-04-08T12:29:31.008917Z",
     "start_time": "2023-04-08T12:29:30.906742Z"
    },
    "collapsed": false,
    "jupyter": {
     "outputs_hidden": false
    }
   },
   "outputs": [
    {
     "name": "stdout",
     "output_type": "stream",
     "text": [
      "1.0 0.6228070175438597\n"
     ]
    }
   ],
   "source": [
    "# pasting classifier\n",
    "pasting_clf = BaggingClassifier(n_estimators=30, bootstrap=False)\n",
    "pasting_clf.fit(X_train, y_train)\n",
    "pasting_train_predict = pasting_clf.predict(X_train)\n",
    "pasting_test_predict = pasting_clf.predict(X_test)\n",
    "\n",
    "pasting_train_accuracy = accuracy_score(y_train, pasting_train_predict)\n",
    "pasting_test_accuracy = accuracy_score(y_test, pasting_test_predict)\n",
    "\n",
    "print(pasting_train_accuracy, pasting_test_accuracy)"
   ]
  },
  {
   "cell_type": "code",
   "execution_count": 18,
   "metadata": {
    "ExecuteTime": {
     "end_time": "2023-04-08T12:29:33.508075Z",
     "start_time": "2023-04-08T12:29:33.449525Z"
    },
    "collapsed": false,
    "jupyter": {
     "outputs_hidden": false
    }
   },
   "outputs": [
    {
     "name": "stdout",
     "output_type": "stream",
     "text": [
      "0.9604395604395605 0.6842105263157895\n"
     ]
    }
   ],
   "source": [
    "# pasting 50% instances\n",
    "pasting05_clf = BaggingClassifier(n_estimators=30, max_samples=0.5, bootstrap=False)\n",
    "pasting05_clf.fit(X_train, y_train)\n",
    "pasting05_train_predict = pasting05_clf.predict(X_train)\n",
    "pasting05_test_predict = pasting05_clf.predict(X_test)\n",
    "\n",
    "pasting05_train_accuracy = accuracy_score(y_train, pasting05_train_predict)\n",
    "pasting05_test_accuracy = accuracy_score(y_test, pasting05_test_predict)\n",
    "\n",
    "print(pasting05_train_accuracy, pasting05_test_accuracy)"
   ]
  },
  {
   "cell_type": "code",
   "execution_count": 19,
   "metadata": {
    "ExecuteTime": {
     "end_time": "2023-04-08T12:29:35.425282Z",
     "start_time": "2023-04-08T12:29:35.362221Z"
    },
    "collapsed": false,
    "jupyter": {
     "outputs_hidden": false
    }
   },
   "outputs": [
    {
     "name": "stdout",
     "output_type": "stream",
     "text": [
      "1.0 0.6666666666666666\n"
     ]
    }
   ],
   "source": [
    "# random forrest classifier\n",
    "rnd_clf = RandomForestClassifier(n_estimators=30)\n",
    "rnd_clf.fit(X_train, y_train)\n",
    "rnd_train_predict = rnd_clf.predict(X_train)\n",
    "rnd_test_predict = rnd_clf.predict(X_test)\n",
    "\n",
    "rnd_train_accuracy = accuracy_score(y_train, rnd_train_predict)\n",
    "rnd_test_accuracy = accuracy_score(y_test, rnd_test_predict)\n",
    "\n",
    "print(rnd_train_accuracy, rnd_test_accuracy)"
   ]
  },
  {
   "cell_type": "code",
   "execution_count": 20,
   "metadata": {
    "ExecuteTime": {
     "end_time": "2023-04-08T12:29:36.647153Z",
     "start_time": "2023-04-08T12:29:36.600768Z"
    },
    "collapsed": false,
    "jupyter": {
     "outputs_hidden": false
    }
   },
   "outputs": [
    {
     "name": "stdout",
     "output_type": "stream",
     "text": [
      "0.8 0.7368421052631579\n"
     ]
    }
   ],
   "source": [
    "# adaBoost classifier\n",
    "ada_clf = AdaBoostClassifier(n_estimators=30)\n",
    "ada_clf.fit(X_train, y_train)\n",
    "ada_train_predict = ada_clf.predict(X_train)\n",
    "ada_test_predict = ada_clf.predict(X_test)\n",
    "\n",
    "ada_train_accuracy = accuracy_score(y_train, ada_train_predict)\n",
    "ada_test_accuracy = accuracy_score(y_test, ada_test_predict)\n",
    "\n",
    "print(ada_train_accuracy, ada_test_accuracy)"
   ]
  },
  {
   "cell_type": "code",
   "execution_count": 21,
   "metadata": {
    "ExecuteTime": {
     "end_time": "2023-04-08T12:29:38.790602Z",
     "start_time": "2023-04-08T12:29:38.735647Z"
    },
    "collapsed": false,
    "jupyter": {
     "outputs_hidden": false
    }
   },
   "outputs": [
    {
     "name": "stdout",
     "output_type": "stream",
     "text": [
      "0.8373626373626374 0.7105263157894737\n"
     ]
    }
   ],
   "source": [
    "# gradient classifier\n",
    "gradient_clf = GradientBoostingClassifier(n_estimators=30)\n",
    "gradient_clf.fit(X_train, y_train)\n",
    "gradient_train_predict = gradient_clf.predict(X_train)\n",
    "gradient_test_predict = gradient_clf.predict(X_test)\n",
    "\n",
    "gradient_train_accuracy = accuracy_score(y_train, gradient_train_predict)\n",
    "gradient_test_accuracy = accuracy_score(y_test, gradient_test_predict)\n",
    "\n",
    "print(gradient_train_accuracy, gradient_test_accuracy)"
   ]
  },
  {
   "cell_type": "code",
   "execution_count": 22,
   "metadata": {
    "ExecuteTime": {
     "end_time": "2023-04-08T12:29:39.779680Z",
     "start_time": "2023-04-08T12:29:39.772555Z"
    },
    "collapsed": false,
    "jupyter": {
     "outputs_hidden": false
    }
   },
   "outputs": [],
   "source": [
    "bagging_accuracy_list = [\n",
    "    (bag_train_accuracy, bag_test_accuracy),\n",
    "    (bag05_train_accuracy, bag05_test_accuracy),\n",
    "    (pasting_train_accuracy, pasting_test_accuracy),\n",
    "    (pasting05_train_accuracy, pasting05_test_accuracy),\n",
    "    (rnd_train_accuracy, rnd_test_accuracy),\n",
    "    (ada_train_accuracy, ada_test_accuracy),\n",
    "    (gradient_train_accuracy, gradient_test_accuracy)]"
   ]
  },
  {
   "cell_type": "code",
   "execution_count": 23,
   "metadata": {
    "ExecuteTime": {
     "end_time": "2023-04-08T12:29:42.397444Z",
     "start_time": "2023-04-08T12:29:42.376924Z"
    },
    "collapsed": false,
    "jupyter": {
     "outputs_hidden": false
    }
   },
   "outputs": [
    {
     "name": "stdout",
     "output_type": "stream",
     "text": [
      "[(0.9934065934065934, 0.6754385964912281), (0.9098901098901099, 0.7192982456140351), (1.0, 0.6228070175438597), (0.9604395604395605, 0.6842105263157895), (1.0, 0.6666666666666666), (0.8, 0.7368421052631579), (0.8373626373626374, 0.7105263157894737)]\n"
     ]
    }
   ],
   "source": [
    "print(bagging_accuracy_list)"
   ]
  },
  {
   "cell_type": "code",
   "execution_count": 24,
   "metadata": {
    "ExecuteTime": {
     "end_time": "2023-04-08T12:29:45.472583Z",
     "start_time": "2023-04-08T12:29:45.462359Z"
    },
    "collapsed": false,
    "jupyter": {
     "outputs_hidden": false
    }
   },
   "outputs": [],
   "source": [
    "with open('acc_bag.pkl', 'wb') as file:\n",
    "    pickle.dump(bagging_accuracy_list, file)"
   ]
  },
  {
   "cell_type": "code",
   "execution_count": 25,
   "metadata": {
    "ExecuteTime": {
     "end_time": "2023-04-08T12:29:47.146669Z",
     "start_time": "2023-04-08T12:29:47.134162Z"
    },
    "collapsed": false,
    "jupyter": {
     "outputs_hidden": false
    }
   },
   "outputs": [],
   "source": [
    "bagging_classificator_list = [bag_clf, bag05_clf, pasting_clf, pasting05_clf, rnd_clf,\n",
    "                               ada_clf, gradient_clf]"
   ]
  },
  {
   "cell_type": "code",
   "execution_count": 26,
   "metadata": {
    "ExecuteTime": {
     "end_time": "2023-04-08T12:29:49.322976Z",
     "start_time": "2023-04-08T12:29:49.312743Z"
    },
    "collapsed": false,
    "jupyter": {
     "outputs_hidden": false
    }
   },
   "outputs": [
    {
     "name": "stdout",
     "output_type": "stream",
     "text": [
      "[BaggingClassifier(n_estimators=30), BaggingClassifier(max_samples=0.5, n_estimators=30), BaggingClassifier(bootstrap=False, n_estimators=30), BaggingClassifier(bootstrap=False, max_samples=0.5, n_estimators=30), RandomForestClassifier(n_estimators=30), AdaBoostClassifier(n_estimators=30), GradientBoostingClassifier(n_estimators=30)]\n"
     ]
    }
   ],
   "source": [
    "print(bagging_classificator_list)"
   ]
  },
  {
   "cell_type": "code",
   "execution_count": 27,
   "metadata": {
    "ExecuteTime": {
     "end_time": "2023-04-08T12:29:51.424281Z",
     "start_time": "2023-04-08T12:29:51.396955Z"
    },
    "collapsed": false,
    "jupyter": {
     "outputs_hidden": false
    }
   },
   "outputs": [],
   "source": [
    "with open('bag.pkl', 'wb') as file:\n",
    "    pickle.dump(bagging_classificator_list, file)"
   ]
  },
  {
   "cell_type": "code",
   "execution_count": 28,
   "metadata": {
    "ExecuteTime": {
     "end_time": "2023-04-08T12:29:52.897382Z",
     "start_time": "2023-04-08T12:29:52.865843Z"
    },
    "collapsed": false,
    "jupyter": {
     "outputs_hidden": false
    }
   },
   "outputs": [],
   "source": [
    "data_breast_cancer = datasets.load_breast_cancer(as_frame=True).frame\n",
    "X = data_breast_cancer.drop('target', axis=1)\n",
    "y = data_breast_cancer['target']\n",
    "X_train, X_test, y_train, y_test = train_test_split(X, y, test_size=0.2, random_state=42)"
   ]
  },
  {
   "cell_type": "code",
   "execution_count": 29,
   "metadata": {
    "ExecuteTime": {
     "end_time": "2023-04-08T12:29:54.432658Z",
     "start_time": "2023-04-08T12:29:54.344102Z"
    },
    "collapsed": false,
    "jupyter": {
     "outputs_hidden": false
    }
   },
   "outputs": [
    {
     "name": "stdout",
     "output_type": "stream",
     "text": [
      "0.9934065934065934 0.9649122807017544\n"
     ]
    }
   ],
   "source": [
    "pasting2_clf = BaggingClassifier(n_estimators=30, max_samples=0.5, max_features=2, bootstrap_features=False, bootstrap=True)\n",
    "\n",
    "pasting2_clf.fit(X_train, y_train)\n",
    "pasting2_train_predict = pasting2_clf.predict(X_train)\n",
    "pasting2_test_predict = pasting2_clf.predict(X_test)\n",
    "\n",
    "pasting2_train_accuracy = accuracy_score(y_train, pasting2_train_predict)\n",
    "pasting2_test_accuracy = accuracy_score(y_test, pasting2_test_predict)\n",
    "\n",
    "print(pasting2_train_accuracy, pasting2_test_accuracy)"
   ]
  },
  {
   "cell_type": "code",
   "execution_count": 30,
   "metadata": {
    "ExecuteTime": {
     "end_time": "2023-04-08T12:29:56.440324Z",
     "start_time": "2023-04-08T12:29:56.421132Z"
    },
    "collapsed": false,
    "jupyter": {
     "outputs_hidden": false
    }
   },
   "outputs": [],
   "source": [
    "pasting2_accuracy_list = [pasting2_train_accuracy, pasting2_test_accuracy]"
   ]
  },
  {
   "cell_type": "code",
   "execution_count": 31,
   "metadata": {
    "ExecuteTime": {
     "end_time": "2023-04-08T12:29:58.947040Z",
     "start_time": "2023-04-08T12:29:58.930743Z"
    },
    "collapsed": false,
    "jupyter": {
     "outputs_hidden": false
    }
   },
   "outputs": [],
   "source": [
    "with open('acc_fea.pkl', 'wb') as file:\n",
    "    pickle.dump(pasting2_accuracy_list, file)"
   ]
  },
  {
   "cell_type": "code",
   "execution_count": 32,
   "metadata": {
    "ExecuteTime": {
     "end_time": "2023-04-08T12:30:04.136657Z",
     "start_time": "2023-04-08T12:30:04.114528Z"
    },
    "collapsed": false,
    "jupyter": {
     "outputs_hidden": false
    }
   },
   "outputs": [
    {
     "name": "stdout",
     "output_type": "stream",
     "text": [
      "[BaggingClassifier(max_features=2, max_samples=0.5, n_estimators=30)]\n"
     ]
    }
   ],
   "source": [
    "pasting2_clf_list = [pasting2_clf]\n",
    "print(pasting2_clf_list)"
   ]
  },
  {
   "cell_type": "code",
   "execution_count": 33,
   "metadata": {
    "ExecuteTime": {
     "end_time": "2023-04-08T12:30:06.278996Z",
     "start_time": "2023-04-08T12:30:06.270371Z"
    },
    "collapsed": false,
    "jupyter": {
     "outputs_hidden": false
    }
   },
   "outputs": [],
   "source": [
    "with open('fea.pkl', 'wb') as file:\n",
    "    pickle.dump(pasting2_clf_list, file)"
   ]
  },
  {
   "cell_type": "code",
   "execution_count": 34,
   "metadata": {
    "ExecuteTime": {
     "end_time": "2023-04-08T12:30:11.065484Z",
     "start_time": "2023-04-08T12:30:10.797605Z"
    },
    "collapsed": false,
    "jupyter": {
     "outputs_hidden": false
    }
   },
   "outputs": [],
   "source": [
    "my_clf = BaggingClassifier()\n",
    "my_clf.fit(X_train, y_train)\n",
    "train_accuracy = []\n",
    "test_accuracy = []\n",
    "feature_names = []\n",
    "for estimator in my_clf.estimators_:\n",
    "    clf = BaggingClassifier(estimator, max_features=2)\n",
    "    clf.fit(X_train, y_train)\n",
    "    clf_train_predict = clf.predict(X_train)\n",
    "    clf_test_predict = clf.predict(X_test)\n",
    "\n",
    "    clf_train_accuracy = accuracy_score(y_train, clf_train_predict)\n",
    "    clf_test_accuracy = accuracy_score(y_test, clf_test_predict)\n",
    "    train_accuracy.append(clf_train_accuracy)\n",
    "    test_accuracy.append(clf_test_accuracy)\n",
    "    tmp_feature_names = []\n",
    "    for name in clf.estimators_features_:\n",
    "        tmp_tmp_feature_names = []\n",
    "        for element in name:\n",
    "            tmp_tmp_feature_names.append(X.columns[element])\n",
    "        tmp_feature_names.append(tmp_tmp_feature_names)\n",
    "    feature_names.append(tmp_feature_names)"
   ]
  },
  {
   "cell_type": "code",
   "execution_count": 35,
   "metadata": {
    "ExecuteTime": {
     "end_time": "2023-04-08T12:30:12.403388Z",
     "start_time": "2023-04-08T12:30:12.392462Z"
    },
    "collapsed": false,
    "jupyter": {
     "outputs_hidden": false
    }
   },
   "outputs": [],
   "source": [
    "df = pd.DataFrame({'train_accuracy': train_accuracy,\n",
    "                   'test_accuracy': test_accuracy,\n",
    "                   'features': feature_names})"
   ]
  },
  {
   "cell_type": "code",
   "execution_count": 36,
   "metadata": {
    "ExecuteTime": {
     "end_time": "2023-04-08T12:30:14.453388Z",
     "start_time": "2023-04-08T12:30:14.335080Z"
    },
    "collapsed": false,
    "jupyter": {
     "outputs_hidden": false
    }
   },
   "outputs": [
    {
     "data": {
      "text/html": [
       "<div>\n",
       "<style scoped>\n",
       "    .dataframe tbody tr th:only-of-type {\n",
       "        vertical-align: middle;\n",
       "    }\n",
       "\n",
       "    .dataframe tbody tr th {\n",
       "        vertical-align: top;\n",
       "    }\n",
       "\n",
       "    .dataframe thead th {\n",
       "        text-align: right;\n",
       "    }\n",
       "</style>\n",
       "<table border=\"1\" class=\"dataframe\">\n",
       "  <thead>\n",
       "    <tr style=\"text-align: right;\">\n",
       "      <th></th>\n",
       "      <th>train_accuracy</th>\n",
       "      <th>test_accuracy</th>\n",
       "      <th>features</th>\n",
       "    </tr>\n",
       "  </thead>\n",
       "  <tbody>\n",
       "    <tr>\n",
       "      <th>3</th>\n",
       "      <td>1.000000</td>\n",
       "      <td>0.964912</td>\n",
       "      <td>[[area error, symmetry error], [mean smoothnes...</td>\n",
       "    </tr>\n",
       "    <tr>\n",
       "      <th>6</th>\n",
       "      <td>0.995604</td>\n",
       "      <td>0.964912</td>\n",
       "      <td>[[worst fractal dimension, mean smoothness], [...</td>\n",
       "    </tr>\n",
       "    <tr>\n",
       "      <th>1</th>\n",
       "      <td>1.000000</td>\n",
       "      <td>0.956140</td>\n",
       "      <td>[[worst concavity, worst texture], [mean textu...</td>\n",
       "    </tr>\n",
       "    <tr>\n",
       "      <th>7</th>\n",
       "      <td>0.997802</td>\n",
       "      <td>0.956140</td>\n",
       "      <td>[[worst concave points, mean compactness], [me...</td>\n",
       "    </tr>\n",
       "    <tr>\n",
       "      <th>2</th>\n",
       "      <td>0.995604</td>\n",
       "      <td>0.956140</td>\n",
       "      <td>[[worst smoothness, worst symmetry], [worst co...</td>\n",
       "    </tr>\n",
       "    <tr>\n",
       "      <th>8</th>\n",
       "      <td>0.997802</td>\n",
       "      <td>0.938596</td>\n",
       "      <td>[[worst concavity, mean perimeter], [mean symm...</td>\n",
       "    </tr>\n",
       "    <tr>\n",
       "      <th>9</th>\n",
       "      <td>0.997802</td>\n",
       "      <td>0.938596</td>\n",
       "      <td>[[mean smoothness, worst concave points], [con...</td>\n",
       "    </tr>\n",
       "    <tr>\n",
       "      <th>0</th>\n",
       "      <td>1.000000</td>\n",
       "      <td>0.921053</td>\n",
       "      <td>[[worst area, mean symmetry], [fractal dimensi...</td>\n",
       "    </tr>\n",
       "    <tr>\n",
       "      <th>5</th>\n",
       "      <td>0.991209</td>\n",
       "      <td>0.912281</td>\n",
       "      <td>[[mean area, area error], [mean smoothness, ar...</td>\n",
       "    </tr>\n",
       "    <tr>\n",
       "      <th>4</th>\n",
       "      <td>0.997802</td>\n",
       "      <td>0.885965</td>\n",
       "      <td>[[mean compactness, worst concavity], [smoothn...</td>\n",
       "    </tr>\n",
       "  </tbody>\n",
       "</table>\n",
       "</div>"
      ],
      "text/plain": [
       "   train_accuracy  test_accuracy  \\\n",
       "3        1.000000       0.964912   \n",
       "6        0.995604       0.964912   \n",
       "1        1.000000       0.956140   \n",
       "7        0.997802       0.956140   \n",
       "2        0.995604       0.956140   \n",
       "8        0.997802       0.938596   \n",
       "9        0.997802       0.938596   \n",
       "0        1.000000       0.921053   \n",
       "5        0.991209       0.912281   \n",
       "4        0.997802       0.885965   \n",
       "\n",
       "                                            features  \n",
       "3  [[area error, symmetry error], [mean smoothnes...  \n",
       "6  [[worst fractal dimension, mean smoothness], [...  \n",
       "1  [[worst concavity, worst texture], [mean textu...  \n",
       "7  [[worst concave points, mean compactness], [me...  \n",
       "2  [[worst smoothness, worst symmetry], [worst co...  \n",
       "8  [[worst concavity, mean perimeter], [mean symm...  \n",
       "9  [[mean smoothness, worst concave points], [con...  \n",
       "0  [[worst area, mean symmetry], [fractal dimensi...  \n",
       "5  [[mean area, area error], [mean smoothness, ar...  \n",
       "4  [[mean compactness, worst concavity], [smoothn...  "
      ]
     },
     "execution_count": 36,
     "metadata": {},
     "output_type": "execute_result"
    }
   ],
   "source": [
    "df = df.sort_values(by=['test_accuracy', 'train_accuracy'], ascending=False)\n",
    "df"
   ]
  },
  {
   "cell_type": "code",
   "execution_count": 37,
   "metadata": {
    "ExecuteTime": {
     "end_time": "2023-04-08T12:30:18.860491Z",
     "start_time": "2023-04-08T12:30:18.779782Z"
    },
    "collapsed": false,
    "jupyter": {
     "outputs_hidden": false
    }
   },
   "outputs": [],
   "source": [
    "df.to_pickle('acc_fea_rank.pkl')"
   ]
  }
 ],
 "metadata": {
  "kernelspec": {
   "display_name": "Python 3 (ipykernel)",
   "language": "python",
   "name": "python3"
  },
  "language_info": {
   "codemirror_mode": {
    "name": "ipython",
    "version": 3
   },
   "file_extension": ".py",
   "mimetype": "text/x-python",
   "name": "python",
   "nbconvert_exporter": "python",
   "pygments_lexer": "ipython3",
   "version": "3.10.9"
  }
 },
 "nbformat": 4,
 "nbformat_minor": 4
}
