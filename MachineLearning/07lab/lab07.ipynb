{
 "cells": [
  {
   "cell_type": "code",
   "execution_count": 2,
   "metadata": {
    "collapsed": true,
    "ExecuteTime": {
     "start_time": "2023-04-24T23:40:34.436896Z",
     "end_time": "2023-04-24T23:40:34.478629Z"
    }
   },
   "outputs": [],
   "source": [
    "from sklearn.datasets import fetch_openml\n",
    "import numpy as np\n",
    "import pickle\n",
    "from sklearn.cluster import KMeans\n",
    "from sklearn.metrics import silhouette_score\n",
    "from sklearn.metrics import confusion_matrix\n",
    "from sklearn.cluster import DBSCAN"
   ]
  },
  {
   "cell_type": "code",
   "execution_count": 3,
   "outputs": [],
   "source": [
    "mnist= fetch_openml('mnist_784', version=1, as_frame=False, parser='auto')\n",
    "mnist.target=mnist.target.astype(np.uint8)\n",
    "X=mnist[\"data\"]\n",
    "y=mnist[\"target\"]"
   ],
   "metadata": {
    "collapsed": false,
    "ExecuteTime": {
     "start_time": "2023-04-24T23:40:36.112564Z",
     "end_time": "2023-04-24T23:40:40.238523Z"
    }
   }
  },
  {
   "cell_type": "code",
   "execution_count": 4,
   "outputs": [
    {
     "name": "stdout",
     "output_type": "stream",
     "text": [
      "8-centroids: 0.0734131342189013\n",
      "9-centroids: 0.07455228544765777\n",
      "10-centroids: 0.058589960042872244\n",
      "11-centroids: 0.05835320507284715\n",
      "12-centroids: 0.0600085166703175\n",
      "[0.0734131342189013, 0.07455228544765777, 0.058589960042872244, 0.05835320507284715, 0.0600085166703175]\n"
     ]
    }
   ],
   "source": [
    "silhouette_array = []\n",
    "labels10 = list()\n",
    "k_array = [8, 9, 10, 11, 12]\n",
    "for k in k_array:\n",
    "    kmeans = KMeans(n_clusters=k, random_state=42)\n",
    "    y_predict = kmeans.fit_predict(X)\n",
    "    k_silhouette = silhouette_score(X, kmeans.labels_)\n",
    "    print(f'{k}-centroids: {k_silhouette}')\n",
    "    silhouette_array.append(k_silhouette)\n",
    "    if k == 10:\n",
    "        labels10 = kmeans.labels_\n",
    "print(silhouette_array)"
   ],
   "metadata": {
    "collapsed": false,
    "ExecuteTime": {
     "start_time": "2023-04-24T23:40:45.753729Z",
     "end_time": "2023-04-24T23:49:45.177083Z"
    }
   }
  },
  {
   "cell_type": "code",
   "execution_count": 5,
   "outputs": [],
   "source": [
    "with open('kmeans_sil.pkl', 'wb') as filename:\n",
    "    pickle.dump(silhouette_array, filename)"
   ],
   "metadata": {
    "collapsed": false,
    "ExecuteTime": {
     "start_time": "2023-04-24T23:49:53.283500Z",
     "end_time": "2023-04-24T23:49:53.294065Z"
    }
   }
  },
  {
   "cell_type": "code",
   "execution_count": 6,
   "outputs": [
    {
     "name": "stdout",
     "output_type": "stream",
     "text": [
      "[[  20   35  208   26 3192 2987   22    3  205  205]\n",
      " [   9    6   10 3463    0    0    9 4362    9    9]\n",
      " [4888  201  175  458   14  113   81  413  236  411]\n",
      " [ 270  196 1177  112   15  128   56  495   61 4631]\n",
      " [  40 3730   27  348   14   11 2256  186  212    0]\n",
      " [  21  432 1879  897   73  251  420  185  131 2024]\n",
      " [  92   90  128  262  123  137    2  324 5685   33]\n",
      " [  52 2082   10  342   16   15 4391  375    5    5]\n",
      " [  67  228 4038  477   44   40  219  325   57 1330]\n",
      " [  14 3440   82  128   46   29 2853  262   13   91]]\n"
     ]
    }
   ],
   "source": [
    "conf_mat = confusion_matrix(y, labels10)\n",
    "print(conf_mat)"
   ],
   "metadata": {
    "collapsed": false,
    "ExecuteTime": {
     "start_time": "2023-04-24T23:49:55.345327Z",
     "end_time": "2023-04-24T23:49:55.358060Z"
    }
   }
  },
  {
   "cell_type": "code",
   "execution_count": 8,
   "outputs": [
    {
     "name": "stdout",
     "output_type": "stream",
     "text": [
      "[4, 7, 0, 9, 1, 9, 8, 6, 2, 1]\n",
      "[0, 1, 2, 4, 6, 7, 8, 9]\n"
     ]
    }
   ],
   "source": [
    "argmax_array = []\n",
    "for row in conf_mat:\n",
    "    argmax_array.append(np.argmax(row))\n",
    "print(argmax_array)\n",
    "argmax_array.sort()\n",
    "argmax_array = set(argmax_array)\n",
    "argmax_array = list(argmax_array)\n",
    "print(argmax_array)"
   ],
   "metadata": {
    "collapsed": false,
    "ExecuteTime": {
     "start_time": "2023-04-24T23:50:26.326000Z",
     "end_time": "2023-04-24T23:50:26.370888Z"
    }
   }
  },
  {
   "cell_type": "code",
   "execution_count": 9,
   "outputs": [],
   "source": [
    "with open('kmeans_argmax.pkl', 'wb') as filename:\n",
    "    pickle.dump(argmax_array, filename)"
   ],
   "metadata": {
    "collapsed": false,
    "ExecuteTime": {
     "start_time": "2023-04-24T23:50:40.075424Z",
     "end_time": "2023-04-24T23:50:40.093924Z"
    }
   }
  },
  {
   "cell_type": "code",
   "execution_count": 10,
   "outputs": [
    {
     "name": "stdout",
     "output_type": "stream",
     "text": [
      "[1020.6473436011089, 1100.529418052966, 1114.2374073777994, 1125.4843401842604, 1125.6913431309667, 1134.3138895385175, 1143.500765194322, 1149.3206689170781, 1166.3618649458667, 1167.1088209760048]\n"
     ]
    }
   ],
   "source": [
    "distances = []\n",
    "for i in range(300):\n",
    "    for j in range(X.shape[0]):\n",
    "        if i != j:\n",
    "            distance = np.linalg.norm(X[i] - X[j])\n",
    "            if distance == 0:\n",
    "                continue\n",
    "            else:\n",
    "                distances.append(distance)\n",
    "distances.sort()\n",
    "distances = distances[:10]\n",
    "print(distances)"
   ],
   "metadata": {
    "collapsed": false,
    "ExecuteTime": {
     "start_time": "2023-04-24T23:50:44.392537Z",
     "end_time": "2023-04-24T23:50:45.357191Z"
    }
   }
  },
  {
   "cell_type": "code",
   "execution_count": 11,
   "outputs": [],
   "source": [
    "with open('dist.pkl', 'wb') as filename:\n",
    "    pickle.dump(distances, filename)"
   ],
   "metadata": {
    "collapsed": false,
    "ExecuteTime": {
     "start_time": "2023-04-24T23:50:51.766663Z",
     "end_time": "2023-04-24T23:50:51.771604Z"
    }
   }
  },
  {
   "cell_type": "code",
   "execution_count": null,
   "outputs": [],
   "source": [
    "mean_distance = (distances[0] + distances[1] + distances[2]) / 3.0\n",
    "end = 1.1 * mean_distance\n",
    "step = 0.04 * mean_distance\n",
    "tmp_value = mean_distance\n",
    "dbscan_array = []\n",
    "while tmp_value <= end:\n",
    "    dbscan = DBSCAN(eps=tmp_value)\n",
    "    dbscan.fit(X)\n",
    "    print(dbscan.labels_[:15])\n",
    "    labels = dbscan.labels_\n",
    "    unique_labels = len(np.unique(labels))\n",
    "    dbscan_array.append(unique_labels)\n",
    "    tmp_value += step"
   ],
   "metadata": {
    "collapsed": false,
    "ExecuteTime": {
     "start_time": "2023-04-23T00:56:10.223593Z",
     "end_time": "2023-04-23T01:00:30.841486Z"
    },
    "pycharm": {
     "is_executing": true
    }
   }
  },
  {
   "cell_type": "code",
   "execution_count": 1,
   "outputs": [
    {
     "ename": "NameError",
     "evalue": "name 'dbscan_array' is not defined",
     "output_type": "error",
     "traceback": [
      "\u001B[0;31m---------------------------------------------------------------------------\u001B[0m",
      "\u001B[0;31mNameError\u001B[0m                                 Traceback (most recent call last)",
      "Cell \u001B[0;32mIn[1], line 1\u001B[0m\n\u001B[0;32m----> 1\u001B[0m \u001B[38;5;28mprint\u001B[39m(\u001B[43mdbscan_array\u001B[49m)\n\u001B[1;32m      2\u001B[0m \u001B[38;5;28;01mwith\u001B[39;00m \u001B[38;5;28mopen\u001B[39m(\u001B[38;5;124m'\u001B[39m\u001B[38;5;124mdbscan_len.pkl\u001B[39m\u001B[38;5;124m'\u001B[39m, \u001B[38;5;124m'\u001B[39m\u001B[38;5;124mwb\u001B[39m\u001B[38;5;124m'\u001B[39m) \u001B[38;5;28;01mas\u001B[39;00m filename:\n\u001B[1;32m      3\u001B[0m     pickle\u001B[38;5;241m.\u001B[39mdump(dbscan_array, filename)\n",
      "\u001B[0;31mNameError\u001B[0m: name 'dbscan_array' is not defined"
     ]
    }
   ],
   "source": [
    "print(dbscan_array)\n",
    "with open('dbscan_len.pkl', 'wb') as filename:\n",
    "    pickle.dump(dbscan_array, filename)"
   ],
   "metadata": {
    "collapsed": false,
    "ExecuteTime": {
     "start_time": "2023-04-23T08:05:28.453302Z",
     "end_time": "2023-04-23T08:05:28.498918Z"
    }
   }
  }
 ],
 "metadata": {
  "kernelspec": {
   "display_name": "Python 3",
   "language": "python",
   "name": "python3"
  },
  "language_info": {
   "codemirror_mode": {
    "name": "ipython",
    "version": 2
   },
   "file_extension": ".py",
   "mimetype": "text/x-python",
   "name": "python",
   "nbconvert_exporter": "python",
   "pygments_lexer": "ipython2",
   "version": "2.7.6"
  }
 },
 "nbformat": 4,
 "nbformat_minor": 0
}
