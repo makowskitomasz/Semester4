{
 "cells": [
  {
   "cell_type": "code",
   "execution_count": 2,
   "id": "be793575-679d-4b51-99a0-2ed177ed5c85",
   "metadata": {},
   "outputs": [
    {
     "name": "stderr",
     "output_type": "stream",
     "text": [
      "/home/makowskitomasz/anaconda3/envs/ml/lib/python3.10/site-packages/sklearn/datasets/_openml.py:932: FutureWarning: The default value of `parser` will change from `'liac-arff'` to `'auto'` in 1.4. You can set `parser='auto'` to silence this warning. Therefore, an `ImportError` will be raised from 1.4 if the dataset is dense and pandas is not installed. Note that the pandas parser may return different data types. See the Notes Section in fetch_openml's API doc for details.\n",
      "  warn(\n"
     ]
    }
   ],
   "source": [
    "from sklearn.datasets import fetch_openml\n",
    "import numpy as np\n",
    "mnist = fetch_openml('mnist_784', version=1)"
   ]
  },
  {
   "cell_type": "code",
   "execution_count": 23,
   "id": "2aa90475-d1da-480b-8863-5ce55c556500",
   "metadata": {},
   "outputs": [],
   "source": [
    "from sklearn.model_selection import train_test_split\n",
    "from sklearn.linear_model import SGDClassifier\n",
    "import time\n",
    "import pickle\n",
    "from sklearn.model_selection import cross_val_score\n",
    "from sklearn.model_selection import cross_val_predict\n",
    "from sklearn.metrics import confusion_matrix"
   ]
  },
  {
   "cell_type": "code",
   "execution_count": 4,
   "id": "e3f27b4a-03f3-46c9-b203-509a9f399bef",
   "metadata": {},
   "outputs": [
    {
     "name": "stdout",
     "output_type": "stream",
     "text": [
      "dict_keys(['data', 'target', 'frame', 'categories', 'feature_names', 'target_names', 'DESCR', 'details', 'url'])\n",
      "5\n"
     ]
    }
   ],
   "source": [
    "print(mnist.keys())\n",
    "print(mnist[\"target\"][0])"
   ]
  },
  {
   "cell_type": "code",
   "execution_count": 5,
   "id": "98f7e52d-5f78-4979-874a-809f3cc25536",
   "metadata": {},
   "outputs": [
    {
     "name": "stdout",
     "output_type": "stream",
     "text": [
      "[[0 0 0 0 0 0 0 0 0 0 0 0 0 0 0 0 0 0 0 0 0 0 0 0 0 0 0 0]\n",
      " [0 0 0 0 0 0 0 0 0 0 0 0 0 0 0 0 0 0 0 0 0 0 0 0 0 0 0 0]\n",
      " [0 0 0 0 0 0 0 0 0 0 0 0 0 0 0 0 0 0 0 0 0 0 0 0 0 0 0 0]\n",
      " [0 0 0 0 0 0 0 0 0 0 0 0 0 0 0 0 0 0 0 0 0 0 0 0 0 0 0 0]\n",
      " [0 0 0 0 0 0 0 0 0 0 0 0 0 0 0 0 0 0 0 0 0 0 0 0 0 0 0 0]\n",
      " [0 0 0 0 0 0 0 0 0 0 0 0 1 1 1 1 1 1 1 1 1 1 1 1 0 0 0 0]\n",
      " [0 0 0 0 0 0 0 0 1 1 1 1 1 1 1 1 1 1 1 1 1 1 1 1 0 0 0 0]\n",
      " [0 0 0 0 0 0 0 1 1 1 1 1 1 1 1 1 1 1 1 1 1 1 1 0 0 0 0 0]\n",
      " [0 0 0 0 0 0 0 1 1 1 1 1 1 1 1 1 1 1 0 0 0 0 0 0 0 0 0 0]\n",
      " [0 0 0 0 0 0 0 0 1 1 1 1 1 1 1 0 1 1 0 0 0 0 0 0 0 0 0 0]\n",
      " [0 0 0 0 0 0 0 0 0 1 1 1 1 1 0 0 0 0 0 0 0 0 0 0 0 0 0 0]\n",
      " [0 0 0 0 0 0 0 0 0 0 0 1 1 1 1 0 0 0 0 0 0 0 0 0 0 0 0 0]\n",
      " [0 0 0 0 0 0 0 0 0 0 0 1 1 1 1 0 0 0 0 0 0 0 0 0 0 0 0 0]\n",
      " [0 0 0 0 0 0 0 0 0 0 0 0 1 1 1 1 1 1 0 0 0 0 0 0 0 0 0 0]\n",
      " [0 0 0 0 0 0 0 0 0 0 0 0 0 1 1 1 1 1 1 0 0 0 0 0 0 0 0 0]\n",
      " [0 0 0 0 0 0 0 0 0 0 0 0 0 0 1 1 1 1 1 1 0 0 0 0 0 0 0 0]\n",
      " [0 0 0 0 0 0 0 0 0 0 0 0 0 0 0 1 1 1 1 1 0 0 0 0 0 0 0 0]\n",
      " [0 0 0 0 0 0 0 0 0 0 0 0 0 0 0 0 0 1 1 1 1 0 0 0 0 0 0 0]\n",
      " [0 0 0 0 0 0 0 0 0 0 0 0 0 0 1 1 1 1 1 1 1 0 0 0 0 0 0 0]\n",
      " [0 0 0 0 0 0 0 0 0 0 0 0 1 1 1 1 1 1 1 1 0 0 0 0 0 0 0 0]\n",
      " [0 0 0 0 0 0 0 0 0 0 1 1 1 1 1 1 1 1 1 0 0 0 0 0 0 0 0 0]\n",
      " [0 0 0 0 0 0 0 0 1 1 1 1 1 1 1 1 1 1 0 0 0 0 0 0 0 0 0 0]\n",
      " [0 0 0 0 0 0 1 1 1 1 1 1 1 1 1 1 0 0 0 0 0 0 0 0 0 0 0 0]\n",
      " [0 0 0 0 1 1 1 1 1 1 1 1 1 1 0 0 0 0 0 0 0 0 0 0 0 0 0 0]\n",
      " [0 0 0 0 1 1 1 1 1 1 1 1 0 0 0 0 0 0 0 0 0 0 0 0 0 0 0 0]\n",
      " [0 0 0 0 0 0 0 0 0 0 0 0 0 0 0 0 0 0 0 0 0 0 0 0 0 0 0 0]\n",
      " [0 0 0 0 0 0 0 0 0 0 0 0 0 0 0 0 0 0 0 0 0 0 0 0 0 0 0 0]\n",
      " [0 0 0 0 0 0 0 0 0 0 0 0 0 0 0 0 0 0 0 0 0 0 0 0 0 0 0 0]]\n"
     ]
    }
   ],
   "source": [
    "print((np.array(mnist.data.loc[0]).reshape(28, 28) > 0).astype(int))"
   ]
  },
  {
   "cell_type": "code",
   "execution_count": 6,
   "id": "024993b8-ecc7-4c41-b862-5ac221828d35",
   "metadata": {},
   "outputs": [],
   "source": [
    "X, y = mnist[\"data\"], mnist[\"target\"].astype(np.uint8)\n",
    "y = y.sort_values(ascending=True)\n",
    "X = X.reindex(y.index)"
   ]
  },
  {
   "cell_type": "code",
   "execution_count": 7,
   "id": "2bb56046-935b-4a89-9bd4-3658e80c402d",
   "metadata": {},
   "outputs": [
    {
     "name": "stdout",
     "output_type": "stream",
     "text": [
      "(56000, 784) (56000,)\n",
      "(14000, 784) (14000,)\n"
     ]
    }
   ],
   "source": [
    "X_train, X_test = X[:56000], X[56000:]\n",
    "y_train, y_test = y[:56000], y[56000:]\n",
    "print(X_train.shape, y_train.shape)\n",
    "print(X_test.shape, y_test.shape)"
   ]
  },
  {
   "cell_type": "code",
   "execution_count": 8,
   "id": "87868df8-b421-4c6e-90cb-af53459c29af",
   "metadata": {},
   "outputs": [
    {
     "name": "stdout",
     "output_type": "stream",
     "text": [
      "[0 1 2 3 4 5 6 7]\n",
      "[7 8 9]\n"
     ]
    }
   ],
   "source": [
    "print(np.unique(y_train))\n",
    "print(np.unique(y_test))"
   ]
  },
  {
   "cell_type": "code",
   "execution_count": 9,
   "id": "b0a9aaa0-211e-4191-86d3-da85d5af09e7",
   "metadata": {},
   "outputs": [
    {
     "name": "stdout",
     "output_type": "stream",
     "text": [
      "(56000, 784) (56000,)\n",
      "(14000, 784) (14000,)\n"
     ]
    }
   ],
   "source": [
    "X_train, X_test, y_train, y_test = train_test_split(X, y, test_size=0.2, random_state=42)\n",
    "print(X_train.shape, y_train.shape)\n",
    "print(X_test.shape, y_test.shape)"
   ]
  },
  {
   "cell_type": "code",
   "execution_count": 10,
   "id": "50d80ddc-b2a1-4119-80c3-8233728e2e88",
   "metadata": {},
   "outputs": [
    {
     "name": "stdout",
     "output_type": "stream",
     "text": [
      "32576    False\n",
      "10306    False\n",
      "37102    False\n",
      "57835    False\n",
      "15160     True\n",
      "Name: class, dtype: bool\n",
      "[False  True]\n",
      "56000\n"
     ]
    }
   ],
   "source": [
    "y_train_0 = (y_train == 0)\n",
    "y_test_0 = (y_test == 0)\n",
    "print(y_train_0.head())\n",
    "print(np.unique(y_train_0))\n",
    "print(len(y_train_0))"
   ]
  },
  {
   "cell_type": "code",
   "execution_count": 11,
   "id": "044c7d7a-3b23-4a0c-99dd-b7099d0934bc",
   "metadata": {},
   "outputs": [
    {
     "name": "stdout",
     "output_type": "stream",
     "text": [
      "6.0886311531066895\n"
     ]
    }
   ],
   "source": [
    "start = time.time()\n",
    "sgd_classifier = SGDClassifier(random_state=42)\n",
    "sgd_classifier.fit(X_train, y_train_0)\n",
    "print(time.time() - start)"
   ]
  },
  {
   "cell_type": "code",
   "execution_count": 12,
   "id": "a6c66eaf-9215-43dd-929e-4b492b5bc626",
   "metadata": {},
   "outputs": [
    {
     "name": "stdout",
     "output_type": "stream",
     "text": [
      "[False  True]\n",
      "0.007269144058227539\n"
     ]
    },
    {
     "name": "stderr",
     "output_type": "stream",
     "text": [
      "/home/makowskitomasz/anaconda3/envs/ml/lib/python3.10/site-packages/sklearn/base.py:409: UserWarning: X does not have valid feature names, but SGDClassifier was fitted with feature names\n",
      "  warnings.warn(\n"
     ]
    }
   ],
   "source": [
    "start = time.time()\n",
    "print(sgd_classifier.predict([mnist.data.loc[0], mnist.data.loc[1]]))\n",
    "print(time.time()-start)"
   ]
  },
  {
   "cell_type": "code",
   "execution_count": 13,
   "id": "4167014a-c929-4588-8c41-6b80b86625be",
   "metadata": {},
   "outputs": [
    {
     "name": "stdout",
     "output_type": "stream",
     "text": [
      "0.9832142857142857 0.9818571428571429\n",
      "[0.9832142857142857, 0.9818571428571429]\n"
     ]
    }
   ],
   "source": [
    "y_train_pred = sgd_classifier.predict(X_train)\n",
    "y_test_pred = sgd_classifier.predict(X_test)\n",
    "\n",
    "acc_train = sum(y_train_pred == y_train_0)/len(y_train_0)\n",
    "acc_test = sum(y_test_pred == y_test_0)/len(y_test_0)\n",
    "\n",
    "print(acc_train, acc_test)\n",
    "acc_list = [acc_train, acc_test]\n",
    "print(acc_list)\n",
    "\n",
    "with open('sgd_acc.pkl', 'wb') as f:\n",
    "    pickle.dump(acc_list, f)\n"
   ]
  },
  {
   "cell_type": "code",
   "execution_count": 14,
   "id": "4f913be1-dd70-4a9e-a3c4-94bc6fbd0509",
   "metadata": {},
   "outputs": [
    {
     "name": "stdout",
     "output_type": "stream",
     "text": [
      "7.263622760772705\n",
      "[0.98842878 0.98805378 0.98799957]\n"
     ]
    }
   ],
   "source": [
    "start = time.time()\n",
    "score = cross_val_score(sgd_classifier, X_train, y_train_0, cv=3, scoring=\"accuracy\", n_jobs=-1)\n",
    "print(time.time() - start)\n",
    "print(score)"
   ]
  },
  {
   "cell_type": "code",
   "execution_count": 17,
   "id": "e0b73b5a-e9aa-4745-a99f-5a91299ffdfb",
   "metadata": {},
   "outputs": [
    {
     "name": "stdout",
     "output_type": "stream",
     "text": [
      "[5 0]\n"
     ]
    },
    {
     "name": "stderr",
     "output_type": "stream",
     "text": [
      "/home/makowskitomasz/anaconda3/envs/ml/lib/python3.10/site-packages/sklearn/base.py:409: UserWarning: X does not have valid feature names, but SGDClassifier was fitted with feature names\n",
      "  warnings.warn(\n"
     ]
    }
   ],
   "source": [
    "sgd_m_clf = SGDClassifier(random_state=42,n_jobs=-1)\n",
    "sgd_m_clf.fit(X_train, y_train)\n",
    "print(sgd_m_clf.predict([mnist.data.loc[0],\n",
    "mnist.data.loc[1]]))"
   ]
  },
  {
   "cell_type": "code",
   "execution_count": 24,
   "id": "6669312c-54fd-4de4-ab17-7a46df60e4d2",
   "metadata": {},
   "outputs": [
    {
     "name": "stdout",
     "output_type": "stream",
     "text": [
      "[0.88048428 0.87132373 0.8772099 ]\n",
      "[[5295    2   22   42   16   26   37    6   71   21]\n",
      " [   3 6098   39   19    4   18    6    9   64   25]\n",
      " [  53   74 4798  131   65   18   86   65  273   38]\n",
      " [  41   30  157 4888   12  179   24   50  260  106]\n",
      " [  22   30   30   14 4691   22   69   23  156  401]\n",
      " [  93   29   41  251   67 3806  113   20  477  106]\n",
      " [  53   28   45   10   59   63 5114    5   92    8]\n",
      " [  27   32   48   40   67   10    6 5154  108  358]\n",
      " [  49  122   67  146   32  288   35   15 4518  183]\n",
      " [  31   29   18   66  287   42    5  217  178 4713]]\n"
     ]
    }
   ],
   "source": [
    "print(cross_val_score(sgd_m_clf, X_train, y_train, cv=3, scoring=\"accuracy\", n_jobs=-1))\n",
    "y_train_pred = cross_val_predict(sgd_m_clf, X_train, y_train, cv=3, n_jobs=-1)\n",
    "confusion_matrix = confusion_matrix(y_train, y_train_pred)\n",
    "print(confusion_matrix)"
   ]
  },
  {
   "cell_type": "code",
   "execution_count": 26,
   "id": "9d60e6df-58eb-47ad-a46a-565eac5c99ce",
   "metadata": {},
   "outputs": [],
   "source": [
    "with open('sgd_cva.pkl', 'wb') as f:\n",
    "    pickle.dump(score, f)"
   ]
  },
  {
   "cell_type": "code",
   "execution_count": 27,
   "id": "1b9addd3-f4de-4d1e-a366-3ab4d4e87c46",
   "metadata": {},
   "outputs": [],
   "source": [
    "with open('sgd_cmx.pkl', 'wb') as f:\n",
    "    pickle.dump(confusion_matrix, f)"
   ]
  }
 ],
 "metadata": {
  "kernelspec": {
   "display_name": "Python 3 (ipykernel)",
   "language": "python",
   "name": "python3"
  },
  "language_info": {
   "codemirror_mode": {
    "name": "ipython",
    "version": 3
   },
   "file_extension": ".py",
   "mimetype": "text/x-python",
   "name": "python",
   "nbconvert_exporter": "python",
   "pygments_lexer": "ipython3",
   "version": "3.10.9"
  }
 },
 "nbformat": 4,
 "nbformat_minor": 5
}
