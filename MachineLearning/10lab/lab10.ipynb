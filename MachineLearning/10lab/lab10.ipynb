{
 "cells": [
  {
   "cell_type": "code",
   "execution_count": 12,
   "metadata": {
    "collapsed": true,
    "ExecuteTime": {
     "end_time": "2023-07-09T10:03:39.196294614Z",
     "start_time": "2023-07-09T10:03:39.189789542Z"
    }
   },
   "outputs": [],
   "source": [
    "import tensorflow as tf\n",
    "from tensorflow import keras\n",
    "import matplotlib.pyplot as plt\n",
    "import datetime\n",
    "import os\n",
    "import numpy as np\n",
    "from sklearn.datasets import fetch_california_housing\n",
    "from sklearn.model_selection import train_test_split\n",
    "from sklearn.preprocessing import StandardScaler"
   ]
  },
  {
   "cell_type": "code",
   "execution_count": 13,
   "outputs": [],
   "source": [
    "fashion_mnist = tf.keras.datasets.fashion_mnist\n",
    "(X_train, y_train), (X_test, y_test) = fashion_mnist.load_data()\n",
    "assert X_train.shape==(60000,28,28)\n",
    "assert X_test.shape==(10000,28,28)\n",
    "assert y_train.shape==(60000,)\n",
    "assert y_test.shape==(10000,)"
   ],
   "metadata": {
    "collapsed": false,
    "ExecuteTime": {
     "end_time": "2023-07-09T10:03:40.145547534Z",
     "start_time": "2023-07-09T10:03:39.705933071Z"
    }
   }
  },
  {
   "cell_type": "code",
   "execution_count": 14,
   "outputs": [],
   "source": [
    "X_train = X_train / 255.0\n",
    "X_test = X_test / 255.0"
   ],
   "metadata": {
    "collapsed": false,
    "ExecuteTime": {
     "end_time": "2023-07-09T10:03:41.389329653Z",
     "start_time": "2023-07-09T10:03:40.785124727Z"
    }
   }
  },
  {
   "cell_type": "code",
   "execution_count": 15,
   "outputs": [
    {
     "data": {
      "text/plain": "<Figure size 640x480 with 1 Axes>",
      "image/png": "[encoded data removed]"
     },
     "metadata": {},
     "output_type": "display_data"
    }
   ],
   "source": [
    "plt.imshow(X_train[142], cmap='binary')\n",
    "plt.axis('off')\n",
    "plt.show()"
   ],
   "metadata": {
    "collapsed": false,
    "ExecuteTime": {
     "end_time": "2023-07-09T10:03:41.964453252Z",
     "start_time": "2023-07-09T10:03:41.830612506Z"
    }
   }
  },
  {
   "cell_type": "code",
   "execution_count": 16,
   "outputs": [
    {
     "data": {
      "text/plain": "'but'"
     },
     "execution_count": 16,
     "metadata": {},
     "output_type": "execute_result"
    }
   ],
   "source": [
    "class_names=[\"koszulka\",\"spodnie\",\"pulower\",\"sukienka\",\"kurtka\",\"sandał\",\"koszula\",\"but\", \"torba\",\"kozak\"]\n",
    "class_names[y_train[142]]"
   ],
   "metadata": {
    "collapsed": false,
    "ExecuteTime": {
     "end_time": "2023-07-09T10:03:43.328632588Z",
     "start_time": "2023-07-09T10:03:43.303384709Z"
    }
   }
  },
  {
   "cell_type": "code",
   "execution_count": 17,
   "outputs": [],
   "source": [
    "model = keras.models.Sequential()\n",
    "model.add(keras.layers.Flatten(input_shape=[28, 28]))\n",
    "model.add(keras.layers.Dense(300, activation='relu'))\n",
    "model.add(keras.layers.Dense(100, activation='relu'))\n",
    "model.add(keras.layers.Dense(10, activation='softmax'))"
   ],
   "metadata": {
    "collapsed": false,
    "ExecuteTime": {
     "end_time": "2023-07-09T10:03:44.553913051Z",
     "start_time": "2023-07-09T10:03:44.489851825Z"
    }
   }
  },
  {
   "cell_type": "code",
   "execution_count": 18,
   "outputs": [
    {
     "name": "stdout",
     "output_type": "stream",
     "text": [
      "Model: \"sequential_5\"\n",
      "_________________________________________________________________\n",
      " Layer (type)                Output Shape              Param #   \n",
      "=================================================================\n",
      " flatten_1 (Flatten)         (None, 784)               0         \n",
      "                                                                 \n",
      " dense_21 (Dense)            (None, 300)               235500    \n",
      "                                                                 \n",
      " dense_22 (Dense)            (None, 100)               30100     \n",
      "                                                                 \n",
      " dense_23 (Dense)            (None, 10)                1010      \n",
      "                                                                 \n",
      "=================================================================\n",
      "Total params: 266,610\n",
      "Trainable params: 266,610\n",
      "Non-trainable params: 0\n",
      "_________________________________________________________________\n"
     ]
    }
   ],
   "source": [
    "model.summary()"
   ],
   "metadata": {
    "collapsed": false,
    "ExecuteTime": {
     "end_time": "2023-07-09T10:03:45.079865957Z",
     "start_time": "2023-07-09T10:03:45.019947004Z"
    }
   }
  },
  {
   "cell_type": "code",
   "execution_count": 19,
   "outputs": [
    {
     "name": "stdout",
     "output_type": "stream",
     "text": [
      "You must install pydot (`pip install pydot`) and install graphviz (see instructions at https://graphviz.gitlab.io/download/) for plot_model to work.\n"
     ]
    }
   ],
   "source": [
    "tf.keras.utils.plot_model(model,\"fashion_mnist.png\", show_shapes=True)"
   ],
   "metadata": {
    "collapsed": false,
    "ExecuteTime": {
     "end_time": "2023-07-09T10:03:47.908238318Z",
     "start_time": "2023-07-09T10:03:47.890780083Z"
    }
   }
  },
  {
   "cell_type": "code",
   "execution_count": 20,
   "outputs": [],
   "source": [
    "model.compile(loss='sparse_categorical_crossentropy', optimizer='sgd', metrics=['accuracy'])"
   ],
   "metadata": {
    "collapsed": false,
    "ExecuteTime": {
     "end_time": "2023-07-09T10:03:54.980249624Z",
     "start_time": "2023-07-09T10:03:54.952337378Z"
    }
   }
  },
  {
   "cell_type": "code",
   "execution_count": 21,
   "outputs": [
    {
     "name": "stdout",
     "output_type": "stream",
     "text": [
      "/home/makowskitomasz/MachineLearning/10lab\n"
     ]
    }
   ],
   "source": [
    "print(os.getcwd())"
   ],
   "metadata": {
    "collapsed": false,
    "ExecuteTime": {
     "end_time": "2023-07-09T10:03:56.187731229Z",
     "start_time": "2023-07-09T10:03:56.168720730Z"
    }
   }
  },
  {
   "cell_type": "code",
   "execution_count": 22,
   "outputs": [],
   "source": [
    "def new_folder(folder_name):\n",
    "    current_time = datetime.datetime.now().strftime(\"%Y%m%d-%H%M%S\")\n",
    "    log_dir = os.path.join(folder_name, current_time)\n",
    "    print(log_dir)\n",
    "    return log_dir"
   ],
   "metadata": {
    "collapsed": false,
    "ExecuteTime": {
     "end_time": "2023-07-09T10:03:57.411836237Z",
     "start_time": "2023-07-09T10:03:57.404612082Z"
    }
   }
  },
  {
   "cell_type": "code",
   "execution_count": 23,
   "outputs": [
    {
     "name": "stdout",
     "output_type": "stream",
     "text": [
      "image_logs/20230709-120359\n"
     ]
    }
   ],
   "source": [
    "tensorboard_callback = keras.callbacks.TensorBoard(log_dir=new_folder('image_logs'), histogram_freq=1)"
   ],
   "metadata": {
    "collapsed": false,
    "ExecuteTime": {
     "end_time": "2023-07-09T10:03:59.471030853Z",
     "start_time": "2023-07-09T10:03:59.453665614Z"
    }
   }
  },
  {
   "cell_type": "code",
   "execution_count": 14,
   "outputs": [
    {
     "name": "stdout",
     "output_type": "stream",
     "text": [
      "Epoch 1/20\n",
      "1688/1688 [==============================] - 12s 7ms/step - loss: 0.7177 - accuracy: 0.7654 - val_loss: 0.6427 - val_accuracy: 0.7607\n",
      "Epoch 2/20\n",
      "1688/1688 [==============================] - 10s 6ms/step - loss: 0.4867 - accuracy: 0.8310 - val_loss: 0.4927 - val_accuracy: 0.8277\n",
      "Epoch 3/20\n",
      "1688/1688 [==============================] - 10s 6ms/step - loss: 0.4404 - accuracy: 0.8462 - val_loss: 0.4249 - val_accuracy: 0.8457\n",
      "Epoch 4/20\n",
      "1688/1688 [==============================] - 11s 6ms/step - loss: 0.4137 - accuracy: 0.8554 - val_loss: 0.4222 - val_accuracy: 0.8527\n",
      "Epoch 5/20\n",
      "1688/1688 [==============================] - 10s 6ms/step - loss: 0.3934 - accuracy: 0.8626 - val_loss: 0.4014 - val_accuracy: 0.8582\n",
      "Epoch 6/20\n",
      "1688/1688 [==============================] - 11s 6ms/step - loss: 0.3772 - accuracy: 0.8675 - val_loss: 0.3836 - val_accuracy: 0.8623\n",
      "Epoch 7/20\n",
      "1688/1688 [==============================] - 19s 11ms/step - loss: 0.3640 - accuracy: 0.8721 - val_loss: 0.3811 - val_accuracy: 0.8625\n",
      "Epoch 8/20\n",
      "1688/1688 [==============================] - 18s 11ms/step - loss: 0.3522 - accuracy: 0.8752 - val_loss: 0.3940 - val_accuracy: 0.8595\n",
      "Epoch 9/20\n",
      "1688/1688 [==============================] - 13s 8ms/step - loss: 0.3418 - accuracy: 0.8790 - val_loss: 0.3525 - val_accuracy: 0.8740\n",
      "Epoch 10/20\n",
      "1688/1688 [==============================] - 14s 8ms/step - loss: 0.3335 - accuracy: 0.8805 - val_loss: 0.3536 - val_accuracy: 0.8750\n",
      "Epoch 11/20\n",
      "1688/1688 [==============================] - 11s 7ms/step - loss: 0.3242 - accuracy: 0.8845 - val_loss: 0.3641 - val_accuracy: 0.8715\n",
      "Epoch 12/20\n",
      "1688/1688 [==============================] - 15s 9ms/step - loss: 0.3166 - accuracy: 0.8874 - val_loss: 0.3527 - val_accuracy: 0.8758\n",
      "Epoch 13/20\n",
      "1688/1688 [==============================] - 14s 8ms/step - loss: 0.3089 - accuracy: 0.8881 - val_loss: 0.3424 - val_accuracy: 0.8742\n",
      "Epoch 14/20\n",
      "1688/1688 [==============================] - 16s 10ms/step - loss: 0.3027 - accuracy: 0.8906 - val_loss: 0.3485 - val_accuracy: 0.8748\n",
      "Epoch 15/20\n",
      "1688/1688 [==============================] - 15s 9ms/step - loss: 0.2961 - accuracy: 0.8929 - val_loss: 0.3450 - val_accuracy: 0.8760\n",
      "Epoch 16/20\n",
      "1688/1688 [==============================] - 17s 10ms/step - loss: 0.2891 - accuracy: 0.8958 - val_loss: 0.3340 - val_accuracy: 0.8783\n",
      "Epoch 17/20\n",
      "1688/1688 [==============================] - 13s 8ms/step - loss: 0.2849 - accuracy: 0.8963 - val_loss: 0.3533 - val_accuracy: 0.8758\n",
      "Epoch 18/20\n",
      "1688/1688 [==============================] - 11s 6ms/step - loss: 0.2786 - accuracy: 0.8994 - val_loss: 0.3451 - val_accuracy: 0.8762\n",
      "Epoch 19/20\n",
      "1688/1688 [==============================] - 12s 7ms/step - loss: 0.2728 - accuracy: 0.9014 - val_loss: 0.3164 - val_accuracy: 0.8870\n",
      "Epoch 20/20\n",
      "1688/1688 [==============================] - 11s 6ms/step - loss: 0.2687 - accuracy: 0.9020 - val_loss: 0.3493 - val_accuracy: 0.8710\n"
     ]
    }
   ],
   "source": [
    "epochs = 20\n",
    "history = model.fit(X_train, y_train, epochs=epochs,validation_split=0.1, callbacks=[tensorboard_callback])"
   ],
   "metadata": {
    "collapsed": false,
    "ExecuteTime": {
     "end_time": "2023-06-23T14:06:49.791016835Z",
     "start_time": "2023-06-23T14:02:27.537557597Z"
    }
   }
  },
  {
   "cell_type": "code",
   "execution_count": 24,
   "outputs": [
    {
     "name": "stdout",
     "output_type": "stream",
     "text": [
      "1/1 [==============================] - 0s 201ms/step\n",
      "Prediction: kozak\n",
      "Confidence: 0.18407178\n",
      "Truth: spodnie\n"
     ]
    },
    {
     "data": {
      "text/plain": "<Figure size 640x480 with 1 Axes>",
      "image/png": "[encoded data removed]"
     },
     "metadata": {},
     "output_type": "display_data"
    },
    {
     "name": "stdout",
     "output_type": "stream",
     "text": [
      "1/1 [==============================] - 0s 44ms/step\n",
      "Prediction: kozak\n",
      "Confidence: 0.19596271\n",
      "Truth: pulower\n"
     ]
    },
    {
     "data": {
      "text/plain": "<Figure size 640x480 with 1 Axes>",
      "image/png": "[encoded data removed]"
     },
     "metadata": {},
     "output_type": "display_data"
    },
    {
     "name": "stdout",
     "output_type": "stream",
     "text": [
      "1/1 [==============================] - 0s 35ms/step\n",
      "Prediction: kozak\n",
      "Confidence: 0.2247456\n",
      "Truth: koszula\n"
     ]
    },
    {
     "data": {
      "text/plain": "<Figure size 640x480 with 1 Axes>",
      "image/png": "[encoded data removed]"
     },
     "metadata": {},
     "output_type": "display_data"
    },
    {
     "name": "stdout",
     "output_type": "stream",
     "text": [
      "1/1 [==============================] - 0s 25ms/step\n",
      "Prediction: kozak\n",
      "Confidence: 0.25589627\n",
      "Truth: torba\n"
     ]
    },
    {
     "data": {
      "text/plain": "<Figure size 640x480 with 1 Axes>",
      "image/png": "[encoded data removed]"
     },
     "metadata": {},
     "output_type": "display_data"
    },
    {
     "name": "stdout",
     "output_type": "stream",
     "text": [
      "1/1 [==============================] - 0s 32ms/step\n",
      "Prediction: kozak\n",
      "Confidence: 0.1734707\n",
      "Truth: spodnie\n"
     ]
    },
    {
     "data": {
      "text/plain": "<Figure size 640x480 with 1 Axes>",
      "image/png": "[encoded data removed]"
     },
     "metadata": {},
     "output_type": "display_data"
    }
   ],
   "source": [
    "for _ in range(5):\n",
    "    image_index=np.random.randint(len(X_test))\n",
    "    image=np.array([X_test[image_index]])\n",
    "    confidences=model.predict(image)\n",
    "    confidence=np.max(confidences[0])\n",
    "    prediction=np.argmax(confidences[0])\n",
    "    print(\"Prediction:\", class_names[prediction])\n",
    "    print(\"Confidence:\", confidence)\n",
    "    print(\"Truth:\", class_names[y_test[image_index]])\n",
    "    plt.imshow(image[0], cmap=\"binary\")\n",
    "    plt.axis('off')\n",
    "    plt.show()"
   ],
   "metadata": {
    "collapsed": false,
    "ExecuteTime": {
     "end_time": "2023-07-09T10:04:04.520317102Z",
     "start_time": "2023-07-09T10:04:03.332493505Z"
    }
   }
  },
  {
   "cell_type": "code",
   "execution_count": 25,
   "outputs": [],
   "source": [
    "model.save('fashion_clf.h5')"
   ],
   "metadata": {
    "collapsed": false,
    "ExecuteTime": {
     "end_time": "2023-07-09T10:04:08.819807235Z",
     "start_time": "2023-07-09T10:04:08.760895347Z"
    }
   }
  },
  {
   "cell_type": "code",
   "execution_count": 26,
   "outputs": [
    {
     "name": "stdout",
     "output_type": "stream",
     "text": [
      "(14861, 8) (14861,)\n",
      "(1651, 8) (1651,)\n",
      "(4128, 8) (4128,)\n"
     ]
    }
   ],
   "source": [
    "housing = fetch_california_housing()\n",
    "X = housing[\"data\"]\n",
    "y = housing[\"target\"]\n",
    "X_train, X_test, y_train, y_test = train_test_split(X, y, train_size=0.8)\n",
    "validation_split = 0.1\n",
    "validation_samples = int(len(X_train) * validation_split)\n",
    "X_val = X_train[:validation_samples]\n",
    "y_val = y_train[:validation_samples]\n",
    "X_train = X_train[validation_samples:]\n",
    "y_train = y_train[validation_samples:]\n",
    "print(X_train.shape, y_train.shape)\n",
    "print(X_val.shape, y_val.shape)\n",
    "print(X_test.shape, y_test.shape)"
   ],
   "metadata": {
    "collapsed": false,
    "ExecuteTime": {
     "end_time": "2023-07-09T10:04:11.479615307Z",
     "start_time": "2023-07-09T10:04:11.404114200Z"
    }
   }
  },
  {
   "cell_type": "code",
   "execution_count": 27,
   "outputs": [],
   "source": [
    "scaler = StandardScaler()\n",
    "X_train = scaler.fit_transform(X_train)\n",
    "X_val = scaler.fit_transform(X_val)\n",
    "X_test = scaler.fit_transform(X_test)"
   ],
   "metadata": {
    "collapsed": false,
    "ExecuteTime": {
     "end_time": "2023-07-09T10:04:12.970954865Z",
     "start_time": "2023-07-09T10:04:12.923856414Z"
    }
   }
  },
  {
   "cell_type": "code",
   "execution_count": 28,
   "outputs": [],
   "source": [
    "regression_model = keras.models.Sequential()\n",
    "regression_model.add(keras.layers.Dense(30, activation='relu', input_shape=(X_train.shape[1],)))\n",
    "regression_model.add(keras.layers.Dense(1))\n",
    "regression_model.compile(loss='mean_squared_error', optimizer='sgd')"
   ],
   "metadata": {
    "collapsed": false,
    "ExecuteTime": {
     "end_time": "2023-07-09T10:04:15.214643463Z",
     "start_time": "2023-07-09T10:04:15.169591320Z"
    }
   }
  },
  {
   "cell_type": "code",
   "execution_count": 29,
   "outputs": [
    {
     "name": "stdout",
     "output_type": "stream",
     "text": [
      "Model: \"sequential_6\"\n",
      "_________________________________________________________________\n",
      " Layer (type)                Output Shape              Param #   \n",
      "=================================================================\n",
      " dense_24 (Dense)            (None, 30)                270       \n",
      "                                                                 \n",
      " dense_25 (Dense)            (None, 1)                 31        \n",
      "                                                                 \n",
      "=================================================================\n",
      "Total params: 301\n",
      "Trainable params: 301\n",
      "Non-trainable params: 0\n",
      "_________________________________________________________________\n"
     ]
    }
   ],
   "source": [
    "regression_model.summary()"
   ],
   "metadata": {
    "collapsed": false,
    "ExecuteTime": {
     "end_time": "2023-07-09T10:04:21.068688500Z",
     "start_time": "2023-07-09T10:04:21.017216641Z"
    }
   }
  },
  {
   "cell_type": "code",
   "execution_count": 30,
   "outputs": [],
   "source": [
    "early_stopping = keras.callbacks.EarlyStopping(patience=5, min_delta=0.01, verbose=1)"
   ],
   "metadata": {
    "collapsed": false,
    "ExecuteTime": {
     "end_time": "2023-07-09T10:05:07.228629171Z",
     "start_time": "2023-07-09T10:05:07.186219427Z"
    }
   }
  },
  {
   "cell_type": "code",
   "execution_count": 31,
   "outputs": [
    {
     "name": "stdout",
     "output_type": "stream",
     "text": [
      "housing_logs/regression_model/20230709-120507\n"
     ]
    }
   ],
   "source": [
    "tensorboard_callback_regression = keras.callbacks.TensorBoard(log_dir=new_folder('housing_logs/regression_model'), histogram_freq=1)"
   ],
   "metadata": {
    "collapsed": false,
    "ExecuteTime": {
     "end_time": "2023-07-09T10:05:07.867021100Z",
     "start_time": "2023-07-09T10:05:07.851829266Z"
    }
   }
  },
  {
   "cell_type": "code",
   "execution_count": 32,
   "outputs": [
    {
     "name": "stdout",
     "output_type": "stream",
     "text": [
      "Epoch 1/100\n",
      "465/465 [==============================] - 3s 5ms/step - loss: 0.7392 - val_loss: 0.5144\n",
      "Epoch 2/100\n",
      " 42/465 [=>............................] - ETA: 2s - loss: 0.4950"
     ]
    },
    {
     "ename": "KeyboardInterrupt",
     "evalue": "",
     "output_type": "error",
     "traceback": [
      "\u001B[0;31m---------------------------------------------------------------------------\u001B[0m",
      "\u001B[0;31mKeyboardInterrupt\u001B[0m                         Traceback (most recent call last)",
      "Cell \u001B[0;32mIn[32], line 2\u001B[0m\n\u001B[1;32m      1\u001B[0m epochs \u001B[38;5;241m=\u001B[39m \u001B[38;5;241m100\u001B[39m\n\u001B[0;32m----> 2\u001B[0m \u001B[43mregression_model\u001B[49m\u001B[38;5;241;43m.\u001B[39;49m\u001B[43mfit\u001B[49m\u001B[43m(\u001B[49m\n\u001B[1;32m      3\u001B[0m \u001B[43m    \u001B[49m\u001B[43mX_train\u001B[49m\u001B[43m,\u001B[49m\u001B[43m \u001B[49m\u001B[43my_train\u001B[49m\u001B[43m,\u001B[49m\n\u001B[1;32m      4\u001B[0m \u001B[43m    \u001B[49m\u001B[43mepochs\u001B[49m\u001B[38;5;241;43m=\u001B[39;49m\u001B[43mepochs\u001B[49m\u001B[43m,\u001B[49m\n\u001B[1;32m      5\u001B[0m \u001B[43m    \u001B[49m\u001B[43mvalidation_data\u001B[49m\u001B[38;5;241;43m=\u001B[39;49m\u001B[43m(\u001B[49m\u001B[43mX_val\u001B[49m\u001B[43m,\u001B[49m\u001B[43m \u001B[49m\u001B[43my_val\u001B[49m\u001B[43m)\u001B[49m\u001B[43m,\u001B[49m\n\u001B[1;32m      6\u001B[0m \u001B[43m    \u001B[49m\u001B[43mcallbacks\u001B[49m\u001B[38;5;241;43m=\u001B[39;49m\u001B[43m[\u001B[49m\u001B[43mearly_stopping\u001B[49m\u001B[43m,\u001B[49m\u001B[43m \u001B[49m\u001B[43mtensorboard_callback_regression\u001B[49m\u001B[43m]\u001B[49m\n\u001B[1;32m      7\u001B[0m \u001B[43m)\u001B[49m\n",
      "File \u001B[0;32m~/anaconda3/envs/ml/lib/python3.10/site-packages/keras/utils/traceback_utils.py:65\u001B[0m, in \u001B[0;36mfilter_traceback.<locals>.error_handler\u001B[0;34m(*args, **kwargs)\u001B[0m\n\u001B[1;32m     63\u001B[0m filtered_tb \u001B[38;5;241m=\u001B[39m \u001B[38;5;28;01mNone\u001B[39;00m\n\u001B[1;32m     64\u001B[0m \u001B[38;5;28;01mtry\u001B[39;00m:\n\u001B[0;32m---> 65\u001B[0m     \u001B[38;5;28;01mreturn\u001B[39;00m \u001B[43mfn\u001B[49m\u001B[43m(\u001B[49m\u001B[38;5;241;43m*\u001B[39;49m\u001B[43margs\u001B[49m\u001B[43m,\u001B[49m\u001B[43m \u001B[49m\u001B[38;5;241;43m*\u001B[39;49m\u001B[38;5;241;43m*\u001B[39;49m\u001B[43mkwargs\u001B[49m\u001B[43m)\u001B[49m\n\u001B[1;32m     66\u001B[0m \u001B[38;5;28;01mexcept\u001B[39;00m \u001B[38;5;167;01mException\u001B[39;00m \u001B[38;5;28;01mas\u001B[39;00m e:\n\u001B[1;32m     67\u001B[0m     filtered_tb \u001B[38;5;241m=\u001B[39m _process_traceback_frames(e\u001B[38;5;241m.\u001B[39m__traceback__)\n",
      "File \u001B[0;32m~/anaconda3/envs/ml/lib/python3.10/site-packages/keras/engine/training.py:1650\u001B[0m, in \u001B[0;36mModel.fit\u001B[0;34m(self, x, y, batch_size, epochs, verbose, callbacks, validation_split, validation_data, shuffle, class_weight, sample_weight, initial_epoch, steps_per_epoch, validation_steps, validation_batch_size, validation_freq, max_queue_size, workers, use_multiprocessing)\u001B[0m\n\u001B[1;32m   1642\u001B[0m \u001B[38;5;28;01mwith\u001B[39;00m tf\u001B[38;5;241m.\u001B[39mprofiler\u001B[38;5;241m.\u001B[39mexperimental\u001B[38;5;241m.\u001B[39mTrace(\n\u001B[1;32m   1643\u001B[0m     \u001B[38;5;124m\"\u001B[39m\u001B[38;5;124mtrain\u001B[39m\u001B[38;5;124m\"\u001B[39m,\n\u001B[1;32m   1644\u001B[0m     epoch_num\u001B[38;5;241m=\u001B[39mepoch,\n\u001B[0;32m   (...)\u001B[0m\n\u001B[1;32m   1647\u001B[0m     _r\u001B[38;5;241m=\u001B[39m\u001B[38;5;241m1\u001B[39m,\n\u001B[1;32m   1648\u001B[0m ):\n\u001B[1;32m   1649\u001B[0m     callbacks\u001B[38;5;241m.\u001B[39mon_train_batch_begin(step)\n\u001B[0;32m-> 1650\u001B[0m     tmp_logs \u001B[38;5;241m=\u001B[39m \u001B[38;5;28;43mself\u001B[39;49m\u001B[38;5;241;43m.\u001B[39;49m\u001B[43mtrain_function\u001B[49m\u001B[43m(\u001B[49m\u001B[43miterator\u001B[49m\u001B[43m)\u001B[49m\n\u001B[1;32m   1651\u001B[0m     \u001B[38;5;28;01mif\u001B[39;00m data_handler\u001B[38;5;241m.\u001B[39mshould_sync:\n\u001B[1;32m   1652\u001B[0m         context\u001B[38;5;241m.\u001B[39masync_wait()\n",
      "File \u001B[0;32m~/anaconda3/envs/ml/lib/python3.10/site-packages/tensorflow/python/util/traceback_utils.py:150\u001B[0m, in \u001B[0;36mfilter_traceback.<locals>.error_handler\u001B[0;34m(*args, **kwargs)\u001B[0m\n\u001B[1;32m    148\u001B[0m filtered_tb \u001B[38;5;241m=\u001B[39m \u001B[38;5;28;01mNone\u001B[39;00m\n\u001B[1;32m    149\u001B[0m \u001B[38;5;28;01mtry\u001B[39;00m:\n\u001B[0;32m--> 150\u001B[0m   \u001B[38;5;28;01mreturn\u001B[39;00m \u001B[43mfn\u001B[49m\u001B[43m(\u001B[49m\u001B[38;5;241;43m*\u001B[39;49m\u001B[43margs\u001B[49m\u001B[43m,\u001B[49m\u001B[43m \u001B[49m\u001B[38;5;241;43m*\u001B[39;49m\u001B[38;5;241;43m*\u001B[39;49m\u001B[43mkwargs\u001B[49m\u001B[43m)\u001B[49m\n\u001B[1;32m    151\u001B[0m \u001B[38;5;28;01mexcept\u001B[39;00m \u001B[38;5;167;01mException\u001B[39;00m \u001B[38;5;28;01mas\u001B[39;00m e:\n\u001B[1;32m    152\u001B[0m   filtered_tb \u001B[38;5;241m=\u001B[39m _process_traceback_frames(e\u001B[38;5;241m.\u001B[39m__traceback__)\n",
      "File \u001B[0;32m~/anaconda3/envs/ml/lib/python3.10/site-packages/tensorflow/python/eager/polymorphic_function/polymorphic_function.py:880\u001B[0m, in \u001B[0;36mFunction.__call__\u001B[0;34m(self, *args, **kwds)\u001B[0m\n\u001B[1;32m    877\u001B[0m compiler \u001B[38;5;241m=\u001B[39m \u001B[38;5;124m\"\u001B[39m\u001B[38;5;124mxla\u001B[39m\u001B[38;5;124m\"\u001B[39m \u001B[38;5;28;01mif\u001B[39;00m \u001B[38;5;28mself\u001B[39m\u001B[38;5;241m.\u001B[39m_jit_compile \u001B[38;5;28;01melse\u001B[39;00m \u001B[38;5;124m\"\u001B[39m\u001B[38;5;124mnonXla\u001B[39m\u001B[38;5;124m\"\u001B[39m\n\u001B[1;32m    879\u001B[0m \u001B[38;5;28;01mwith\u001B[39;00m OptionalXlaContext(\u001B[38;5;28mself\u001B[39m\u001B[38;5;241m.\u001B[39m_jit_compile):\n\u001B[0;32m--> 880\u001B[0m   result \u001B[38;5;241m=\u001B[39m \u001B[38;5;28;43mself\u001B[39;49m\u001B[38;5;241;43m.\u001B[39;49m\u001B[43m_call\u001B[49m\u001B[43m(\u001B[49m\u001B[38;5;241;43m*\u001B[39;49m\u001B[43margs\u001B[49m\u001B[43m,\u001B[49m\u001B[43m \u001B[49m\u001B[38;5;241;43m*\u001B[39;49m\u001B[38;5;241;43m*\u001B[39;49m\u001B[43mkwds\u001B[49m\u001B[43m)\u001B[49m\n\u001B[1;32m    882\u001B[0m new_tracing_count \u001B[38;5;241m=\u001B[39m \u001B[38;5;28mself\u001B[39m\u001B[38;5;241m.\u001B[39mexperimental_get_tracing_count()\n\u001B[1;32m    883\u001B[0m without_tracing \u001B[38;5;241m=\u001B[39m (tracing_count \u001B[38;5;241m==\u001B[39m new_tracing_count)\n",
      "File \u001B[0;32m~/anaconda3/envs/ml/lib/python3.10/site-packages/tensorflow/python/eager/polymorphic_function/polymorphic_function.py:912\u001B[0m, in \u001B[0;36mFunction._call\u001B[0;34m(self, *args, **kwds)\u001B[0m\n\u001B[1;32m    909\u001B[0m   \u001B[38;5;28mself\u001B[39m\u001B[38;5;241m.\u001B[39m_lock\u001B[38;5;241m.\u001B[39mrelease()\n\u001B[1;32m    910\u001B[0m   \u001B[38;5;66;03m# In this case we have created variables on the first call, so we run the\u001B[39;00m\n\u001B[1;32m    911\u001B[0m   \u001B[38;5;66;03m# defunned version which is guaranteed to never create variables.\u001B[39;00m\n\u001B[0;32m--> 912\u001B[0m   \u001B[38;5;28;01mreturn\u001B[39;00m \u001B[38;5;28;43mself\u001B[39;49m\u001B[38;5;241;43m.\u001B[39;49m\u001B[43m_no_variable_creation_fn\u001B[49m\u001B[43m(\u001B[49m\u001B[38;5;241;43m*\u001B[39;49m\u001B[43margs\u001B[49m\u001B[43m,\u001B[49m\u001B[43m \u001B[49m\u001B[38;5;241;43m*\u001B[39;49m\u001B[38;5;241;43m*\u001B[39;49m\u001B[43mkwds\u001B[49m\u001B[43m)\u001B[49m  \u001B[38;5;66;03m# pylint: disable=not-callable\u001B[39;00m\n\u001B[1;32m    913\u001B[0m \u001B[38;5;28;01melif\u001B[39;00m \u001B[38;5;28mself\u001B[39m\u001B[38;5;241m.\u001B[39m_variable_creation_fn \u001B[38;5;129;01mis\u001B[39;00m \u001B[38;5;129;01mnot\u001B[39;00m \u001B[38;5;28;01mNone\u001B[39;00m:\n\u001B[1;32m    914\u001B[0m   \u001B[38;5;66;03m# Release the lock early so that multiple threads can perform the call\u001B[39;00m\n\u001B[1;32m    915\u001B[0m   \u001B[38;5;66;03m# in parallel.\u001B[39;00m\n\u001B[1;32m    916\u001B[0m   \u001B[38;5;28mself\u001B[39m\u001B[38;5;241m.\u001B[39m_lock\u001B[38;5;241m.\u001B[39mrelease()\n",
      "File \u001B[0;32m~/anaconda3/envs/ml/lib/python3.10/site-packages/tensorflow/python/eager/polymorphic_function/tracing_compiler.py:134\u001B[0m, in \u001B[0;36mTracingCompiler.__call__\u001B[0;34m(self, *args, **kwargs)\u001B[0m\n\u001B[1;32m    131\u001B[0m \u001B[38;5;28;01mwith\u001B[39;00m \u001B[38;5;28mself\u001B[39m\u001B[38;5;241m.\u001B[39m_lock:\n\u001B[1;32m    132\u001B[0m   (concrete_function,\n\u001B[1;32m    133\u001B[0m    filtered_flat_args) \u001B[38;5;241m=\u001B[39m \u001B[38;5;28mself\u001B[39m\u001B[38;5;241m.\u001B[39m_maybe_define_function(args, kwargs)\n\u001B[0;32m--> 134\u001B[0m \u001B[38;5;28;01mreturn\u001B[39;00m \u001B[43mconcrete_function\u001B[49m\u001B[38;5;241;43m.\u001B[39;49m\u001B[43m_call_flat\u001B[49m\u001B[43m(\u001B[49m\n\u001B[1;32m    135\u001B[0m \u001B[43m    \u001B[49m\u001B[43mfiltered_flat_args\u001B[49m\u001B[43m,\u001B[49m\u001B[43m \u001B[49m\u001B[43mcaptured_inputs\u001B[49m\u001B[38;5;241;43m=\u001B[39;49m\u001B[43mconcrete_function\u001B[49m\u001B[38;5;241;43m.\u001B[39;49m\u001B[43mcaptured_inputs\u001B[49m\u001B[43m)\u001B[49m\n",
      "File \u001B[0;32m~/anaconda3/envs/ml/lib/python3.10/site-packages/tensorflow/python/eager/polymorphic_function/monomorphic_function.py:1745\u001B[0m, in \u001B[0;36mConcreteFunction._call_flat\u001B[0;34m(self, args, captured_inputs, cancellation_manager)\u001B[0m\n\u001B[1;32m   1741\u001B[0m possible_gradient_type \u001B[38;5;241m=\u001B[39m gradients_util\u001B[38;5;241m.\u001B[39mPossibleTapeGradientTypes(args)\n\u001B[1;32m   1742\u001B[0m \u001B[38;5;28;01mif\u001B[39;00m (possible_gradient_type \u001B[38;5;241m==\u001B[39m gradients_util\u001B[38;5;241m.\u001B[39mPOSSIBLE_GRADIENT_TYPES_NONE\n\u001B[1;32m   1743\u001B[0m     \u001B[38;5;129;01mand\u001B[39;00m executing_eagerly):\n\u001B[1;32m   1744\u001B[0m   \u001B[38;5;66;03m# No tape is watching; skip to running the function.\u001B[39;00m\n\u001B[0;32m-> 1745\u001B[0m   \u001B[38;5;28;01mreturn\u001B[39;00m \u001B[38;5;28mself\u001B[39m\u001B[38;5;241m.\u001B[39m_build_call_outputs(\u001B[38;5;28;43mself\u001B[39;49m\u001B[38;5;241;43m.\u001B[39;49m\u001B[43m_inference_function\u001B[49m\u001B[38;5;241;43m.\u001B[39;49m\u001B[43mcall\u001B[49m\u001B[43m(\u001B[49m\n\u001B[1;32m   1746\u001B[0m \u001B[43m      \u001B[49m\u001B[43mctx\u001B[49m\u001B[43m,\u001B[49m\u001B[43m \u001B[49m\u001B[43margs\u001B[49m\u001B[43m,\u001B[49m\u001B[43m \u001B[49m\u001B[43mcancellation_manager\u001B[49m\u001B[38;5;241;43m=\u001B[39;49m\u001B[43mcancellation_manager\u001B[49m\u001B[43m)\u001B[49m)\n\u001B[1;32m   1747\u001B[0m forward_backward \u001B[38;5;241m=\u001B[39m \u001B[38;5;28mself\u001B[39m\u001B[38;5;241m.\u001B[39m_select_forward_and_backward_functions(\n\u001B[1;32m   1748\u001B[0m     args,\n\u001B[1;32m   1749\u001B[0m     possible_gradient_type,\n\u001B[1;32m   1750\u001B[0m     executing_eagerly)\n\u001B[1;32m   1751\u001B[0m forward_function, args_with_tangents \u001B[38;5;241m=\u001B[39m forward_backward\u001B[38;5;241m.\u001B[39mforward()\n",
      "File \u001B[0;32m~/anaconda3/envs/ml/lib/python3.10/site-packages/tensorflow/python/eager/polymorphic_function/monomorphic_function.py:378\u001B[0m, in \u001B[0;36m_EagerDefinedFunction.call\u001B[0;34m(self, ctx, args, cancellation_manager)\u001B[0m\n\u001B[1;32m    376\u001B[0m \u001B[38;5;28;01mwith\u001B[39;00m _InterpolateFunctionError(\u001B[38;5;28mself\u001B[39m):\n\u001B[1;32m    377\u001B[0m   \u001B[38;5;28;01mif\u001B[39;00m cancellation_manager \u001B[38;5;129;01mis\u001B[39;00m \u001B[38;5;28;01mNone\u001B[39;00m:\n\u001B[0;32m--> 378\u001B[0m     outputs \u001B[38;5;241m=\u001B[39m \u001B[43mexecute\u001B[49m\u001B[38;5;241;43m.\u001B[39;49m\u001B[43mexecute\u001B[49m\u001B[43m(\u001B[49m\n\u001B[1;32m    379\u001B[0m \u001B[43m        \u001B[49m\u001B[38;5;28;43mstr\u001B[39;49m\u001B[43m(\u001B[49m\u001B[38;5;28;43mself\u001B[39;49m\u001B[38;5;241;43m.\u001B[39;49m\u001B[43msignature\u001B[49m\u001B[38;5;241;43m.\u001B[39;49m\u001B[43mname\u001B[49m\u001B[43m)\u001B[49m\u001B[43m,\u001B[49m\n\u001B[1;32m    380\u001B[0m \u001B[43m        \u001B[49m\u001B[43mnum_outputs\u001B[49m\u001B[38;5;241;43m=\u001B[39;49m\u001B[38;5;28;43mself\u001B[39;49m\u001B[38;5;241;43m.\u001B[39;49m\u001B[43m_num_outputs\u001B[49m\u001B[43m,\u001B[49m\n\u001B[1;32m    381\u001B[0m \u001B[43m        \u001B[49m\u001B[43minputs\u001B[49m\u001B[38;5;241;43m=\u001B[39;49m\u001B[43margs\u001B[49m\u001B[43m,\u001B[49m\n\u001B[1;32m    382\u001B[0m \u001B[43m        \u001B[49m\u001B[43mattrs\u001B[49m\u001B[38;5;241;43m=\u001B[39;49m\u001B[43mattrs\u001B[49m\u001B[43m,\u001B[49m\n\u001B[1;32m    383\u001B[0m \u001B[43m        \u001B[49m\u001B[43mctx\u001B[49m\u001B[38;5;241;43m=\u001B[39;49m\u001B[43mctx\u001B[49m\u001B[43m)\u001B[49m\n\u001B[1;32m    384\u001B[0m   \u001B[38;5;28;01melse\u001B[39;00m:\n\u001B[1;32m    385\u001B[0m     outputs \u001B[38;5;241m=\u001B[39m execute\u001B[38;5;241m.\u001B[39mexecute_with_cancellation(\n\u001B[1;32m    386\u001B[0m         \u001B[38;5;28mstr\u001B[39m(\u001B[38;5;28mself\u001B[39m\u001B[38;5;241m.\u001B[39msignature\u001B[38;5;241m.\u001B[39mname),\n\u001B[1;32m    387\u001B[0m         num_outputs\u001B[38;5;241m=\u001B[39m\u001B[38;5;28mself\u001B[39m\u001B[38;5;241m.\u001B[39m_num_outputs,\n\u001B[0;32m   (...)\u001B[0m\n\u001B[1;32m    390\u001B[0m         ctx\u001B[38;5;241m=\u001B[39mctx,\n\u001B[1;32m    391\u001B[0m         cancellation_manager\u001B[38;5;241m=\u001B[39mcancellation_manager)\n",
      "File \u001B[0;32m~/anaconda3/envs/ml/lib/python3.10/site-packages/tensorflow/python/eager/execute.py:52\u001B[0m, in \u001B[0;36mquick_execute\u001B[0;34m(op_name, num_outputs, inputs, attrs, ctx, name)\u001B[0m\n\u001B[1;32m     50\u001B[0m \u001B[38;5;28;01mtry\u001B[39;00m:\n\u001B[1;32m     51\u001B[0m   ctx\u001B[38;5;241m.\u001B[39mensure_initialized()\n\u001B[0;32m---> 52\u001B[0m   tensors \u001B[38;5;241m=\u001B[39m \u001B[43mpywrap_tfe\u001B[49m\u001B[38;5;241;43m.\u001B[39;49m\u001B[43mTFE_Py_Execute\u001B[49m\u001B[43m(\u001B[49m\u001B[43mctx\u001B[49m\u001B[38;5;241;43m.\u001B[39;49m\u001B[43m_handle\u001B[49m\u001B[43m,\u001B[49m\u001B[43m \u001B[49m\u001B[43mdevice_name\u001B[49m\u001B[43m,\u001B[49m\u001B[43m \u001B[49m\u001B[43mop_name\u001B[49m\u001B[43m,\u001B[49m\n\u001B[1;32m     53\u001B[0m \u001B[43m                                      \u001B[49m\u001B[43minputs\u001B[49m\u001B[43m,\u001B[49m\u001B[43m \u001B[49m\u001B[43mattrs\u001B[49m\u001B[43m,\u001B[49m\u001B[43m \u001B[49m\u001B[43mnum_outputs\u001B[49m\u001B[43m)\u001B[49m\n\u001B[1;32m     54\u001B[0m \u001B[38;5;28;01mexcept\u001B[39;00m core\u001B[38;5;241m.\u001B[39m_NotOkStatusException \u001B[38;5;28;01mas\u001B[39;00m e:\n\u001B[1;32m     55\u001B[0m   \u001B[38;5;28;01mif\u001B[39;00m name \u001B[38;5;129;01mis\u001B[39;00m \u001B[38;5;129;01mnot\u001B[39;00m \u001B[38;5;28;01mNone\u001B[39;00m:\n",
      "\u001B[0;31mKeyboardInterrupt\u001B[0m: "
     ]
    }
   ],
   "source": [
    "epochs = 100\n",
    "regression_model.fit(\n",
    "    X_train, y_train,\n",
    "    epochs=epochs,\n",
    "    validation_data=(X_val, y_val),\n",
    "    callbacks=[early_stopping, tensorboard_callback_regression]\n",
    ")"
   ],
   "metadata": {
    "collapsed": false,
    "ExecuteTime": {
     "end_time": "2023-07-09T10:05:12.415293211Z",
     "start_time": "2023-07-09T10:05:08.388252535Z"
    }
   }
  },
  {
   "cell_type": "code",
   "execution_count": 23,
   "outputs": [],
   "source": [
    "regression_model.save('reg_housing_1.h5')"
   ],
   "metadata": {
    "collapsed": false,
    "ExecuteTime": {
     "end_time": "2023-05-24T12:32:41.755122073Z",
     "start_time": "2023-05-24T12:32:41.710688323Z"
    }
   }
  },
  {
   "cell_type": "code",
   "execution_count": 37,
   "outputs": [],
   "source": [
    "regression_model2 = keras.models.Sequential()\n",
    "regression_model2.add(keras.layers.Dense(64, activation='relu'))\n",
    "regression_model2.add(keras.layers.Dense(64, activation='relu'))\n",
    "regression_model2.add(keras.layers.Dense(1))\n",
    "regression_model2.compile(optimizer='sgd', loss='mean_squared_error')"
   ],
   "metadata": {
    "collapsed": false,
    "ExecuteTime": {
     "end_time": "2023-07-09T10:05:51.303155810Z",
     "start_time": "2023-07-09T10:05:51.270506958Z"
    }
   }
  },
  {
   "cell_type": "code",
   "execution_count": 43,
   "outputs": [
    {
     "name": "stdout",
     "output_type": "stream",
     "text": [
      "Model: \"sequential_10\"\n",
      "_________________________________________________________________\n",
      " Layer (type)                Output Shape              Param #   \n",
      "=================================================================\n",
      " dense_35 (Dense)            (None, 64)                576       \n",
      "                                                                 \n",
      " dense_36 (Dense)            (None, 64)                4160      \n",
      "                                                                 \n",
      " dense_37 (Dense)            (None, 1)                 65        \n",
      "                                                                 \n",
      "=================================================================\n",
      "Total params: 4,801\n",
      "Trainable params: 4,801\n",
      "Non-trainable params: 0\n",
      "_________________________________________________________________\n"
     ]
    }
   ],
   "source": [
    "regression_model2.summary()"
   ],
   "metadata": {
    "collapsed": false,
    "ExecuteTime": {
     "end_time": "2023-07-09T10:06:49.677255845Z",
     "start_time": "2023-07-09T10:06:49.622331319Z"
    }
   }
  },
  {
   "cell_type": "code",
   "execution_count": 40,
   "outputs": [
    {
     "name": "stdout",
     "output_type": "stream",
     "text": [
      "housing_logs/regression_model2/20230709-120604\n"
     ]
    }
   ],
   "source": [
    "tensorboard_callback_regression = keras.callbacks.TensorBoard(log_dir=new_folder('housing_logs/regression_model2'), histogram_freq=1)"
   ],
   "metadata": {
    "collapsed": false,
    "ExecuteTime": {
     "end_time": "2023-07-09T10:06:04.467940707Z",
     "start_time": "2023-07-09T10:06:04.450630363Z"
    }
   }
  },
  {
   "cell_type": "code",
   "execution_count": 41,
   "outputs": [
    {
     "name": "stdout",
     "output_type": "stream",
     "text": [
      "Epoch 1/1000\n",
      "465/465 [==============================] - 3s 5ms/step - loss: 0.8297 - val_loss: 2.1323\n",
      "Epoch 2/1000\n",
      "465/465 [==============================] - 1s 3ms/step - loss: 0.5122 - val_loss: 0.4625\n",
      "Epoch 3/1000\n",
      "465/465 [==============================] - 1s 3ms/step - loss: 0.5667 - val_loss: 0.5843\n",
      "Epoch 4/1000\n",
      "465/465 [==============================] - 1s 3ms/step - loss: 0.5857 - val_loss: 0.4284\n",
      "Epoch 5/1000\n",
      "465/465 [==============================] - 1s 3ms/step - loss: 0.4157 - val_loss: 0.4115\n",
      "Epoch 6/1000\n",
      "465/465 [==============================] - 2s 4ms/step - loss: 0.3976 - val_loss: 0.3963\n",
      "Epoch 7/1000\n",
      "465/465 [==============================] - 1s 3ms/step - loss: 0.3831 - val_loss: 0.4039\n",
      "Epoch 8/1000\n",
      "465/465 [==============================] - 1s 3ms/step - loss: 0.3736 - val_loss: 0.3802\n",
      "Epoch 9/1000\n",
      "465/465 [==============================] - 1s 2ms/step - loss: 0.3638 - val_loss: 0.3800\n",
      "Epoch 10/1000\n",
      "465/465 [==============================] - 1s 3ms/step - loss: 0.3552 - val_loss: 0.3773\n",
      "Epoch 11/1000\n",
      "465/465 [==============================] - 1s 3ms/step - loss: 0.3496 - val_loss: 0.3693\n",
      "Epoch 12/1000\n",
      "465/465 [==============================] - 1s 3ms/step - loss: 0.3430 - val_loss: 0.3502\n",
      "Epoch 13/1000\n",
      "465/465 [==============================] - 1s 3ms/step - loss: 0.3363 - val_loss: 0.3912\n",
      "Epoch 14/1000\n",
      "465/465 [==============================] - 1s 3ms/step - loss: 0.3340 - val_loss: 0.3429\n",
      "Epoch 15/1000\n",
      "465/465 [==============================] - 1s 3ms/step - loss: 0.3284 - val_loss: 0.3408\n",
      "Epoch 16/1000\n",
      "465/465 [==============================] - 1s 2ms/step - loss: 0.3254 - val_loss: 0.3379\n",
      "Epoch 17/1000\n",
      "465/465 [==============================] - 1s 3ms/step - loss: 0.3196 - val_loss: 0.3325\n",
      "Epoch 18/1000\n",
      "465/465 [==============================] - 1s 3ms/step - loss: 0.3167 - val_loss: 0.3385\n",
      "Epoch 19/1000\n",
      "465/465 [==============================] - 1s 3ms/step - loss: 0.3119 - val_loss: 0.3287\n",
      "Epoch 20/1000\n",
      "465/465 [==============================] - 1s 3ms/step - loss: 0.3100 - val_loss: 0.3256\n",
      "Epoch 21/1000\n",
      "465/465 [==============================] - 1s 3ms/step - loss: 0.3069 - val_loss: 0.3204\n",
      "Epoch 22/1000\n",
      "465/465 [==============================] - 1s 3ms/step - loss: 0.3041 - val_loss: 0.3287\n",
      "Epoch 23/1000\n",
      "465/465 [==============================] - 1s 3ms/step - loss: 0.3023 - val_loss: 0.3305\n",
      "Epoch 24/1000\n",
      "465/465 [==============================] - 1s 3ms/step - loss: 0.2990 - val_loss: 0.3396\n",
      "Epoch 25/1000\n",
      "465/465 [==============================] - 1s 2ms/step - loss: 0.2973 - val_loss: 0.3221\n",
      "Epoch 25: early stopping\n"
     ]
    }
   ],
   "source": [
    "epochs = 1000\n",
    "history2 = regression_model2.fit(\n",
    "    X_train, y_train,\n",
    "    epochs=epochs,\n",
    "    validation_data=(X_val, y_val),\n",
    "    callbacks=[early_stopping, tensorboard_callback_regression]\n",
    ")"
   ],
   "metadata": {
    "collapsed": false,
    "ExecuteTime": {
     "end_time": "2023-07-09T10:06:39.926890284Z",
     "start_time": "2023-07-09T10:06:05.678147151Z"
    }
   }
  },
  {
   "cell_type": "code",
   "execution_count": 42,
   "outputs": [],
   "source": [
    "regression_model2.save('reg_housing_2.h5')"
   ],
   "metadata": {
    "collapsed": false,
    "ExecuteTime": {
     "end_time": "2023-07-09T10:06:46.000467405Z",
     "start_time": "2023-07-09T10:06:45.960022336Z"
    }
   }
  },
  {
   "cell_type": "code",
   "execution_count": 8,
   "outputs": [],
   "source": [
    "regression_model3 = keras.models.Sequential()\n",
    "regression_model3.add(keras.layers.Dense(256, activation='relu'))\n",
    "regression_model3.add(keras.layers.Dense(128, activation='relu'))\n",
    "regression_model3.add(keras.layers.Dense(64, activation='relu'))\n",
    "regression_model3.add(keras.layers.Dense(32, activation='relu'))\n",
    "regression_model3.add(keras.layers.Dense(16, activation='relu'))\n",
    "regression_model3.add(keras.layers.Dense(1))\n",
    "regression_model3.compile(optimizer='sgd', loss='mean_squared_error')"
   ],
   "metadata": {
    "collapsed": false,
    "ExecuteTime": {
     "end_time": "2023-07-09T10:02:30.690453053Z",
     "start_time": "2023-07-09T10:02:30.670999702Z"
    }
   }
  },
  {
   "cell_type": "code",
   "execution_count": 9,
   "outputs": [
    {
     "ename": "ValueError",
     "evalue": "This model has not yet been built. Build the model first by calling `build()` or by calling the model on a batch of data.",
     "output_type": "error",
     "traceback": [
      "\u001B[0;31m---------------------------------------------------------------------------\u001B[0m",
      "\u001B[0;31mValueError\u001B[0m                                Traceback (most recent call last)",
      "Cell \u001B[0;32mIn[9], line 1\u001B[0m\n\u001B[0;32m----> 1\u001B[0m \u001B[43mregression_model3\u001B[49m\u001B[38;5;241;43m.\u001B[39;49m\u001B[43msummary\u001B[49m\u001B[43m(\u001B[49m\u001B[43m)\u001B[49m\n",
      "File \u001B[0;32m~/anaconda3/envs/ml/lib/python3.10/site-packages/keras/engine/training.py:3292\u001B[0m, in \u001B[0;36mModel.summary\u001B[0;34m(self, line_length, positions, print_fn, expand_nested, show_trainable, layer_range)\u001B[0m\n\u001B[1;32m   3262\u001B[0m \u001B[38;5;250m\u001B[39m\u001B[38;5;124;03m\"\"\"Prints a string summary of the network.\u001B[39;00m\n\u001B[1;32m   3263\u001B[0m \n\u001B[1;32m   3264\u001B[0m \u001B[38;5;124;03mArgs:\u001B[39;00m\n\u001B[0;32m   (...)\u001B[0m\n\u001B[1;32m   3289\u001B[0m \u001B[38;5;124;03m    ValueError: if `summary()` is called before the model is built.\u001B[39;00m\n\u001B[1;32m   3290\u001B[0m \u001B[38;5;124;03m\"\"\"\u001B[39;00m\n\u001B[1;32m   3291\u001B[0m \u001B[38;5;28;01mif\u001B[39;00m \u001B[38;5;129;01mnot\u001B[39;00m \u001B[38;5;28mself\u001B[39m\u001B[38;5;241m.\u001B[39mbuilt:\n\u001B[0;32m-> 3292\u001B[0m     \u001B[38;5;28;01mraise\u001B[39;00m \u001B[38;5;167;01mValueError\u001B[39;00m(\n\u001B[1;32m   3293\u001B[0m         \u001B[38;5;124m\"\u001B[39m\u001B[38;5;124mThis model has not yet been built. \u001B[39m\u001B[38;5;124m\"\u001B[39m\n\u001B[1;32m   3294\u001B[0m         \u001B[38;5;124m\"\u001B[39m\u001B[38;5;124mBuild the model first by calling `build()` or by calling \u001B[39m\u001B[38;5;124m\"\u001B[39m\n\u001B[1;32m   3295\u001B[0m         \u001B[38;5;124m\"\u001B[39m\u001B[38;5;124mthe model on a batch of data.\u001B[39m\u001B[38;5;124m\"\u001B[39m\n\u001B[1;32m   3296\u001B[0m     )\n\u001B[1;32m   3297\u001B[0m layer_utils\u001B[38;5;241m.\u001B[39mprint_summary(\n\u001B[1;32m   3298\u001B[0m     \u001B[38;5;28mself\u001B[39m,\n\u001B[1;32m   3299\u001B[0m     line_length\u001B[38;5;241m=\u001B[39mline_length,\n\u001B[0;32m   (...)\u001B[0m\n\u001B[1;32m   3304\u001B[0m     layer_range\u001B[38;5;241m=\u001B[39mlayer_range,\n\u001B[1;32m   3305\u001B[0m )\n",
      "\u001B[0;31mValueError\u001B[0m: This model has not yet been built. Build the model first by calling `build()` or by calling the model on a batch of data."
     ]
    }
   ],
   "source": [
    "regression_model3.summary()"
   ],
   "metadata": {
    "collapsed": false,
    "ExecuteTime": {
     "end_time": "2023-07-09T10:02:33.956852374Z",
     "start_time": "2023-07-09T10:02:33.934866128Z"
    }
   }
  },
  {
   "cell_type": "code",
   "execution_count": 29,
   "outputs": [
    {
     "name": "stdout",
     "output_type": "stream",
     "text": [
      "housing_logs/regression_model3/20230524-143302\n"
     ]
    }
   ],
   "source": [
    "tensorboard_callback_regression = keras.callbacks.TensorBoard(log_dir=new_folder('housing_logs/regression_model3'), histogram_freq=1)"
   ],
   "metadata": {
    "collapsed": false,
    "ExecuteTime": {
     "end_time": "2023-05-24T12:33:02.717618396Z",
     "start_time": "2023-05-24T12:33:02.713660101Z"
    }
   }
  },
  {
   "cell_type": "code",
   "execution_count": 30,
   "outputs": [
    {
     "name": "stdout",
     "output_type": "stream",
     "text": [
      "Epoch 1/1000\n",
      "465/465 [==============================] - 3s 6ms/step - loss: 0.7028 - val_loss: 0.5611\n",
      "Epoch 2/1000\n",
      "465/465 [==============================] - 2s 4ms/step - loss: 0.4005 - val_loss: 1.1615\n",
      "Epoch 3/1000\n",
      "465/465 [==============================] - 2s 5ms/step - loss: 0.3684 - val_loss: 1.8374\n",
      "Epoch 4/1000\n",
      "465/465 [==============================] - 2s 4ms/step - loss: 0.3535 - val_loss: 2.2789\n",
      "Epoch 5/1000\n",
      "465/465 [==============================] - 2s 4ms/step - loss: 0.3366 - val_loss: 3.2502\n",
      "Epoch 6/1000\n",
      "465/465 [==============================] - 2s 5ms/step - loss: 0.3294 - val_loss: 4.2455\n",
      "Epoch 6: early stopping\n"
     ]
    }
   ],
   "source": [
    "epochs = 1000\n",
    "history3 = regression_model3.fit(\n",
    "    X_train, y_train,\n",
    "    epochs=epochs,\n",
    "    validation_data=(X_val, y_val),\n",
    "    callbacks=[early_stopping, tensorboard_callback_regression]\n",
    ")"
   ],
   "metadata": {
    "collapsed": false,
    "ExecuteTime": {
     "end_time": "2023-05-24T12:33:17.789868002Z",
     "start_time": "2023-05-24T12:33:04.118940134Z"
    }
   }
  },
  {
   "cell_type": "code",
   "execution_count": 31,
   "outputs": [],
   "source": [
    "regression_model3.save('reg_housing_3.h5')"
   ],
   "metadata": {
    "collapsed": false,
    "ExecuteTime": {
     "end_time": "2023-05-24T12:33:40.527468123Z",
     "start_time": "2023-05-24T12:33:40.499004811Z"
    }
   }
  }
 ],
 "metadata": {
  "kernelspec": {
   "display_name": "Python 3",
   "language": "python",
   "name": "python3"
  },
  "language_info": {
   "codemirror_mode": {
    "name": "ipython",
    "version": 2
   },
   "file_extension": ".py",
   "mimetype": "text/x-python",
   "name": "python",
   "nbconvert_exporter": "python",
   "pygments_lexer": "ipython2",
   "version": "2.7.6"
  }
 },
 "nbformat": 4,
 "nbformat_minor": 0
}
