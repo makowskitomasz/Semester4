{
 "cells": [
  {
   "cell_type": "code",
   "execution_count": 55,
   "metadata": {
    "collapsed": true,
    "ExecuteTime": {
     "start_time": "2023-04-30T10:41:59.482432Z",
     "end_time": "2023-04-30T10:41:59.545525Z"
    }
   },
   "outputs": [],
   "source": [
    "from sklearn import datasets\n",
    "from sklearn.datasets import load_iris\n",
    "from sklearn.decomposition import PCA\n",
    "from sklearn.preprocessing import StandardScaler\n",
    "import pandas as pd\n",
    "import numpy as np\n",
    "import pickle"
   ]
  },
  {
   "cell_type": "code",
   "execution_count": 56,
   "outputs": [],
   "source": [
    "data_breast_cancer = datasets.load_breast_cancer()\n",
    "data_iris = load_iris()"
   ],
   "metadata": {
    "collapsed": false,
    "ExecuteTime": {
     "start_time": "2023-04-30T10:41:59.524595Z",
     "end_time": "2023-04-30T10:41:59.545928Z"
    }
   }
  },
  {
   "cell_type": "code",
   "execution_count": 57,
   "outputs": [],
   "source": [
    "breast_X = data_breast_cancer.data\n",
    "breast_y = data_breast_cancer.target"
   ],
   "metadata": {
    "collapsed": false,
    "ExecuteTime": {
     "start_time": "2023-04-30T10:41:59.524887Z",
     "end_time": "2023-04-30T10:41:59.546077Z"
    }
   }
  },
  {
   "cell_type": "code",
   "execution_count": 58,
   "outputs": [
    {
     "name": "stdout",
     "output_type": "stream",
     "text": [
      "(569, 30)  --->  (569, 1)\n",
      "[0.98204467]\n"
     ]
    }
   ],
   "source": [
    "pca_breast = PCA(n_components=0.9)\n",
    "breast_reduced = pca_breast.fit_transform(breast_X)\n",
    "print(breast_X.shape, ' ---> ', breast_reduced.shape)\n",
    "print(pca_breast.explained_variance_ratio_)"
   ],
   "metadata": {
    "collapsed": false,
    "ExecuteTime": {
     "start_time": "2023-04-30T10:41:59.525187Z",
     "end_time": "2023-04-30T10:41:59.546402Z"
    }
   }
  },
  {
   "cell_type": "code",
   "execution_count": 59,
   "outputs": [
    {
     "name": "stdout",
     "output_type": "stream",
     "text": [
      "(569, 30)  --->  (569, 7)\n",
      "[0.44272026 0.18971182 0.09393163 0.06602135 0.05495768 0.04024522\n",
      " 0.02250734]\n",
      "0.9100953006967308\n"
     ]
    }
   ],
   "source": [
    "scaler = StandardScaler()\n",
    "scaled_breast = pd.DataFrame(scaler.fit_transform(breast_X))\n",
    "scaled_breast_reduced = pca_breast.fit_transform(scaled_breast)\n",
    "print(scaled_breast.shape, ' ---> ', scaled_breast_reduced.shape)\n",
    "print(pca_breast.explained_variance_ratio_)\n",
    "print(sum(pca_breast.explained_variance_ratio_))"
   ],
   "metadata": {
    "collapsed": false,
    "ExecuteTime": {
     "start_time": "2023-04-30T10:41:59.541141Z",
     "end_time": "2023-04-30T10:41:59.653269Z"
    }
   }
  },
  {
   "cell_type": "code",
   "execution_count": 60,
   "outputs": [],
   "source": [
    "with open('pca_bc.pkl', 'wb') as filename:\n",
    "    pickle.dump(pca_breast.explained_variance_ratio_, filename)"
   ],
   "metadata": {
    "collapsed": false,
    "ExecuteTime": {
     "start_time": "2023-04-30T10:41:59.584176Z",
     "end_time": "2023-04-30T10:41:59.654252Z"
    }
   }
  },
  {
   "cell_type": "code",
   "execution_count": 61,
   "outputs": [],
   "source": [
    "iris_X = data_iris.data\n",
    "iris_y = data_iris.target"
   ],
   "metadata": {
    "collapsed": false,
    "ExecuteTime": {
     "start_time": "2023-04-30T10:41:59.584401Z",
     "end_time": "2023-04-30T10:41:59.654433Z"
    }
   }
  },
  {
   "cell_type": "code",
   "execution_count": 62,
   "outputs": [
    {
     "name": "stdout",
     "output_type": "stream",
     "text": [
      "(150, 4)  --->  (150, 1)\n",
      "[0.92461872]\n"
     ]
    }
   ],
   "source": [
    "pca_iris = PCA(n_components=0.9)\n",
    "iris_reduced = pca_iris.fit_transform(iris_X)\n",
    "print(iris_X.shape, ' ---> ', iris_reduced.shape)\n",
    "print(pca_iris.explained_variance_ratio_)"
   ],
   "metadata": {
    "collapsed": false,
    "ExecuteTime": {
     "start_time": "2023-04-30T10:41:59.584614Z",
     "end_time": "2023-04-30T10:41:59.654841Z"
    }
   }
  },
  {
   "cell_type": "code",
   "execution_count": 63,
   "outputs": [
    {
     "name": "stdout",
     "output_type": "stream",
     "text": [
      "(150, 4)  --->  (150, 2)\n",
      "[0.72962445 0.22850762]\n",
      "0.9581320720000164\n"
     ]
    }
   ],
   "source": [
    "scaled_iris = pd.DataFrame(scaler.fit_transform(iris_X))\n",
    "scaled_iris_reduced = pca_iris.fit_transform(scaled_iris)\n",
    "print(scaled_iris.shape, ' ---> ', scaled_iris_reduced.shape)\n",
    "print(pca_iris.explained_variance_ratio_)\n",
    "print(sum(pca_iris.explained_variance_ratio_))"
   ],
   "metadata": {
    "collapsed": false,
    "ExecuteTime": {
     "start_time": "2023-04-30T10:41:59.584839Z",
     "end_time": "2023-04-30T10:41:59.655657Z"
    }
   }
  },
  {
   "cell_type": "code",
   "execution_count": 64,
   "outputs": [],
   "source": [
    "with open('pca_ir.pkl', 'wb') as filename:\n",
    "    pickle.dump(pca_iris.explained_variance_ratio_, filename)"
   ],
   "metadata": {
    "collapsed": false,
    "ExecuteTime": {
     "start_time": "2023-04-30T10:41:59.628809Z",
     "end_time": "2023-04-30T10:41:59.655814Z"
    }
   }
  },
  {
   "cell_type": "code",
   "execution_count": 70,
   "outputs": [
    {
     "name": "stdout",
     "output_type": "stream",
     "text": [
      "[7, 9, 11, 21, 4, 28, 29]\n"
     ]
    }
   ],
   "source": [
    "indices_breast = [np.argmax(abs(pca_breast.components_[i])) for i in range(len(pca_breast.components_))]\n",
    "print(indices_breast)"
   ],
   "metadata": {
    "collapsed": false,
    "ExecuteTime": {
     "start_time": "2023-04-30T10:48:37.100574Z",
     "end_time": "2023-04-30T10:48:37.106164Z"
    }
   }
  },
  {
   "cell_type": "code",
   "execution_count": 66,
   "outputs": [],
   "source": [
    "with open('idx_bc.pkl', 'wb') as filename:\n",
    "    pickle.dump(indices_breast, filename)"
   ],
   "metadata": {
    "collapsed": false,
    "ExecuteTime": {
     "start_time": "2023-04-30T10:41:59.629266Z",
     "end_time": "2023-04-30T10:41:59.657601Z"
    }
   }
  },
  {
   "cell_type": "code",
   "execution_count": 69,
   "outputs": [
    {
     "name": "stdout",
     "output_type": "stream",
     "text": [
      "[2, 1]\n"
     ]
    }
   ],
   "source": [
    "indices_iris = [np.argmax(abs(pca_iris.components_[i])) for i in range(len(pca_iris.components_))]\n",
    "print(indices_iris)"
   ],
   "metadata": {
    "collapsed": false,
    "ExecuteTime": {
     "start_time": "2023-04-30T10:48:34.054754Z",
     "end_time": "2023-04-30T10:48:34.060362Z"
    }
   }
  },
  {
   "cell_type": "code",
   "execution_count": 68,
   "outputs": [],
   "source": [
    "with open('idx_ir.pkl', 'wb') as filename:\n",
    "    pickle.dump(indices_iris, filename)"
   ],
   "metadata": {
    "collapsed": false,
    "ExecuteTime": {
     "start_time": "2023-04-30T10:41:59.629663Z",
     "end_time": "2023-04-30T10:41:59.774789Z"
    }
   }
  }
 ],
 "metadata": {
  "kernelspec": {
   "display_name": "Python 3",
   "language": "python",
   "name": "python3"
  },
  "language_info": {
   "codemirror_mode": {
    "name": "ipython",
    "version": 2
   },
   "file_extension": ".py",
   "mimetype": "text/x-python",
   "name": "python",
   "nbconvert_exporter": "python",
   "pygments_lexer": "ipython2",
   "version": "2.7.6"
  }
 },
 "nbformat": 4,
 "nbformat_minor": 0
}
