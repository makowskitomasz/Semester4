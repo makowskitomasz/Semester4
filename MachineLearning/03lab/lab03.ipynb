{
 "cells": [
  {
   "cell_type": "code",
   "execution_count": 3,
   "id": "a4c5614c-912d-4a32-9545-b65514df7ace",
   "metadata": {},
   "outputs": [],
   "source": [
    "import numpy as np\n",
    "import pandas as pd\n",
    "from sklearn.model_selection import train_test_split\n",
    "from sklearn.linear_model import LinearRegression\n",
    "import matplotlib.pyplot as plt\n",
    "import sklearn.neighbors\n",
    "from sklearn.preprocessing import PolynomialFeatures\n",
    "from sklearn.metrics import mean_squared_error\n",
    "import pickle"
   ]
  },
  {
   "cell_type": "code",
   "execution_count": 4,
   "id": "a919b273-aca1-41f6-8ebc-4ad88b24f676",
   "metadata": {},
   "outputs": [
    {
     "data": {
      "text/plain": [
       "<Axes: xlabel='x', ylabel='y'>"
      ]
     },
     "execution_count": 4,
     "metadata": {},
     "output_type": "execute_result"
    },
    {
     "data": {
      "image/png": "[encoded data removed]",
      "text/plain": [
       "<Figure size 640x480 with 1 Axes>"
      ]
     },
     "metadata": {},
     "output_type": "display_data"
    }
   ],
   "source": [
    "size = 300\n",
    "X = np.random.rand(size)*5-2.5\n",
    "w4, w3, w2, w1, w0 = 1, 2, 1, -4, 2\n",
    "y = w4*(X**4) + w3*(X**3) + w2*(X**2) + w1*X + w0 + np.random.randn(size)*8-4\n",
    "df = pd.DataFrame({'x': X, 'y': y})\n",
    "df.to_csv('dane_do_regresji.csv',index=None)\n",
    "df.plot.scatter(x='x',y='y')"
   ]
  },
  {
   "cell_type": "code",
   "execution_count": 5,
   "id": "bb867afd-90f6-443e-96fb-3559925c1eca",
   "metadata": {},
   "outputs": [],
   "source": [
    "list_to_df = []\n",
    "list_of_tuples = []"
   ]
  },
  {
   "cell_type": "code",
   "execution_count": 6,
   "id": "5d36822f-376e-4979-b925-4a705dc0228c",
   "metadata": {},
   "outputs": [
    {
     "name": "stdout",
     "output_type": "stream",
     "text": [
      "(240,) (240,)\n",
      "(60,) (60,)\n"
     ]
    }
   ],
   "source": [
    "X_train, X_test, y_train, y_test = train_test_split(X, y, test_size=0.2, random_state=42)\n",
    "print(X_train.shape, y_train.shape)\n",
    "print(X_test.shape, y_test.shape)"
   ]
  },
  {
   "cell_type": "code",
   "execution_count": 7,
   "id": "c61b11fe-9d92-4353-83fa-fb62ff534d80",
   "metadata": {},
   "outputs": [
    {
     "name": "stdout",
     "output_type": "stream",
     "text": [
      "7.7818273809771 [4.55250638] \n",
      "\n",
      "[269.9846286080621, 326.1706639760026]\n",
      "[[269.9846286080621, 326.1706639760026]]\n"
     ]
    }
   ],
   "source": [
    "tmp_list = []\n",
    "lin_reg = LinearRegression()\n",
    "lin_reg.fit(X_train.reshape(-1, 1), y_train)\n",
    "print(lin_reg.intercept_, lin_reg.coef_, \"\\n\")\n",
    "y_train_pred = [lin_reg.intercept_ * element + lin_reg.coef_ for element in X_train]\n",
    "y_test_pred = [lin_reg.intercept_ * element + lin_reg.coef_ for element in X_test]\n",
    "lin_reg_train_mse = mean_squared_error(y_train, y_train_pred)\n",
    "lin_reg_test_mse = mean_squared_error(y_test, y_test_pred)\n",
    "tmp_list.append(lin_reg_train_mse)\n",
    "tmp_list.append(lin_reg_test_mse)\n",
    "list_to_df.append(tmp_list)\n",
    "print(tmp_list)\n",
    "print(list_to_df)"
   ]
  },
  {
   "cell_type": "code",
   "execution_count": 8,
   "id": "34e61ee1-a36c-41ce-8e01-e61982f3020a",
   "metadata": {},
   "outputs": [],
   "source": [
    "list_of_tuples.append((lin_reg, None))"
   ]
  },
  {
   "cell_type": "code",
   "execution_count": 9,
   "id": "3d3a9453-f1c6-4fc4-8b2f-e5c1e1915524",
   "metadata": {},
   "outputs": [],
   "source": [
    "knn_reg_3 = sklearn.neighbors.KNeighborsRegressor(n_neighbors=3)\n",
    "knn_reg_3.fit(X_train.reshape(-1, 1), y_train)\n",
    "y_knn3_train_pred = knn_reg_3.predict(X_train.reshape(-1, 1))\n",
    "y_knn3_test_pred = knn_reg_3.predict(X_test.reshape(-1, 1))\n",
    "knn_3_train_mse = mean_squared_error(y_train, y_knn3_train_pred)\n",
    "knn_3_test_mse = mean_squared_error(y_test, y_knn3_test_pred)\n",
    "tmp_list = []\n",
    "tmp_list.append(knn_3_train_mse)\n",
    "tmp_list.append(knn_3_test_mse)\n",
    "list_to_df.append(tmp_list)"
   ]
  },
  {
   "cell_type": "code",
   "execution_count": 10,
   "id": "edab5fe6-fab4-4f23-857b-de7abcd240a7",
   "metadata": {},
   "outputs": [],
   "source": [
    "list_of_tuples.append((knn_reg_3, None))"
   ]
  },
  {
   "cell_type": "code",
   "execution_count": 11,
   "id": "e9346957-6214-4410-ba3d-d7a325a6264e",
   "metadata": {},
   "outputs": [],
   "source": [
    "knn_reg_5 = sklearn.neighbors.KNeighborsRegressor(n_neighbors=5)\n",
    "knn_reg_5.fit(X_train.reshape(-1, 1), y_train)\n",
    "y_knn5_train_pred = knn_reg_5.predict(X_train.reshape(-1, 1))\n",
    "y_knn5_test_pred = knn_reg_5.predict(X_test.reshape(-1, 1))\n",
    "knn_5_train_mse = mean_squared_error(y_train, y_knn5_train_pred)\n",
    "knn_5_test_mse = mean_squared_error(y_test, y_knn5_test_pred)\n",
    "tmp_list = []\n",
    "tmp_list.append(knn_5_train_mse)\n",
    "tmp_list.append(knn_5_test_mse)\n",
    "list_to_df.append(tmp_list)"
   ]
  },
  {
   "cell_type": "code",
   "execution_count": 12,
   "id": "00835c3c-696f-4ec1-9d1c-eadf826931fd",
   "metadata": {},
   "outputs": [],
   "source": [
    "list_of_tuples.append((knn_reg_5, None))"
   ]
  },
  {
   "cell_type": "code",
   "execution_count": 13,
   "id": "8b166056-acb8-462d-86a1-4b4b1abb4f4f",
   "metadata": {},
   "outputs": [
    {
     "name": "stdout",
     "output_type": "stream",
     "text": [
      "-5.8697976816405735 [4.28156683 6.17591408]\n"
     ]
    }
   ],
   "source": [
    "poly_features = PolynomialFeatures(degree=2, include_bias=False)\n",
    "X_poly = poly_features.fit_transform(X_train.reshape(-1, 1))\n",
    "lin_reg = LinearRegression()\n",
    "lin_reg.fit(X_poly, y_train)\n",
    "print(lin_reg.intercept_, lin_reg.coef_)\n",
    "y_poly2_train_pred = lin_reg.predict(poly_features.fit_transform(X_train.reshape(-1, 1)))\n",
    "y_poly2_test_pred = lin_reg.predict(poly_features.fit_transform(X_test.reshape(-1, 1)))\n",
    "y_poly2_train_mse = mean_squared_error(y_train, y_poly2_train_pred)\n",
    "y_poly2_test_mse = mean_squared_error(y_test, y_poly2_test_pred)\n",
    "tmp_list = []\n",
    "tmp_list.append(y_poly2_train_mse)\n",
    "tmp_list.append(y_poly2_test_mse)\n",
    "list_to_df.append(tmp_list)"
   ]
  },
  {
   "cell_type": "code",
   "execution_count": 14,
   "id": "3e66e7ee-6539-401d-a439-615273530da4",
   "metadata": {},
   "outputs": [],
   "source": [
    "list_of_tuples.append((lin_reg, poly_features))"
   ]
  },
  {
   "cell_type": "code",
   "execution_count": 15,
   "id": "5240fc53-bcf7-4bfe-8f73-8ee57724cce8",
   "metadata": {},
   "outputs": [
    {
     "name": "stdout",
     "output_type": "stream",
     "text": [
      "-5.818947328727294 [-3.02873773  6.08646284  1.91751386]\n"
     ]
    }
   ],
   "source": [
    "poly_features = PolynomialFeatures(degree=3, include_bias=False)\n",
    "X_poly = poly_features.fit_transform(X_train.reshape(-1, 1))\n",
    "lin_reg = LinearRegression()\n",
    "lin_reg.fit(X_poly, y_train)\n",
    "print(lin_reg.intercept_, lin_reg.coef_)\n",
    "y_poly3_train_pred = lin_reg.predict(poly_features.fit_transform(X_train.reshape(-1, 1)))\n",
    "y_poly3_test_pred = lin_reg.predict(poly_features.fit_transform(X_test.reshape(-1, 1)))\n",
    "y_poly3_train_mse = mean_squared_error(y_train, y_poly3_train_pred)\n",
    "y_poly3_test_mse = mean_squared_error(y_test, y_poly3_test_pred)\n",
    "tmp_list = []\n",
    "tmp_list.append(y_poly3_train_mse)\n",
    "tmp_list.append(y_poly3_test_mse)\n",
    "list_to_df.append(tmp_list)"
   ]
  },
  {
   "cell_type": "code",
   "execution_count": 16,
   "id": "7192f378-8883-418b-87c7-01f7b1163c29",
   "metadata": {},
   "outputs": [],
   "source": [
    "list_of_tuples.append((lin_reg, poly_features))"
   ]
  },
  {
   "cell_type": "code",
   "execution_count": 17,
   "id": "7bb4497a-e2a7-4b87-a538-dbfd17e7fc5f",
   "metadata": {},
   "outputs": [
    {
     "name": "stdout",
     "output_type": "stream",
     "text": [
      "-1.8628901759978298 [-2.63957107  0.24490378  1.79382548  1.06348843]\n"
     ]
    }
   ],
   "source": [
    "poly_features = PolynomialFeatures(degree=4, include_bias=False)\n",
    "X_poly = poly_features.fit_transform(X_train.reshape(-1, 1))\n",
    "lin_reg = LinearRegression()\n",
    "lin_reg.fit(X_poly, y_train)\n",
    "print(lin_reg.intercept_, lin_reg.coef_)\n",
    "y_poly4_train_pred = lin_reg.predict(poly_features.fit_transform(X_train.reshape(-1, 1)))\n",
    "y_poly4_test_pred = lin_reg.predict(poly_features.fit_transform(X_test.reshape(-1, 1)))\n",
    "y_poly4_train_mse = mean_squared_error(y_train, y_poly4_train_pred)\n",
    "y_poly4_test_mse = mean_squared_error(y_test, y_poly4_test_pred)\n",
    "tmp_list = []\n",
    "tmp_list.append(y_poly4_train_mse)\n",
    "tmp_list.append(y_poly4_test_mse)\n",
    "list_to_df.append(tmp_list)"
   ]
  },
  {
   "cell_type": "code",
   "execution_count": 18,
   "id": "b74efa81-11af-41a6-a62e-0c18d5deafb2",
   "metadata": {},
   "outputs": [],
   "source": [
    "list_of_tuples.append((lin_reg, poly_features))"
   ]
  },
  {
   "cell_type": "code",
   "execution_count": 19,
   "id": "fd09b324-570a-48be-8270-5d43a0f3c165",
   "metadata": {},
   "outputs": [
    {
     "name": "stdout",
     "output_type": "stream",
     "text": [
      "-1.8639995113890304 [-2.67803232  0.24506501  1.82157368  1.06360023 -0.00390799]\n"
     ]
    }
   ],
   "source": [
    "poly_features = PolynomialFeatures(degree=5, include_bias=False)\n",
    "X_poly = poly_features.fit_transform(X_train.reshape(-1, 1))\n",
    "lin_reg = LinearRegression()\n",
    "lin_reg.fit(X_poly, y_train)\n",
    "print(lin_reg.intercept_, lin_reg.coef_)\n",
    "y_poly5_train_pred = lin_reg.predict(poly_features.fit_transform(X_train.reshape(-1, 1)))\n",
    "y_poly5_test_pred = lin_reg.predict(poly_features.fit_transform(X_test.reshape(-1, 1)))\n",
    "y_poly5_train_mse = mean_squared_error(y_train, y_poly5_train_pred)\n",
    "y_poly5_test_mse = mean_squared_error(y_test, y_poly5_test_pred)\n",
    "tmp_list = []\n",
    "tmp_list.append(y_poly5_train_mse)\n",
    "tmp_list.append(y_poly5_test_mse)\n",
    "list_to_df.append(tmp_list)"
   ]
  },
  {
   "cell_type": "code",
   "execution_count": 20,
   "id": "41e24ca5-3edf-49aa-b225-0644fd571a61",
   "metadata": {},
   "outputs": [],
   "source": [
    "list_of_tuples.append((lin_reg, poly_features))"
   ]
  },
  {
   "cell_type": "code",
   "execution_count": 21,
   "id": "011461fa-cc0c-432b-9443-e13919c8e966",
   "metadata": {},
   "outputs": [
    {
     "name": "stdout",
     "output_type": "stream",
     "text": [
      "[269.9846286080621, 326.1706639760026]\n",
      "[50.141503898061536, 127.9364530675772]\n",
      "[57.631053902008716, 113.96555340432684]\n",
      "[101.66895489616236, 112.69555053088243]\n",
      "[79.74214957384952, 80.0676856146715]\n",
      "[68.96847105965996, 77.83544834168627]\n",
      "[68.96823916395472, 77.82670659775934]\n"
     ]
    }
   ],
   "source": [
    "for element in list_to_df:\n",
    "    print(element)"
   ]
  },
  {
   "cell_type": "code",
   "execution_count": 22,
   "id": "16f45f73-9907-41d2-9a32-832c858af07b",
   "metadata": {},
   "outputs": [],
   "source": [
    "df = pd.DataFrame(list_to_df, columns=['train_mse', 'test_mse'])\n",
    "df.index = ['lin_reg', 'knn_3_reg', 'knn_5_reg', 'poly_2_reg', 'poly_3_reg', 'poly_4_reg', 'poly_5_reg']\n",
    "         \n"
   ]
  },
  {
   "cell_type": "code",
   "execution_count": 23,
   "id": "0b8f1333-d3ba-47ca-adcd-35a62038b518",
   "metadata": {},
   "outputs": [
    {
     "name": "stdout",
     "output_type": "stream",
     "text": [
      "             train_mse    test_mse\n",
      "lin_reg     269.984629  326.170664\n",
      "knn_3_reg    50.141504  127.936453\n",
      "knn_5_reg    57.631054  113.965553\n",
      "poly_2_reg  101.668955  112.695551\n",
      "poly_3_reg   79.742150   80.067686\n",
      "poly_4_reg   68.968471   77.835448\n",
      "poly_5_reg   68.968239   77.826707\n"
     ]
    }
   ],
   "source": [
    "print(df)"
   ]
  },
  {
   "cell_type": "code",
   "execution_count": 24,
   "id": "285c5a44-57bc-4c76-9226-0a215aca4230",
   "metadata": {},
   "outputs": [],
   "source": [
    "df.to_pickle('mse.pkl')"
   ]
  },
  {
   "cell_type": "code",
   "execution_count": 25,
   "id": "bc782867-1c2a-4e49-b39d-063fe2b63812",
   "metadata": {},
   "outputs": [
    {
     "name": "stdout",
     "output_type": "stream",
     "text": [
      "(LinearRegression(), None)\n",
      "(KNeighborsRegressor(n_neighbors=3), None)\n",
      "(KNeighborsRegressor(), None)\n",
      "(LinearRegression(), PolynomialFeatures(include_bias=False))\n",
      "(LinearRegression(), PolynomialFeatures(degree=3, include_bias=False))\n",
      "(LinearRegression(), PolynomialFeatures(degree=4, include_bias=False))\n",
      "(LinearRegression(), PolynomialFeatures(degree=5, include_bias=False))\n"
     ]
    }
   ],
   "source": [
    "for element in list_of_tuples:\n",
    "    print(element)"
   ]
  },
  {
   "cell_type": "code",
   "execution_count": 26,
   "id": "8df5b528-29dd-4c6a-a6cc-45ed38a628ca",
   "metadata": {},
   "outputs": [],
   "source": [
    "with open ('reg.pkl', 'wb') as file:\n",
    "    pickle.dump(list_of_tuples, file)"
   ]
  }
 ],
 "metadata": {
  "kernelspec": {
   "display_name": "Python 3 (ipykernel)",
   "language": "python",
   "name": "python3"
  },
  "language_info": {
   "codemirror_mode": {
    "name": "ipython",
    "version": 3
   },
   "file_extension": ".py",
   "mimetype": "text/x-python",
   "name": "python",
   "nbconvert_exporter": "python",
   "pygments_lexer": "ipython3",
   "version": "3.10.9"
  }
 },
 "nbformat": 4,
 "nbformat_minor": 5
}
