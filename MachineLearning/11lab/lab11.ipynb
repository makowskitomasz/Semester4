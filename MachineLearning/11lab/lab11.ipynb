{
 "cells": [
  {
   "cell_type": "code",
   "execution_count": 1,
   "metadata": {
    "collapsed": true,
    "ExecuteTime": {
     "end_time": "2023-06-01T10:56:19.015809620Z",
     "start_time": "2023-06-01T10:56:17.362191704Z"
    }
   },
   "outputs": [
    {
     "name": "stderr",
     "output_type": "stream",
     "text": [
      "2023-06-01 12:56:17.694780: I tensorflow/core/platform/cpu_feature_guard.cc:193] This TensorFlow binary is optimized with oneAPI Deep Neural Network Library (oneDNN) to use the following CPU instructions in performance-critical operations:  SSE4.1 SSE4.2 AVX AVX2 FMA\n",
      "To enable them in other operations, rebuild TensorFlow with the appropriate compiler flags.\n"
     ]
    }
   ],
   "source": [
    "import os.path\n",
    "\n",
    "import numpy as np\n",
    "from sklearn.datasets import fetch_california_housing\n",
    "from sklearn.model_selection import train_test_split\n",
    "from sklearn.preprocessing import StandardScaler\n",
    "from sklearn.model_selection import RandomizedSearchCV\n",
    "import tensorflow as tf\n",
    "from tensorflow import keras\n",
    "import scikeras\n",
    "from scikeras.wrappers import KerasClassifier, KerasRegressor\n",
    "from scipy.stats import reciprocal\n",
    "import keras_tuner as kt\n",
    "import pickle"
   ]
  },
  {
   "cell_type": "code",
   "execution_count": 2,
   "outputs": [],
   "source": [
    "housing = fetch_california_housing()\n",
    "X_train_full, X_test, y_train_full, y_test = train_test_split(housing.data, housing.target, random_state=42)\n",
    "X_train, X_valid, y_train, y_valid = train_test_split(X_train_full, y_train_full, random_state=42)"
   ],
   "metadata": {
    "collapsed": false,
    "ExecuteTime": {
     "end_time": "2023-06-01T10:56:19.030303703Z",
     "start_time": "2023-06-01T10:56:19.017378688Z"
    }
   }
  },
  {
   "cell_type": "code",
   "execution_count": 3,
   "outputs": [],
   "source": [
    "scaler = StandardScaler()\n",
    "X_train = scaler.fit_transform(X_train)\n",
    "X_valid = scaler.transform(X_valid)\n",
    "X_test = scaler.transform(X_test)"
   ],
   "metadata": {
    "collapsed": false,
    "ExecuteTime": {
     "end_time": "2023-06-01T10:56:19.042398856Z",
     "start_time": "2023-06-01T10:56:19.032509101Z"
    }
   }
  },
  {
   "cell_type": "code",
   "execution_count": 4,
   "outputs": [],
   "source": [
    "param_distribs = {\n",
    "    \"model__n_hidden\": [1, 2, 3, 4],\n",
    "    \"model__n_neurons\": np.arange(1, 100),\n",
    "    \"model__learning_rate\": [3e-4, 3e-3, 3e-2],\n",
    "    \"model__optimizer\": ['sgd', 'nesterov', 'momentum', 'adam']\n",
    "}"
   ],
   "metadata": {
    "collapsed": false,
    "ExecuteTime": {
     "end_time": "2023-06-01T10:56:19.042836555Z",
     "start_time": "2023-06-01T10:56:19.039757644Z"
    }
   }
  },
  {
   "cell_type": "code",
   "execution_count": 5,
   "outputs": [],
   "source": [
    "def build_model(n_hidden=1, n_neurons=100, optimizer='sgd', learning_rate=3e-3):\n",
    "    model = keras.models.Sequential()\n",
    "    model.add(keras.layers.Dense(n_neurons, activation='relu', input_shape=(8,)))\n",
    "    for _ in range(n_hidden):\n",
    "        model.add(keras.layers.Dense(n_neurons))\n",
    "    model.add(keras.layers.Dense(1))\n",
    "    if optimizer == 'sgd':\n",
    "        optimizer = tf.keras.optimizers.SGD(learning_rate=learning_rate)\n",
    "    elif optimizer == 'nesterov':\n",
    "        optimizer = tf.keras.optimizers.SGD(learning_rate=learning_rate, nesterov=True)\n",
    "    elif optimizer == 'momentum':\n",
    "        optimizer = tf.keras.optimizers.SGD(learning_rate=learning_rate, momentum=0.9)\n",
    "    elif optimizer == 'adam':\n",
    "        optimizer = tf.keras.optimizers.Adam(learning_rate=learning_rate)\n",
    "    model.compile(optimizer=optimizer, loss='mse')\n",
    "    return model"
   ],
   "metadata": {
    "collapsed": false,
    "ExecuteTime": {
     "end_time": "2023-06-01T10:56:19.090344912Z",
     "start_time": "2023-06-01T10:56:19.047789953Z"
    }
   }
  },
  {
   "cell_type": "code",
   "execution_count": 6,
   "outputs": [],
   "source": [
    "es = keras.callbacks.EarlyStopping(patience=10, min_delta=1.0, verbose=1)\n",
    "keras_reg = KerasRegressor(build_model, callbacks=[es])"
   ],
   "metadata": {
    "collapsed": false,
    "ExecuteTime": {
     "end_time": "2023-06-01T10:56:19.092232460Z",
     "start_time": "2023-06-01T10:56:19.091209206Z"
    }
   }
  },
  {
   "cell_type": "code",
   "execution_count": 7,
   "outputs": [
    {
     "name": "stdout",
     "output_type": "stream",
     "text": [
      "Fitting 3 folds for each of 10 candidates, totalling 30 fits\n"
     ]
    },
    {
     "name": "stderr",
     "output_type": "stream",
     "text": [
      "2023-06-01 12:56:19.058968: I tensorflow/core/platform/cpu_feature_guard.cc:193] This TensorFlow binary is optimized with oneAPI Deep Neural Network Library (oneDNN) to use the following CPU instructions in performance-critical operations:  SSE4.1 SSE4.2 AVX AVX2 FMA\n",
      "To enable them in other operations, rebuild TensorFlow with the appropriate compiler flags.\n",
      "2023-06-01 12:56:19.059939: I tensorflow/core/common_runtime/process_util.cc:146] Creating new thread pool with default inter op setting: 2. Tune using inter_op_parallelism_threads for best performance.\n"
     ]
    },
    {
     "name": "stdout",
     "output_type": "stream",
     "text": [
      "Epoch 13: early stopping\n",
      "121/121 [==============================] - 0s 1ms/step\n",
      "[CV] END model__learning_rate=0.0003, model__n_hidden=1, model__n_neurons=65, model__optimizer=sgd; total time=   8.1s\n",
      "Epoch 21: early stopping\n",
      "121/121 [==============================] - 0s 1ms/step\n",
      "[CV] END model__learning_rate=0.0003, model__n_hidden=1, model__n_neurons=65, model__optimizer=sgd; total time=  10.9s\n",
      "Epoch 14: early stopping\n",
      "121/121 [==============================] - 0s 1ms/step\n",
      "[CV] END model__learning_rate=0.0003, model__n_hidden=1, model__n_neurons=65, model__optimizer=sgd; total time=   7.8s\n",
      "Epoch 13: early stopping\n",
      "121/121 [==============================] - 0s 3ms/step\n",
      "[CV] END model__learning_rate=0.0003, model__n_hidden=4, model__n_neurons=56, model__optimizer=adam; total time=  11.4s\n",
      "Epoch 13: early stopping\n",
      "121/121 [==============================] - 0s 3ms/step\n",
      "[CV] END model__learning_rate=0.0003, model__n_hidden=4, model__n_neurons=56, model__optimizer=adam; total time=   8.0s\n",
      "Epoch 13: early stopping\n",
      "121/121 [==============================] - 0s 1ms/step\n",
      "[CV] END model__learning_rate=0.0003, model__n_hidden=4, model__n_neurons=56, model__optimizer=adam; total time=  11.3s\n",
      "Epoch 11: early stopping\n",
      "121/121 [==============================] - 0s 1ms/step\n",
      "[CV] END model__learning_rate=0.03, model__n_hidden=2, model__n_neurons=88, model__optimizer=adam; total time=   6.4s\n",
      "Epoch 11: early stopping\n",
      "121/121 [==============================] - 0s 1ms/step\n",
      "[CV] END model__learning_rate=0.03, model__n_hidden=2, model__n_neurons=88, model__optimizer=adam; total time=   6.9s\n",
      "Epoch 12: early stopping\n",
      "121/121 [==============================] - 0s 1ms/step\n",
      "[CV] END model__learning_rate=0.03, model__n_hidden=2, model__n_neurons=88, model__optimizer=adam; total time=  11.1s\n",
      "Epoch 11: early stopping\n",
      "121/121 [==============================] - 0s 2ms/step\n",
      "[CV] END model__learning_rate=0.0003, model__n_hidden=4, model__n_neurons=6, model__optimizer=nesterov; total time=   5.9s\n",
      "Epoch 13: early stopping\n",
      "121/121 [==============================] - 0s 1ms/step\n",
      "[CV] END model__learning_rate=0.0003, model__n_hidden=4, model__n_neurons=6, model__optimizer=nesterov; total time=   5.9s\n",
      "Epoch 13: early stopping\n",
      "121/121 [==============================] - 0s 2ms/step\n",
      "[CV] END model__learning_rate=0.0003, model__n_hidden=4, model__n_neurons=6, model__optimizer=nesterov; total time=  11.1s\n",
      "Epoch 15: early stopping\n",
      "121/121 [==============================] - 0s 2ms/step\n",
      "[CV] END model__learning_rate=0.003, model__n_hidden=3, model__n_neurons=87, model__optimizer=nesterov; total time=  11.1s\n",
      "Epoch 11: early stopping\n",
      "121/121 [==============================] - 0s 2ms/step\n",
      "[CV] END model__learning_rate=0.003, model__n_hidden=3, model__n_neurons=87, model__optimizer=nesterov; total time=  11.0s\n",
      "Epoch 17: early stopping\n",
      "121/121 [==============================] - 0s 1ms/step\n",
      "[CV] END model__learning_rate=0.003, model__n_hidden=3, model__n_neurons=87, model__optimizer=nesterov; total time=  11.0s\n",
      "Epoch 17: early stopping\n",
      "121/121 [==============================] - 0s 1ms/step\n",
      "[CV] END model__learning_rate=0.0003, model__n_hidden=2, model__n_neurons=70, model__optimizer=sgd; total time=  11.0s\n",
      "Epoch 21: early stopping\n",
      "121/121 [==============================] - 0s 1ms/step\n",
      "[CV] END model__learning_rate=0.0003, model__n_hidden=2, model__n_neurons=70, model__optimizer=sgd; total time=  10.3s\n",
      "Epoch 14: early stopping\n",
      "121/121 [==============================] - 0s 2ms/step\n",
      "[CV] END model__learning_rate=0.0003, model__n_hidden=2, model__n_neurons=70, model__optimizer=sgd; total time=  10.9s\n",
      "Epoch 11: early stopping\n",
      "121/121 [==============================] - 0s 1ms/step\n",
      "[CV] END model__learning_rate=0.03, model__n_hidden=1, model__n_neurons=81, model__optimizer=adam; total time=  11.0s\n",
      "Epoch 13: early stopping\n",
      "121/121 [==============================] - 0s 2ms/step\n",
      "[CV] END model__learning_rate=0.03, model__n_hidden=1, model__n_neurons=81, model__optimizer=adam; total time=  11.0s\n",
      "Epoch 14: early stopping\n",
      "121/121 [==============================] - 0s 1ms/step\n",
      "[CV] END model__learning_rate=0.03, model__n_hidden=1, model__n_neurons=81, model__optimizer=adam; total time=   7.5s\n",
      "Epoch 14: early stopping\n",
      "121/121 [==============================] - 0s 1ms/step\n",
      "[CV] END model__learning_rate=0.0003, model__n_hidden=3, model__n_neurons=18, model__optimizer=nesterov; total time=  11.0s\n",
      "Epoch 14: early stopping\n",
      "121/121 [==============================] - 0s 1ms/step\n",
      "[CV] END model__learning_rate=0.0003, model__n_hidden=3, model__n_neurons=18, model__optimizer=nesterov; total time=   7.9s\n",
      "Epoch 14: early stopping\n",
      "121/121 [==============================] - 0s 1ms/step\n",
      "[CV] END model__learning_rate=0.0003, model__n_hidden=3, model__n_neurons=18, model__optimizer=nesterov; total time=  11.1s\n",
      "Epoch 10: early stopping\n",
      "121/121 [==============================] - 0s 2ms/step\n",
      "[CV] END model__learning_rate=0.03, model__n_hidden=3, model__n_neurons=75, model__optimizer=sgd; total time=   5.3s\n"
     ]
    },
    {
     "name": "stderr",
     "output_type": "stream",
     "text": [
      "/home/makowskitomasz/anaconda3/envs/ml/lib/python3.10/site-packages/sklearn/model_selection/_validation.py:776: UserWarning: Scoring failed. The score on this train-test partition for these parameters will be set to nan. Details: \n",
      "Traceback (most recent call last):\n",
      "  File \"/home/makowskitomasz/anaconda3/envs/ml/lib/python3.10/site-packages/sklearn/model_selection/_validation.py\", line 767, in _score\n",
      "    scores = scorer(estimator, X_test, y_test)\n",
      "  File \"/home/makowskitomasz/anaconda3/envs/ml/lib/python3.10/site-packages/sklearn/metrics/_scorer.py\", line 430, in _passthrough_scorer\n",
      "    return estimator.score(*args, **kwargs)\n",
      "  File \"/home/makowskitomasz/anaconda3/envs/ml/lib/python3.10/site-packages/scikeras/wrappers.py\", line 1120, in score\n",
      "    return self.scorer(y, y_pred, sample_weight=sample_weight, **score_args)\n",
      "  File \"/home/makowskitomasz/anaconda3/envs/ml/lib/python3.10/site-packages/scikeras/wrappers.py\", line 1717, in scorer\n",
      "    return sklearn_r2_score(y_true, y_pred, **kwargs)\n",
      "  File \"/home/makowskitomasz/anaconda3/envs/ml/lib/python3.10/site-packages/sklearn/metrics/_regression.py\", line 911, in r2_score\n",
      "    y_type, y_true, y_pred, multioutput = _check_reg_targets(\n",
      "  File \"/home/makowskitomasz/anaconda3/envs/ml/lib/python3.10/site-packages/sklearn/metrics/_regression.py\", line 102, in _check_reg_targets\n",
      "    y_pred = check_array(y_pred, ensure_2d=False, dtype=dtype)\n",
      "  File \"/home/makowskitomasz/anaconda3/envs/ml/lib/python3.10/site-packages/sklearn/utils/validation.py\", line 919, in check_array\n",
      "    _assert_all_finite(\n",
      "  File \"/home/makowskitomasz/anaconda3/envs/ml/lib/python3.10/site-packages/sklearn/utils/validation.py\", line 161, in _assert_all_finite\n",
      "    raise ValueError(msg_err)\n",
      "ValueError: Input contains NaN.\n",
      "\n",
      "  warnings.warn(\n"
     ]
    },
    {
     "name": "stdout",
     "output_type": "stream",
     "text": [
      "Epoch 11: early stopping\n",
      "121/121 [==============================] - 0s 2ms/step\n",
      "[CV] END model__learning_rate=0.03, model__n_hidden=3, model__n_neurons=75, model__optimizer=sgd; total time=  11.0s\n",
      "Epoch 11: early stopping\n",
      "121/121 [==============================] - 0s 1ms/step\n",
      "[CV] END model__learning_rate=0.03, model__n_hidden=3, model__n_neurons=75, model__optimizer=sgd; total time=  11.0s\n"
     ]
    },
    {
     "name": "stderr",
     "output_type": "stream",
     "text": [
      "/home/makowskitomasz/anaconda3/envs/ml/lib/python3.10/site-packages/sklearn/model_selection/_validation.py:776: UserWarning: Scoring failed. The score on this train-test partition for these parameters will be set to nan. Details: \n",
      "Traceback (most recent call last):\n",
      "  File \"/home/makowskitomasz/anaconda3/envs/ml/lib/python3.10/site-packages/sklearn/model_selection/_validation.py\", line 767, in _score\n",
      "    scores = scorer(estimator, X_test, y_test)\n",
      "  File \"/home/makowskitomasz/anaconda3/envs/ml/lib/python3.10/site-packages/sklearn/metrics/_scorer.py\", line 430, in _passthrough_scorer\n",
      "    return estimator.score(*args, **kwargs)\n",
      "  File \"/home/makowskitomasz/anaconda3/envs/ml/lib/python3.10/site-packages/scikeras/wrappers.py\", line 1120, in score\n",
      "    return self.scorer(y, y_pred, sample_weight=sample_weight, **score_args)\n",
      "  File \"/home/makowskitomasz/anaconda3/envs/ml/lib/python3.10/site-packages/scikeras/wrappers.py\", line 1717, in scorer\n",
      "    return sklearn_r2_score(y_true, y_pred, **kwargs)\n",
      "  File \"/home/makowskitomasz/anaconda3/envs/ml/lib/python3.10/site-packages/sklearn/metrics/_regression.py\", line 911, in r2_score\n",
      "    y_type, y_true, y_pred, multioutput = _check_reg_targets(\n",
      "  File \"/home/makowskitomasz/anaconda3/envs/ml/lib/python3.10/site-packages/sklearn/metrics/_regression.py\", line 102, in _check_reg_targets\n",
      "    y_pred = check_array(y_pred, ensure_2d=False, dtype=dtype)\n",
      "  File \"/home/makowskitomasz/anaconda3/envs/ml/lib/python3.10/site-packages/sklearn/utils/validation.py\", line 919, in check_array\n",
      "    _assert_all_finite(\n",
      "  File \"/home/makowskitomasz/anaconda3/envs/ml/lib/python3.10/site-packages/sklearn/utils/validation.py\", line 161, in _assert_all_finite\n",
      "    raise ValueError(msg_err)\n",
      "ValueError: Input contains NaN.\n",
      "\n",
      "  warnings.warn(\n"
     ]
    },
    {
     "name": "stdout",
     "output_type": "stream",
     "text": [
      "Epoch 10: early stopping\n",
      "121/121 [==============================] - 0s 2ms/step\n",
      "[CV] END model__learning_rate=0.03, model__n_hidden=3, model__n_neurons=95, model__optimizer=nesterov; total time=  11.0s\n"
     ]
    },
    {
     "name": "stderr",
     "output_type": "stream",
     "text": [
      "/home/makowskitomasz/anaconda3/envs/ml/lib/python3.10/site-packages/sklearn/model_selection/_validation.py:776: UserWarning: Scoring failed. The score on this train-test partition for these parameters will be set to nan. Details: \n",
      "Traceback (most recent call last):\n",
      "  File \"/home/makowskitomasz/anaconda3/envs/ml/lib/python3.10/site-packages/sklearn/model_selection/_validation.py\", line 767, in _score\n",
      "    scores = scorer(estimator, X_test, y_test)\n",
      "  File \"/home/makowskitomasz/anaconda3/envs/ml/lib/python3.10/site-packages/sklearn/metrics/_scorer.py\", line 430, in _passthrough_scorer\n",
      "    return estimator.score(*args, **kwargs)\n",
      "  File \"/home/makowskitomasz/anaconda3/envs/ml/lib/python3.10/site-packages/scikeras/wrappers.py\", line 1120, in score\n",
      "    return self.scorer(y, y_pred, sample_weight=sample_weight, **score_args)\n",
      "  File \"/home/makowskitomasz/anaconda3/envs/ml/lib/python3.10/site-packages/scikeras/wrappers.py\", line 1717, in scorer\n",
      "    return sklearn_r2_score(y_true, y_pred, **kwargs)\n",
      "  File \"/home/makowskitomasz/anaconda3/envs/ml/lib/python3.10/site-packages/sklearn/metrics/_regression.py\", line 911, in r2_score\n",
      "    y_type, y_true, y_pred, multioutput = _check_reg_targets(\n",
      "  File \"/home/makowskitomasz/anaconda3/envs/ml/lib/python3.10/site-packages/sklearn/metrics/_regression.py\", line 102, in _check_reg_targets\n",
      "    y_pred = check_array(y_pred, ensure_2d=False, dtype=dtype)\n",
      "  File \"/home/makowskitomasz/anaconda3/envs/ml/lib/python3.10/site-packages/sklearn/utils/validation.py\", line 919, in check_array\n",
      "    _assert_all_finite(\n",
      "  File \"/home/makowskitomasz/anaconda3/envs/ml/lib/python3.10/site-packages/sklearn/utils/validation.py\", line 161, in _assert_all_finite\n",
      "    raise ValueError(msg_err)\n",
      "ValueError: Input contains NaN.\n",
      "\n",
      "  warnings.warn(\n"
     ]
    },
    {
     "name": "stdout",
     "output_type": "stream",
     "text": [
      "Epoch 11: early stopping\n",
      "121/121 [==============================] - 0s 2ms/step\n",
      "[CV] END model__learning_rate=0.03, model__n_hidden=3, model__n_neurons=95, model__optimizer=nesterov; total time=  11.0s\n",
      "Epoch 11: early stopping\n",
      "121/121 [==============================] - 0s 1ms/step\n",
      "[CV] END model__learning_rate=0.03, model__n_hidden=3, model__n_neurons=95, model__optimizer=nesterov; total time=  10.9s\n"
     ]
    },
    {
     "name": "stderr",
     "output_type": "stream",
     "text": [
      "/home/makowskitomasz/anaconda3/envs/ml/lib/python3.10/site-packages/sklearn/model_selection/_validation.py:776: UserWarning: Scoring failed. The score on this train-test partition for these parameters will be set to nan. Details: \n",
      "Traceback (most recent call last):\n",
      "  File \"/home/makowskitomasz/anaconda3/envs/ml/lib/python3.10/site-packages/sklearn/model_selection/_validation.py\", line 767, in _score\n",
      "    scores = scorer(estimator, X_test, y_test)\n",
      "  File \"/home/makowskitomasz/anaconda3/envs/ml/lib/python3.10/site-packages/sklearn/metrics/_scorer.py\", line 430, in _passthrough_scorer\n",
      "    return estimator.score(*args, **kwargs)\n",
      "  File \"/home/makowskitomasz/anaconda3/envs/ml/lib/python3.10/site-packages/scikeras/wrappers.py\", line 1120, in score\n",
      "    return self.scorer(y, y_pred, sample_weight=sample_weight, **score_args)\n",
      "  File \"/home/makowskitomasz/anaconda3/envs/ml/lib/python3.10/site-packages/scikeras/wrappers.py\", line 1717, in scorer\n",
      "    return sklearn_r2_score(y_true, y_pred, **kwargs)\n",
      "  File \"/home/makowskitomasz/anaconda3/envs/ml/lib/python3.10/site-packages/sklearn/metrics/_regression.py\", line 911, in r2_score\n",
      "    y_type, y_true, y_pred, multioutput = _check_reg_targets(\n",
      "  File \"/home/makowskitomasz/anaconda3/envs/ml/lib/python3.10/site-packages/sklearn/metrics/_regression.py\", line 102, in _check_reg_targets\n",
      "    y_pred = check_array(y_pred, ensure_2d=False, dtype=dtype)\n",
      "  File \"/home/makowskitomasz/anaconda3/envs/ml/lib/python3.10/site-packages/sklearn/utils/validation.py\", line 919, in check_array\n",
      "    _assert_all_finite(\n",
      "  File \"/home/makowskitomasz/anaconda3/envs/ml/lib/python3.10/site-packages/sklearn/utils/validation.py\", line 161, in _assert_all_finite\n",
      "    raise ValueError(msg_err)\n",
      "ValueError: Input contains NaN.\n",
      "\n",
      "  warnings.warn(\n",
      "/home/makowskitomasz/anaconda3/envs/ml/lib/python3.10/site-packages/sklearn/model_selection/_search.py:953: UserWarning: One or more of the test scores are non-finite: [ 5.90399185e-01  7.02120233e-01 -3.43265525e+06  3.97002404e-01\n",
      "  7.19193192e-01  6.14774553e-01  2.97832685e-01  5.73301153e-01\n",
      "             nan             nan]\n",
      "  warnings.warn(\n"
     ]
    },
    {
     "name": "stdout",
     "output_type": "stream",
     "text": [
      "Epoch 11: early stopping\n"
     ]
    },
    {
     "data": {
      "text/plain": "RandomizedSearchCV(cv=3,\n                   estimator=KerasRegressor(callbacks=[<keras.callbacks.EarlyStopping object at 0x7efc145b67a0>], model=<function build_model at 0x7efc145c23b0>),\n                   param_distributions={'model__learning_rate': [0.0003, 0.003,\n                                                                 0.03],\n                                        'model__n_hidden': [1, 2, 3, 4],\n                                        'model__n_neurons': array([ 1,  2,  3,  4,  5,  6,  7,  8,  9, 10, 11, 12, 13, 14, 15, 16, 17,\n       18, 19, 20, 21, 22, 23, 24, 25, 26, 27, 28, 29, 30, 31, 32, 33, 34,\n       35, 36, 37, 38, 39, 40, 41, 42, 43, 44, 45, 46, 47, 48, 49, 50, 51,\n       52, 53, 54, 55, 56, 57, 58, 59, 60, 61, 62, 63, 64, 65, 66, 67, 68,\n       69, 70, 71, 72, 73, 74, 75, 76, 77, 78, 79, 80, 81, 82, 83, 84, 85,\n       86, 87, 88, 89, 90, 91, 92, 93, 94, 95, 96, 97, 98, 99]),\n                                        'model__optimizer': ['sgd', 'nesterov',\n                                                             'momentum',\n                                                             'adam']},\n                   verbose=2)",
      "text/html": "<style>#sk-container-id-1 {color: black;background-color: white;}#sk-container-id-1 pre{padding: 0;}#sk-container-id-1 div.sk-toggleable {background-color: white;}#sk-container-id-1 label.sk-toggleable__label {cursor: pointer;display: block;width: 100%;margin-bottom: 0;padding: 0.3em;box-sizing: border-box;text-align: center;}#sk-container-id-1 label.sk-toggleable__label-arrow:before {content: \"▸\";float: left;margin-right: 0.25em;color: #696969;}#sk-container-id-1 label.sk-toggleable__label-arrow:hover:before {color: black;}#sk-container-id-1 div.sk-estimator:hover label.sk-toggleable__label-arrow:before {color: black;}#sk-container-id-1 div.sk-toggleable__content {max-height: 0;max-width: 0;overflow: hidden;text-align: left;background-color: #f0f8ff;}#sk-container-id-1 div.sk-toggleable__content pre {margin: 0.2em;color: black;border-radius: 0.25em;background-color: #f0f8ff;}#sk-container-id-1 input.sk-toggleable__control:checked~div.sk-toggleable__content {max-height: 200px;max-width: 100%;overflow: auto;}#sk-container-id-1 input.sk-toggleable__control:checked~label.sk-toggleable__label-arrow:before {content: \"▾\";}#sk-container-id-1 div.sk-estimator input.sk-toggleable__control:checked~label.sk-toggleable__label {background-color: #d4ebff;}#sk-container-id-1 div.sk-label input.sk-toggleable__control:checked~label.sk-toggleable__label {background-color: #d4ebff;}#sk-container-id-1 input.sk-hidden--visually {border: 0;clip: rect(1px 1px 1px 1px);clip: rect(1px, 1px, 1px, 1px);height: 1px;margin: -1px;overflow: hidden;padding: 0;position: absolute;width: 1px;}#sk-container-id-1 div.sk-estimator {font-family: monospace;background-color: #f0f8ff;border: 1px dotted black;border-radius: 0.25em;box-sizing: border-box;margin-bottom: 0.5em;}#sk-container-id-1 div.sk-estimator:hover {background-color: #d4ebff;}#sk-container-id-1 div.sk-parallel-item::after {content: \"\";width: 100%;border-bottom: 1px solid gray;flex-grow: 1;}#sk-container-id-1 div.sk-label:hover label.sk-toggleable__label {background-color: #d4ebff;}#sk-container-id-1 div.sk-serial::before {content: \"\";position: absolute;border-left: 1px solid gray;box-sizing: border-box;top: 0;bottom: 0;left: 50%;z-index: 0;}#sk-container-id-1 div.sk-serial {display: flex;flex-direction: column;align-items: center;background-color: white;padding-right: 0.2em;padding-left: 0.2em;position: relative;}#sk-container-id-1 div.sk-item {position: relative;z-index: 1;}#sk-container-id-1 div.sk-parallel {display: flex;align-items: stretch;justify-content: center;background-color: white;position: relative;}#sk-container-id-1 div.sk-item::before, #sk-container-id-1 div.sk-parallel-item::before {content: \"\";position: absolute;border-left: 1px solid gray;box-sizing: border-box;top: 0;bottom: 0;left: 50%;z-index: -1;}#sk-container-id-1 div.sk-parallel-item {display: flex;flex-direction: column;z-index: 1;position: relative;background-color: white;}#sk-container-id-1 div.sk-parallel-item:first-child::after {align-self: flex-end;width: 50%;}#sk-container-id-1 div.sk-parallel-item:last-child::after {align-self: flex-start;width: 50%;}#sk-container-id-1 div.sk-parallel-item:only-child::after {width: 0;}#sk-container-id-1 div.sk-dashed-wrapped {border: 1px dashed gray;margin: 0 0.4em 0.5em 0.4em;box-sizing: border-box;padding-bottom: 0.4em;background-color: white;}#sk-container-id-1 div.sk-label label {font-family: monospace;font-weight: bold;display: inline-block;line-height: 1.2em;}#sk-container-id-1 div.sk-label-container {text-align: center;}#sk-container-id-1 div.sk-container {/* jupyter's `normalize.less` sets `[hidden] { display: none; }` but bootstrap.min.css set `[hidden] { display: none !important; }` so we also need the `!important` here to be able to override the default hidden behavior on the sphinx rendered scikit-learn.org. See: https://github.com/scikit-learn/scikit-learn/issues/21755 */display: inline-block !important;position: relative;}#sk-container-id-1 div.sk-text-repr-fallback {display: none;}</style><div id=\"sk-container-id-1\" class=\"sk-top-container\"><div class=\"sk-text-repr-fallback\"><pre>RandomizedSearchCV(cv=3,\n                   estimator=KerasRegressor(callbacks=[&lt;keras.callbacks.EarlyStopping object at 0x7efc145b67a0&gt;], model=&lt;function build_model at 0x7efc145c23b0&gt;),\n                   param_distributions={&#x27;model__learning_rate&#x27;: [0.0003, 0.003,\n                                                                 0.03],\n                                        &#x27;model__n_hidden&#x27;: [1, 2, 3, 4],\n                                        &#x27;model__n_neurons&#x27;: array([ 1,  2,  3,  4,  5,  6,  7,  8,  9, 10, 11, 12, 13, 14, 15, 16, 17,\n       18, 19, 20, 21, 22, 23, 24, 25, 26, 27, 28, 29, 30, 31, 32, 33, 34,\n       35, 36, 37, 38, 39, 40, 41, 42, 43, 44, 45, 46, 47, 48, 49, 50, 51,\n       52, 53, 54, 55, 56, 57, 58, 59, 60, 61, 62, 63, 64, 65, 66, 67, 68,\n       69, 70, 71, 72, 73, 74, 75, 76, 77, 78, 79, 80, 81, 82, 83, 84, 85,\n       86, 87, 88, 89, 90, 91, 92, 93, 94, 95, 96, 97, 98, 99]),\n                                        &#x27;model__optimizer&#x27;: [&#x27;sgd&#x27;, &#x27;nesterov&#x27;,\n                                                             &#x27;momentum&#x27;,\n                                                             &#x27;adam&#x27;]},\n                   verbose=2)</pre><b>In a Jupyter environment, please rerun this cell to show the HTML representation or trust the notebook. <br />On GitHub, the HTML representation is unable to render, please try loading this page with nbviewer.org.</b></div><div class=\"sk-container\" hidden><div class=\"sk-item sk-dashed-wrapped\"><div class=\"sk-label-container\"><div class=\"sk-label sk-toggleable\"><input class=\"sk-toggleable__control sk-hidden--visually\" id=\"sk-estimator-id-1\" type=\"checkbox\" ><label for=\"sk-estimator-id-1\" class=\"sk-toggleable__label sk-toggleable__label-arrow\">RandomizedSearchCV</label><div class=\"sk-toggleable__content\"><pre>RandomizedSearchCV(cv=3,\n                   estimator=KerasRegressor(callbacks=[&lt;keras.callbacks.EarlyStopping object at 0x7efc145b67a0&gt;], model=&lt;function build_model at 0x7efc145c23b0&gt;),\n                   param_distributions={&#x27;model__learning_rate&#x27;: [0.0003, 0.003,\n                                                                 0.03],\n                                        &#x27;model__n_hidden&#x27;: [1, 2, 3, 4],\n                                        &#x27;model__n_neurons&#x27;: array([ 1,  2,  3,  4,  5,  6,  7,  8,  9, 10, 11, 12, 13, 14, 15, 16, 17,\n       18, 19, 20, 21, 22, 23, 24, 25, 26, 27, 28, 29, 30, 31, 32, 33, 34,\n       35, 36, 37, 38, 39, 40, 41, 42, 43, 44, 45, 46, 47, 48, 49, 50, 51,\n       52, 53, 54, 55, 56, 57, 58, 59, 60, 61, 62, 63, 64, 65, 66, 67, 68,\n       69, 70, 71, 72, 73, 74, 75, 76, 77, 78, 79, 80, 81, 82, 83, 84, 85,\n       86, 87, 88, 89, 90, 91, 92, 93, 94, 95, 96, 97, 98, 99]),\n                                        &#x27;model__optimizer&#x27;: [&#x27;sgd&#x27;, &#x27;nesterov&#x27;,\n                                                             &#x27;momentum&#x27;,\n                                                             &#x27;adam&#x27;]},\n                   verbose=2)</pre></div></div></div><div class=\"sk-parallel\"><div class=\"sk-parallel-item\"><div class=\"sk-item\"><div class=\"sk-label-container\"><div class=\"sk-label sk-toggleable\"><input class=\"sk-toggleable__control sk-hidden--visually\" id=\"sk-estimator-id-2\" type=\"checkbox\" ><label for=\"sk-estimator-id-2\" class=\"sk-toggleable__label sk-toggleable__label-arrow\">estimator: KerasRegressor</label><div class=\"sk-toggleable__content\"><pre>KerasRegressor(\n\tmodel=&lt;function build_model at 0x7efc145c23b0&gt;\n\tbuild_fn=None\n\twarm_start=False\n\trandom_state=None\n\toptimizer=rmsprop\n\tloss=None\n\tmetrics=None\n\tbatch_size=None\n\tvalidation_batch_size=None\n\tverbose=1\n\tcallbacks=[&lt;keras.callbacks.EarlyStopping object at 0x7efc145b67a0&gt;]\n\tvalidation_split=0.0\n\tshuffle=True\n\trun_eagerly=False\n\tepochs=1\n)</pre></div></div></div><div class=\"sk-serial\"><div class=\"sk-item\"><div class=\"sk-estimator sk-toggleable\"><input class=\"sk-toggleable__control sk-hidden--visually\" id=\"sk-estimator-id-3\" type=\"checkbox\" ><label for=\"sk-estimator-id-3\" class=\"sk-toggleable__label sk-toggleable__label-arrow\">KerasRegressor</label><div class=\"sk-toggleable__content\"><pre>KerasRegressor(\n\tmodel=&lt;function build_model at 0x7efc145c23b0&gt;\n\tbuild_fn=None\n\twarm_start=False\n\trandom_state=None\n\toptimizer=rmsprop\n\tloss=None\n\tmetrics=None\n\tbatch_size=None\n\tvalidation_batch_size=None\n\tverbose=1\n\tcallbacks=[&lt;keras.callbacks.EarlyStopping object at 0x7efc145b67a0&gt;]\n\tvalidation_split=0.0\n\tshuffle=True\n\trun_eagerly=False\n\tepochs=1\n)</pre></div></div></div></div></div></div></div></div></div></div>"
     },
     "execution_count": 7,
     "metadata": {},
     "output_type": "execute_result"
    }
   ],
   "source": [
    "rnd_search_cv = RandomizedSearchCV(keras_reg, param_distribs, n_iter=10, cv=3, verbose=2)\n",
    "rnd_search_cv.fit(X_train, y_train, epochs=100, validation_data=(X_valid, y_valid), verbose=0)"
   ],
   "metadata": {
    "collapsed": false,
    "ExecuteTime": {
     "end_time": "2023-06-01T11:01:17.456056640Z",
     "start_time": "2023-06-01T10:56:19.091573781Z"
    }
   }
  },
  {
   "cell_type": "code",
   "execution_count": 8,
   "outputs": [
    {
     "name": "stdout",
     "output_type": "stream",
     "text": [
      "{'model__n_hidden': 3, 'model__n_neurons': 87, 'model__learning_rate': 0.003, 'model__optimizer': 'nesterov'}\n"
     ]
    }
   ],
   "source": [
    "best_parameters = rnd_search_cv.best_params_\n",
    "param_distribs[\"model__optimizer\"] = best_parameters['model__optimizer']\n",
    "param_distribs['model__n_neurons'] = best_parameters['model__n_neurons']\n",
    "param_distribs['model__n_hidden'] = best_parameters['model__n_hidden']\n",
    "param_distribs[\"model__learning_rate\"] = best_parameters[\"model__learning_rate\"]\n",
    "print(param_distribs)"
   ],
   "metadata": {
    "collapsed": false,
    "ExecuteTime": {
     "end_time": "2023-06-01T11:01:19.727566058Z",
     "start_time": "2023-06-01T11:01:17.454272528Z"
    }
   }
  },
  {
   "cell_type": "code",
   "execution_count": 9,
   "outputs": [],
   "source": [
    "with open('rnd_search_params.pkl', 'wb') as filename:\n",
    "    pickle.dump(param_distribs, filename)"
   ],
   "metadata": {
    "collapsed": false,
    "ExecuteTime": {
     "end_time": "2023-06-01T11:01:19.785526886Z",
     "start_time": "2023-06-01T11:01:19.728247086Z"
    }
   }
  },
  {
   "cell_type": "code",
   "execution_count": 10,
   "outputs": [
    {
     "name": "stderr",
     "output_type": "stream",
     "text": [
      "WARNING:absl:Found untraced functions such as _update_step_xla while saving (showing 1 of 1). These functions will not be directly callable after loading.\n"
     ]
    },
    {
     "name": "stdout",
     "output_type": "stream",
     "text": [
      "INFO:tensorflow:Assets written to: ram://7ba39abd7d11475eb6995f07c9a8ef86/assets\n"
     ]
    },
    {
     "name": "stderr",
     "output_type": "stream",
     "text": [
      "INFO:tensorflow:Assets written to: ram://7ba39abd7d11475eb6995f07c9a8ef86/assets\n"
     ]
    }
   ],
   "source": [
    "with open('rnd_search_scikeras.pkl', 'wb') as filename:\n",
    "    pickle.dump(rnd_search_cv, filename)"
   ],
   "metadata": {
    "collapsed": false,
    "ExecuteTime": {
     "end_time": "2023-06-01T11:01:20.346578800Z",
     "start_time": "2023-06-01T11:01:19.771340177Z"
    }
   }
  },
  {
   "cell_type": "code",
   "execution_count": 11,
   "outputs": [],
   "source": [
    "def build_model_kt(hp):\n",
    "    n_hidden = hp.Int('n_hidden', min_value=1, max_value=3, default=2)\n",
    "    n_neurons = hp.Int('n_neurons', min_value=1, max_value=100, default=30)\n",
    "    learning_rate = hp.Float('learning_rate', min_value=3e-4, max_value=3e-2, default=3e-3)\n",
    "    optimizer = hp.Choice('optimizer', values=['sgd', 'nesterov', 'momentum', 'adam'], default='sgd')\n",
    "\n",
    "    if optimizer == \"sgd\":\n",
    "        optimizer = keras.optimizers.SGD(learning_rate=learning_rate)\n",
    "    elif optimizer == \"adam\":\n",
    "        optimizer = keras.optimizers.Adam(learning_rate=learning_rate)\n",
    "    elif optimizer == \"nesterov\":\n",
    "        optimizer = keras.optimizers.SGD(learning_rate=learning_rate, nesterov=True)\n",
    "    elif optimizer == \"momentum\":\n",
    "        optimizer = keras.optimizers.SGD(learning_rate=learning_rate, momentum=0.9)\n",
    "\n",
    "    model = keras.Sequential()\n",
    "    model.add(keras.layers.Dense(n_neurons, activation=\"relu\", input_shape=(8,)))\n",
    "    for _ in range(n_hidden):\n",
    "        model.add(keras.layers.Dense(n_neurons, activation=\"relu\"))\n",
    "    model.add(keras.layers.Dense(1))\n",
    "\n",
    "    model.compile(optimizer=optimizer, loss=\"mse\", metrics=['mse'])\n",
    "    return model"
   ],
   "metadata": {
    "collapsed": false,
    "ExecuteTime": {
     "end_time": "2023-06-01T11:01:20.359858262Z",
     "start_time": "2023-06-01T11:01:20.326374511Z"
    }
   }
  },
  {
   "cell_type": "code",
   "execution_count": 12,
   "outputs": [],
   "source": [
    "random_search_tuner = kt.RandomSearch(build_model_kt, objective='val_mse', max_trials=10, overwrite=True, directory='my_california_housing', project_name='my_rnd_search', seed=42)\n",
    "root_logdir = os.path.join(random_search_tuner.project_dir, 'tensorboard')\n",
    "tb = keras.callbacks.TensorBoard(root_logdir)"
   ],
   "metadata": {
    "collapsed": false,
    "ExecuteTime": {
     "end_time": "2023-06-01T11:01:20.386854957Z",
     "start_time": "2023-06-01T11:01:20.331321205Z"
    }
   }
  },
  {
   "cell_type": "code",
   "execution_count": 14,
   "outputs": [
    {
     "name": "stdout",
     "output_type": "stream",
     "text": [
      "Trial 10 Complete [00h 00m 13s]\n",
      "val_mse: nan\n",
      "\n",
      "Best val_mse So Far: 0.27076995372772217\n",
      "Total elapsed time: 00h 02m 11s\n",
      "INFO:tensorflow:Oracle triggered exit\n"
     ]
    },
    {
     "name": "stderr",
     "output_type": "stream",
     "text": [
      "INFO:tensorflow:Oracle triggered exit\n"
     ]
    }
   ],
   "source": [
    "random_search_tuner.search(X_train, y_train, epochs=100, validation_data=(X_valid, y_valid), callbacks=[tb, es])"
   ],
   "metadata": {
    "collapsed": false
   }
  },
  {
   "cell_type": "code",
   "execution_count": 16,
   "outputs": [
    {
     "name": "stdout",
     "output_type": "stream",
     "text": [
      "{'n_hidden': 3, 'n_neurons': 46, 'learning_rate': 0.011305532240560318, 'optimizer': 'adam'}\n"
     ]
    }
   ],
   "source": [
    "best_parameters = random_search_tuner.get_best_hyperparameters(num_trials=1)[0].values\n",
    "tmp_distribs = dict()\n",
    "tmp_distribs['n_hidden'] = best_parameters['n_hidden']\n",
    "tmp_distribs['n_neurons'] = best_parameters['n_neurons']\n",
    "tmp_distribs['learning_rate'] = best_parameters['learning_rate']\n",
    "tmp_distribs['optimizer'] = best_parameters['optimizer']\n",
    "print(tmp_distribs)"
   ],
   "metadata": {
    "collapsed": false,
    "ExecuteTime": {
     "end_time": "2023-06-01T11:18:15.269744682Z",
     "start_time": "2023-06-01T11:18:15.260205045Z"
    }
   }
  },
  {
   "cell_type": "code",
   "execution_count": 17,
   "outputs": [],
   "source": [
    "with open('kt_search_params.pkl', 'wb') as filename:\n",
    "    pickle.dump(tmp_distribs, filename)"
   ],
   "metadata": {
    "collapsed": false,
    "ExecuteTime": {
     "end_time": "2023-06-01T11:18:18.674523830Z",
     "start_time": "2023-06-01T11:18:18.630979039Z"
    }
   }
  },
  {
   "cell_type": "code",
   "execution_count": 18,
   "outputs": [],
   "source": [
    "best_model = random_search_tuner.get_best_models(num_models=1)[0]\n",
    "best_model.save('kt_best_model.h5')"
   ],
   "metadata": {
    "collapsed": false,
    "ExecuteTime": {
     "end_time": "2023-06-01T11:18:20.955803777Z",
     "start_time": "2023-06-01T11:18:20.680589591Z"
    }
   }
  }
 ],
 "metadata": {
  "kernelspec": {
   "display_name": "Python 3",
   "language": "python",
   "name": "python3"
  },
  "language_info": {
   "codemirror_mode": {
    "name": "ipython",
    "version": 2
   },
   "file_extension": ".py",
   "mimetype": "text/x-python",
   "name": "python",
   "nbconvert_exporter": "python",
   "pygments_lexer": "ipython2",
   "version": "2.7.6"
  }
 },
 "nbformat": 4,
 "nbformat_minor": 0
}
